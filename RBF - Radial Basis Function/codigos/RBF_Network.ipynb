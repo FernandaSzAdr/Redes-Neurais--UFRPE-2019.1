{
  "nbformat": 4,
  "nbformat_minor": 0,
  "metadata": {
    "colab": {
      "name": "RBF Network",
      "version": "0.3.2",
      "provenance": [],
      "collapsed_sections": [],
      "include_colab_link": true
    },
    "kernelspec": {
      "name": "python3",
      "display_name": "Python 3"
    }
  },
  "cells": [
    {
      "cell_type": "markdown",
      "metadata": {
        "id": "view-in-github",
        "colab_type": "text"
      },
      "source": [
        "<a href=\"https://colab.research.google.com/github/FernandaSzAdr/Redes-Neurais--UFRPE-2019.1/blob/master/RBF%20-%20Radial%20Basis%20Function/codigos/RBF_Network.ipynb\" target=\"_parent\"><img src=\"https://colab.research.google.com/assets/colab-badge.svg\" alt=\"Open In Colab\"/></a>"
      ]
    },
    {
      "metadata": {
        "id": "6jjk-OxT35MI",
        "colab_type": "code",
        "outputId": "e48ad6b3-7ac5-4f54-b2f9-f373676f7de2",
        "colab": {
          "base_uri": "https://localhost:8080/",
          "height": 127
        }
      },
      "cell_type": "code",
      "source": [
        "!git clone https://github.com/FernandaSzAdr/Redes-Neurais--UFRPE-2019.1.git"
      ],
      "execution_count": 1,
      "outputs": [
        {
          "output_type": "stream",
          "text": [
            "Cloning into 'Redes-Neurais--UFRPE-2019.1'...\n",
            "remote: Enumerating objects: 47, done.\u001b[K\n",
            "remote: Counting objects: 100% (47/47), done.\u001b[K\n",
            "remote: Compressing objects: 100% (38/38), done.\u001b[K\n",
            "remote: Total 47 (delta 8), reused 20 (delta 1), pack-reused 0\u001b[K\n",
            "Unpacking objects: 100% (47/47), done.\n"
          ],
          "name": "stdout"
        }
      ]
    },
    {
      "metadata": {
        "id": "dhC2XhrC55_R",
        "colab_type": "code",
        "outputId": "3de607fc-c40f-4a76-d3c4-0e2d959c3626",
        "colab": {
          "base_uri": "https://localhost:8080/",
          "height": 423
        }
      },
      "cell_type": "code",
      "source": [
        "!pip install ipdb\n",
        "\n",
        "import numpy as np\n",
        "import matplotlib.pyplot as plt"
      ],
      "execution_count": 2,
      "outputs": [
        {
          "output_type": "stream",
          "text": [
            "Collecting ipdb\n",
            "  Downloading https://files.pythonhosted.org/packages/6d/43/c3c2e866a8803e196d6209595020a4a6db1a3c5d07c01455669497ae23d0/ipdb-0.12.tar.gz\n",
            "Requirement already satisfied: setuptools in /usr/local/lib/python3.6/dist-packages (from ipdb) (40.8.0)\n",
            "Requirement already satisfied: ipython>=5.1.0 in /usr/local/lib/python3.6/dist-packages (from ipdb) (5.5.0)\n",
            "Requirement already satisfied: pickleshare in /usr/local/lib/python3.6/dist-packages (from ipython>=5.1.0->ipdb) (0.7.5)\n",
            "Requirement already satisfied: pexpect; sys_platform != \"win32\" in /usr/local/lib/python3.6/dist-packages (from ipython>=5.1.0->ipdb) (4.6.0)\n",
            "Requirement already satisfied: traitlets>=4.2 in /usr/local/lib/python3.6/dist-packages (from ipython>=5.1.0->ipdb) (4.3.2)\n",
            "Requirement already satisfied: decorator in /usr/local/lib/python3.6/dist-packages (from ipython>=5.1.0->ipdb) (4.4.0)\n",
            "Requirement already satisfied: pygments in /usr/local/lib/python3.6/dist-packages (from ipython>=5.1.0->ipdb) (2.1.3)\n",
            "Requirement already satisfied: simplegeneric>0.8 in /usr/local/lib/python3.6/dist-packages (from ipython>=5.1.0->ipdb) (0.8.1)\n",
            "Requirement already satisfied: prompt-toolkit<2.0.0,>=1.0.4 in /usr/local/lib/python3.6/dist-packages (from ipython>=5.1.0->ipdb) (1.0.15)\n",
            "Requirement already satisfied: ptyprocess>=0.5 in /usr/local/lib/python3.6/dist-packages (from pexpect; sys_platform != \"win32\"->ipython>=5.1.0->ipdb) (0.6.0)\n",
            "Requirement already satisfied: ipython-genutils in /usr/local/lib/python3.6/dist-packages (from traitlets>=4.2->ipython>=5.1.0->ipdb) (0.2.0)\n",
            "Requirement already satisfied: six in /usr/local/lib/python3.6/dist-packages (from traitlets>=4.2->ipython>=5.1.0->ipdb) (1.11.0)\n",
            "Requirement already satisfied: wcwidth in /usr/local/lib/python3.6/dist-packages (from prompt-toolkit<2.0.0,>=1.0.4->ipython>=5.1.0->ipdb) (0.1.7)\n",
            "Building wheels for collected packages: ipdb\n",
            "  Building wheel for ipdb (setup.py) ... \u001b[?25ldone\n",
            "\u001b[?25h  Stored in directory: /root/.cache/pip/wheels/59/24/91/695211bd228d40fb22dff0ce3f05ba41ab724ab771736233f3\n",
            "Successfully built ipdb\n",
            "Installing collected packages: ipdb\n",
            "Successfully installed ipdb-0.12\n"
          ],
          "name": "stdout"
        }
      ]
    },
    {
      "metadata": {
        "id": "dpyPuEsxQ_r1",
        "colab_type": "code",
        "colab": {}
      },
      "cell_type": "code",
      "source": [
        "local = 'Redes-Neurais--UFRPE-2019.1/RBF - Radial Basis Function/codigos/'"
      ],
      "execution_count": 0,
      "outputs": []
    },
    {
      "metadata": {
        "id": "7A0GQWDGtrpX",
        "colab_type": "text"
      },
      "cell_type": "markdown",
      "source": [
        "# Rede Neural de Base Radial (RBF)"
      ]
    },
    {
      "metadata": {
        "id": "QWGJ2VZj_uRo",
        "colab_type": "text"
      },
      "cell_type": "markdown",
      "source": [
        "## Um pouco sobre a teoria...\n"
      ]
    },
    {
      "metadata": {
        "id": "E8u87tr1ANMU",
        "colab_type": "text"
      },
      "cell_type": "markdown",
      "source": [
        "As redes RBF são redes de alimentação direta (feedforward) consistindo de três camadas:\n",
        "\n",
        "\n",
        "1.   **Camada de entrada**: propaga os estímulos\n",
        "2.   **Camada escondida**: Unidades de processamento localmente sintonizáveis, utilizando mapeamento não linear.\n",
        "3.   **Camada de saída**: Unidades de processamento lineares.\n",
        "\n",
        "\n",
        "****\n",
        "\n",
        "**O treinamento dessa rede ocorre de forma híbrida**, combinando aprendizagem não supervisionada (ANS) com a supervisionada(AS). Isso ocorre, pois em geral não se sabe quais saídas se desejam para a camada escondida. Sendo assim, a distribuição de trabalhos ocorre:\n",
        "*   **ANS**: Treina a camada escondida definindo seus parâmetros livres (centros, larguras dos campos receptivos e pesos).\n",
        "*   **AS**: Determina os valores dos pesos entre as camadas escondidas e de saída, considerando constantes os parâmetros já definidos.\n",
        "\n",
        "\n",
        "****\n",
        "\n",
        "**O aprendizado consiste em** determinar os valores para:\n",
        "*   centro das funções de base radial,\n",
        "*   largura das funções,\n",
        "*   pesos da camada de saída.\n",
        "\n",
        "\n",
        "Além disso, para cada neurônio da camada escondida, ele computa uma função de base radial.\n",
        "\n",
        "\n",
        "Os passos necessários são:\n",
        "1.   Utilizar um algoritmo ANS para encontrar os centros (protótipo para um cluster) das RBF;\n",
        "2.   Utilizar métodos heurísticos para determinar a largura (área de influência de um cluster) de cada função;\n",
        "3.   Utilizar um AS para determinar os pesos da camada de saída da rede.\n",
        "\n",
        "\n",
        "\n",
        "\n",
        "\n",
        "\n",
        "\n"
      ]
    },
    {
      "metadata": {
        "id": "_ulVaA8RPSwo",
        "colab_type": "text"
      },
      "cell_type": "markdown",
      "source": [
        "## Definição da função de base radial"
      ]
    },
    {
      "metadata": {
        "id": "YeqYYe9hPY4v",
        "colab_type": "code",
        "colab": {}
      },
      "cell_type": "code",
      "source": [
        "def rbfGaussiana(x, c, s):\n",
        "  return np.exp(-1 / (2 * s**2) * (x-c)**2)\n",
        "  \n",
        "def rbfMultiquadratica(x, c, s):\n",
        "  return np.sqrt(x**2 + c**2)/c\n",
        "\n",
        "def rbfMultiquadraticaInversa(x, c, s):\n",
        "  return c/np.sqrt(x**2 + c**2)"
      ],
      "execution_count": 0,
      "outputs": []
    },
    {
      "metadata": {
        "id": "EOIor4J3PFBL",
        "colab_type": "text"
      },
      "cell_type": "markdown",
      "source": [
        "## 1ª Etapa: Inicialização dos grupos com K-Means"
      ]
    },
    {
      "metadata": {
        "id": "_yf95ysF2wAn",
        "colab_type": "code",
        "colab": {}
      },
      "cell_type": "code",
      "source": [
        "def kmeans(X, k):\n",
        "  \n",
        "    \"\"\"Performs k-means clustering for 1D input\n",
        "    \n",
        "    Arguments:\n",
        "        X {ndarray} -- vetor de características da entrada\n",
        "        k {int} -- número de grupos\n",
        "    \n",
        "    Returns:\n",
        "        ndarray -- retorna um array com os centros dos grupos\n",
        "    \"\"\"\n",
        "\n",
        "    # randomly select initial clusters from input data\n",
        "    clusters = np.random.choice(np.squeeze(X), size=k)\n",
        "    prevClusters = clusters.copy()\n",
        "    stds = np.zeros(k)\n",
        "    converged = False\n",
        "\n",
        "    while not converged:\n",
        "        \"\"\"\n",
        "        compute distances for each cluster center to each point \n",
        "        where (distances[i, j] represents the distance between the ith point and jth cluster)\n",
        "        \"\"\"\n",
        "        distances = np.squeeze(np.abs(X[:, np.newaxis] - clusters[np.newaxis, :]))\n",
        "\n",
        "        # find the cluster that's closest to each point\n",
        "        closestCluster = np.argmin(distances, axis=1)\n",
        "\n",
        "        # update clusters by taking the mean of all of the points assigned to that cluster\n",
        "        for i in range(k):\n",
        "            pointsForCluster = X[closestCluster == i]\n",
        "            if len(pointsForCluster) > 0:\n",
        "                clusters[i] = np.mean(pointsForCluster, axis=0)\n",
        "\n",
        "        # converge if clusters haven't moved\n",
        "        converged = np.linalg.norm(clusters - prevClusters) < 1e-6\n",
        "        prevClusters = clusters.copy()\n",
        "\n",
        "    distances = np.squeeze(np.abs(X[:, np.newaxis] - clusters[np.newaxis, :]))\n",
        "    closestCluster = np.argmin(distances, axis=1)\n",
        "\n",
        "    clustersWithNoPoints = []\n",
        "    for i in range(k):\n",
        "        pointsForCluster = X[closestCluster == i]\n",
        "        if len(pointsForCluster) < 2:\n",
        "            # keep track of clusters with no points or 1 point\n",
        "            clustersWithNoPoints.append(i)\n",
        "            continue\n",
        "        else:\n",
        "            stds[i] = np.std(X[closestCluster == i])\n",
        "\n",
        "    # if there are clusters with 0 or 1 points, take the mean std of the other clusters\n",
        "    if len(clustersWithNoPoints) > 0:\n",
        "        pointsToAverage = []\n",
        "        for i in range(k):\n",
        "            if i not in clustersWithNoPoints:\n",
        "                pointsToAverage.append(X[closestCluster == i])\n",
        "        pointsToAverage = np.concatenate(pointsToAverage).ravel()\n",
        "        stds[clustersWithNoPoints] = np.mean(np.std(pointsToAverage))\n",
        "\n",
        "    return clusters, stds\n"
      ],
      "execution_count": 0,
      "outputs": []
    },
    {
      "metadata": {
        "id": "52oUNimoPuK3",
        "colab_type": "text"
      },
      "cell_type": "markdown",
      "source": [
        "## 2ª Etapa - Treinamento de uma Rede Neural"
      ]
    },
    {
      "metadata": {
        "id": "RGdrOhYfPzBu",
        "colab_type": "code",
        "colab": {}
      },
      "cell_type": "code",
      "source": [
        "class RBFNet(object):\n",
        "    \"\"\"Implementation of a Radial Basis Function Network\"\"\"\n",
        "    def __init__(self, k=2, lr=0.01, epochs=100, rbf=None, inferStds=True):\n",
        "      self.k = k #grupos\n",
        "      self.lr = lr \n",
        "      self.epochs = epochs  #número de iterações\n",
        "      self.rbf = rbf  # função de base radial\n",
        "      self.inferStds = inferStds  #se vai calcular o tamanho do cluster (std)\n",
        "\n",
        "      self.w = np.random.randn(k)\n",
        "      self.b = np.random.randn(1)\n",
        "\n",
        "    def fit(self, X, y):\n",
        "      if self.inferStds:\n",
        "        # compute stds from data\n",
        "        # centros e a área de influência de um cluster\n",
        "        # cada neuronio possui uma largura própria\n",
        "        self.centers, self.stds = kmeans(X, self.k)\n",
        "      else:\n",
        "        # use a fixed std \n",
        "        self.centers, _ = kmeans(X, self.k)\n",
        "        dMax = max([np.abs(c1 - c2) for c1 in self.centers for c2 in self.centers])\n",
        "        # valor unico de largura para todos os neuronios\n",
        "        self.stds = np.repeat(dMax / np.sqrt(2*self.k), self.k)\n",
        "\n",
        "      # training\n",
        "      for epoch in range(self.epochs):\n",
        "        for i in range(X.shape[0]):\n",
        "          a = np.array([self.rbf(X[i], c, s) for c, s, in zip(self.centers, self.stds)])\n",
        "          F = a.T.dot(self.w) + self.b \n",
        "          \n",
        "          loss = (y[i] - F).flatten() ** 2 \n",
        "          #print('Loss: {0:.2f}'.format(loss[0]))\n",
        "\n",
        "          # backward pass\n",
        "          error = -(y[i] - F).flatten()  # saida desejada - saida obtida \n",
        "\n",
        "          # online update\n",
        "          self.w = self.w - self.lr * a * error  # peso atual - taxa aprendizagem * entrada * erro\n",
        "          self.b = self.b - self.lr * error\n",
        "\n",
        "    def predict(self, X):\n",
        "      y_pred = []\n",
        "      error = 0\n",
        "      for i in range(X.shape[0]):\n",
        "        a = np.array([self.rbf(X[i], c, s) for c, s, in zip(self.centers, self.stds)])\n",
        "        F = a.T.dot(self.w) + self.b\n",
        "        y_pred.append(F)\n",
        "\n",
        "      return np.array(y_pred)\n"
      ],
      "execution_count": 0,
      "outputs": []
    },
    {
      "metadata": {
        "id": "tPLeuHRlQD3b",
        "colab_type": "text"
      },
      "cell_type": "markdown",
      "source": [
        "## Executando a Rede Neural"
      ]
    },
    {
      "metadata": {
        "id": "ILtnvEwQQFkV",
        "colab_type": "code",
        "outputId": "f458206d-6b6b-46dc-e623-7ce31ad22d6a",
        "colab": {
          "base_uri": "https://localhost:8080/",
          "height": 419
        }
      },
      "cell_type": "code",
      "source": [
        "# sample inputs and add noise\n",
        "NUM_SAMPLES = 100\n",
        "X = np.random.uniform(0., 1., NUM_SAMPLES)\n",
        "X = np.sort(X, axis=0)\n",
        "noise = np.random.uniform(-0.1, 0.1, NUM_SAMPLES)\n",
        "y = np.sin(2 * np.pi * X)  + noise\n",
        "\n",
        "rbfnet = RBFNet(lr=1e-2, k=2, rbf=rbfGaussiana, inferStds=True)\n",
        "rbfnet.fit(X, y)\n",
        "\n",
        "y_pred = rbfnet.predict(X)\n",
        "\n",
        "errorabs = abs(y-y_pred)\n",
        "print('error: ' , np.sum(errorabs[0]/NUM_SAMPLES, axis=0))\n",
        "\n",
        "\n",
        "plt.plot(X, y, '-o', label='true')\n",
        "plt.plot(X, y_pred, '-o', label='RBF-Net')\n",
        "plt.legend()\n",
        "\n",
        "plt.tight_layout()\n",
        "plt.show()"
      ],
      "execution_count": 73,
      "outputs": [
        {
          "output_type": "stream",
          "text": [
            "error:  0.6172071007435252\n"
          ],
          "name": "stdout"
        },
        {
          "output_type": "display_data",
          "data": {
            "image/png": "[encoded data removed]",
            "text/plain": [
              "<Figure size 576x396 with 1 Axes>"
            ]
          },
          "metadata": {
            "tags": []
          }
        }
      ]
    },
    {
      "metadata": {
        "id": "jLO2Gq4Jtso3",
        "colab_type": "text"
      },
      "cell_type": "markdown",
      "source": [
        "# Descrição Mini Projeto"
      ]
    },
    {
      "metadata": {
        "id": "kOrl4i0areNo",
        "colab_type": "text"
      },
      "cell_type": "markdown",
      "source": [
        "Utilizando o código acima, modifique a última seção (Executando com Base de Dados) para que ele seja executado com a base de dados do arquivo train-mod.csv. Depois, modifique a função de base radial implementada (Gaussiana), para a Multiquadrática e a Multiquadrática Inversa e calcule a taxa de erro.\n",
        "\n",
        "1 - Calcular o taxa de erro no conjunto de teste na RBF utilizando a base de dados train-mod.csv\n",
        "\n",
        "2- Calcular a taxa de erro usando 3 funções de Base Radial:\n",
        "a) Gaussiana\n",
        "b) Multiquadrática\n",
        "c) Multiquadrática Inversa\n",
        "\n",
        "\n",
        "DATA DE ENTREGA: 02/04/2019\n"
      ]
    },
    {
      "metadata": {
        "colab_type": "text",
        "id": "FWqeuVs2fmQQ"
      },
      "cell_type": "markdown",
      "source": [
        "## 1ª Etapa: Inicialização dos grupos com K-Means"
      ]
    },
    {
      "metadata": {
        "colab_type": "code",
        "id": "nl0Mma5UfmQa",
        "colab": {}
      },
      "cell_type": "code",
      "source": [
        "def kmeans(X, k):\n",
        "  \n",
        "    \"\"\"Performs k-means clustering for 1D input\n",
        "    \n",
        "    Arguments:\n",
        "        X {ndarray} -- vetor de características da entrada\n",
        "        k {int} -- número de grupos\n",
        "    \n",
        "    Returns:\n",
        "        ndarray -- retorna um array com os centros dos grupos\n",
        "    \"\"\"\n",
        "\n",
        "    # randomly select initial clusters from input data\n",
        "    clusters = np.random.choice(np.squeeze(X), size=k)\n",
        "    prevClusters = clusters.copy()\n",
        "    stds = np.zeros(k)\n",
        "    converged = False\n",
        "\n",
        "    while not converged:\n",
        "        \"\"\"\n",
        "        compute distances for each cluster center to each point \n",
        "        where (distances[i, j] represents the distance between the ith point and jth cluster)\n",
        "        \"\"\"\n",
        "        distances = np.squeeze(np.abs(X[:, np.newaxis] - clusters[np.newaxis, :]))\n",
        "\n",
        "        # find the cluster that's closest to each point\n",
        "        closestCluster = np.argmin(distances, axis=1)\n",
        "\n",
        "        # update clusters by taking the mean of all of the points assigned to that cluster\n",
        "        for i in range(k):\n",
        "            pointsForCluster = X[closestCluster == i]\n",
        "            if len(pointsForCluster) > 0:\n",
        "                clusters[i] = np.mean(pointsForCluster, axis=0)\n",
        "\n",
        "        # converge if clusters haven't moved\n",
        "        converged = np.linalg.norm(clusters - prevClusters) < 1e-6\n",
        "        prevClusters = clusters.copy()\n",
        "\n",
        "    distances = np.squeeze(np.abs(X[:, np.newaxis] - clusters[np.newaxis, :]))\n",
        "    closestCluster = np.argmin(distances, axis=1)\n",
        "\n",
        "    clustersWithNoPoints = []\n",
        "    for i in range(k):\n",
        "        pointsForCluster = X[closestCluster == i]\n",
        "        if len(pointsForCluster) < 2:\n",
        "            # keep track of clusters with no points or 1 point\n",
        "            clustersWithNoPoints.append(i)\n",
        "            continue\n",
        "        else:\n",
        "            stds[i] = np.std(X[closestCluster == i])\n",
        "\n",
        "    # if there are clusters with 0 or 1 points, take the mean std of the other clusters\n",
        "    if len(clustersWithNoPoints) > 0:\n",
        "        pointsToAverage = []\n",
        "        for i in range(k):\n",
        "            if i not in clustersWithNoPoints:\n",
        "                pointsToAverage.append(X[closestCluster == i])\n",
        "        pointsToAverage = np.concatenate(pointsToAverage).ravel()\n",
        "        stds[clustersWithNoPoints] = np.mean(np.std(pointsToAverage))\n",
        "\n",
        "    return clusters, stds\n"
      ],
      "execution_count": 0,
      "outputs": []
    },
    {
      "metadata": {
        "id": "zq2qIczwfe89",
        "colab_type": "text"
      },
      "cell_type": "markdown",
      "source": [
        "## 2ª Etapa - Treinamento de uma Rede Neural"
      ]
    },
    {
      "metadata": {
        "colab_type": "code",
        "id": "vhQr79YNfJHz",
        "colab": {}
      },
      "cell_type": "code",
      "source": [
        "class RBFNet(object):\n",
        "    \"\"\"Implementation of a Radial Basis Function Network\"\"\"\n",
        "    def __init__(self, k=2, lr=0.01, epochs=100, rbf=None, inferStds=True):\n",
        "      self.k = k #grupos\n",
        "      self.lr = lr \n",
        "      self.epochs = epochs  #número de iterações\n",
        "      self.rbf = rbf  # função de base radial\n",
        "      self.inferStds = inferStds  #se vai calcular o tamanho do cluster (std)\n",
        "\n",
        "      self.w = np.random.randn(k)\n",
        "      self.b = np.random.randn(1)\n",
        "\n",
        "    def fit(self, X, y):\n",
        "      if self.inferStds:\n",
        "        # compute stds from data\n",
        "        # centros e a área de influência de um cluster\n",
        "        # cada neuronio possui uma largura própria\n",
        "        self.centers, self.stds = kmeans(X, self.k)\n",
        "      else:\n",
        "        # use a fixed std \n",
        "        self.centers, _ = kmeans(X, self.k)\n",
        "        dMax = max([np.abs(c1 - c2) for c1 in self.centers for c2 in self.centers])\n",
        "        # valor unico de largura para todos os neuronios\n",
        "        self.stds = np.repeat(dMax / np.sqrt(2*self.k), self.k)\n",
        "\n",
        "      # training\n",
        "      for epoch in range(self.epochs):\n",
        "        for i in range(X.shape[0]):\n",
        "          a = np.array([self.rbf(X[i], c, s) for c, s, in zip(self.centers, self.stds)])\n",
        "          F = a.T.dot(self.w) + self.b \n",
        "          \n",
        "          loss = (y - F).flatten() ** 2 \n",
        "\n",
        "          # backward pass\n",
        "          error = -(y - F).flatten()  # saida desejada - saida obtida \n",
        "\n",
        "          # online update\n",
        "          self.w = self.w - self.lr * a * error  # peso atual - taxa aprendizagem * entrada * erro\n",
        "          self.b = self.b - self.lr * error\n",
        "\n",
        "    def predict(self, X):\n",
        "      y_pred = []\n",
        "      error = 0\n",
        "      \n",
        "      for data in X:\n",
        "        y_pred_local = []\n",
        "        for i in range(data.shape[0]):\n",
        "          a = np.array([self.rbf(data[i], c, s) for c, s, in zip(self.centers, self.stds)])\n",
        "          F = a.T.dot(self.w) + self.b\n",
        "          y_pred_local.append(F)\n",
        "        y_pred.append(max(y_pred_local))\n",
        "\n",
        "      return np.array(y_pred)\n"
      ],
      "execution_count": 0,
      "outputs": []
    },
    {
      "metadata": {
        "id": "B6-B3a4H65Li",
        "colab_type": "text"
      },
      "cell_type": "markdown",
      "source": [
        "## Executando com Base de Dados"
      ]
    },
    {
      "metadata": {
        "id": "P75CdFJ4W7mU",
        "colab_type": "code",
        "colab": {}
      },
      "cell_type": "code",
      "source": [
        "data = local + 'train-mod.csv'\n",
        "sigma = 1.2\n",
        "itergd = 300\n",
        "\n",
        "dataread = np.genfromtxt(data, delimiter=',')[1:,1:]\n",
        "\n",
        "alldata = []\n",
        "for i in range(len(dataread)):\n",
        "  if np.isnan(dataread[i,-2]):\n",
        "      continue\n",
        "  alldata.append(dataread[i])\n",
        "\n",
        "alldata = np.asarray(alldata)\n",
        "\n",
        "#dividing data\n",
        "# 600 primeiros elementos e para cada elemento não pegará a primeira posição\n",
        "trainparam = alldata[:600,1:]\n",
        "# 600 primeiros elementos e apenas a primeira posição de cada elemento\n",
        "trainlabel = alldata[:600,0]\n",
        "# a partir do elemento 600 ate o ultimo e para cada elemento não pegará a primeira posição\n",
        "testparam = alldata[600:,1:]\n",
        "# a partir do elemento 600 ate o ultimo e apenas a primeira posição de cada elemento\n",
        "testlabel = alldata[600:,0]\n",
        "\n",
        "###############\n",
        "#normalization#\n",
        "###############\n",
        "\n",
        "# Inicializa os vetores com zeros\n",
        "std = np.zeros((len(trainparam[0]))).astype('float32')\n",
        "media = np.zeros((len(trainparam[0]))).astype('float32')\n",
        "trainparamnorm = np.zeros(np.shape(trainparam))\n",
        "testparamnorm = np.zeros(np.shape(testparam))\n",
        "\n",
        "# percorre todos os indices do vetor de caracteristica\n",
        "# realiza a normalização do vetor de caracteristica\n",
        "for i in range(len(trainparam[0])):\n",
        "  std[i] = np.std(trainparam[:,i])\n",
        "  media[i] = np.mean(trainparam[:,i])\n",
        "  trainparamnorm[:,i] = (trainparam[:,i] - media[i]) / std[i]\n",
        "  testparamnorm[:,i] = (testparam[:,i] - media[i]) / std[i]\n"
      ],
      "execution_count": 0,
      "outputs": []
    },
    {
      "metadata": {
        "id": "4hRUNEnJ7ly5",
        "colab_type": "text"
      },
      "cell_type": "markdown",
      "source": [
        "## Calculando a taxa de erro"
      ]
    },
    {
      "metadata": {
        "id": "ayzHC6Sb7fjE",
        "colab_type": "text"
      },
      "cell_type": "markdown",
      "source": [
        "### Utilizando -> Função de Base Radial Gaussiana"
      ]
    },
    {
      "metadata": {
        "id": "lixgl7cpgTlE",
        "colab_type": "code",
        "colab": {
          "base_uri": "https://localhost:8080/",
          "height": 35
        },
        "outputId": "fc1043de-ee35-4bf0-dd13-c73e12c70058"
      },
      "cell_type": "code",
      "source": [
        "rbfnet = RBFNet(lr=1e-2, k=2, rbf=rbfGaussiana, inferStds=True)\n",
        "\n",
        "for i in range(len(trainparam)):\n",
        "  rbfnet.fit(trainparamnorm[i], trainlabel[i])\n",
        "\n",
        "y_pred = rbfnet.predict(testparamnorm)\n",
        "\n",
        "errorabs = abs(testlabel-y_pred)\n",
        "print('error: ' , np.sum(errorabs[0]/NUM_SAMPLES, axis=0))"
      ],
      "execution_count": 79,
      "outputs": [
        {
          "output_type": "stream",
          "text": [
            "error:  0.4692014318007346\n"
          ],
          "name": "stdout"
        }
      ]
    },
    {
      "metadata": {
        "id": "ytsEYnpQ7AnC",
        "colab_type": "text"
      },
      "cell_type": "markdown",
      "source": [
        "### Utilizando -> Função de Base Radial Multiquadrática"
      ]
    },
    {
      "metadata": {
        "colab_type": "code",
        "outputId": "3ad47b7c-a771-4081-8f85-fc1162cfecd1",
        "id": "qV_BdQDPtuv9",
        "colab": {
          "base_uri": "https://localhost:8080/",
          "height": 110
        }
      },
      "cell_type": "code",
      "source": [
        "rbfnet = RBFNet(lr=1e-2, k=2, rbf=rbfMultiquadratica, inferStds=True)\n",
        "\n",
        "for i in range(len(trainparam)):\n",
        "  rbfnet.fit(trainparamnorm[i], trainlabel[i])\n",
        "\n",
        "y_pred = rbfnet.predict(testparamnorm)\n",
        "\n",
        "errorabs = abs(testlabel-y_pred)\n",
        "print('error: ' , np.sum(errorabs[0]/NUM_SAMPLES, axis=0))"
      ],
      "execution_count": 82,
      "outputs": [
        {
          "output_type": "stream",
          "text": [
            "/usr/local/lib/python3.6/dist-packages/ipykernel_launcher.py:32: RuntimeWarning: overflow encountered in square\n",
            "/usr/local/lib/python3.6/dist-packages/ipykernel_launcher.py:38: RuntimeWarning: invalid value encountered in subtract\n",
            "/usr/local/lib/python3.6/dist-packages/ipykernel_launcher.py:39: RuntimeWarning: invalid value encountered in subtract\n"
          ],
          "name": "stderr"
        },
        {
          "output_type": "stream",
          "text": [
            "error:  nan\n"
          ],
          "name": "stdout"
        }
      ]
    },
    {
      "metadata": {
        "id": "LT1WWWMW7NyJ",
        "colab_type": "text"
      },
      "cell_type": "markdown",
      "source": [
        "### Utilizando -> Função de Base Radial Multiquadrática Inversa"
      ]
    },
    {
      "metadata": {
        "colab_type": "code",
        "outputId": "6ef22175-56bc-4fd4-a444-6465dc59e52c",
        "id": "p3ptuUqOtvIk",
        "colab": {
          "base_uri": "https://localhost:8080/",
          "height": 35
        }
      },
      "cell_type": "code",
      "source": [
        "rbfnet = RBFNet(lr=1e-2, k=2, rbf=rbfMultiquadraticaInversa, inferStds=True)\n",
        "\n",
        "for i in range(len(trainparam)):\n",
        "  rbfnet.fit(trainparamnorm[i], trainlabel[i])\n",
        "\n",
        "y_pred = rbfnet.predict(testparamnorm)\n",
        "\n",
        "errorabs = abs(testlabel-y_pred)\n",
        "print('error: ' , np.sum(errorabs[0]/NUM_SAMPLES, axis=0))"
      ],
      "execution_count": 81,
      "outputs": [
        {
          "output_type": "stream",
          "text": [
            "error:  0.48482084834829936\n"
          ],
          "name": "stdout"
        }
      ]
    }
  ]
}