{
  "nbformat": 4,
  "nbformat_minor": 0,
  "metadata": {
    "colab": {
      "name": "RBF Network",
      "version": "0.3.2",
      "provenance": [],
      "collapsed_sections": [],
      "toc_visible": true,
      "include_colab_link": true
    },
    "kernelspec": {
      "name": "python3",
      "display_name": "Python 3"
    }
  },
  "cells": [
    {
      "cell_type": "markdown",
      "metadata": {
        "id": "view-in-github",
        "colab_type": "text"
      },
      "source": [
        "<a href=\"https://colab.research.google.com/github/FernandaSzAdr/Redes-Neurais--UFRPE-2019.1/blob/master/RBF%20-%20Radial%20Basis%20Function/c%C3%B3digos/RBF_Network.ipynb\" target=\"_parent\"><img src=\"https://colab.research.google.com/assets/colab-badge.svg\" alt=\"Open In Colab\"/></a>"
      ]
    },
    {
      "metadata": {
        "id": "6jjk-OxT35MI",
        "colab_type": "code",
        "colab": {}
      },
      "cell_type": "code",
      "source": [
        "!git clone https://github.com/FernandaSzAdr/Redes-Neurais--UFRPE-2019.1.git"
      ],
      "execution_count": 0,
      "outputs": []
    },
    {
      "metadata": {
        "id": "dhC2XhrC55_R",
        "colab_type": "code",
        "colab": {}
      },
      "cell_type": "code",
      "source": [
        "!pip install ipdb"
      ],
      "execution_count": 0,
      "outputs": []
    },
    {
      "metadata": {
        "id": "7A0GQWDGtrpX",
        "colab_type": "text"
      },
      "cell_type": "markdown",
      "source": [
        "# Rede Neural de Base Radial (RBF)"
      ]
    },
    {
      "metadata": {
        "id": "EOIor4J3PFBL",
        "colab_type": "text"
      },
      "cell_type": "markdown",
      "source": [
        "## 1ª Etapa: Inicialização dos grupos com K-Means"
      ]
    },
    {
      "metadata": {
        "id": "_yf95ysF2wAn",
        "colab_type": "code",
        "colab": {}
      },
      "cell_type": "code",
      "source": [
        "import numpy as np\n",
        "import matplotlib.pyplot as plt\n",
        "\n",
        "\n",
        "def kmeans(X, k):\n",
        "  \n",
        "    \"\"\"Performs k-means clustering for 1D input\n",
        "    \n",
        "    Arguments:\n",
        "        X {ndarray} -- vetor de características da entrada\n",
        "        k {int} -- número de grupos\n",
        "    \n",
        "    Returns:\n",
        "        ndarray -- retorna um array com os centros dos grupos\n",
        "    \"\"\"\n",
        "\n",
        "    # randomly select initial clusters from input data\n",
        "    clusters = np.random.choice(np.squeeze(X), size=k)\n",
        "    prevClusters = clusters.copy()\n",
        "    stds = np.zeros(k)\n",
        "    converged = False\n",
        "\n",
        "    while not converged:\n",
        "        \"\"\"\n",
        "        compute distances for each cluster center to each point \n",
        "        where (distances[i, j] represents the distance between the ith point and jth cluster)\n",
        "        \"\"\"\n",
        "        distances = np.squeeze(np.abs(X[:, np.newaxis] - clusters[np.newaxis, :]))\n",
        "\n",
        "        # find the cluster that's closest to each point\n",
        "        closestCluster = np.argmin(distances, axis=1)\n",
        "\n",
        "        # update clusters by taking the mean of all of the points assigned to that cluster\n",
        "        for i in range(k):\n",
        "            pointsForCluster = X[closestCluster == i]\n",
        "            if len(pointsForCluster) > 0:\n",
        "                clusters[i] = np.mean(pointsForCluster, axis=0)\n",
        "\n",
        "        # converge if clusters haven't moved\n",
        "        converged = np.linalg.norm(clusters - prevClusters) < 1e-6\n",
        "        prevClusters = clusters.copy()\n",
        "\n",
        "    distances = np.squeeze(np.abs(X[:, np.newaxis] - clusters[np.newaxis, :]))\n",
        "    closestCluster = np.argmin(distances, axis=1)\n",
        "\n",
        "    clustersWithNoPoints = []\n",
        "    for i in range(k):\n",
        "        pointsForCluster = X[closestCluster == i]\n",
        "        if len(pointsForCluster) < 2:\n",
        "            # keep track of clusters with no points or 1 point\n",
        "            clustersWithNoPoints.append(i)\n",
        "            continue\n",
        "        else:\n",
        "            stds[i] = np.std(X[closestCluster == i])\n",
        "\n",
        "    # if there are clusters with 0 or 1 points, take the mean std of the other clusters\n",
        "    if len(clustersWithNoPoints) > 0:\n",
        "        pointsToAverage = []\n",
        "        for i in range(k):\n",
        "            if i not in clustersWithNoPoints:\n",
        "                pointsToAverage.append(X[closestCluster == i])\n",
        "        pointsToAverage = np.concatenate(pointsToAverage).ravel()\n",
        "        stds[clustersWithNoPoints] = np.mean(np.std(pointsToAverage))\n",
        "\n",
        "    return clusters, stds\n"
      ],
      "execution_count": 0,
      "outputs": []
    },
    {
      "metadata": {
        "id": "_ulVaA8RPSwo",
        "colab_type": "text"
      },
      "cell_type": "markdown",
      "source": [
        "## Definição da função de base radial"
      ]
    },
    {
      "metadata": {
        "id": "YeqYYe9hPY4v",
        "colab_type": "code",
        "colab": {}
      },
      "cell_type": "code",
      "source": [
        "def rbfGaussiana(x, c, s):\n",
        "    return np.exp(-1 / (2 * s**2) * (x-c)**2)"
      ],
      "execution_count": 0,
      "outputs": []
    },
    {
      "metadata": {
        "id": "52oUNimoPuK3",
        "colab_type": "text"
      },
      "cell_type": "markdown",
      "source": [
        "## 2ª Etapa - Treinamento de uma Rede Neural"
      ]
    },
    {
      "metadata": {
        "id": "RGdrOhYfPzBu",
        "colab_type": "code",
        "colab": {}
      },
      "cell_type": "code",
      "source": [
        "class RBFNet(object):\n",
        "    \"\"\"Implementation of a Radial Basis Function Network\"\"\"\n",
        "    def __init__(self, k=2, lr=0.01, epochs=100, rbf=rbfGaussiana, inferStds=True):\n",
        "        self.k = k #grupos\n",
        "        self.lr = lr \n",
        "        self.epochs = epochs #número de iterações\n",
        "        self.rbf = rbfGaussiana\n",
        "        self.inferStds = inferStds #se vai calcular o tamanho do cluster (std)\n",
        "\n",
        "        self.w = np.random.randn(k)\n",
        "        self.b = np.random.randn(1)\n",
        "\n",
        "    def fit(self, X, y):\n",
        "        if self.inferStds:\n",
        "            # compute stds from data\n",
        "            self.centers, self.stds = kmeans(X, self.k)\n",
        "        else:\n",
        "            # use a fixed std \n",
        "            self.centers, _ = kmeans(X, self.k)\n",
        "            dMax = max([np.abs(c1 - c2) for c1 in self.centers for c2 in self.centers])\n",
        "            self.stds = np.repeat(dMax / np.sqrt(2*self.k), self.k)\n",
        "\n",
        "        # training\n",
        "        for epoch in range(self.epochs):\n",
        "            for i in range(X.shape[0]):\n",
        "                # forward pass\n",
        "                a = np.array([self.rbf(X[i], c, s) for c, s, in zip(self.centers, self.stds)])\n",
        "                F = a.T.dot(self.w) + self.b\n",
        "\n",
        "                loss = (y[i] - F).flatten() ** 2\n",
        "                #print('Loss: {0:.2f}'.format(loss[0]))\n",
        "\n",
        "                # backward pass\n",
        "                error = -(y[i] - F).flatten()\n",
        "\n",
        "                # online update\n",
        "                self.w = self.w - self.lr * a * error\n",
        "                self.b = self.b - self.lr * error\n",
        "\n",
        "    def predict(self, X):\n",
        "        y_pred = []\n",
        "        error = 0\n",
        "        for i in range(X.shape[0]):\n",
        "            a = np.array([self.rbf(X[i], c, s) for c, s, in zip(self.centers, self.stds)])\n",
        "            F = a.T.dot(self.w) + self.b\n",
        "            y_pred.append(F)\n",
        "            \n",
        "            \n",
        "        return np.array(y_pred)\n"
      ],
      "execution_count": 0,
      "outputs": []
    },
    {
      "metadata": {
        "id": "tPLeuHRlQD3b",
        "colab_type": "text"
      },
      "cell_type": "markdown",
      "source": [
        "## Executando a Rede Neural"
      ]
    },
    {
      "metadata": {
        "id": "ILtnvEwQQFkV",
        "colab_type": "code",
        "outputId": "faa3f382-a33c-4f79-a14c-309c7662e710",
        "colab": {
          "base_uri": "https://localhost:8080/",
          "height": 419
        }
      },
      "cell_type": "code",
      "source": [
        "# sample inputs and add noise\n",
        "NUM_SAMPLES = 100\n",
        "X = np.random.uniform(0., 1., NUM_SAMPLES)\n",
        "X = np.sort(X, axis=0)\n",
        "noise = np.random.uniform(-0.1, 0.1, NUM_SAMPLES)\n",
        "y = np.sin(2 * np.pi * X)  + noise\n",
        "\n",
        "rbfnet = RBFNet(lr=1e-2, k=2, inferStds=True)\n",
        "rbfnet.fit(X, y)\n",
        "\n",
        "y_pred = rbfnet.predict(X)\n",
        "\n",
        "errorabs = abs(y-y_pred)\n",
        "print('error: ' , np.sum(errorabs[0]/NUM_SAMPLES, axis=0))\n",
        "\n",
        "\n",
        "plt.plot(X, y, '-o', label='true')\n",
        "plt.plot(X, y_pred, '-o', label='RBF-Net')\n",
        "plt.legend()\n",
        "\n",
        "plt.tight_layout()\n",
        "plt.show()"
      ],
      "execution_count": 6,
      "outputs": [
        {
          "output_type": "stream",
          "text": [
            "error:  0.5844345421247266\n"
          ],
          "name": "stdout"
        },
        {
          "output_type": "display_data",
          "data": {
            "image/png": "[encoded data removed]",
            "text/plain": [
              "<Figure size 576x396 with 1 Axes>"
            ]
          },
          "metadata": {
            "tags": []
          }
        }
      ]
    },
    {
      "metadata": {
        "id": "tWNpEtxSW46Q",
        "colab_type": "text"
      },
      "cell_type": "markdown",
      "source": [
        "## (ERRO) Executando com Base de Dados"
      ]
    },
    {
      "metadata": {
        "id": "P75CdFJ4W7mU",
        "colab_type": "code",
        "outputId": "5362bc5a-9a64-480a-f1d0-830e95d5a7fb",
        "colab": {
          "base_uri": "https://localhost:8080/",
          "height": 137
        }
      },
      "cell_type": "code",
      "source": [
        "data = 'train-mod.csv'\n",
        "sigma = 1.2\n",
        "itergd = 300\n",
        "\n",
        "\n",
        "dataread = np.genfromtxt(data, delimiter=',')[1:,1:]\n",
        "\n",
        "alldata = []\n",
        "for i in range(len(dataread)):\n",
        "    if np.isnan(dataread[i,-2]):\n",
        "\t\t    continue\n",
        "    alldata.append(dataread[i])\n",
        "\n",
        "alldata = np.asarray(alldata)\n",
        "\n",
        "#dividing data\n",
        "trainparam = alldata[:600,1:]\n",
        "trainlabel = alldata[:600,0]\n",
        "\n",
        "testparam = alldata[600:,1:]\n",
        "testlabel = alldata[600:,0]\n",
        "\n",
        "###############\n",
        "#normalization#\n",
        "###############\n",
        "\n",
        "std = np.zeros((len(trainparam[0]))).astype('float32')\n",
        "rata = np.zeros((len(trainparam[0]))).astype('float32')\n",
        "trainparamnorm = np.zeros(np.shape(trainparam))\n",
        "testparamnorm = np.zeros(np.shape(testparam))\n",
        "for i in range(len(trainparam[0])):\n",
        "    std[i] = np.std(trainparam[:,i])\n",
        "    rata[i] = np.mean(trainparam[:,i])\n",
        "    trainparamnorm[:,i] = (trainparam[:,i] - rata[i]) / std[i]\n",
        "\t  testparamnorm[:,i] = (testparam[:,i] - rata[i]) / std[i]\n",
        "\n",
        "  \n",
        "rbfnet = RBFNet(lr=1e-2, k=2, inferStds=True)\n",
        "rbfnet.fit(trainparamnorm, trainlabel)\n",
        "\n",
        "y_pred = rbfnet.predict(testparamnorm)\n",
        "\n",
        "errorabs = abs(y-y_pred)\n",
        "print('error: ' , np.sum(errorabs[0]/NUM_SAMPLES, axis=0))"
      ],
      "execution_count": 0,
      "outputs": [
        {
          "output_type": "error",
          "ename": "TabError",
          "evalue": "ignored",
          "traceback": [
            "\u001b[0;36m  File \u001b[0;32m\"<ipython-input-46-be956951728e>\"\u001b[0;36m, line \u001b[0;32m35\u001b[0m\n\u001b[0;31m    testparamnorm[:,i] = (testparam[:,i] - rata[i]) / std[i]\u001b[0m\n\u001b[0m                                                            ^\u001b[0m\n\u001b[0;31mTabError\u001b[0m\u001b[0;31m:\u001b[0m inconsistent use of tabs and spaces in indentation\n"
          ]
        }
      ]
    },
    {
      "metadata": {
        "id": "jLO2Gq4Jtso3",
        "colab_type": "text"
      },
      "cell_type": "markdown",
      "source": [
        "# Descrição Mini Projeto"
      ]
    },
    {
      "metadata": {
        "id": "kOrl4i0areNo",
        "colab_type": "text"
      },
      "cell_type": "markdown",
      "source": [
        "Utilizando o código acima, modifique a última seção (Executando com Base de Dados) para que ele seja executado com a base de dados do arquivo train-mod.csv. Depois, modifique a função de base radial implementada (Gaussiana), para a Multiquadrática e a Multiquadrática Inversa e calcule a taxa de erro.\n",
        "\n",
        "1 - Calcular o taxa de erro no conjunto de teste na RBF utilizando a base de dados train-mod.csv\n",
        "\n",
        "2- Calcular a taxa de erro usando 3 funções de Base Radial:\n",
        "a) Gaussiana\n",
        "b) Multiquadrática\n",
        "c) Multiquadrática Inversa\n",
        "\n",
        "\n",
        "DATA DE ENTREGA: 02/04/2019\n"
      ]
    },
    {
      "metadata": {
        "id": "B6-B3a4H65Li",
        "colab_type": "text"
      },
      "cell_type": "markdown",
      "source": [
        "## (CORREÇÃO) Executando com Base de Dados"
      ]
    },
    {
      "metadata": {
        "id": "4hRUNEnJ7ly5",
        "colab_type": "text"
      },
      "cell_type": "markdown",
      "source": [
        "## Calculando a taxa de erro"
      ]
    },
    {
      "metadata": {
        "id": "ayzHC6Sb7fjE",
        "colab_type": "text"
      },
      "cell_type": "markdown",
      "source": [
        "### Utilizando -> Função de Base Radial Gaussiana"
      ]
    },
    {
      "metadata": {
        "id": "ytsEYnpQ7AnC",
        "colab_type": "text"
      },
      "cell_type": "markdown",
      "source": [
        "### Utilizando -> Função de Base Radial Multiquadrática"
      ]
    },
    {
      "metadata": {
        "id": "LT1WWWMW7NyJ",
        "colab_type": "text"
      },
      "cell_type": "markdown",
      "source": [
        "### Utilizando -> Função de Base Radial Multiquadrática Inversa"
      ]
    }
  ]
}