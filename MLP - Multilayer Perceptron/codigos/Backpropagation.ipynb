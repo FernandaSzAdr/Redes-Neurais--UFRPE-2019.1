{
  "nbformat": 4,
  "nbformat_minor": 0,
  "metadata": {
    "colab": {
      "name": "Backpropagation",
      "version": "0.3.2",
      "provenance": [],
      "include_colab_link": true
    },
    "kernelspec": {
      "name": "python3",
      "display_name": "Python 3"
    },
    "accelerator": "GPU"
  },
  "cells": [
    {
      "cell_type": "markdown",
      "metadata": {
        "id": "view-in-github",
        "colab_type": "text"
      },
      "source": [
        "<a href=\"https://colab.research.google.com/github/FernandaSzAdr/Redes-Neurais--UFRPE-2019.1/blob/master/MLP%20-%20Multilayer%20Perceptron/codigos/Backpropagation.ipynb\" target=\"_parent\"><img src=\"https://colab.research.google.com/assets/colab-badge.svg\" alt=\"Open In Colab\"/></a>"
      ]
    },
    {
      "metadata": {
        "id": "gquVOlEzAIeg",
        "colab_type": "code",
        "outputId": "47d8e6b2-67ff-4f9d-961f-26868a9ea933",
        "colab": {
          "base_uri": "https://localhost:8080/",
          "height": 146
        }
      },
      "cell_type": "code",
      "source": [
        "!git clone https://github.com/FernandaSzAdr/Redes-Neurais--UFRPE-2019.1"
      ],
      "execution_count": 1,
      "outputs": [
        {
          "output_type": "stream",
          "text": [
            "Cloning into 'Redes-Neurais--UFRPE-2019.1'...\n",
            "remote: Enumerating objects: 162, done.\u001b[K\n",
            "remote: Counting objects:   0% (1/162)   \u001b[K\rremote: Counting objects:   1% (2/162)   \u001b[K\rremote: Counting objects:   2% (4/162)   \u001b[K\rremote: Counting objects:   3% (5/162)   \u001b[K\rremote: Counting objects:   4% (7/162)   \u001b[K\rremote: Counting objects:   5% (9/162)   \u001b[K\rremote: Counting objects:   6% (10/162)   \u001b[K\rremote: Counting objects:   7% (12/162)   \u001b[K\rremote: Counting objects:   8% (13/162)   \u001b[K\rremote: Counting objects:   9% (15/162)   \u001b[K\rremote: Counting objects:  10% (17/162)   \u001b[K\rremote: Counting objects:  11% (18/162)   \u001b[K\rremote: Counting objects:  12% (20/162)   \u001b[K\rremote: Counting objects:  13% (22/162)   \u001b[K\rremote: Counting objects:  14% (23/162)   \u001b[K\rremote: Counting objects:  15% (25/162)   \u001b[K\rremote: Counting objects:  16% (26/162)   \u001b[K\rremote: Counting objects:  17% (28/162)   \u001b[K\rremote: Counting objects:  18% (30/162)   \u001b[K\rremote: Counting objects:  19% (31/162)   \u001b[K\rremote: Counting objects:  20% (33/162)   \u001b[K\rremote: Counting objects:  21% (35/162)   \u001b[K\rremote: Counting objects:  22% (36/162)   \u001b[K\rremote: Counting objects:  23% (38/162)   \u001b[K\rremote: Counting objects:  24% (39/162)   \u001b[K\rremote: Counting objects:  25% (41/162)   \u001b[K\rremote: Counting objects:  26% (43/162)   \u001b[K\rremote: Counting objects:  27% (44/162)   \u001b[K\rremote: Counting objects:  28% (46/162)   \u001b[K\rremote: Counting objects:  29% (47/162)   \u001b[K\rremote: Counting objects:  30% (49/162)   \u001b[K\rremote: Counting objects:  31% (51/162)   \u001b[K\rremote: Counting objects:  32% (52/162)   \u001b[K\rremote: Counting objects:  33% (54/162)   \u001b[K\rremote: Counting objects:  34% (56/162)   \u001b[K\rremote: Counting objects:  35% (57/162)   \u001b[K\rremote: Counting objects:  36% (59/162)   \u001b[K\rremote: Counting objects:  37% (60/162)   \u001b[K\rremote: Counting objects:  38% (62/162)   \u001b[K\rremote: Counting objects:  39% (64/162)   \u001b[K\rremote: Counting objects:  40% (65/162)   \u001b[K\rremote: Counting objects:  41% (67/162)   \u001b[K\rremote: Counting objects:  42% (69/162)   \rremote: Counting objects:  43% (70/162)   \u001b[K\rremote: Counting objects:  44% (72/162)   \u001b[K\rremote: Counting objects:  45% (73/162)   \u001b[K\rremote: Counting objects:  46% (75/162)   \u001b[K\rremote: Counting objects:  47% (77/162)   \u001b[K\rremote: Counting objects:  48% (78/162)   \u001b[K\rremote: Counting objects:  49% (80/162)   \u001b[K\rremote: Counting objects:  50% (81/162)   \u001b[K\rremote: Counting objects:  51% (83/162)   \u001b[K\rremote: Counting objects:  52% (85/162)   \u001b[K\rremote: Counting objects:  53% (86/162)   \u001b[K\rremote: Counting objects:  54% (88/162)   \u001b[K\rremote: Counting objects:  55% (90/162)   \u001b[K\rremote: Counting objects:  56% (91/162)   \u001b[K\rremote: Counting objects:  57% (93/162)   \u001b[K\rremote: Counting objects:  58% (94/162)   \u001b[K\rremote: Counting objects:  59% (96/162)   \u001b[K\rremote: Counting objects:  60% (98/162)   \u001b[K\rremote: Counting objects:  61% (99/162)   \u001b[K\rremote: Counting objects:  62% (101/162)   \u001b[K\rremote: Counting objects:  63% (103/162)   \u001b[K\rremote: Counting objects:  64% (104/162)   \u001b[K\rremote: Counting objects:  65% (106/162)   \u001b[K\rremote: Counting objects:  66% (107/162)   \u001b[K\rremote: Counting objects:  67% (109/162)   \u001b[K\rremote: Counting objects:  68% (111/162)   \u001b[K\rremote: Counting objects:  69% (112/162)   \u001b[K\rremote: Counting objects:  70% (114/162)   \u001b[K\rremote: Counting objects:  71% (116/162)   \u001b[K\rremote: Counting objects:  72% (117/162)   \u001b[K\rremote: Counting objects:  73% (119/162)   \u001b[K\rremote: Counting objects:  74% (120/162)   \u001b[K\rremote: Counting objects:  75% (122/162)   \u001b[K\rremote: Counting objects:  76% (124/162)   \u001b[K\rremote: Counting objects:  77% (125/162)   \u001b[K\rremote: Counting objects:  78% (127/162)   \u001b[K\rremote: Counting objects:  79% (128/162)   \u001b[K\rremote: Counting objects:  80% (130/162)   \u001b[K\rremote: Counting objects:  81% (132/162)   \u001b[K\rremote: Counting objects:  82% (133/162)   \u001b[K\rremote: Counting objects:  83% (135/162)   \u001b[K\rremote: Counting objects:  84% (137/162)   \u001b[K\rremote: Counting objects:  85% (138/162)   \u001b[K\rremote: Counting objects:  86% (140/162)   \u001b[K\rremote: Counting objects:  87% (141/162)   \u001b[K\rremote: Counting objects:  88% (143/162)   \u001b[K\rremote: Counting objects:  89% (145/162)   \u001b[K\rremote: Counting objects:  90% (146/162)   \u001b[K\rremote: Counting objects:  91% (148/162)   \u001b[K\rremote: Counting objects:  92% (150/162)   \u001b[K\rremote: Counting objects:  93% (151/162)   \u001b[K\rremote: Counting objects:  94% (153/162)   \u001b[K\rremote: Counting objects:  95% (154/162)   \u001b[K\rremote: Counting objects:  96% (156/162)   \u001b[K\rremote: Counting objects:  97% (158/162)   \u001b[K\rremote: Counting objects:  98% (159/162)   \u001b[K\rremote: Counting objects:  99% (161/162)   \u001b[K\rremote: Counting objects: 100% (162/162)   \u001b[K\rremote: Counting objects: 100% (162/162), done.\u001b[K\n",
            "remote: Compressing objects: 100% (97/97), done.\u001b[K\n",
            "remote: Total 162 (delta 48), reused 162 (delta 48), pack-reused 0\u001b[K\n",
            "Receiving objects: 100% (162/162), 21.70 MiB | 43.39 MiB/s, done.\n",
            "Resolving deltas: 100% (48/48), done.\n"
          ],
          "name": "stdout"
        }
      ]
    },
    {
      "metadata": {
        "id": "PJEk_jQrrJXn",
        "colab_type": "text"
      },
      "cell_type": "markdown",
      "source": [
        "##Multipayer Perceptron (MLP)\n",
        "\n",
        "Rede Neural baseado no algoritmo de gradiente descendente.  \n",
        "Os gradientes são calculados usando backpropagation. \n",
        "\n",
        "Para mais detalhes, ver os capitulos 13 a 16 do livro no site:\n",
        "\n",
        "http://deeplearningbook.com.br/"
      ]
    },
    {
      "metadata": {
        "id": "JNeeLtK58tGe",
        "colab_type": "code",
        "outputId": "5ee7085b-c6ad-4974-db9c-0fb7a11d5630",
        "colab": {
          "base_uri": "https://localhost:8080/",
          "height": 403
        }
      },
      "cell_type": "code",
      "source": [
        "!pip install ipdb\n",
        "import random\n",
        "import numpy as np"
      ],
      "execution_count": 2,
      "outputs": [
        {
          "output_type": "stream",
          "text": [
            "Collecting ipdb\n",
            "  Downloading https://files.pythonhosted.org/packages/6d/43/c3c2e866a8803e196d6209595020a4a6db1a3c5d07c01455669497ae23d0/ipdb-0.12.tar.gz\n",
            "Requirement already satisfied: setuptools in /usr/local/lib/python3.6/dist-packages (from ipdb) (40.9.0)\n",
            "Requirement already satisfied: ipython>=5.1.0 in /usr/local/lib/python3.6/dist-packages (from ipdb) (5.5.0)\n",
            "Requirement already satisfied: prompt-toolkit<2.0.0,>=1.0.4 in /usr/local/lib/python3.6/dist-packages (from ipython>=5.1.0->ipdb) (1.0.16)\n",
            "Requirement already satisfied: traitlets>=4.2 in /usr/local/lib/python3.6/dist-packages (from ipython>=5.1.0->ipdb) (4.3.2)\n",
            "Requirement already satisfied: pygments in /usr/local/lib/python3.6/dist-packages (from ipython>=5.1.0->ipdb) (2.1.3)\n",
            "Requirement already satisfied: simplegeneric>0.8 in /usr/local/lib/python3.6/dist-packages (from ipython>=5.1.0->ipdb) (0.8.1)\n",
            "Requirement already satisfied: decorator in /usr/local/lib/python3.6/dist-packages (from ipython>=5.1.0->ipdb) (4.4.0)\n",
            "Requirement already satisfied: pexpect; sys_platform != \"win32\" in /usr/local/lib/python3.6/dist-packages (from ipython>=5.1.0->ipdb) (4.7.0)\n",
            "Requirement already satisfied: pickleshare in /usr/local/lib/python3.6/dist-packages (from ipython>=5.1.0->ipdb) (0.7.5)\n",
            "Requirement already satisfied: six>=1.9.0 in /usr/local/lib/python3.6/dist-packages (from prompt-toolkit<2.0.0,>=1.0.4->ipython>=5.1.0->ipdb) (1.12.0)\n",
            "Requirement already satisfied: wcwidth in /usr/local/lib/python3.6/dist-packages (from prompt-toolkit<2.0.0,>=1.0.4->ipython>=5.1.0->ipdb) (0.1.7)\n",
            "Requirement already satisfied: ipython-genutils in /usr/local/lib/python3.6/dist-packages (from traitlets>=4.2->ipython>=5.1.0->ipdb) (0.2.0)\n",
            "Requirement already satisfied: ptyprocess>=0.5 in /usr/local/lib/python3.6/dist-packages (from pexpect; sys_platform != \"win32\"->ipython>=5.1.0->ipdb) (0.6.0)\n",
            "Building wheels for collected packages: ipdb\n",
            "  Building wheel for ipdb (setup.py) ... \u001b[?25ldone\n",
            "\u001b[?25h  Stored in directory: /root/.cache/pip/wheels/59/24/91/695211bd228d40fb22dff0ce3f05ba41ab724ab771736233f3\n",
            "Successfully built ipdb\n",
            "Installing collected packages: ipdb\n",
            "Successfully installed ipdb-0.12\n"
          ],
          "name": "stdout"
        }
      ]
    },
    {
      "metadata": {
        "id": "BPjNMuBE8UcP",
        "colab_type": "text"
      },
      "cell_type": "markdown",
      "source": [
        "A entrada é uma lista (`sizes`) contém o número de neurônios nas respectivas camadas da rede. Por exemplo, se a lista for [2, 3, 1] então será uma rede de três camadas, com o primeira camada contendo 2 neurônios, a segunda camada 3 neurônios, e a terceira camada 1 neurônio. Os bias e pesos para a rede são inicializados aleatoriamente, usando uma distribuição Gaussiana com média 0 e variância 1. Note que a primeira camada é assumida como uma camada de entrada, e por convenção não definimos nenhum bias para esses neurônios, pois os bias são usados na computação das saídas das camadas posteriores.\n"
      ]
    },
    {
      "metadata": {
        "id": "aLMguBRLppm7",
        "colab_type": "code",
        "colab": {}
      },
      "cell_type": "code",
      "source": [
        "def funcao_ativacao(tipo, is_prime, z):\n",
        "  # Função de Ativação Sigmóide\n",
        "  def sigmoid(z):\n",
        "      return 1.0/(1.0+np.exp(-z))\n",
        "\n",
        "  def relu(z):\n",
        "      return np.array([[max(0, i[0])] for i in z])\n",
        "\n",
        "  # Função para retornar as derivadas da função Sigmóide\n",
        "  def sigmoid_prime(z):\n",
        "      return sigmoid(z)*(1-sigmoid(z))\n",
        "\n",
        "  def relu_prime(z):\n",
        "      return relu(z)*(1-relu(z))\n",
        "  \n",
        "  switcher = {\n",
        "      'sigmoid': sigmoid,\n",
        "      'relu': relu\n",
        "  }\n",
        "  \n",
        "  switcher_prime = {\n",
        "      'sigmoid': sigmoid_prime,\n",
        "      'relu': relu_prime,\n",
        "  }\n",
        "  \n",
        "  if is_prime:\n",
        "    fun = switcher_prime.get(tipo)\n",
        "  else:\n",
        "    fun = switcher.get(tipo)\n",
        "  return fun(z)\n",
        "\n",
        "\n",
        "def atualiza_taxa_aprend(taxa_inicial, epoch, n_epochs):\n",
        "    return taxa_inicial * np.exp(-epoch / n_epochs)"
      ],
      "execution_count": 0,
      "outputs": []
    },
    {
      "metadata": {
        "id": "tGf77mI_vuzP",
        "colab_type": "code",
        "colab": {}
      },
      "cell_type": "code",
      "source": [
        "# Classe Network\n",
        "class Network(object):\n",
        "\n",
        "    def __init__(self, sizes):\n",
        "        self.num_layers = len(sizes)\n",
        "        self.sizes = sizes\n",
        "        self.biases = [np.random.randn(y, 1) for y in sizes[1:]]\n",
        "        self.weights = [np.random.randn(y, x) for x, y in zip(sizes[:-1], sizes[1:])]\n",
        "\n",
        "    def feedforward(self, a, tipo_fun):\n",
        "        \"\"\"Retorna a saída da rede se `a` for entrada.\"\"\"\n",
        "        for b, w in zip(self.biases, self.weights):\n",
        "            a = funcao_ativacao(tipo_fun, False, np.dot(w, a)+b)\n",
        "        return a\n",
        "\n",
        "    def SGD(self, training_data, epochs, mini_batch_size, eta, test_data=None, tipo_fun='sigmoid'):\n",
        "        \"\"\"Treinar a rede neural usando o algoritmo mini batch com gradiente descendente. \n",
        "         A entrada é uma lista de tuplas\n",
        "         `(x, y)` representando as entradas de treinamento e as\n",
        "         saídas. Os outros parâmetros não opcionais são\n",
        "         auto-explicativos. Se `test_data` for fornecido, então a\n",
        "         rede será avaliada em relação aos dados do teste após cada\n",
        "         época e progresso parcial impresso. Isso é útil para\n",
        "         acompanhar o progresso, mas retarda as coisas substancialmente.\"\"\"\n",
        "        \n",
        "        eta_inicial = eta\n",
        "        training_data = list(training_data)\n",
        "        n = len(training_data)\n",
        "\n",
        "        for j in range(epochs):\n",
        "            random.shuffle(training_data)\n",
        "            mini_batches = [training_data[k:k+mini_batch_size] for k in range(0, n, mini_batch_size)]\n",
        "            \n",
        "            for mini_batch in mini_batches:\n",
        "                self.update_mini_batch(mini_batch, eta, tipo_fun)\n",
        "                        \n",
        "            eta = atualiza_taxa_aprend(eta_inicial, j, epochs)\n",
        "        \n",
        "          \n",
        "        if test_data:\n",
        "            predic = self.evaluate(test_data, tipo_fun)\n",
        "            print(\"Total Input {} / Total predict {}\".format(len(test_data), predic))\n",
        "            return predic\n",
        "        else:\n",
        "            print(\"Epoch {} finalizada\".format(j))\n",
        "               \n",
        "    def update_mini_batch(self, mini_batch, eta, tipo_fun):\n",
        "        \"\"\"Atualiza os pesos e bias da rede aplicando\n",
        "         a descida do gradiente usando backpropagation para um único mini lote.\n",
        "         O `mini_batch` é uma lista de tuplas `(x, y)`, e `eta` é a taxa de aprendizado.\"\"\"\n",
        "\n",
        "        nabla_b = [np.zeros(b.shape) for b in self.biases]\n",
        "        nabla_w = [np.zeros(w.shape) for w in self.weights]\n",
        "        \n",
        "        for x, y in mini_batch:\n",
        "            delta_nabla_b, delta_nabla_w = self.backprop(x, y, tipo_fun)\n",
        "            nabla_b = [nb+dnb for nb, dnb in zip(nabla_b, delta_nabla_b)]\n",
        "            nabla_w = [nw+dnw for nw, dnw in zip(nabla_w, delta_nabla_w)]\n",
        "        \n",
        "        self.weights = [w-(eta/len(mini_batch))*nw for w, nw in zip(self.weights, nabla_w)]\n",
        "        self.biases = [b-(eta/len(mini_batch))*nb for b, nb in zip(self.biases, nabla_b)]\n",
        "\n",
        "    def backprop(self, x, y, tipo_fun):\n",
        "        \"\"\"Retorna uma tupla `(nabla_b, nabla_w)` representando o\n",
        "         gradiente para a função de custo C_x. `nabla_b` e\n",
        "         `nabla_w` são listas de camadas de matrizes numpy, semelhantes\n",
        "         a `self.biases` e `self.weights`.\"\"\"\n",
        "\n",
        "        nabla_b = [np.zeros(b.shape) for b in self.biases]\n",
        "        nabla_w = [np.zeros(w.shape) for w in self.weights]\n",
        "        \n",
        "        # Feedforward\n",
        "        activation = x\n",
        "\n",
        "        # Lista para armazenar todas as ativações, camada por camada\n",
        "        activations = [x] \n",
        "\n",
        "        # Lista para armazenar todos os vetores z, camada por camada\n",
        "        zs = [] \n",
        "\n",
        "        for b, w in zip(self.biases, self.weights):\n",
        "            z = np.dot(w, activation)+b\n",
        "            zs.append(z)\n",
        "            activation = funcao_ativacao(tipo_fun, False, z)\n",
        "            activations.append(activation)\n",
        "        \n",
        "        # Backward pass\n",
        "        delta = self.cost_derivative(activations[-1], y) * funcao_ativacao(tipo_fun, True, zs[-1])\n",
        "        nabla_b[-1] = delta\n",
        "        nabla_w[-1] = np.dot(delta, activations[-2].transpose())\n",
        "        \n",
        "        # Aqui, l = 1 significa a última camada de neurônios, l = 2 é a segunda e assim por diante. \n",
        "        for l in range(2, self.num_layers):\n",
        "            z = zs[-l]\n",
        "            sp = funcao_ativacao(tipo_fun, True, z)\n",
        "            delta = np.dot(self.weights[-l+1].transpose(), delta) * sp\n",
        "            nabla_b[-l] = delta\n",
        "            nabla_w[-l] = np.dot(delta, activations[-l-1].transpose())\n",
        "        return (nabla_b, nabla_w)\n",
        "\n",
        "    def evaluate(self, test_data, tipo_fun):\n",
        "        \"\"\"Retorna o número de entradas de teste para as quais a rede neural \n",
        "         produz o resultado correto. Note que a saída da rede neural\n",
        "         é considerada o índice de qualquer que seja\n",
        "         neurônio na camada final que tenha a maior ativação.\"\"\"\n",
        "\n",
        "        test_results = [(np.argmax(self.feedforward(x, tipo_fun)), np.argmax(y)) for (x, y) in test_data]\n",
        "        return sum(int(x == y) for (x, y) in test_results)\n",
        "\n",
        "    def cost_derivative(self, output_activations, y):\n",
        "        \"\"\"Retorna o vetor das derivadas parciais.\"\"\"\n",
        "        return (output_activations-y)\n"
      ],
      "execution_count": 0,
      "outputs": []
    },
    {
      "metadata": {
        "id": "6lndK7bt9F6d",
        "colab_type": "text"
      },
      "cell_type": "markdown",
      "source": [
        "Como exemplo, essa mesma rede será executada na base de dados MNIST. O codigo abaixo carrega a base de dados."
      ]
    },
    {
      "metadata": {
        "id": "KOZwqOkDv3t-",
        "colab_type": "code",
        "colab": {}
      },
      "cell_type": "code",
      "source": [
        "# Carregar o dataset MNIST\n",
        "\n",
        "# Imports\n",
        "import pickle\n",
        "import gzip\n",
        "import numpy as np\n",
        "\n",
        "def load_data():\n",
        "    f = gzip.open('Redes-Neurais--UFRPE-2019.1/MLP - Multilayer Perceptron/codigos/mnist.pkl.gz', 'rb')\n",
        "    training_data, validation_data, test_data = pickle.load(f, encoding=\"latin1\")\n",
        "    f.close()\n",
        "    return (training_data, validation_data, test_data)\n",
        "\n",
        "def load_data_wrapper():\n",
        "    tr_d, va_d, te_d = load_data()\n",
        "    training_inputs = [np.reshape(x, (784, 1)) for x in tr_d[0]]\n",
        "    training_results = [vectorized_result(y) for y in tr_d[1]]\n",
        "    training_data = zip(training_inputs, training_results)\n",
        "    validation_inputs = [np.reshape(x, (784, 1)) for x in va_d[0]]\n",
        "    validation_data = zip(validation_inputs, va_d[1])\n",
        "    test_inputs = [np.reshape(x, (784, 1)) for x in te_d[0]]\n",
        "    test_data = zip(test_inputs, te_d[1])\n",
        "    return (training_data, validation_data, test_data)\n",
        "\n",
        "def vectorized_result(j):\n",
        "    e = np.zeros((10, 1))\n",
        "    e[j] = 1.0\n",
        "    return e\n",
        "\n",
        "def all_data():\n",
        "  training_data, validation_data, test_data = load_data_wrapper()\n",
        "\n",
        "  training_data = list(training_data)\n",
        "  validation_data = list(validation_data)\n",
        "  test_data = list(test_data)\n",
        "\n",
        "  return training_data + validation_data + test_data"
      ],
      "execution_count": 0,
      "outputs": []
    },
    {
      "metadata": {
        "id": "KBOEXLBnSsm0",
        "colab_type": "text"
      },
      "cell_type": "markdown",
      "source": [
        "# Mini-Projeto part. 1\n",
        "\n",
        "1) Realizar avaliaçao usando validação cruzada\n",
        "\n",
        "2) Modificar a taxa de aprendizagem pra diminuir com o tempo\n",
        "\n",
        "3) Realizar avaliações com a validação cruzada modificando os seguintes parâmetros:\n",
        "     \n",
        "     a) Taxa de aprendizagem: 0.5, 0.1 e 0.001\n",
        "     b) Função de ativação RELU\n",
        "     c) 3 diferentes configurações de neurônios na camada  intermediária\n",
        "\n",
        "\n",
        "Data de Entrega: 23/04/2019"
      ]
    },
    {
      "metadata": {
        "id": "olUh0kwI3cIS",
        "colab_type": "code",
        "colab": {}
      },
      "cell_type": "code",
      "source": [
        "import pandas as pd\n",
        "from sklearn.model_selection import KFold"
      ],
      "execution_count": 0,
      "outputs": []
    },
    {
      "metadata": {
        "id": "Atfzs5x_Qro9",
        "colab_type": "code",
        "colab": {}
      },
      "cell_type": "code",
      "source": [
        "data = all_data()"
      ],
      "execution_count": 0,
      "outputs": []
    },
    {
      "metadata": {
        "id": "g6miZQpWzxWI",
        "colab_type": "code",
        "colab": {}
      },
      "cell_type": "code",
      "source": [
        "media_modelos = {}\n",
        "funcao_ativacao_list = []\n",
        "rede = []\n",
        "taxa_aprendizagem = []\n",
        "medias = []\n",
        "\n",
        "epoch = 10\n",
        "n_k = 4"
      ],
      "execution_count": 0,
      "outputs": []
    },
    {
      "metadata": {
        "id": "sPyVCSgkt2RW",
        "colab_type": "text"
      },
      "cell_type": "markdown",
      "source": [
        "## Rede 1 -> Configuração 784-30-10"
      ]
    },
    {
      "metadata": {
        "id": "F1QcQHEYyrpV",
        "colab_type": "code",
        "colab": {}
      },
      "cell_type": "code",
      "source": [
        "tamanho = [784, 30, 10]"
      ],
      "execution_count": 0,
      "outputs": []
    },
    {
      "metadata": {
        "id": "K4EobHpXxZoM",
        "colab_type": "text"
      },
      "cell_type": "markdown",
      "source": [
        "### Função ativação - Relu"
      ]
    },
    {
      "metadata": {
        "id": "3cG0XX32t67i",
        "colab_type": "text"
      },
      "cell_type": "markdown",
      "source": [
        "#### Taxa de aprendizagem - 0.5"
      ]
    },
    {
      "metadata": {
        "id": "bIyVWUbK37dl",
        "colab_type": "code",
        "outputId": "c0f0b045-50d4-4d41-c3e9-4dd4479d4011",
        "colab": {
          "base_uri": "https://localhost:8080/",
          "height": 219
        }
      },
      "cell_type": "code",
      "source": [
        "net = Network(tamanho)\n",
        "acertos_dict = {}\n",
        "kf = KFold(n_splits=n_k)\n",
        "at = 0.5\n",
        "\n",
        "for i, index in enumerate(kf.split(data)):\n",
        "  train_index = index[0]\n",
        "  test_index = index[1]\n",
        "  \n",
        "  k = \"K {}\".format(i)\n",
        "  \n",
        "  print(k)\n",
        "  training_data = data[train_index[0]:train_index[-1]+1]\n",
        "  testing_data = data[test_index[0]:test_index[-1]+1]\n",
        "  \n",
        "  result = net.SGD(training_data, epoch, 10, at,test_data=testing_data, tipo_fun='relu')\n",
        "  acertos_dict[k] = result"
      ],
      "execution_count": 38,
      "outputs": [
        {
          "output_type": "stream",
          "text": [
            "K 0\n"
          ],
          "name": "stdout"
        },
        {
          "output_type": "stream",
          "text": [
            "/usr/local/lib/python3.6/dist-packages/ipykernel_launcher.py:87: RuntimeWarning: overflow encountered in multiply\n",
            "/usr/local/lib/python3.6/dist-packages/ipykernel_launcher.py:95: RuntimeWarning: invalid value encountered in multiply\n",
            "/usr/local/lib/python3.6/dist-packages/ipykernel_launcher.py:56: RuntimeWarning: overflow encountered in add\n"
          ],
          "name": "stderr"
        },
        {
          "output_type": "stream",
          "text": [
            "Total Input 17500 / Total predict 1852\n",
            "K 1\n",
            "Total Input 17500 / Total predict 1780\n",
            "K 2\n",
            "Total Input 17500 / Total predict 1543\n",
            "K 3\n",
            "Total Input 17500 / Total predict 0\n"
          ],
          "name": "stdout"
        }
      ]
    },
    {
      "metadata": {
        "id": "GJc8F3SIJxPA",
        "colab_type": "code",
        "outputId": "e3d88439-f6ea-4896-c1e3-b022f6010d5c",
        "colab": {
          "base_uri": "https://localhost:8080/",
          "height": 175
        }
      },
      "cell_type": "code",
      "source": [
        "teste1 = pd.DataFrame({\n",
        "    'K': np.arange(kf.get_n_splits(data)),\n",
        "    'Acertos': list(acertos_dict.values())\n",
        "})\n",
        "\n",
        "teste1"
      ],
      "execution_count": 39,
      "outputs": [
        {
          "output_type": "execute_result",
          "data": {
            "text/html": [
              "<div>\n",
              "<style scoped>\n",
              "    .dataframe tbody tr th:only-of-type {\n",
              "        vertical-align: middle;\n",
              "    }\n",
              "\n",
              "    .dataframe tbody tr th {\n",
              "        vertical-align: top;\n",
              "    }\n",
              "\n",
              "    .dataframe thead th {\n",
              "        text-align: right;\n",
              "    }\n",
              "</style>\n",
              "<table border=\"1\" class=\"dataframe\">\n",
              "  <thead>\n",
              "    <tr style=\"text-align: right;\">\n",
              "      <th></th>\n",
              "      <th>K</th>\n",
              "      <th>Acertos</th>\n",
              "    </tr>\n",
              "  </thead>\n",
              "  <tbody>\n",
              "    <tr>\n",
              "      <th>0</th>\n",
              "      <td>0</td>\n",
              "      <td>1852</td>\n",
              "    </tr>\n",
              "    <tr>\n",
              "      <th>1</th>\n",
              "      <td>1</td>\n",
              "      <td>1780</td>\n",
              "    </tr>\n",
              "    <tr>\n",
              "      <th>2</th>\n",
              "      <td>2</td>\n",
              "      <td>1543</td>\n",
              "    </tr>\n",
              "    <tr>\n",
              "      <th>3</th>\n",
              "      <td>3</td>\n",
              "      <td>0</td>\n",
              "    </tr>\n",
              "  </tbody>\n",
              "</table>\n",
              "</div>"
            ],
            "text/plain": [
              "   K  Acertos\n",
              "0  0     1852\n",
              "1  1     1780\n",
              "2  2     1543\n",
              "3  3        0"
            ]
          },
          "metadata": {
            "tags": []
          },
          "execution_count": 39
        }
      ]
    },
    {
      "metadata": {
        "id": "HgcZPKbJuzi-",
        "colab_type": "code",
        "outputId": "d2c191be-6863-447a-8d0f-1a19c636ff45",
        "colab": {
          "base_uri": "https://localhost:8080/",
          "height": 35
        }
      },
      "cell_type": "code",
      "source": [
        "media = teste1['Acertos'].mean()\n",
        "\n",
        "media"
      ],
      "execution_count": 40,
      "outputs": [
        {
          "output_type": "execute_result",
          "data": {
            "text/plain": [
              "1293.75"
            ]
          },
          "metadata": {
            "tags": []
          },
          "execution_count": 40
        }
      ]
    },
    {
      "metadata": {
        "id": "eLkXILniz3hT",
        "colab_type": "code",
        "colab": {}
      },
      "cell_type": "code",
      "source": [
        "funcao_ativacao_list.append('relu')\n",
        "rede.append('rede 1')\n",
        "taxa_aprendizagem.append(at)\n",
        "medias.append(media)"
      ],
      "execution_count": 0,
      "outputs": []
    },
    {
      "metadata": {
        "colab_type": "text",
        "id": "JtzexNGPtcU6"
      },
      "cell_type": "markdown",
      "source": [
        "#### Taxa de aprendizagem - 0.1"
      ]
    },
    {
      "metadata": {
        "colab_type": "code",
        "outputId": "f931cdc8-3299-45bf-e02b-18ce2391b47c",
        "id": "fA3HY3TytcU7",
        "colab": {
          "base_uri": "https://localhost:8080/",
          "height": 237
        }
      },
      "cell_type": "code",
      "source": [
        "net = Network(tamanho)\n",
        "acertos_dict = {}\n",
        "kf = KFold(n_splits=n_k)\n",
        "at = 0.1\n",
        "\n",
        "for i, index in enumerate(kf.split(data)):\n",
        "  train_index = index[0]\n",
        "  test_index = index[1]\n",
        "  \n",
        "  k = \"K {}\".format(i)\n",
        "  \n",
        "  print(k)\n",
        "  training_data = data[train_index[0]:train_index[-1]+1]\n",
        "  testing_data = data[test_index[0]:test_index[-1]+1]\n",
        "  \n",
        "  result = net.SGD(training_data, epoch, 10, at,test_data=testing_data, tipo_fun='relu')\n",
        "  acertos_dict[k] = result"
      ],
      "execution_count": 42,
      "outputs": [
        {
          "output_type": "stream",
          "text": [
            "K 0\n"
          ],
          "name": "stdout"
        },
        {
          "output_type": "stream",
          "text": [
            "/usr/local/lib/python3.6/dist-packages/ipykernel_launcher.py:87: RuntimeWarning: overflow encountered in multiply\n",
            "/usr/local/lib/python3.6/dist-packages/ipykernel_launcher.py:95: RuntimeWarning: invalid value encountered in multiply\n",
            "/usr/local/lib/python3.6/dist-packages/ipykernel_launcher.py:14: RuntimeWarning: overflow encountered in multiply\n",
            "  \n"
          ],
          "name": "stderr"
        },
        {
          "output_type": "stream",
          "text": [
            "Total Input 17500 / Total predict 1741\n",
            "K 1\n",
            "Total Input 17500 / Total predict 1693\n",
            "K 2\n",
            "Total Input 17500 / Total predict 3998\n",
            "K 3\n",
            "Total Input 17500 / Total predict 17500\n"
          ],
          "name": "stdout"
        }
      ]
    },
    {
      "metadata": {
        "colab_type": "code",
        "id": "DNcW2U3rtcU_",
        "outputId": "4ed5afa8-8284-4ac8-f532-4c97c6ab4273",
        "colab": {
          "base_uri": "https://localhost:8080/",
          "height": 175
        }
      },
      "cell_type": "code",
      "source": [
        "teste2 = pd.DataFrame({\n",
        "    'K': np.arange(kf.get_n_splits(data)),\n",
        "    'Acertos': list(acertos_dict.values())\n",
        "})\n",
        "\n",
        "teste2"
      ],
      "execution_count": 43,
      "outputs": [
        {
          "output_type": "execute_result",
          "data": {
            "text/html": [
              "<div>\n",
              "<style scoped>\n",
              "    .dataframe tbody tr th:only-of-type {\n",
              "        vertical-align: middle;\n",
              "    }\n",
              "\n",
              "    .dataframe tbody tr th {\n",
              "        vertical-align: top;\n",
              "    }\n",
              "\n",
              "    .dataframe thead th {\n",
              "        text-align: right;\n",
              "    }\n",
              "</style>\n",
              "<table border=\"1\" class=\"dataframe\">\n",
              "  <thead>\n",
              "    <tr style=\"text-align: right;\">\n",
              "      <th></th>\n",
              "      <th>K</th>\n",
              "      <th>Acertos</th>\n",
              "    </tr>\n",
              "  </thead>\n",
              "  <tbody>\n",
              "    <tr>\n",
              "      <th>0</th>\n",
              "      <td>0</td>\n",
              "      <td>1741</td>\n",
              "    </tr>\n",
              "    <tr>\n",
              "      <th>1</th>\n",
              "      <td>1</td>\n",
              "      <td>1693</td>\n",
              "    </tr>\n",
              "    <tr>\n",
              "      <th>2</th>\n",
              "      <td>2</td>\n",
              "      <td>3998</td>\n",
              "    </tr>\n",
              "    <tr>\n",
              "      <th>3</th>\n",
              "      <td>3</td>\n",
              "      <td>17500</td>\n",
              "    </tr>\n",
              "  </tbody>\n",
              "</table>\n",
              "</div>"
            ],
            "text/plain": [
              "   K  Acertos\n",
              "0  0     1741\n",
              "1  1     1693\n",
              "2  2     3998\n",
              "3  3    17500"
            ]
          },
          "metadata": {
            "tags": []
          },
          "execution_count": 43
        }
      ]
    },
    {
      "metadata": {
        "colab_type": "code",
        "id": "KifkIaSwtcVC",
        "outputId": "b215334c-5668-4b64-c658-744f7adc80d2",
        "colab": {
          "base_uri": "https://localhost:8080/",
          "height": 35
        }
      },
      "cell_type": "code",
      "source": [
        "media = teste2['Acertos'].mean()\n",
        "\n",
        "media"
      ],
      "execution_count": 44,
      "outputs": [
        {
          "output_type": "execute_result",
          "data": {
            "text/plain": [
              "6233.0"
            ]
          },
          "metadata": {
            "tags": []
          },
          "execution_count": 44
        }
      ]
    },
    {
      "metadata": {
        "colab_type": "code",
        "id": "ldtkqs810XNz",
        "colab": {}
      },
      "cell_type": "code",
      "source": [
        "funcao_ativacao_list.append('relu')\n",
        "rede.append('rede 1')\n",
        "taxa_aprendizagem.append(at)\n",
        "medias.append(media)"
      ],
      "execution_count": 0,
      "outputs": []
    },
    {
      "metadata": {
        "colab_type": "text",
        "id": "GHvWAwhHxlqA"
      },
      "cell_type": "markdown",
      "source": [
        "#### Taxa de aprendizagem - 0.001"
      ]
    },
    {
      "metadata": {
        "colab_type": "code",
        "outputId": "0ee1d5a6-433b-4fa9-b989-9bc6a6d75757",
        "id": "nXSUF_78xlqC",
        "colab": {
          "base_uri": "https://localhost:8080/",
          "height": 237
        }
      },
      "cell_type": "code",
      "source": [
        "net = Network(tamanho)\n",
        "acertos_dict = {}\n",
        "kf = KFold(n_splits=n_k)\n",
        "at = 0.001\n",
        "\n",
        "for i, index in enumerate(kf.split(data)):\n",
        "  train_index = index[0]\n",
        "  test_index = index[1]\n",
        "  \n",
        "  k = \"K {}\".format(i)\n",
        "  \n",
        "  print(k)\n",
        "  training_data = data[train_index[0]:train_index[-1]+1]\n",
        "  testing_data = data[test_index[0]:test_index[-1]+1]\n",
        "  \n",
        "  result = net.SGD(training_data, epoch, 10, at,test_data=testing_data, tipo_fun='relu')\n",
        "  acertos_dict[k] = result"
      ],
      "execution_count": 46,
      "outputs": [
        {
          "output_type": "stream",
          "text": [
            "K 0\n"
          ],
          "name": "stdout"
        },
        {
          "output_type": "stream",
          "text": [
            "/usr/local/lib/python3.6/dist-packages/ipykernel_launcher.py:14: RuntimeWarning: overflow encountered in multiply\n",
            "  \n",
            "/usr/local/lib/python3.6/dist-packages/ipykernel_launcher.py:87: RuntimeWarning: overflow encountered in multiply\n",
            "/usr/local/lib/python3.6/dist-packages/ipykernel_launcher.py:95: RuntimeWarning: invalid value encountered in multiply\n"
          ],
          "name": "stderr"
        },
        {
          "output_type": "stream",
          "text": [
            "Total Input 17500 / Total predict 1741\n",
            "K 1\n",
            "Total Input 17500 / Total predict 1693\n",
            "K 2\n",
            "Total Input 17500 / Total predict 3998\n",
            "K 3\n",
            "Total Input 17500 / Total predict 17500\n"
          ],
          "name": "stdout"
        }
      ]
    },
    {
      "metadata": {
        "colab_type": "code",
        "id": "qHobWMPAxlqO",
        "outputId": "78b1a38f-0d8a-46e0-e609-25a536f9c70c",
        "colab": {
          "base_uri": "https://localhost:8080/",
          "height": 175
        }
      },
      "cell_type": "code",
      "source": [
        "teste3 = pd.DataFrame({\n",
        "    'K': np.arange(kf.get_n_splits(data)),\n",
        "    'Acertos': list(acertos_dict.values())\n",
        "})\n",
        "\n",
        "teste3"
      ],
      "execution_count": 47,
      "outputs": [
        {
          "output_type": "execute_result",
          "data": {
            "text/html": [
              "<div>\n",
              "<style scoped>\n",
              "    .dataframe tbody tr th:only-of-type {\n",
              "        vertical-align: middle;\n",
              "    }\n",
              "\n",
              "    .dataframe tbody tr th {\n",
              "        vertical-align: top;\n",
              "    }\n",
              "\n",
              "    .dataframe thead th {\n",
              "        text-align: right;\n",
              "    }\n",
              "</style>\n",
              "<table border=\"1\" class=\"dataframe\">\n",
              "  <thead>\n",
              "    <tr style=\"text-align: right;\">\n",
              "      <th></th>\n",
              "      <th>K</th>\n",
              "      <th>Acertos</th>\n",
              "    </tr>\n",
              "  </thead>\n",
              "  <tbody>\n",
              "    <tr>\n",
              "      <th>0</th>\n",
              "      <td>0</td>\n",
              "      <td>1741</td>\n",
              "    </tr>\n",
              "    <tr>\n",
              "      <th>1</th>\n",
              "      <td>1</td>\n",
              "      <td>1693</td>\n",
              "    </tr>\n",
              "    <tr>\n",
              "      <th>2</th>\n",
              "      <td>2</td>\n",
              "      <td>3998</td>\n",
              "    </tr>\n",
              "    <tr>\n",
              "      <th>3</th>\n",
              "      <td>3</td>\n",
              "      <td>17500</td>\n",
              "    </tr>\n",
              "  </tbody>\n",
              "</table>\n",
              "</div>"
            ],
            "text/plain": [
              "   K  Acertos\n",
              "0  0     1741\n",
              "1  1     1693\n",
              "2  2     3998\n",
              "3  3    17500"
            ]
          },
          "metadata": {
            "tags": []
          },
          "execution_count": 47
        }
      ]
    },
    {
      "metadata": {
        "colab_type": "code",
        "id": "MLtsWk5hxlqV",
        "outputId": "460bfe03-2574-4e15-f951-d17c8db1d738",
        "colab": {
          "base_uri": "https://localhost:8080/",
          "height": 35
        }
      },
      "cell_type": "code",
      "source": [
        "media = teste3['Acertos'].mean()\n",
        "\n",
        "media"
      ],
      "execution_count": 48,
      "outputs": [
        {
          "output_type": "execute_result",
          "data": {
            "text/plain": [
              "6233.0"
            ]
          },
          "metadata": {
            "tags": []
          },
          "execution_count": 48
        }
      ]
    },
    {
      "metadata": {
        "colab_type": "code",
        "id": "CWgULgB80cdX",
        "colab": {}
      },
      "cell_type": "code",
      "source": [
        "funcao_ativacao_list.append('relu')\n",
        "rede.append('rede 1')\n",
        "taxa_aprendizagem.append(at)\n",
        "medias.append(media)"
      ],
      "execution_count": 0,
      "outputs": []
    },
    {
      "metadata": {
        "colab_type": "text",
        "id": "FxVsUPFgxwbB"
      },
      "cell_type": "markdown",
      "source": [
        "### Função ativação - Sigmoid"
      ]
    },
    {
      "metadata": {
        "colab_type": "text",
        "id": "UUC5754KxwbD"
      },
      "cell_type": "markdown",
      "source": [
        "#### Taxa de aprendizagem - 0.5"
      ]
    },
    {
      "metadata": {
        "colab_type": "code",
        "id": "RoQ38Ck3xwbD",
        "outputId": "1e074aef-9a2d-4530-f791-78ff563d8123",
        "colab": {
          "base_uri": "https://localhost:8080/",
          "height": 164
        }
      },
      "cell_type": "code",
      "source": [
        "net = Network(tamanho)\n",
        "acertos_dict = {}\n",
        "kf = KFold(n_splits=n_k)\n",
        "at = 0.5\n",
        "\n",
        "for i, index in enumerate(kf.split(data)):\n",
        "  train_index = index[0]\n",
        "  test_index = index[1]\n",
        "  \n",
        "  k = \"K {}\".format(i)\n",
        "  \n",
        "  print(k)\n",
        "  training_data = data[train_index[0]:train_index[-1]+1]\n",
        "  testing_data = data[test_index[0]:test_index[-1]+1]\n",
        "  \n",
        "  result = net.SGD(training_data, epoch, 10, at,test_data=testing_data, tipo_fun='sigmoid')\n",
        "  acertos_dict[k] = result"
      ],
      "execution_count": 50,
      "outputs": [
        {
          "output_type": "stream",
          "text": [
            "K 0\n",
            "Total Input 17500 / Total predict 4606\n",
            "K 1\n",
            "Total Input 17500 / Total predict 3471\n",
            "K 2\n",
            "Total Input 17500 / Total predict 3424\n",
            "K 3\n",
            "Total Input 17500 / Total predict 1837\n"
          ],
          "name": "stdout"
        }
      ]
    },
    {
      "metadata": {
        "colab_type": "code",
        "id": "vlrPfdlmxwbG",
        "outputId": "bed7ce3e-ba03-4a28-d7e5-8351dc9bfb7f",
        "colab": {
          "base_uri": "https://localhost:8080/",
          "height": 175
        }
      },
      "cell_type": "code",
      "source": [
        "teste4 = pd.DataFrame({\n",
        "    'K': np.arange(kf.get_n_splits(data)),\n",
        "    'Acertos': list(acertos_dict.values())\n",
        "})\n",
        "\n",
        "teste4"
      ],
      "execution_count": 51,
      "outputs": [
        {
          "output_type": "execute_result",
          "data": {
            "text/html": [
              "<div>\n",
              "<style scoped>\n",
              "    .dataframe tbody tr th:only-of-type {\n",
              "        vertical-align: middle;\n",
              "    }\n",
              "\n",
              "    .dataframe tbody tr th {\n",
              "        vertical-align: top;\n",
              "    }\n",
              "\n",
              "    .dataframe thead th {\n",
              "        text-align: right;\n",
              "    }\n",
              "</style>\n",
              "<table border=\"1\" class=\"dataframe\">\n",
              "  <thead>\n",
              "    <tr style=\"text-align: right;\">\n",
              "      <th></th>\n",
              "      <th>K</th>\n",
              "      <th>Acertos</th>\n",
              "    </tr>\n",
              "  </thead>\n",
              "  <tbody>\n",
              "    <tr>\n",
              "      <th>0</th>\n",
              "      <td>0</td>\n",
              "      <td>4606</td>\n",
              "    </tr>\n",
              "    <tr>\n",
              "      <th>1</th>\n",
              "      <td>1</td>\n",
              "      <td>3471</td>\n",
              "    </tr>\n",
              "    <tr>\n",
              "      <th>2</th>\n",
              "      <td>2</td>\n",
              "      <td>3424</td>\n",
              "    </tr>\n",
              "    <tr>\n",
              "      <th>3</th>\n",
              "      <td>3</td>\n",
              "      <td>1837</td>\n",
              "    </tr>\n",
              "  </tbody>\n",
              "</table>\n",
              "</div>"
            ],
            "text/plain": [
              "   K  Acertos\n",
              "0  0     4606\n",
              "1  1     3471\n",
              "2  2     3424\n",
              "3  3     1837"
            ]
          },
          "metadata": {
            "tags": []
          },
          "execution_count": 51
        }
      ]
    },
    {
      "metadata": {
        "colab_type": "code",
        "id": "OJckpLNLxwbI",
        "outputId": "317a791f-74d5-4e54-ae49-24815f9c2128",
        "colab": {
          "base_uri": "https://localhost:8080/",
          "height": 35
        }
      },
      "cell_type": "code",
      "source": [
        "media = teste4['Acertos'].mean()\n",
        "\n",
        "media"
      ],
      "execution_count": 52,
      "outputs": [
        {
          "output_type": "execute_result",
          "data": {
            "text/plain": [
              "3334.5"
            ]
          },
          "metadata": {
            "tags": []
          },
          "execution_count": 52
        }
      ]
    },
    {
      "metadata": {
        "colab_type": "code",
        "id": "PpzdS4Q70kOo",
        "colab": {}
      },
      "cell_type": "code",
      "source": [
        "funcao_ativacao_list.append('sigmoid')\n",
        "rede.append('rede 1')\n",
        "taxa_aprendizagem.append(at)\n",
        "medias.append(media)"
      ],
      "execution_count": 0,
      "outputs": []
    },
    {
      "metadata": {
        "colab_type": "text",
        "id": "ahu89VjIxwbM"
      },
      "cell_type": "markdown",
      "source": [
        "#### Taxa de aprendizagem - 0.1"
      ]
    },
    {
      "metadata": {
        "colab_type": "code",
        "outputId": "f4b4862c-030e-4786-f9d1-ed7e5a3c6b88",
        "id": "yU4YLTihxwbN",
        "colab": {
          "base_uri": "https://localhost:8080/",
          "height": 164
        }
      },
      "cell_type": "code",
      "source": [
        "net = Network(tamanho)\n",
        "acertos_dict = {}\n",
        "kf = KFold(n_splits=n_k)\n",
        "at = 0.1\n",
        "\n",
        "for i, index in enumerate(kf.split(data)):\n",
        "  train_index = index[0]\n",
        "  test_index = index[1]\n",
        "  \n",
        "  k = \"K {}\".format(i)\n",
        "  \n",
        "  print(k)\n",
        "  training_data = data[train_index[0]:train_index[-1]+1]\n",
        "  testing_data = data[test_index[0]:test_index[-1]+1]\n",
        "  \n",
        "  result = net.SGD(training_data, epoch, 10, at,test_data=testing_data, tipo_fun='sigmoid')\n",
        "  acertos_dict[k] = result"
      ],
      "execution_count": 54,
      "outputs": [
        {
          "output_type": "stream",
          "text": [
            "K 0\n",
            "Total Input 17500 / Total predict 902\n",
            "K 1\n",
            "Total Input 17500 / Total predict 4794\n",
            "K 2\n",
            "Total Input 17500 / Total predict 5085\n",
            "K 3\n",
            "Total Input 17500 / Total predict 1898\n"
          ],
          "name": "stdout"
        }
      ]
    },
    {
      "metadata": {
        "colab_type": "code",
        "id": "_0cdQo57xwbX",
        "outputId": "cd1c6302-1ee1-44bf-da6e-9291a94ae439",
        "colab": {
          "base_uri": "https://localhost:8080/",
          "height": 175
        }
      },
      "cell_type": "code",
      "source": [
        "teste5 = pd.DataFrame({\n",
        "    'K': np.arange(kf.get_n_splits(data)),\n",
        "    'Acertos': list(acertos_dict.values())\n",
        "})\n",
        "\n",
        "teste5"
      ],
      "execution_count": 55,
      "outputs": [
        {
          "output_type": "execute_result",
          "data": {
            "text/html": [
              "<div>\n",
              "<style scoped>\n",
              "    .dataframe tbody tr th:only-of-type {\n",
              "        vertical-align: middle;\n",
              "    }\n",
              "\n",
              "    .dataframe tbody tr th {\n",
              "        vertical-align: top;\n",
              "    }\n",
              "\n",
              "    .dataframe thead th {\n",
              "        text-align: right;\n",
              "    }\n",
              "</style>\n",
              "<table border=\"1\" class=\"dataframe\">\n",
              "  <thead>\n",
              "    <tr style=\"text-align: right;\">\n",
              "      <th></th>\n",
              "      <th>K</th>\n",
              "      <th>Acertos</th>\n",
              "    </tr>\n",
              "  </thead>\n",
              "  <tbody>\n",
              "    <tr>\n",
              "      <th>0</th>\n",
              "      <td>0</td>\n",
              "      <td>902</td>\n",
              "    </tr>\n",
              "    <tr>\n",
              "      <th>1</th>\n",
              "      <td>1</td>\n",
              "      <td>4794</td>\n",
              "    </tr>\n",
              "    <tr>\n",
              "      <th>2</th>\n",
              "      <td>2</td>\n",
              "      <td>5085</td>\n",
              "    </tr>\n",
              "    <tr>\n",
              "      <th>3</th>\n",
              "      <td>3</td>\n",
              "      <td>1898</td>\n",
              "    </tr>\n",
              "  </tbody>\n",
              "</table>\n",
              "</div>"
            ],
            "text/plain": [
              "   K  Acertos\n",
              "0  0      902\n",
              "1  1     4794\n",
              "2  2     5085\n",
              "3  3     1898"
            ]
          },
          "metadata": {
            "tags": []
          },
          "execution_count": 55
        }
      ]
    },
    {
      "metadata": {
        "colab_type": "code",
        "id": "3x5ZCex8xwba",
        "outputId": "1d6d187f-4117-4c58-ff88-1640c333d4a5",
        "colab": {
          "base_uri": "https://localhost:8080/",
          "height": 35
        }
      },
      "cell_type": "code",
      "source": [
        "media = teste5['Acertos'].mean()\n",
        "\n",
        "media"
      ],
      "execution_count": 56,
      "outputs": [
        {
          "output_type": "execute_result",
          "data": {
            "text/plain": [
              "3169.75"
            ]
          },
          "metadata": {
            "tags": []
          },
          "execution_count": 56
        }
      ]
    },
    {
      "metadata": {
        "colab_type": "code",
        "id": "j-FwGHQC0nTm",
        "colab": {}
      },
      "cell_type": "code",
      "source": [
        "funcao_ativacao_list.append('sigmoid')\n",
        "rede.append('rede 1')\n",
        "taxa_aprendizagem.append(at)\n",
        "medias.append(media)"
      ],
      "execution_count": 0,
      "outputs": []
    },
    {
      "metadata": {
        "colab_type": "text",
        "id": "NZ5inJK8xwbd"
      },
      "cell_type": "markdown",
      "source": [
        "#### Taxa de aprendizagem - 0.001"
      ]
    },
    {
      "metadata": {
        "colab_type": "code",
        "outputId": "c16dee8b-bdd4-4e33-c8e9-7bee0e11b573",
        "id": "DRPzL7Yzxwbf",
        "colab": {
          "base_uri": "https://localhost:8080/",
          "height": 164
        }
      },
      "cell_type": "code",
      "source": [
        "net = Network(tamanho)\n",
        "acertos_dict = {}\n",
        "kf = KFold(n_splits=n_k)\n",
        "at = 0.001\n",
        "\n",
        "for i, index in enumerate(kf.split(data)):\n",
        "  train_index = index[0]\n",
        "  test_index = index[1]\n",
        "  \n",
        "  k = \"K {}\".format(i)\n",
        "  \n",
        "  print(k)\n",
        "  training_data = data[train_index[0]:train_index[-1]+1]\n",
        "  testing_data = data[test_index[0]:test_index[-1]+1]\n",
        "  \n",
        "  result = net.SGD(training_data, epoch, 10, at,test_data=testing_data, tipo_fun='sigmoid')\n",
        "  acertos_dict[k] = result"
      ],
      "execution_count": 58,
      "outputs": [
        {
          "output_type": "stream",
          "text": [
            "K 0\n",
            "Total Input 17500 / Total predict 1648\n",
            "K 1\n",
            "Total Input 17500 / Total predict 1727\n",
            "K 2\n",
            "Total Input 17500 / Total predict 1562\n",
            "K 3\n",
            "Total Input 17500 / Total predict 0\n"
          ],
          "name": "stdout"
        }
      ]
    },
    {
      "metadata": {
        "colab_type": "code",
        "id": "Lc-e7Oc5xwbj",
        "outputId": "861d79ea-4943-4dde-cae4-ecae76b95f21",
        "colab": {
          "base_uri": "https://localhost:8080/",
          "height": 175
        }
      },
      "cell_type": "code",
      "source": [
        "teste6 = pd.DataFrame({\n",
        "    'K': np.arange(kf.get_n_splits(data)),\n",
        "    'Acertos': list(acertos_dict.values())\n",
        "})\n",
        "\n",
        "teste6"
      ],
      "execution_count": 59,
      "outputs": [
        {
          "output_type": "execute_result",
          "data": {
            "text/html": [
              "<div>\n",
              "<style scoped>\n",
              "    .dataframe tbody tr th:only-of-type {\n",
              "        vertical-align: middle;\n",
              "    }\n",
              "\n",
              "    .dataframe tbody tr th {\n",
              "        vertical-align: top;\n",
              "    }\n",
              "\n",
              "    .dataframe thead th {\n",
              "        text-align: right;\n",
              "    }\n",
              "</style>\n",
              "<table border=\"1\" class=\"dataframe\">\n",
              "  <thead>\n",
              "    <tr style=\"text-align: right;\">\n",
              "      <th></th>\n",
              "      <th>K</th>\n",
              "      <th>Acertos</th>\n",
              "    </tr>\n",
              "  </thead>\n",
              "  <tbody>\n",
              "    <tr>\n",
              "      <th>0</th>\n",
              "      <td>0</td>\n",
              "      <td>1648</td>\n",
              "    </tr>\n",
              "    <tr>\n",
              "      <th>1</th>\n",
              "      <td>1</td>\n",
              "      <td>1727</td>\n",
              "    </tr>\n",
              "    <tr>\n",
              "      <th>2</th>\n",
              "      <td>2</td>\n",
              "      <td>1562</td>\n",
              "    </tr>\n",
              "    <tr>\n",
              "      <th>3</th>\n",
              "      <td>3</td>\n",
              "      <td>0</td>\n",
              "    </tr>\n",
              "  </tbody>\n",
              "</table>\n",
              "</div>"
            ],
            "text/plain": [
              "   K  Acertos\n",
              "0  0     1648\n",
              "1  1     1727\n",
              "2  2     1562\n",
              "3  3        0"
            ]
          },
          "metadata": {
            "tags": []
          },
          "execution_count": 59
        }
      ]
    },
    {
      "metadata": {
        "colab_type": "code",
        "id": "6IZTeu0Wxwbl",
        "outputId": "6ce9d348-a8ef-4aa0-bf1b-6d27b168f86a",
        "colab": {
          "base_uri": "https://localhost:8080/",
          "height": 35
        }
      },
      "cell_type": "code",
      "source": [
        "media = teste6['Acertos'].mean()\n",
        "\n",
        "media"
      ],
      "execution_count": 60,
      "outputs": [
        {
          "output_type": "execute_result",
          "data": {
            "text/plain": [
              "1234.25"
            ]
          },
          "metadata": {
            "tags": []
          },
          "execution_count": 60
        }
      ]
    },
    {
      "metadata": {
        "colab_type": "code",
        "id": "MMAxrYVy0r7c",
        "colab": {}
      },
      "cell_type": "code",
      "source": [
        "funcao_ativacao_list.append('sigmoid')\n",
        "rede.append('rede 1')\n",
        "taxa_aprendizagem.append(at)\n",
        "medias.append(media)"
      ],
      "execution_count": 0,
      "outputs": []
    },
    {
      "metadata": {
        "colab_type": "text",
        "id": "v5DQ3AOoyT9t"
      },
      "cell_type": "markdown",
      "source": [
        "## Rede 2 -> Configuração 784-50-10"
      ]
    },
    {
      "metadata": {
        "id": "PqoD_GniyZkX",
        "colab_type": "code",
        "colab": {}
      },
      "cell_type": "code",
      "source": [
        "tamanho = [784, 50, 10]"
      ],
      "execution_count": 0,
      "outputs": []
    },
    {
      "metadata": {
        "colab_type": "text",
        "id": "Y4xZ0WH8yT9u"
      },
      "cell_type": "markdown",
      "source": [
        "### Função ativação - Relu"
      ]
    },
    {
      "metadata": {
        "colab_type": "text",
        "id": "l9vY__KayT9u"
      },
      "cell_type": "markdown",
      "source": [
        "#### Taxa de aprendizagem - 0.5"
      ]
    },
    {
      "metadata": {
        "colab_type": "code",
        "id": "31GuRH1TyT9v",
        "outputId": "71949b40-9621-4feb-f498-f63310aac91c",
        "colab": {
          "base_uri": "https://localhost:8080/",
          "height": 237
        }
      },
      "cell_type": "code",
      "source": [
        "net = Network(tamanho)\n",
        "acertos_dict = {}\n",
        "kf = KFold(n_splits=n_k)\n",
        "at = 0.5\n",
        "\n",
        "for i, index in enumerate(kf.split(data)):\n",
        "  train_index = index[0]\n",
        "  test_index = index[1]\n",
        "  \n",
        "  k = \"K {}\".format(i)\n",
        "  \n",
        "  print(k)\n",
        "  training_data = data[train_index[0]:train_index[-1]+1]\n",
        "  testing_data = data[test_index[0]:test_index[-1]+1]\n",
        "  \n",
        "  result = net.SGD(training_data, epoch, 10, at,test_data=testing_data, tipo_fun='relu')\n",
        "  acertos_dict[k] = result"
      ],
      "execution_count": 63,
      "outputs": [
        {
          "output_type": "stream",
          "text": [
            "K 0\n"
          ],
          "name": "stdout"
        },
        {
          "output_type": "stream",
          "text": [
            "/usr/local/lib/python3.6/dist-packages/ipykernel_launcher.py:87: RuntimeWarning: overflow encountered in multiply\n",
            "/usr/local/lib/python3.6/dist-packages/ipykernel_launcher.py:95: RuntimeWarning: invalid value encountered in multiply\n",
            "/usr/local/lib/python3.6/dist-packages/ipykernel_launcher.py:14: RuntimeWarning: overflow encountered in multiply\n",
            "  \n"
          ],
          "name": "stderr"
        },
        {
          "output_type": "stream",
          "text": [
            "Total Input 17500 / Total predict 1829\n",
            "K 1\n",
            "Total Input 17500 / Total predict 1747\n",
            "K 2\n",
            "Total Input 17500 / Total predict 1525\n",
            "K 3\n",
            "Total Input 17500 / Total predict 0\n"
          ],
          "name": "stdout"
        }
      ]
    },
    {
      "metadata": {
        "colab_type": "code",
        "id": "yEnFgKXLyT9x",
        "outputId": "54ed1171-2959-43bc-ddff-ed9c5ae3ee0e",
        "colab": {
          "base_uri": "https://localhost:8080/",
          "height": 175
        }
      },
      "cell_type": "code",
      "source": [
        "teste7 = pd.DataFrame({\n",
        "    'K': np.arange(kf.get_n_splits(data)),\n",
        "    'Acertos': list(acertos_dict.values())\n",
        "})\n",
        "\n",
        "teste7"
      ],
      "execution_count": 64,
      "outputs": [
        {
          "output_type": "execute_result",
          "data": {
            "text/html": [
              "<div>\n",
              "<style scoped>\n",
              "    .dataframe tbody tr th:only-of-type {\n",
              "        vertical-align: middle;\n",
              "    }\n",
              "\n",
              "    .dataframe tbody tr th {\n",
              "        vertical-align: top;\n",
              "    }\n",
              "\n",
              "    .dataframe thead th {\n",
              "        text-align: right;\n",
              "    }\n",
              "</style>\n",
              "<table border=\"1\" class=\"dataframe\">\n",
              "  <thead>\n",
              "    <tr style=\"text-align: right;\">\n",
              "      <th></th>\n",
              "      <th>K</th>\n",
              "      <th>Acertos</th>\n",
              "    </tr>\n",
              "  </thead>\n",
              "  <tbody>\n",
              "    <tr>\n",
              "      <th>0</th>\n",
              "      <td>0</td>\n",
              "      <td>1829</td>\n",
              "    </tr>\n",
              "    <tr>\n",
              "      <th>1</th>\n",
              "      <td>1</td>\n",
              "      <td>1747</td>\n",
              "    </tr>\n",
              "    <tr>\n",
              "      <th>2</th>\n",
              "      <td>2</td>\n",
              "      <td>1525</td>\n",
              "    </tr>\n",
              "    <tr>\n",
              "      <th>3</th>\n",
              "      <td>3</td>\n",
              "      <td>0</td>\n",
              "    </tr>\n",
              "  </tbody>\n",
              "</table>\n",
              "</div>"
            ],
            "text/plain": [
              "   K  Acertos\n",
              "0  0     1829\n",
              "1  1     1747\n",
              "2  2     1525\n",
              "3  3        0"
            ]
          },
          "metadata": {
            "tags": []
          },
          "execution_count": 64
        }
      ]
    },
    {
      "metadata": {
        "colab_type": "code",
        "id": "im_Hxp1RyT9z",
        "outputId": "e99226f5-ec01-4047-c67d-bb62943eaa05",
        "colab": {
          "base_uri": "https://localhost:8080/",
          "height": 35
        }
      },
      "cell_type": "code",
      "source": [
        "media = teste7['Acertos'].mean()\n",
        "\n",
        "media"
      ],
      "execution_count": 65,
      "outputs": [
        {
          "output_type": "execute_result",
          "data": {
            "text/plain": [
              "1275.25"
            ]
          },
          "metadata": {
            "tags": []
          },
          "execution_count": 65
        }
      ]
    },
    {
      "metadata": {
        "colab_type": "code",
        "id": "xJjcjcWJ0yaE",
        "colab": {}
      },
      "cell_type": "code",
      "source": [
        "funcao_ativacao_list.append('relu')\n",
        "rede.append('rede 2')\n",
        "taxa_aprendizagem.append(at)\n",
        "medias.append(media)"
      ],
      "execution_count": 0,
      "outputs": []
    },
    {
      "metadata": {
        "colab_type": "text",
        "id": "wiAuaujHyT95"
      },
      "cell_type": "markdown",
      "source": [
        "#### Taxa de aprendizagem - 0.1"
      ]
    },
    {
      "metadata": {
        "colab_type": "code",
        "outputId": "22642fd1-7102-4abb-dae8-a34761dfaed7",
        "id": "sPFW9RXlyT96",
        "colab": {
          "base_uri": "https://localhost:8080/",
          "height": 256
        }
      },
      "cell_type": "code",
      "source": [
        "net = Network(tamanho)\n",
        "acertos_dict = {}\n",
        "kf = KFold(n_splits=n_k)\n",
        "at = 0.1\n",
        "\n",
        "for i, index in enumerate(kf.split(data)):\n",
        "  train_index = index[0]\n",
        "  test_index = index[1]\n",
        "  \n",
        "  k = \"K {}\".format(i)\n",
        "  \n",
        "  print(k)\n",
        "  training_data = data[train_index[0]:train_index[-1]+1]\n",
        "  testing_data = data[test_index[0]:test_index[-1]+1]\n",
        "  \n",
        "  result = net.SGD(training_data, epoch, 10, at,test_data=testing_data, tipo_fun='relu')\n",
        "  acertos_dict[k] = result"
      ],
      "execution_count": 67,
      "outputs": [
        {
          "output_type": "stream",
          "text": [
            "K 0\n"
          ],
          "name": "stdout"
        },
        {
          "output_type": "stream",
          "text": [
            "/usr/local/lib/python3.6/dist-packages/ipykernel_launcher.py:95: RuntimeWarning: overflow encountered in multiply\n",
            "/usr/local/lib/python3.6/dist-packages/ipykernel_launcher.py:14: RuntimeWarning: overflow encountered in multiply\n",
            "  \n",
            "/usr/local/lib/python3.6/dist-packages/ipykernel_launcher.py:87: RuntimeWarning: overflow encountered in multiply\n",
            "/usr/local/lib/python3.6/dist-packages/ipykernel_launcher.py:95: RuntimeWarning: invalid value encountered in multiply\n"
          ],
          "name": "stderr"
        },
        {
          "output_type": "stream",
          "text": [
            "Total Input 17500 / Total predict 1741\n",
            "K 1\n",
            "Total Input 17500 / Total predict 1693\n",
            "K 2\n",
            "Total Input 17500 / Total predict 3998\n",
            "K 3\n",
            "Total Input 17500 / Total predict 17500\n"
          ],
          "name": "stdout"
        }
      ]
    },
    {
      "metadata": {
        "colab_type": "code",
        "id": "InXPUWvSyT9-",
        "outputId": "18cf3889-d623-4817-b3e4-44f46a3060dc",
        "colab": {
          "base_uri": "https://localhost:8080/",
          "height": 175
        }
      },
      "cell_type": "code",
      "source": [
        "teste8 = pd.DataFrame({\n",
        "    'K': np.arange(kf.get_n_splits(data)),\n",
        "    'Acertos': list(acertos_dict.values())\n",
        "})\n",
        "\n",
        "teste8"
      ],
      "execution_count": 68,
      "outputs": [
        {
          "output_type": "execute_result",
          "data": {
            "text/html": [
              "<div>\n",
              "<style scoped>\n",
              "    .dataframe tbody tr th:only-of-type {\n",
              "        vertical-align: middle;\n",
              "    }\n",
              "\n",
              "    .dataframe tbody tr th {\n",
              "        vertical-align: top;\n",
              "    }\n",
              "\n",
              "    .dataframe thead th {\n",
              "        text-align: right;\n",
              "    }\n",
              "</style>\n",
              "<table border=\"1\" class=\"dataframe\">\n",
              "  <thead>\n",
              "    <tr style=\"text-align: right;\">\n",
              "      <th></th>\n",
              "      <th>K</th>\n",
              "      <th>Acertos</th>\n",
              "    </tr>\n",
              "  </thead>\n",
              "  <tbody>\n",
              "    <tr>\n",
              "      <th>0</th>\n",
              "      <td>0</td>\n",
              "      <td>1741</td>\n",
              "    </tr>\n",
              "    <tr>\n",
              "      <th>1</th>\n",
              "      <td>1</td>\n",
              "      <td>1693</td>\n",
              "    </tr>\n",
              "    <tr>\n",
              "      <th>2</th>\n",
              "      <td>2</td>\n",
              "      <td>3998</td>\n",
              "    </tr>\n",
              "    <tr>\n",
              "      <th>3</th>\n",
              "      <td>3</td>\n",
              "      <td>17500</td>\n",
              "    </tr>\n",
              "  </tbody>\n",
              "</table>\n",
              "</div>"
            ],
            "text/plain": [
              "   K  Acertos\n",
              "0  0     1741\n",
              "1  1     1693\n",
              "2  2     3998\n",
              "3  3    17500"
            ]
          },
          "metadata": {
            "tags": []
          },
          "execution_count": 68
        }
      ]
    },
    {
      "metadata": {
        "colab_type": "code",
        "id": "C-xbNT-wyT-D",
        "outputId": "8193e2c5-413e-4a6e-c357-29535a3e0262",
        "colab": {
          "base_uri": "https://localhost:8080/",
          "height": 35
        }
      },
      "cell_type": "code",
      "source": [
        "media = teste8['Acertos'].mean()\n",
        "\n",
        "media"
      ],
      "execution_count": 69,
      "outputs": [
        {
          "output_type": "execute_result",
          "data": {
            "text/plain": [
              "6233.0"
            ]
          },
          "metadata": {
            "tags": []
          },
          "execution_count": 69
        }
      ]
    },
    {
      "metadata": {
        "colab_type": "code",
        "id": "51ihpE0p03S1",
        "colab": {}
      },
      "cell_type": "code",
      "source": [
        "funcao_ativacao_list.append('relu')\n",
        "rede.append('rede 2')\n",
        "taxa_aprendizagem.append(at)\n",
        "medias.append(media)"
      ],
      "execution_count": 0,
      "outputs": []
    },
    {
      "metadata": {
        "colab_type": "text",
        "id": "c5TDC1NmyT-F"
      },
      "cell_type": "markdown",
      "source": [
        "#### Taxa de aprendizagem - 0.001"
      ]
    },
    {
      "metadata": {
        "colab_type": "code",
        "outputId": "e5d7ae0f-a659-40a3-a761-34a4c4c1950e",
        "id": "QfMfaz60yT-G",
        "colab": {
          "base_uri": "https://localhost:8080/",
          "height": 237
        }
      },
      "cell_type": "code",
      "source": [
        "net = Network(tamanho)\n",
        "acertos_dict = {}\n",
        "kf = KFold(n_splits=n_k)\n",
        "at = 0.001\n",
        "\n",
        "for i, index in enumerate(kf.split(data)):\n",
        "  train_index = index[0]\n",
        "  test_index = index[1]\n",
        "  \n",
        "  k = \"K {}\".format(i)\n",
        "  \n",
        "  print(k)\n",
        "  training_data = data[train_index[0]:train_index[-1]+1]\n",
        "  testing_data = data[test_index[0]:test_index[-1]+1]\n",
        "  \n",
        "  result = net.SGD(training_data, epoch, 10, at,test_data=testing_data, tipo_fun='relu')\n",
        "  acertos_dict[k] = result"
      ],
      "execution_count": 71,
      "outputs": [
        {
          "output_type": "stream",
          "text": [
            "K 0\n"
          ],
          "name": "stdout"
        },
        {
          "output_type": "stream",
          "text": [
            "/usr/local/lib/python3.6/dist-packages/ipykernel_launcher.py:14: RuntimeWarning: overflow encountered in multiply\n",
            "  \n",
            "/usr/local/lib/python3.6/dist-packages/ipykernel_launcher.py:87: RuntimeWarning: overflow encountered in multiply\n",
            "/usr/local/lib/python3.6/dist-packages/ipykernel_launcher.py:95: RuntimeWarning: invalid value encountered in multiply\n"
          ],
          "name": "stderr"
        },
        {
          "output_type": "stream",
          "text": [
            "Total Input 17500 / Total predict 1741\n",
            "K 1\n",
            "Total Input 17500 / Total predict 1693\n",
            "K 2\n",
            "Total Input 17500 / Total predict 3998\n",
            "K 3\n",
            "Total Input 17500 / Total predict 17500\n"
          ],
          "name": "stdout"
        }
      ]
    },
    {
      "metadata": {
        "colab_type": "code",
        "id": "AeYfJe6vyT-I",
        "outputId": "1ad0266b-b22b-4c78-b68c-199f4e233bd7",
        "colab": {
          "base_uri": "https://localhost:8080/",
          "height": 175
        }
      },
      "cell_type": "code",
      "source": [
        "teste9 = pd.DataFrame({\n",
        "    'K': np.arange(kf.get_n_splits(data)),\n",
        "    'Acertos': list(acertos_dict.values())\n",
        "})\n",
        "\n",
        "teste9"
      ],
      "execution_count": 72,
      "outputs": [
        {
          "output_type": "execute_result",
          "data": {
            "text/html": [
              "<div>\n",
              "<style scoped>\n",
              "    .dataframe tbody tr th:only-of-type {\n",
              "        vertical-align: middle;\n",
              "    }\n",
              "\n",
              "    .dataframe tbody tr th {\n",
              "        vertical-align: top;\n",
              "    }\n",
              "\n",
              "    .dataframe thead th {\n",
              "        text-align: right;\n",
              "    }\n",
              "</style>\n",
              "<table border=\"1\" class=\"dataframe\">\n",
              "  <thead>\n",
              "    <tr style=\"text-align: right;\">\n",
              "      <th></th>\n",
              "      <th>K</th>\n",
              "      <th>Acertos</th>\n",
              "    </tr>\n",
              "  </thead>\n",
              "  <tbody>\n",
              "    <tr>\n",
              "      <th>0</th>\n",
              "      <td>0</td>\n",
              "      <td>1741</td>\n",
              "    </tr>\n",
              "    <tr>\n",
              "      <th>1</th>\n",
              "      <td>1</td>\n",
              "      <td>1693</td>\n",
              "    </tr>\n",
              "    <tr>\n",
              "      <th>2</th>\n",
              "      <td>2</td>\n",
              "      <td>3998</td>\n",
              "    </tr>\n",
              "    <tr>\n",
              "      <th>3</th>\n",
              "      <td>3</td>\n",
              "      <td>17500</td>\n",
              "    </tr>\n",
              "  </tbody>\n",
              "</table>\n",
              "</div>"
            ],
            "text/plain": [
              "   K  Acertos\n",
              "0  0     1741\n",
              "1  1     1693\n",
              "2  2     3998\n",
              "3  3    17500"
            ]
          },
          "metadata": {
            "tags": []
          },
          "execution_count": 72
        }
      ]
    },
    {
      "metadata": {
        "colab_type": "code",
        "id": "UxLeSYB3yT-L",
        "outputId": "bff4676a-1d5e-4cb1-ab46-630e3dc29332",
        "colab": {
          "base_uri": "https://localhost:8080/",
          "height": 35
        }
      },
      "cell_type": "code",
      "source": [
        "media = teste9['Acertos'].mean()\n",
        "\n",
        "media"
      ],
      "execution_count": 73,
      "outputs": [
        {
          "output_type": "execute_result",
          "data": {
            "text/plain": [
              "6233.0"
            ]
          },
          "metadata": {
            "tags": []
          },
          "execution_count": 73
        }
      ]
    },
    {
      "metadata": {
        "colab_type": "code",
        "id": "8EHMwW_j08f5",
        "colab": {}
      },
      "cell_type": "code",
      "source": [
        "funcao_ativacao_list.append('relu')\n",
        "rede.append('rede 2')\n",
        "taxa_aprendizagem.append(at)\n",
        "medias.append(media)"
      ],
      "execution_count": 0,
      "outputs": []
    },
    {
      "metadata": {
        "colab_type": "text",
        "id": "G36F1UbFyT-N"
      },
      "cell_type": "markdown",
      "source": [
        "### Função ativação - Sigmoid"
      ]
    },
    {
      "metadata": {
        "colab_type": "text",
        "id": "tNQRqou0yT-O"
      },
      "cell_type": "markdown",
      "source": [
        "#### Taxa de aprendizagem - 0.5"
      ]
    },
    {
      "metadata": {
        "colab_type": "code",
        "id": "RP4yCZmqyT-O",
        "outputId": "c130dc29-357c-408d-ec6a-0f4433bf1d57",
        "colab": {
          "base_uri": "https://localhost:8080/",
          "height": 164
        }
      },
      "cell_type": "code",
      "source": [
        "net = Network(tamanho)\n",
        "acertos_dict = {}\n",
        "kf = KFold(n_splits=n_k)\n",
        "at = 0.5\n",
        "\n",
        "for i, index in enumerate(kf.split(data)):\n",
        "  train_index = index[0]\n",
        "  test_index = index[1]\n",
        "  \n",
        "  k = \"K {}\".format(i)\n",
        "  \n",
        "  print(k)\n",
        "  training_data = data[train_index[0]:train_index[-1]+1]\n",
        "  testing_data = data[test_index[0]:test_index[-1]+1]\n",
        "  \n",
        "  result = net.SGD(training_data, epoch, 10, at,test_data=testing_data, tipo_fun='sigmoid')\n",
        "  acertos_dict[k] = result"
      ],
      "execution_count": 75,
      "outputs": [
        {
          "output_type": "stream",
          "text": [
            "K 0\n",
            "Total Input 17500 / Total predict 2428\n",
            "K 1\n",
            "Total Input 17500 / Total predict 1636\n",
            "K 2\n",
            "Total Input 17500 / Total predict 1561\n",
            "K 3\n",
            "Total Input 17500 / Total predict 2\n"
          ],
          "name": "stdout"
        }
      ]
    },
    {
      "metadata": {
        "colab_type": "code",
        "id": "M6tpUySPyT-R",
        "outputId": "e0526c15-d598-48dc-bde6-4484cad40e7e",
        "colab": {
          "base_uri": "https://localhost:8080/",
          "height": 175
        }
      },
      "cell_type": "code",
      "source": [
        "teste10 = pd.DataFrame({\n",
        "    'K': np.arange(kf.get_n_splits(data)),\n",
        "    'Acertos': list(acertos_dict.values())\n",
        "})\n",
        "\n",
        "teste10"
      ],
      "execution_count": 76,
      "outputs": [
        {
          "output_type": "execute_result",
          "data": {
            "text/html": [
              "<div>\n",
              "<style scoped>\n",
              "    .dataframe tbody tr th:only-of-type {\n",
              "        vertical-align: middle;\n",
              "    }\n",
              "\n",
              "    .dataframe tbody tr th {\n",
              "        vertical-align: top;\n",
              "    }\n",
              "\n",
              "    .dataframe thead th {\n",
              "        text-align: right;\n",
              "    }\n",
              "</style>\n",
              "<table border=\"1\" class=\"dataframe\">\n",
              "  <thead>\n",
              "    <tr style=\"text-align: right;\">\n",
              "      <th></th>\n",
              "      <th>K</th>\n",
              "      <th>Acertos</th>\n",
              "    </tr>\n",
              "  </thead>\n",
              "  <tbody>\n",
              "    <tr>\n",
              "      <th>0</th>\n",
              "      <td>0</td>\n",
              "      <td>2428</td>\n",
              "    </tr>\n",
              "    <tr>\n",
              "      <th>1</th>\n",
              "      <td>1</td>\n",
              "      <td>1636</td>\n",
              "    </tr>\n",
              "    <tr>\n",
              "      <th>2</th>\n",
              "      <td>2</td>\n",
              "      <td>1561</td>\n",
              "    </tr>\n",
              "    <tr>\n",
              "      <th>3</th>\n",
              "      <td>3</td>\n",
              "      <td>2</td>\n",
              "    </tr>\n",
              "  </tbody>\n",
              "</table>\n",
              "</div>"
            ],
            "text/plain": [
              "   K  Acertos\n",
              "0  0     2428\n",
              "1  1     1636\n",
              "2  2     1561\n",
              "3  3        2"
            ]
          },
          "metadata": {
            "tags": []
          },
          "execution_count": 76
        }
      ]
    },
    {
      "metadata": {
        "colab_type": "code",
        "id": "VT6sLQWIyT-S",
        "outputId": "acc68107-397e-4532-dfc1-e78b45bd039d",
        "colab": {
          "base_uri": "https://localhost:8080/",
          "height": 35
        }
      },
      "cell_type": "code",
      "source": [
        "media = teste10['Acertos'].mean()\n",
        "\n",
        "media"
      ],
      "execution_count": 77,
      "outputs": [
        {
          "output_type": "execute_result",
          "data": {
            "text/plain": [
              "1406.75"
            ]
          },
          "metadata": {
            "tags": []
          },
          "execution_count": 77
        }
      ]
    },
    {
      "metadata": {
        "colab_type": "code",
        "id": "dtS9PjiA0_lh",
        "colab": {}
      },
      "cell_type": "code",
      "source": [
        "funcao_ativacao_list.append('sigmoid')\n",
        "rede.append('rede 2')\n",
        "taxa_aprendizagem.append(at)\n",
        "medias.append(media)"
      ],
      "execution_count": 0,
      "outputs": []
    },
    {
      "metadata": {
        "colab_type": "text",
        "id": "9VfRf1KPyT-U"
      },
      "cell_type": "markdown",
      "source": [
        "#### Taxa de aprendizagem - 0.1"
      ]
    },
    {
      "metadata": {
        "colab_type": "code",
        "id": "w0vHk4OlyT-U",
        "outputId": "4ef65234-7b0b-4228-e882-dab551a8e6aa",
        "colab": {
          "base_uri": "https://localhost:8080/",
          "height": 164
        }
      },
      "cell_type": "code",
      "source": [
        "net = Network(tamanho)\n",
        "acertos_dict = {}\n",
        "kf = KFold(n_splits=n_k)\n",
        "at = 0.1\n",
        "\n",
        "for i, index in enumerate(kf.split(data)):\n",
        "  train_index = index[0]\n",
        "  test_index = index[1]\n",
        "  \n",
        "  k = \"K {}\".format(i)\n",
        "  \n",
        "  print(k)\n",
        "  training_data = data[train_index[0]:train_index[-1]+1]\n",
        "  testing_data = data[test_index[0]:test_index[-1]+1]\n",
        "  \n",
        "  result = net.SGD(training_data, epoch, 10, at,test_data=testing_data, tipo_fun='sigmoid')\n",
        "  acertos_dict[k] = result"
      ],
      "execution_count": 79,
      "outputs": [
        {
          "output_type": "stream",
          "text": [
            "K 0\n",
            "Total Input 17500 / Total predict 2225\n",
            "K 1\n",
            "Total Input 17500 / Total predict 1998\n",
            "K 2\n",
            "Total Input 17500 / Total predict 1384\n",
            "K 3\n",
            "Total Input 17500 / Total predict 0\n"
          ],
          "name": "stdout"
        }
      ]
    },
    {
      "metadata": {
        "colab_type": "code",
        "id": "nN-XHAzFyT-W",
        "outputId": "94e68dc0-4257-42af-cc7e-d1e1a713a085",
        "colab": {
          "base_uri": "https://localhost:8080/",
          "height": 175
        }
      },
      "cell_type": "code",
      "source": [
        "teste11 = pd.DataFrame({\n",
        "    'K': np.arange(kf.get_n_splits(data)),\n",
        "    'Acertos': list(acertos_dict.values())\n",
        "})\n",
        "\n",
        "teste11"
      ],
      "execution_count": 80,
      "outputs": [
        {
          "output_type": "execute_result",
          "data": {
            "text/html": [
              "<div>\n",
              "<style scoped>\n",
              "    .dataframe tbody tr th:only-of-type {\n",
              "        vertical-align: middle;\n",
              "    }\n",
              "\n",
              "    .dataframe tbody tr th {\n",
              "        vertical-align: top;\n",
              "    }\n",
              "\n",
              "    .dataframe thead th {\n",
              "        text-align: right;\n",
              "    }\n",
              "</style>\n",
              "<table border=\"1\" class=\"dataframe\">\n",
              "  <thead>\n",
              "    <tr style=\"text-align: right;\">\n",
              "      <th></th>\n",
              "      <th>K</th>\n",
              "      <th>Acertos</th>\n",
              "    </tr>\n",
              "  </thead>\n",
              "  <tbody>\n",
              "    <tr>\n",
              "      <th>0</th>\n",
              "      <td>0</td>\n",
              "      <td>2225</td>\n",
              "    </tr>\n",
              "    <tr>\n",
              "      <th>1</th>\n",
              "      <td>1</td>\n",
              "      <td>1998</td>\n",
              "    </tr>\n",
              "    <tr>\n",
              "      <th>2</th>\n",
              "      <td>2</td>\n",
              "      <td>1384</td>\n",
              "    </tr>\n",
              "    <tr>\n",
              "      <th>3</th>\n",
              "      <td>3</td>\n",
              "      <td>0</td>\n",
              "    </tr>\n",
              "  </tbody>\n",
              "</table>\n",
              "</div>"
            ],
            "text/plain": [
              "   K  Acertos\n",
              "0  0     2225\n",
              "1  1     1998\n",
              "2  2     1384\n",
              "3  3        0"
            ]
          },
          "metadata": {
            "tags": []
          },
          "execution_count": 80
        }
      ]
    },
    {
      "metadata": {
        "colab_type": "code",
        "id": "Yu-NqU1oyT-Y",
        "outputId": "75199551-3b00-4940-e658-8b61a1828733",
        "colab": {
          "base_uri": "https://localhost:8080/",
          "height": 35
        }
      },
      "cell_type": "code",
      "source": [
        "media = teste11['Acertos'].mean()\n",
        "\n",
        "media"
      ],
      "execution_count": 81,
      "outputs": [
        {
          "output_type": "execute_result",
          "data": {
            "text/plain": [
              "1401.75"
            ]
          },
          "metadata": {
            "tags": []
          },
          "execution_count": 81
        }
      ]
    },
    {
      "metadata": {
        "colab_type": "code",
        "id": "Dl9WHODO1Ftr",
        "colab": {}
      },
      "cell_type": "code",
      "source": [
        "funcao_ativacao_list.append('sigmoid')\n",
        "rede.append('rede 2')\n",
        "taxa_aprendizagem.append(at)\n",
        "medias.append(media)"
      ],
      "execution_count": 0,
      "outputs": []
    },
    {
      "metadata": {
        "colab_type": "text",
        "id": "D2fNRSEZyT-b"
      },
      "cell_type": "markdown",
      "source": [
        "#### Taxa de aprendizagem - 0.001"
      ]
    },
    {
      "metadata": {
        "colab_type": "code",
        "id": "6pzdNSgJyT-b",
        "outputId": "6dd85dcf-88a3-4270-a1ec-cb1ffb708b6b",
        "colab": {
          "base_uri": "https://localhost:8080/",
          "height": 164
        }
      },
      "cell_type": "code",
      "source": [
        "net = Network(tamanho)\n",
        "acertos_dict = {}\n",
        "kf = KFold(n_splits=n_k)\n",
        "at = 0.001\n",
        "\n",
        "for i, index in enumerate(kf.split(data)):\n",
        "  train_index = index[0]\n",
        "  test_index = index[1]\n",
        "  \n",
        "  k = \"K {}\".format(i)\n",
        "  \n",
        "  print(k)\n",
        "  training_data = data[train_index[0]:train_index[-1]+1]\n",
        "  testing_data = data[test_index[0]:test_index[-1]+1]\n",
        "  \n",
        "  result = net.SGD(training_data, epoch, 10, at,test_data=testing_data, tipo_fun='sigmoid')\n",
        "  acertos_dict[k] = result"
      ],
      "execution_count": 12,
      "outputs": [
        {
          "output_type": "stream",
          "text": [
            "K 0\n",
            "Total Input 17500 / Total predict 1373\n",
            "K 1\n",
            "Total Input 17500 / Total predict 1473\n",
            "K 2\n",
            "Total Input 17500 / Total predict 1858\n",
            "K 3\n",
            "Total Input 17500 / Total predict 4013\n"
          ],
          "name": "stdout"
        }
      ]
    },
    {
      "metadata": {
        "colab_type": "code",
        "id": "cyWoC-4OyT-d",
        "outputId": "2e9f63eb-74ab-40d4-c614-6fd33a941f75",
        "colab": {
          "base_uri": "https://localhost:8080/",
          "height": 175
        }
      },
      "cell_type": "code",
      "source": [
        "teste12 = pd.DataFrame({\n",
        "    'K': np.arange(kf.get_n_splits(data)),\n",
        "    'Acertos': list(acertos_dict.values())\n",
        "})\n",
        "\n",
        "teste12"
      ],
      "execution_count": 13,
      "outputs": [
        {
          "output_type": "execute_result",
          "data": {
            "text/html": [
              "<div>\n",
              "<style scoped>\n",
              "    .dataframe tbody tr th:only-of-type {\n",
              "        vertical-align: middle;\n",
              "    }\n",
              "\n",
              "    .dataframe tbody tr th {\n",
              "        vertical-align: top;\n",
              "    }\n",
              "\n",
              "    .dataframe thead th {\n",
              "        text-align: right;\n",
              "    }\n",
              "</style>\n",
              "<table border=\"1\" class=\"dataframe\">\n",
              "  <thead>\n",
              "    <tr style=\"text-align: right;\">\n",
              "      <th></th>\n",
              "      <th>K</th>\n",
              "      <th>Acertos</th>\n",
              "    </tr>\n",
              "  </thead>\n",
              "  <tbody>\n",
              "    <tr>\n",
              "      <th>0</th>\n",
              "      <td>0</td>\n",
              "      <td>1373</td>\n",
              "    </tr>\n",
              "    <tr>\n",
              "      <th>1</th>\n",
              "      <td>1</td>\n",
              "      <td>1473</td>\n",
              "    </tr>\n",
              "    <tr>\n",
              "      <th>2</th>\n",
              "      <td>2</td>\n",
              "      <td>1858</td>\n",
              "    </tr>\n",
              "    <tr>\n",
              "      <th>3</th>\n",
              "      <td>3</td>\n",
              "      <td>4013</td>\n",
              "    </tr>\n",
              "  </tbody>\n",
              "</table>\n",
              "</div>"
            ],
            "text/plain": [
              "   K  Acertos\n",
              "0  0     1373\n",
              "1  1     1473\n",
              "2  2     1858\n",
              "3  3     4013"
            ]
          },
          "metadata": {
            "tags": []
          },
          "execution_count": 13
        }
      ]
    },
    {
      "metadata": {
        "colab_type": "code",
        "id": "fvFfFFUxyT-f",
        "outputId": "8c2009d2-572a-4a5b-af94-a46b8d1c5ecf",
        "colab": {
          "base_uri": "https://localhost:8080/",
          "height": 35
        }
      },
      "cell_type": "code",
      "source": [
        "media = teste12['Acertos'].mean()\n",
        "\n",
        "media"
      ],
      "execution_count": 14,
      "outputs": [
        {
          "output_type": "execute_result",
          "data": {
            "text/plain": [
              "2179.25"
            ]
          },
          "metadata": {
            "tags": []
          },
          "execution_count": 14
        }
      ]
    },
    {
      "metadata": {
        "colab_type": "code",
        "id": "saIeydI11IMk",
        "colab": {}
      },
      "cell_type": "code",
      "source": [
        "funcao_ativacao_list.append('sigmoid')\n",
        "rede.append('rede 2')\n",
        "taxa_aprendizagem.append(at)\n",
        "medias.append(media)"
      ],
      "execution_count": 0,
      "outputs": []
    },
    {
      "metadata": {
        "colab_type": "text",
        "id": "y1bgXfBQ2LpX"
      },
      "cell_type": "markdown",
      "source": [
        "## Rede 3 -> Configuração 784-15-10"
      ]
    },
    {
      "metadata": {
        "colab_type": "code",
        "id": "nOGKyb3j2LpZ",
        "colab": {}
      },
      "cell_type": "code",
      "source": [
        "tamanho = [784, 15, 10]"
      ],
      "execution_count": 0,
      "outputs": []
    },
    {
      "metadata": {
        "colab_type": "text",
        "id": "Ug82ZoM12Lpb"
      },
      "cell_type": "markdown",
      "source": [
        "### Função ativação - Relu"
      ]
    },
    {
      "metadata": {
        "colab_type": "text",
        "id": "4Slyqt2f2Lpc"
      },
      "cell_type": "markdown",
      "source": [
        "#### Taxa de aprendizagem - 0.5"
      ]
    },
    {
      "metadata": {
        "colab_type": "code",
        "id": "Y9Cj8B7f2Lpd",
        "outputId": "06ef0a93-1323-448f-f609-f54419c2c5f4",
        "colab": {
          "base_uri": "https://localhost:8080/",
          "height": 201
        }
      },
      "cell_type": "code",
      "source": [
        "net = Network(tamanho)\n",
        "acertos_dict = {}\n",
        "kf = KFold(n_splits=n_k)\n",
        "at = 0.5\n",
        "\n",
        "for i, index in enumerate(kf.split(data)):\n",
        "  train_index = index[0]\n",
        "  test_index = index[1]\n",
        "  \n",
        "  k = \"K {}\".format(i)\n",
        "  \n",
        "  print(k)\n",
        "  training_data = data[train_index[0]:train_index[-1]+1]\n",
        "  testing_data = data[test_index[0]:test_index[-1]+1]\n",
        "  \n",
        "  result = net.SGD(training_data, epoch, 10, at,test_data=testing_data, tipo_fun='relu')\n",
        "  acertos_dict[k] = result"
      ],
      "execution_count": 17,
      "outputs": [
        {
          "output_type": "stream",
          "text": [
            "K 0\n"
          ],
          "name": "stdout"
        },
        {
          "output_type": "stream",
          "text": [
            "/usr/local/lib/python3.6/dist-packages/ipykernel_launcher.py:87: RuntimeWarning: overflow encountered in multiply\n",
            "/usr/local/lib/python3.6/dist-packages/ipykernel_launcher.py:95: RuntimeWarning: invalid value encountered in multiply\n"
          ],
          "name": "stderr"
        },
        {
          "output_type": "stream",
          "text": [
            "Total Input 17500 / Total predict 1741\n",
            "K 1\n",
            "Total Input 17500 / Total predict 1693\n",
            "K 2\n",
            "Total Input 17500 / Total predict 3998\n",
            "K 3\n",
            "Total Input 17500 / Total predict 17500\n"
          ],
          "name": "stdout"
        }
      ]
    },
    {
      "metadata": {
        "colab_type": "code",
        "id": "HIz8KALg2Lpg",
        "outputId": "08e5f40c-4b14-4812-beb6-9c0a6287f841",
        "colab": {
          "base_uri": "https://localhost:8080/",
          "height": 175
        }
      },
      "cell_type": "code",
      "source": [
        "teste7 = pd.DataFrame({\n",
        "    'K': np.arange(kf.get_n_splits(data)),\n",
        "    'Acertos': list(acertos_dict.values())\n",
        "})\n",
        "\n",
        "teste7"
      ],
      "execution_count": 18,
      "outputs": [
        {
          "output_type": "execute_result",
          "data": {
            "text/html": [
              "<div>\n",
              "<style scoped>\n",
              "    .dataframe tbody tr th:only-of-type {\n",
              "        vertical-align: middle;\n",
              "    }\n",
              "\n",
              "    .dataframe tbody tr th {\n",
              "        vertical-align: top;\n",
              "    }\n",
              "\n",
              "    .dataframe thead th {\n",
              "        text-align: right;\n",
              "    }\n",
              "</style>\n",
              "<table border=\"1\" class=\"dataframe\">\n",
              "  <thead>\n",
              "    <tr style=\"text-align: right;\">\n",
              "      <th></th>\n",
              "      <th>K</th>\n",
              "      <th>Acertos</th>\n",
              "    </tr>\n",
              "  </thead>\n",
              "  <tbody>\n",
              "    <tr>\n",
              "      <th>0</th>\n",
              "      <td>0</td>\n",
              "      <td>1741</td>\n",
              "    </tr>\n",
              "    <tr>\n",
              "      <th>1</th>\n",
              "      <td>1</td>\n",
              "      <td>1693</td>\n",
              "    </tr>\n",
              "    <tr>\n",
              "      <th>2</th>\n",
              "      <td>2</td>\n",
              "      <td>3998</td>\n",
              "    </tr>\n",
              "    <tr>\n",
              "      <th>3</th>\n",
              "      <td>3</td>\n",
              "      <td>17500</td>\n",
              "    </tr>\n",
              "  </tbody>\n",
              "</table>\n",
              "</div>"
            ],
            "text/plain": [
              "   K  Acertos\n",
              "0  0     1741\n",
              "1  1     1693\n",
              "2  2     3998\n",
              "3  3    17500"
            ]
          },
          "metadata": {
            "tags": []
          },
          "execution_count": 18
        }
      ]
    },
    {
      "metadata": {
        "colab_type": "code",
        "id": "r1Miun482Lpp",
        "outputId": "8c4ddde5-04d0-410f-e9ad-75add7cfa752",
        "colab": {
          "base_uri": "https://localhost:8080/",
          "height": 35
        }
      },
      "cell_type": "code",
      "source": [
        "media = teste7['Acertos'].mean()\n",
        "\n",
        "media"
      ],
      "execution_count": 19,
      "outputs": [
        {
          "output_type": "execute_result",
          "data": {
            "text/plain": [
              "6233.0"
            ]
          },
          "metadata": {
            "tags": []
          },
          "execution_count": 19
        }
      ]
    },
    {
      "metadata": {
        "colab_type": "code",
        "id": "1f73pNrZ2Lps",
        "colab": {}
      },
      "cell_type": "code",
      "source": [
        "funcao_ativacao_list.append('relu')\n",
        "rede.append('rede 3')\n",
        "taxa_aprendizagem.append(at)\n",
        "medias.append(media)"
      ],
      "execution_count": 0,
      "outputs": []
    },
    {
      "metadata": {
        "colab_type": "text",
        "id": "Ff06cw9e2Lpv"
      },
      "cell_type": "markdown",
      "source": [
        "#### Taxa de aprendizagem - 0.1"
      ]
    },
    {
      "metadata": {
        "colab_type": "code",
        "outputId": "84d3cb51-b5e8-4f5c-f875-82b1fbc9344f",
        "id": "L2Mj3Hk32Lpx",
        "colab": {
          "base_uri": "https://localhost:8080/",
          "height": 109
        }
      },
      "cell_type": "code",
      "source": [
        "net = Network(tamanho)\n",
        "acertos_dict = {}\n",
        "kf = KFold(n_splits=n_k)\n",
        "at = 0.1\n",
        "\n",
        "for i, index in enumerate(kf.split(data)):\n",
        "  train_index = index[0]\n",
        "  test_index = index[1]\n",
        "  \n",
        "  k = \"K {}\".format(i)\n",
        "  \n",
        "  print(k)\n",
        "  training_data = data[train_index[0]:train_index[-1]+1]\n",
        "  testing_data = data[test_index[0]:test_index[-1]+1]\n",
        "  \n",
        "  result = net.SGD(training_data, epoch, 10, at,test_data=testing_data, tipo_fun='relu')\n",
        "  acertos_dict[k] = result"
      ],
      "execution_count": 0,
      "outputs": [
        {
          "output_type": "stream",
          "text": [
            "K 0\n"
          ],
          "name": "stdout"
        },
        {
          "output_type": "stream",
          "text": [
            "/usr/local/lib/python3.6/dist-packages/ipykernel_launcher.py:87: RuntimeWarning: overflow encountered in multiply\n",
            "/usr/local/lib/python3.6/dist-packages/ipykernel_launcher.py:95: RuntimeWarning: invalid value encountered in multiply\n",
            "/usr/local/lib/python3.6/dist-packages/ipykernel_launcher.py:14: RuntimeWarning: overflow encountered in multiply\n",
            "  \n"
          ],
          "name": "stderr"
        }
      ]
    },
    {
      "metadata": {
        "colab_type": "code",
        "id": "dWBPIofo2Lp5",
        "colab": {}
      },
      "cell_type": "code",
      "source": [
        "teste8 = pd.DataFrame({\n",
        "    'K': np.arange(kf.get_n_splits(data)),\n",
        "    'Acertos': list(acertos_dict.values())\n",
        "})\n",
        "\n",
        "teste8"
      ],
      "execution_count": 0,
      "outputs": []
    },
    {
      "metadata": {
        "colab_type": "code",
        "id": "Npf2dPqB2Lp9",
        "colab": {}
      },
      "cell_type": "code",
      "source": [
        "media = teste8['Acertos'].mean()\n",
        "\n",
        "media"
      ],
      "execution_count": 0,
      "outputs": []
    },
    {
      "metadata": {
        "colab_type": "code",
        "id": "cIXb4KAs2Lp-",
        "colab": {}
      },
      "cell_type": "code",
      "source": [
        "funcao_ativacao_list.append('relu')\n",
        "rede.append('rede 3')\n",
        "taxa_aprendizagem.append(at)\n",
        "medias.append(media)"
      ],
      "execution_count": 0,
      "outputs": []
    },
    {
      "metadata": {
        "colab_type": "text",
        "id": "uP4xv9wX2LqA"
      },
      "cell_type": "markdown",
      "source": [
        "#### Taxa de aprendizagem - 0.001"
      ]
    },
    {
      "metadata": {
        "colab_type": "code",
        "id": "FAi1dFMZ2LqA",
        "colab": {}
      },
      "cell_type": "code",
      "source": [
        "net = Network(tamanho)\n",
        "acertos_dict = {}\n",
        "kf = KFold(n_splits=n_k)\n",
        "at = 0.001\n",
        "\n",
        "for i, index in enumerate(kf.split(data)):\n",
        "  train_index = index[0]\n",
        "  test_index = index[1]\n",
        "  \n",
        "  k = \"K {}\".format(i)\n",
        "  \n",
        "  print(k)\n",
        "  training_data = data[train_index[0]:train_index[-1]+1]\n",
        "  testing_data = data[test_index[0]:test_index[-1]+1]\n",
        "  \n",
        "  result = net.SGD(training_data, epoch, 10, at,test_data=testing_data, tipo_fun='relu')\n",
        "  acertos_dict[k] = result"
      ],
      "execution_count": 0,
      "outputs": []
    },
    {
      "metadata": {
        "colab_type": "code",
        "id": "d_nyWcgI2LqE",
        "colab": {}
      },
      "cell_type": "code",
      "source": [
        "teste9 = pd.DataFrame({\n",
        "    'K': np.arange(kf.get_n_splits(data)),\n",
        "    'Acertos': list(acertos_dict.values())\n",
        "})\n",
        "\n",
        "teste9"
      ],
      "execution_count": 0,
      "outputs": []
    },
    {
      "metadata": {
        "colab_type": "code",
        "id": "dAqB4OvK2LqG",
        "colab": {}
      },
      "cell_type": "code",
      "source": [
        "media = teste9['Acertos'].mean()\n",
        "\n",
        "media"
      ],
      "execution_count": 0,
      "outputs": []
    },
    {
      "metadata": {
        "colab_type": "code",
        "id": "DzN4BHga2LqI",
        "colab": {}
      },
      "cell_type": "code",
      "source": [
        "funcao_ativacao_list.append('relu')\n",
        "rede.append('rede 3')\n",
        "taxa_aprendizagem.append(at)\n",
        "medias.append(media)"
      ],
      "execution_count": 0,
      "outputs": []
    },
    {
      "metadata": {
        "colab_type": "text",
        "id": "bJGBLNjU2LqJ"
      },
      "cell_type": "markdown",
      "source": [
        "### Função ativação - Sigmoid"
      ]
    },
    {
      "metadata": {
        "colab_type": "text",
        "id": "G9jUFut-2LqK"
      },
      "cell_type": "markdown",
      "source": [
        "#### Taxa de aprendizagem - 0.5"
      ]
    },
    {
      "metadata": {
        "colab_type": "code",
        "id": "Wx7MxCmq2LqL",
        "colab": {}
      },
      "cell_type": "code",
      "source": [
        "net = Network(tamanho)\n",
        "acertos_dict = {}\n",
        "kf = KFold(n_splits=n_k)\n",
        "at = 0.5\n",
        "\n",
        "for i, index in enumerate(kf.split(data)):\n",
        "  train_index = index[0]\n",
        "  test_index = index[1]\n",
        "  \n",
        "  k = \"K {}\".format(i)\n",
        "  \n",
        "  print(k)\n",
        "  training_data = data[train_index[0]:train_index[-1]+1]\n",
        "  testing_data = data[test_index[0]:test_index[-1]+1]\n",
        "  \n",
        "  result = net.SGD(training_data, epoch, 10, at,test_data=testing_data, tipo_fun='sigmoid')\n",
        "  acertos_dict[k] = result"
      ],
      "execution_count": 0,
      "outputs": []
    },
    {
      "metadata": {
        "colab_type": "code",
        "id": "19UR8KgS2LqN",
        "colab": {}
      },
      "cell_type": "code",
      "source": [
        "teste10 = pd.DataFrame({\n",
        "    'K': np.arange(kf.get_n_splits(data)),\n",
        "    'Acertos': list(acertos_dict.values())\n",
        "})\n",
        "\n",
        "teste10"
      ],
      "execution_count": 0,
      "outputs": []
    },
    {
      "metadata": {
        "colab_type": "code",
        "id": "1hKkbpQI2LqR",
        "colab": {}
      },
      "cell_type": "code",
      "source": [
        "media = teste10['Acertos'].mean()\n",
        "\n",
        "media"
      ],
      "execution_count": 0,
      "outputs": []
    },
    {
      "metadata": {
        "colab_type": "code",
        "id": "gJBrvPxx2LqT",
        "colab": {}
      },
      "cell_type": "code",
      "source": [
        "funcao_ativacao_list.append('sigmoid')\n",
        "rede.append('rede 3')\n",
        "taxa_aprendizagem.append(at)\n",
        "medias.append(media)"
      ],
      "execution_count": 0,
      "outputs": []
    },
    {
      "metadata": {
        "colab_type": "text",
        "id": "tHsviTKL2LqW"
      },
      "cell_type": "markdown",
      "source": [
        "#### Taxa de aprendizagem - 0.1"
      ]
    },
    {
      "metadata": {
        "colab_type": "code",
        "id": "bOD0GVS_2LqX",
        "colab": {}
      },
      "cell_type": "code",
      "source": [
        "net = Network(tamanho)\n",
        "acertos_dict = {}\n",
        "kf = KFold(n_splits=n_k)\n",
        "at = 0.1\n",
        "\n",
        "for i, index in enumerate(kf.split(data)):\n",
        "  train_index = index[0]\n",
        "  test_index = index[1]\n",
        "  \n",
        "  k = \"K {}\".format(i)\n",
        "  \n",
        "  print(k)\n",
        "  training_data = data[train_index[0]:train_index[-1]+1]\n",
        "  testing_data = data[test_index[0]:test_index[-1]+1]\n",
        "  \n",
        "  result = net.SGD(training_data, epoch, 10, at,test_data=testing_data, tipo_fun='sigmoid')\n",
        "  acertos_dict[k] = result"
      ],
      "execution_count": 0,
      "outputs": []
    },
    {
      "metadata": {
        "colab_type": "code",
        "id": "PSdIiQ2v2LqZ",
        "colab": {}
      },
      "cell_type": "code",
      "source": [
        "teste11 = pd.DataFrame({\n",
        "    'K': np.arange(kf.get_n_splits(data)),\n",
        "    'Acertos': list(acertos_dict.values())\n",
        "})\n",
        "\n",
        "teste11"
      ],
      "execution_count": 0,
      "outputs": []
    },
    {
      "metadata": {
        "colab_type": "code",
        "id": "utMWRuH72Lqc",
        "colab": {}
      },
      "cell_type": "code",
      "source": [
        "media = teste11['Acertos'].mean()\n",
        "\n",
        "media"
      ],
      "execution_count": 0,
      "outputs": []
    },
    {
      "metadata": {
        "colab_type": "code",
        "id": "yIl4kohX2Lqh",
        "colab": {}
      },
      "cell_type": "code",
      "source": [
        "funcao_ativacao_list.append('sigmoid')\n",
        "rede.append('rede 3')\n",
        "taxa_aprendizagem.append(at)\n",
        "medias.append(media)"
      ],
      "execution_count": 0,
      "outputs": []
    },
    {
      "metadata": {
        "colab_type": "text",
        "id": "E27L-T682Lqn"
      },
      "cell_type": "markdown",
      "source": [
        "#### Taxa de aprendizagem - 0.001"
      ]
    },
    {
      "metadata": {
        "colab_type": "code",
        "id": "5P8yNtKY2Lqo",
        "colab": {}
      },
      "cell_type": "code",
      "source": [
        "net = Network(tamanho)\n",
        "acertos_dict = {}\n",
        "kf = KFold(n_splits=n_k)\n",
        "at = 0.001\n",
        "\n",
        "for i, index in enumerate(kf.split(data)):\n",
        "  train_index = index[0]\n",
        "  test_index = index[1]\n",
        "  \n",
        "  k = \"K {}\".format(i)\n",
        "  \n",
        "  print(k)\n",
        "  training_data = data[train_index[0]:train_index[-1]+1]\n",
        "  testing_data = data[test_index[0]:test_index[-1]+1]\n",
        "  \n",
        "  result = net.SGD(training_data, epoch, 10, at,test_data=testing_data, tipo_fun='sigmoid')\n",
        "  acertos_dict[k] = result"
      ],
      "execution_count": 0,
      "outputs": []
    },
    {
      "metadata": {
        "colab_type": "code",
        "id": "ZkD9GK7W2Lqr",
        "colab": {}
      },
      "cell_type": "code",
      "source": [
        "teste12 = pd.DataFrame({\n",
        "    'K': np.arange(kf.get_n_splits(data)),\n",
        "    'Acertos': list(acertos_dict.values())\n",
        "})\n",
        "\n",
        "teste12"
      ],
      "execution_count": 0,
      "outputs": []
    },
    {
      "metadata": {
        "colab_type": "code",
        "id": "xGvr1y3w2Lqw",
        "colab": {}
      },
      "cell_type": "code",
      "source": [
        "media = teste12['Acertos'].mean()\n",
        "\n",
        "media"
      ],
      "execution_count": 0,
      "outputs": []
    },
    {
      "metadata": {
        "colab_type": "code",
        "id": "QKdzAXLv2Lqz",
        "colab": {}
      },
      "cell_type": "code",
      "source": [
        "funcao_ativacao_list.append('sigmoid')\n",
        "rede.append('rede 3')\n",
        "taxa_aprendizagem.append(at)\n",
        "medias.append(media)"
      ],
      "execution_count": 0,
      "outputs": []
    },
    {
      "metadata": {
        "id": "TyQ9ceph1LAf",
        "colab_type": "text"
      },
      "cell_type": "markdown",
      "source": [
        "## Resultados 1 Entrega"
      ]
    },
    {
      "metadata": {
        "id": "atGdSNJt1ULM",
        "colab_type": "code",
        "colab": {}
      },
      "cell_type": "code",
      "source": [
        "resultado_total = pd.DataFrame({\n",
        "    'rede': rede,\n",
        "    'funcao de ativacao': funcao_ativacao_list,\n",
        "    'taxa de aprendizagem': taxa_aprendizagem,\n",
        "    'media k-fold': medias\n",
        "})\n",
        "\n",
        "resultado_total"
      ],
      "execution_count": 0,
      "outputs": []
    },
    {
      "metadata": {
        "id": "c-feH3oI2Rph",
        "colab_type": "code",
        "colab": {}
      },
      "cell_type": "code",
      "source": [
        "resultado_total['media k-fold'].max()"
      ],
      "execution_count": 0,
      "outputs": []
    },
    {
      "metadata": {
        "id": "8UUx9DOvSnuC",
        "colab_type": "text"
      },
      "cell_type": "markdown",
      "source": [
        "# Mini-Projeto part. 2\n",
        "\n",
        "A partir dos melhores resultados obtidos na etapa anterior, resolver as seguintes questões:\n",
        "\n",
        "4) Implementar as regularizações L1 e L2\n",
        "\n",
        "5) Implementar o Momento\n",
        "\n",
        "6) Comparar os experimentos e explicar o que achou dos resultados.\n",
        "\n",
        "Data de Entrega: 30/04/2019"
      ]
    }
  ]
}