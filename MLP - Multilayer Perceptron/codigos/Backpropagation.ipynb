{
  "nbformat": 4,
  "nbformat_minor": 0,
  "metadata": {
    "colab": {
      "name": "Backpropagation",
      "version": "0.3.2",
      "provenance": [],
      "include_colab_link": true
    },
    "kernelspec": {
      "name": "python3",
      "display_name": "Python 3"
    },
    "accelerator": "GPU"
  },
  "cells": [
    {
      "cell_type": "markdown",
      "metadata": {
        "id": "view-in-github",
        "colab_type": "text"
      },
      "source": [
        "<a href=\"https://colab.research.google.com/github/FernandaSzAdr/Redes-Neurais--UFRPE-2019.1/blob/master/MLP%20-%20Multilayer%20Perceptron/codigos/Backpropagation.ipynb\" target=\"_parent\"><img src=\"https://colab.research.google.com/assets/colab-badge.svg\" alt=\"Open In Colab\"/></a>"
      ]
    },
    {
      "metadata": {
        "id": "gquVOlEzAIeg",
        "colab_type": "code",
        "outputId": "98b3526c-3156-41b7-9117-069045a77d23",
        "colab": {
          "base_uri": "https://localhost:8080/",
          "height": 146
        }
      },
      "cell_type": "code",
      "source": [
        "!git clone https://github.com/FernandaSzAdr/Redes-Neurais--UFRPE-2019.1"
      ],
      "execution_count": 1,
      "outputs": [
        {
          "output_type": "stream",
          "text": [
            "Cloning into 'Redes-Neurais--UFRPE-2019.1'...\n",
            "remote: Enumerating objects: 182, done.\u001b[K\n",
            "remote: Counting objects: 100% (182/182), done.\u001b[K\n",
            "remote: Compressing objects: 100% (117/117), done.\u001b[K\n",
            "remote: Total 182 (delta 60), reused 160 (delta 48), pack-reused 0\u001b[K\n",
            "Receiving objects: 100% (182/182), 21.70 MiB | 36.32 MiB/s, done.\n",
            "Resolving deltas: 100% (60/60), done.\n"
          ],
          "name": "stdout"
        }
      ]
    },
    {
      "metadata": {
        "id": "PJEk_jQrrJXn",
        "colab_type": "text"
      },
      "cell_type": "markdown",
      "source": [
        "##Multipayer Perceptron (MLP)\n",
        "\n",
        "Rede Neural baseado no algoritmo de gradiente descendente.  \n",
        "Os gradientes são calculados usando backpropagation. \n",
        "\n",
        "Para mais detalhes, ver os capitulos 13 a 16 do livro no site:\n",
        "\n",
        "http://deeplearningbook.com.br/"
      ]
    },
    {
      "metadata": {
        "id": "JNeeLtK58tGe",
        "colab_type": "code",
        "colab": {}
      },
      "cell_type": "code",
      "source": [
        "!pip install ipdb\n",
        "import random\n",
        "import numpy as np"
      ],
      "execution_count": 0,
      "outputs": []
    },
    {
      "metadata": {
        "id": "BPjNMuBE8UcP",
        "colab_type": "text"
      },
      "cell_type": "markdown",
      "source": [
        "A entrada é uma lista (`sizes`) contém o número de neurônios nas respectivas camadas da rede. Por exemplo, se a lista for [2, 3, 1] então será uma rede de três camadas, com o primeira camada contendo 2 neurônios, a segunda camada 3 neurônios, e a terceira camada 1 neurônio. Os bias e pesos para a rede são inicializados aleatoriamente, usando uma distribuição Gaussiana com média 0 e variância 1. Note que a primeira camada é assumida como uma camada de entrada, e por convenção não definimos nenhum bias para esses neurônios, pois os bias são usados na computação das saídas das camadas posteriores.\n"
      ]
    },
    {
      "metadata": {
        "id": "FxsP8w-pF1Nw",
        "colab_type": "text"
      },
      "cell_type": "markdown",
      "source": [
        "### Funções auxiliares"
      ]
    },
    {
      "metadata": {
        "id": "aLMguBRLppm7",
        "colab_type": "code",
        "colab": {}
      },
      "cell_type": "code",
      "source": [
        "def funcao_ativacao(tipo, is_prime, z):\n",
        "  # Função de Ativação Sigmóide\n",
        "  def sigmoid(z):\n",
        "      return 1.0/(1.0+np.exp(-z))\n",
        "\n",
        "  def relu(z):\n",
        "      return np.array([[max(0, i[0])] for i in z])\n",
        "\n",
        "  # Função para retornar as derivadas da função Sigmóide\n",
        "  def sigmoid_prime(z):\n",
        "      return sigmoid(z)*(1-sigmoid(z))\n",
        "\n",
        "  def relu_prime(z):\n",
        "      return relu(z)*(1-relu(z))\n",
        "  \n",
        "  switcher = {\n",
        "      'sigmoid': sigmoid,\n",
        "      'relu': relu\n",
        "  }\n",
        "  \n",
        "  switcher_prime = {\n",
        "      'sigmoid': sigmoid_prime,\n",
        "      'relu': relu_prime,\n",
        "  }\n",
        "  \n",
        "  if is_prime:\n",
        "    fun = switcher_prime.get(tipo)\n",
        "  else:\n",
        "    fun = switcher.get(tipo)\n",
        "  return fun(z)\n",
        "\n",
        "\n",
        "def atualiza_taxa_aprend(taxa_inicial, epoch, n_epochs):\n",
        "    return taxa_inicial * np.exp(-epoch / n_epochs)"
      ],
      "execution_count": 0,
      "outputs": []
    },
    {
      "metadata": {
        "id": "YJ4uWFfcF3jN",
        "colab_type": "text"
      },
      "cell_type": "markdown",
      "source": [
        "### Network 1"
      ]
    },
    {
      "metadata": {
        "id": "tGf77mI_vuzP",
        "colab_type": "code",
        "colab": {}
      },
      "cell_type": "code",
      "source": [
        "# Classe Network\n",
        "class Network(object):\n",
        "\n",
        "    def __init__(self, sizes):\n",
        "        self.num_layers = len(sizes)\n",
        "        self.sizes = sizes\n",
        "        self.biases = [np.random.randn(y, 1) for y in sizes[1:]]\n",
        "        self.weights = [np.random.randn(y, x) for x, y in zip(sizes[:-1], sizes[1:])]\n",
        "\n",
        "    def feedforward(self, a, tipo_fun):\n",
        "        \"\"\"Retorna a saída da rede se `a` for entrada.\"\"\"\n",
        "        for b, w in zip(self.biases, self.weights):\n",
        "            a = funcao_ativacao(tipo_fun, False, np.dot(w, a)+b)\n",
        "        return a\n",
        "\n",
        "    def SGD(self, training_data, epochs, mini_batch_size, eta, test_data=None, tipo_fun='sigmoid'):\n",
        "        \"\"\"Treinar a rede neural usando o algoritmo mini batch com gradiente descendente. \n",
        "         A entrada é uma lista de tuplas\n",
        "         `(x, y)` representando as entradas de treinamento e as\n",
        "         saídas. Os outros parâmetros não opcionais são\n",
        "         auto-explicativos. Se `test_data` for fornecido, então a\n",
        "         rede será avaliada em relação aos dados do teste após cada\n",
        "         época e progresso parcial impresso. Isso é útil para\n",
        "         acompanhar o progresso, mas retarda as coisas substancialmente.\"\"\"\n",
        "        \n",
        "        eta_inicial = eta\n",
        "        training_data = list(training_data)\n",
        "        n = len(training_data)\n",
        "\n",
        "        for j in range(epochs):\n",
        "            random.shuffle(training_data)\n",
        "            mini_batches = [training_data[k:k+mini_batch_size] for k in range(0, n, mini_batch_size)]\n",
        "            \n",
        "            for mini_batch in mini_batches:\n",
        "                self.update_mini_batch(mini_batch, eta, tipo_fun)\n",
        "                        \n",
        "            eta = atualiza_taxa_aprend(eta_inicial, j, epochs)\n",
        "        \n",
        "          \n",
        "        if test_data:\n",
        "            predic = self.evaluate(test_data, tipo_fun)\n",
        "            print(\"Total Input {} / Total predict {}\".format(len(test_data), predic))\n",
        "            return predic\n",
        "        else:\n",
        "            print(\"Epoch {} finalizada\".format(j))\n",
        "               \n",
        "    def update_mini_batch(self, mini_batch, eta, tipo_fun):\n",
        "        \"\"\"Atualiza os pesos e bias da rede aplicando\n",
        "         a descida do gradiente usando backpropagation para um único mini lote.\n",
        "         O `mini_batch` é uma lista de tuplas `(x, y)`, e `eta` é a taxa de aprendizado.\"\"\"\n",
        "\n",
        "        nabla_b = [np.zeros(b.shape) for b in self.biases]\n",
        "        nabla_w = [np.zeros(w.shape) for w in self.weights]\n",
        "        \n",
        "        for x, y in mini_batch:\n",
        "            delta_nabla_b, delta_nabla_w = self.backprop(x, y, tipo_fun)\n",
        "            nabla_b = [nb+dnb for nb, dnb in zip(nabla_b, delta_nabla_b)]\n",
        "            nabla_w = [nw+dnw for nw, dnw in zip(nabla_w, delta_nabla_w)]\n",
        "        \n",
        "        self.weights = [w-(eta/len(mini_batch))*nw for w, nw in zip(self.weights, nabla_w)]\n",
        "        self.biases = [b-(eta/len(mini_batch))*nb for b, nb in zip(self.biases, nabla_b)]\n",
        "\n",
        "    def backprop(self, x, y, tipo_fun):\n",
        "        \"\"\"Retorna uma tupla `(nabla_b, nabla_w)` representando o\n",
        "         gradiente para a função de custo C_x. `nabla_b` e\n",
        "         `nabla_w` são listas de camadas de matrizes numpy, semelhantes\n",
        "         a `self.biases` e `self.weights`.\"\"\"\n",
        "\n",
        "        nabla_b = [np.zeros(b.shape) for b in self.biases]\n",
        "        nabla_w = [np.zeros(w.shape) for w in self.weights]\n",
        "        \n",
        "        # Feedforward\n",
        "        activation = x\n",
        "\n",
        "        # Lista para armazenar todas as ativações, camada por camada\n",
        "        activations = [x] \n",
        "\n",
        "        # Lista para armazenar todos os vetores z, camada por camada\n",
        "        zs = [] \n",
        "\n",
        "        for b, w in zip(self.biases, self.weights):\n",
        "            z = np.dot(w, activation)+b\n",
        "            zs.append(z)\n",
        "            activation = funcao_ativacao(tipo_fun, False, z)\n",
        "            activations.append(activation)\n",
        "        \n",
        "        # Backward pass\n",
        "        delta = self.cost_derivative(activations[-1], y) * funcao_ativacao(tipo_fun, True, zs[-1])\n",
        "        nabla_b[-1] = delta\n",
        "        nabla_w[-1] = np.dot(delta, activations[-2].transpose())\n",
        "        \n",
        "        # Aqui, l = 1 significa a última camada de neurônios, l = 2 é a segunda e assim por diante. \n",
        "        for l in range(2, self.num_layers):\n",
        "            z = zs[-l]\n",
        "            sp = funcao_ativacao(tipo_fun, True, z)\n",
        "            delta = np.dot(self.weights[-l+1].transpose(), delta) * sp\n",
        "            nabla_b[-l] = delta\n",
        "            nabla_w[-l] = np.dot(delta, activations[-l-1].transpose())\n",
        "        return (nabla_b, nabla_w)\n",
        "\n",
        "    def evaluate(self, test_data, tipo_fun):\n",
        "        \"\"\"Retorna o número de entradas de teste para as quais a rede neural \n",
        "         produz o resultado correto. Note que a saída da rede neural\n",
        "         é considerada o índice de qualquer que seja\n",
        "         neurônio na camada final que tenha a maior ativação.\"\"\"\n",
        "\n",
        "        test_results = [(np.argmax(self.feedforward(x, tipo_fun)), np.argmax(y)) for (x, y) in test_data]\n",
        "        return sum(int(x == y) for (x, y) in test_results)\n",
        "\n",
        "    def cost_derivative(self, output_activations, y):\n",
        "        \"\"\"Retorna o vetor das derivadas parciais.\"\"\"\n",
        "        return (output_activations-y)\n"
      ],
      "execution_count": 0,
      "outputs": []
    },
    {
      "metadata": {
        "id": "uoTTIKgsF51e",
        "colab_type": "text"
      },
      "cell_type": "markdown",
      "source": [
        "### Network 2"
      ]
    },
    {
      "metadata": {
        "colab_type": "code",
        "id": "bjDWK7u4EwM9",
        "colab": {}
      },
      "cell_type": "code",
      "source": [
        "# Classe Network\n",
        "class Network2(object):\n",
        "\n",
        "    def __init__(self, sizes, regularizacao='L1', lambda_value=0.00001, beta=0.7):\n",
        "        self.num_layers = len(sizes)\n",
        "        self.sizes = sizes\n",
        "        self.biases = [np.random.randn(y, 1) for y in sizes[1:]]\n",
        "        self.weights = [np.random.randn(y, x) for x, y in zip(sizes[:-1], sizes[1:])]\n",
        "        self.lambda_value = lambda_value\n",
        "        self.regularizacao = regularizacao\n",
        "        self.beta = beta\n",
        "\n",
        "    def feedforward(self, a, tipo_fun):\n",
        "        \"\"\"Retorna a saída da rede se `a` for entrada.\"\"\"\n",
        "        for b, w in zip(self.biases, self.weights):\n",
        "            a = funcao_ativacao(tipo_fun, False, np.dot(w, a)+b)\n",
        "        return a\n",
        "\n",
        "    def SGD(self, training_data, epochs, mini_batch_size, eta, test_data=None,\n",
        "            tipo_fun='sigmoid'):\n",
        "        \"\"\"Treinar a rede neural usando o algoritmo mini batch com gradiente descendente. \n",
        "         A entrada é uma lista de tuplas\n",
        "         `(x, y)` representando as entradas de treinamento e as\n",
        "         saídas. Os outros parâmetros não opcionais são\n",
        "         auto-explicativos. Se `test_data` for fornecido, então a\n",
        "         rede será avaliada em relação aos dados do teste após cada\n",
        "         época e progresso parcial impresso. Isso é útil para\n",
        "         acompanhar o progresso, mas retarda as coisas substancialmente.\"\"\"\n",
        "        \n",
        "        eta_inicial = eta\n",
        "        training_data = list(training_data)\n",
        "        n = len(training_data)\n",
        "\n",
        "        for j in range(epochs):\n",
        "            random.shuffle(training_data)\n",
        "            mini_batches = [training_data[k:k+mini_batch_size] for k in range(0, n, mini_batch_size)]\n",
        "            \n",
        "            for mini_batch in mini_batches:\n",
        "                self.update_mini_batch(mini_batch, eta, tipo_fun)\n",
        "                        \n",
        "            eta = atualiza_taxa_aprend(eta_inicial, j, epochs)\n",
        "        \n",
        "          \n",
        "        if test_data:\n",
        "            predic = self.evaluate(test_data, tipo_fun)\n",
        "            print(\"Total Input {} / Total predict {}\".format(len(test_data), predic))\n",
        "            return predic\n",
        "        else:\n",
        "            print(\"Epoch {} finalizada\".format(j))\n",
        "               \n",
        "    def update_mini_batch(self, mini_batch, eta, tipo_fun):\n",
        "        \"\"\"Atualiza os pesos e bias da rede aplicando\n",
        "         a descida do gradiente usando backpropagation para um único mini lote.\n",
        "         O `mini_batch` é uma lista de tuplas `(x, y)`, e `eta` é a taxa de aprendizado.\"\"\"\n",
        "\n",
        "        nabla_b = [np.zeros(b.shape) for b in self.biases]\n",
        "        nabla_w = [np.zeros(w.shape) for w in self.weights]\n",
        "        \n",
        "        for x, y in mini_batch:\n",
        "          delta_nabla_b, delta_nabla_w = self.backprop(x, y, tipo_fun)\n",
        "          nabla_b = [nb+dnb for nb, dnb in zip(nabla_b, delta_nabla_b)]\n",
        "          nabla_w = [nw+dnw for nw, dnw in zip(nabla_w, delta_nabla_w)]\n",
        "        \n",
        "        pos = 0\n",
        "#         momento = []\n",
        "        for w, nw in zip(self.weights, nabla_w):\n",
        "          constante = self.lambda_value\n",
        "\n",
        "          if self.regularizacao == 'L2':\n",
        "            constante *= w \n",
        "          \n",
        "#           if len(momento) == 0:\n",
        "#             v_t = self.beta\n",
        "#           else:\n",
        "#             v_t = self.beta*momento[pos-1] + self.weights[pos-1]\n",
        "          \n",
        "#           momento.append(v_t)\n",
        "#           peso = w-(eta/len(mini_batch))*nw\n",
        "#           self.weights[pos] = (peso + constante) - v_t\n",
        "          self.weights[pos] = w-(eta/len(mini_batch))*nw + constante\n",
        "          pos += 1\n",
        "\n",
        "        self.biases = [b-(eta/len(mini_batch))*nb for b, nb in zip(self.biases, nabla_b)]\n",
        "        \n",
        "\n",
        "    def backprop(self, x, y, tipo_fun):\n",
        "        \"\"\"Retorna uma tupla `(nabla_b, nabla_w)` representando o\n",
        "         gradiente para a função de custo C_x. `nabla_b` e\n",
        "         `nabla_w` são listas de camadas de matrizes numpy, semelhantes\n",
        "         a `self.biases` e `self.weights`.\"\"\"\n",
        "\n",
        "        nabla_b = [np.zeros(b.shape) for b in self.biases]\n",
        "        nabla_w = [np.zeros(w.shape) for w in self.weights]\n",
        "        \n",
        "        # Feedforward\n",
        "        activation = x\n",
        "\n",
        "        # Lista para armazenar todas as ativações, camada por camada\n",
        "        activations = [x] \n",
        "\n",
        "        # Lista para armazenar todos os vetores z, camada por camada\n",
        "        zs = [] \n",
        "\n",
        "        for b, w in zip(self.biases, self.weights):\n",
        "            z = np.dot(w, activation)+b\n",
        "            zs.append(z)\n",
        "            activation = funcao_ativacao(tipo_fun, False, z)\n",
        "            activations.append(activation)\n",
        "        \n",
        "        # Backward pass\n",
        "        delta = self.cost_derivative(activations[-1], y) * funcao_ativacao(tipo_fun, True, zs[-1])\n",
        "        nabla_b[-1] = delta\n",
        "        nabla_w[-1] = np.dot(delta, activations[-2].transpose())\n",
        "        \n",
        "        # Aqui, l = 1 significa a última camada de neurônios, l = 2 é a segunda e assim por diante. \n",
        "        for l in range(2, self.num_layers):\n",
        "            z = zs[-l]\n",
        "            sp = funcao_ativacao(tipo_fun, True, z)\n",
        "            delta = np.dot(self.weights[-l+1].transpose(), delta) * sp\n",
        "            nabla_b[-l] = delta\n",
        "            nabla_w[-l] = np.dot(delta, activations[-l-1].transpose())\n",
        "        return (nabla_b, nabla_w)\n",
        "\n",
        "    def evaluate(self, test_data, tipo_fun):\n",
        "        \"\"\"Retorna o número de entradas de teste para as quais a rede neural \n",
        "         produz o resultado correto. Note que a saída da rede neural\n",
        "         é considerada o índice de qualquer que seja\n",
        "         neurônio na camada final que tenha a maior ativação.\"\"\"\n",
        "\n",
        "        test_results = [(np.argmax(self.feedforward(x, tipo_fun)), np.argmax(y)) for (x, y) in test_data]\n",
        "        return sum(int(x == y) for (x, y) in test_results)\n",
        "\n",
        "    def cost_derivative(self, output_activations, y):\n",
        "        \"\"\"Retorna o vetor das derivadas parciais.\"\"\"\n",
        "        return (output_activations-y)\n"
      ],
      "execution_count": 0,
      "outputs": []
    },
    {
      "metadata": {
        "id": "6lndK7bt9F6d",
        "colab_type": "text"
      },
      "cell_type": "markdown",
      "source": [
        "## Carregar MINIST dataset"
      ]
    },
    {
      "metadata": {
        "id": "KOZwqOkDv3t-",
        "colab_type": "code",
        "colab": {}
      },
      "cell_type": "code",
      "source": [
        "# Carregar o dataset MNIST\n",
        "\n",
        "# Imports\n",
        "import pickle\n",
        "import gzip\n",
        "import numpy as np\n",
        "\n",
        "def load_data():\n",
        "    f = gzip.open('Redes-Neurais--UFRPE-2019.1/MLP - Multilayer Perceptron/codigos/mnist.pkl.gz', 'rb')\n",
        "    training_data, validation_data, test_data = pickle.load(f, encoding=\"latin1\")\n",
        "    f.close()\n",
        "    return (training_data, validation_data, test_data)\n",
        "\n",
        "def load_data_wrapper():\n",
        "    tr_d, va_d, te_d = load_data()\n",
        "    training_inputs = [np.reshape(x, (784, 1)) for x in tr_d[0]]\n",
        "    training_results = [vectorized_result(y) for y in tr_d[1]]\n",
        "    training_data = zip(training_inputs, training_results)\n",
        "    validation_inputs = [np.reshape(x, (784, 1)) for x in va_d[0]]\n",
        "    validation_data = zip(validation_inputs, va_d[1])\n",
        "    test_inputs = [np.reshape(x, (784, 1)) for x in te_d[0]]\n",
        "    test_data = zip(test_inputs, te_d[1])\n",
        "    return (training_data, validation_data, test_data)\n",
        "\n",
        "def vectorized_result(j):\n",
        "    e = np.zeros((10, 1))\n",
        "    e[j] = 1.0\n",
        "    return e\n",
        "\n",
        "def all_data():\n",
        "  training_data, validation_data, test_data = load_data_wrapper()\n",
        "\n",
        "  training_data = list(training_data)\n",
        "  validation_data = list(validation_data)\n",
        "  test_data = list(test_data)\n",
        "\n",
        "  return training_data + validation_data + test_data"
      ],
      "execution_count": 0,
      "outputs": []
    },
    {
      "metadata": {
        "id": "KBOEXLBnSsm0",
        "colab_type": "text"
      },
      "cell_type": "markdown",
      "source": [
        "# Mini-Projeto part. 1\n",
        "\n",
        "1) Realizar avaliaçao usando validação cruzada\n",
        "\n",
        "2) Modificar a taxa de aprendizagem pra diminuir com o tempo\n",
        "\n",
        "3) Realizar avaliações com a validação cruzada modificando os seguintes parâmetros:\n",
        "     \n",
        "     a) Taxa de aprendizagem: 0.5, 0.1 e 0.001\n",
        "     b) Função de ativação RELU\n",
        "     c) 3 diferentes configurações de neurônios na camada  intermediária\n",
        "\n",
        "\n",
        "Data de Entrega: 23/04/2019"
      ]
    },
    {
      "metadata": {
        "id": "olUh0kwI3cIS",
        "colab_type": "code",
        "colab": {}
      },
      "cell_type": "code",
      "source": [
        "import pandas as pd\n",
        "from sklearn.model_selection import KFold"
      ],
      "execution_count": 0,
      "outputs": []
    },
    {
      "metadata": {
        "id": "Atfzs5x_Qro9",
        "colab_type": "code",
        "colab": {}
      },
      "cell_type": "code",
      "source": [
        "data = all_data()"
      ],
      "execution_count": 0,
      "outputs": []
    },
    {
      "metadata": {
        "id": "g6miZQpWzxWI",
        "colab_type": "code",
        "colab": {}
      },
      "cell_type": "code",
      "source": [
        "media_modelos = {}\n",
        "funcao_ativacao_list = []\n",
        "rede = []\n",
        "taxa_aprendizagem = []\n",
        "medias = []\n",
        "\n",
        "epoch = 10\n",
        "n_k = 4"
      ],
      "execution_count": 0,
      "outputs": []
    },
    {
      "metadata": {
        "id": "sPyVCSgkt2RW",
        "colab_type": "text"
      },
      "cell_type": "markdown",
      "source": [
        "## Rede 1 -> Configuração 784-30-10"
      ]
    },
    {
      "metadata": {
        "id": "F1QcQHEYyrpV",
        "colab_type": "code",
        "colab": {}
      },
      "cell_type": "code",
      "source": [
        "tamanho = [784, 30, 10]"
      ],
      "execution_count": 0,
      "outputs": []
    },
    {
      "metadata": {
        "id": "K4EobHpXxZoM",
        "colab_type": "text"
      },
      "cell_type": "markdown",
      "source": [
        "### Função ativação - Relu"
      ]
    },
    {
      "metadata": {
        "id": "3cG0XX32t67i",
        "colab_type": "text"
      },
      "cell_type": "markdown",
      "source": [
        "#### Taxa de aprendizagem - 0.5"
      ]
    },
    {
      "metadata": {
        "id": "bIyVWUbK37dl",
        "colab_type": "code",
        "outputId": "c0f0b045-50d4-4d41-c3e9-4dd4479d4011",
        "colab": {
          "base_uri": "https://localhost:8080/",
          "height": 219
        }
      },
      "cell_type": "code",
      "source": [
        "net = Network(tamanho)\n",
        "acertos_dict = {}\n",
        "kf = KFold(n_splits=n_k)\n",
        "at = 0.5\n",
        "\n",
        "for i, index in enumerate(kf.split(data)):\n",
        "  train_index = index[0]\n",
        "  test_index = index[1]\n",
        "  \n",
        "  k = \"K {}\".format(i)\n",
        "  \n",
        "  print(k)\n",
        "  training_data = data[train_index[0]:train_index[-1]+1]\n",
        "  testing_data = data[test_index[0]:test_index[-1]+1]\n",
        "  \n",
        "  result = net.SGD(training_data, epoch, 10, at,test_data=testing_data, tipo_fun='relu')\n",
        "  acertos_dict[k] = result"
      ],
      "execution_count": 0,
      "outputs": [
        {
          "output_type": "stream",
          "text": [
            "K 0\n"
          ],
          "name": "stdout"
        },
        {
          "output_type": "stream",
          "text": [
            "/usr/local/lib/python3.6/dist-packages/ipykernel_launcher.py:87: RuntimeWarning: overflow encountered in multiply\n",
            "/usr/local/lib/python3.6/dist-packages/ipykernel_launcher.py:95: RuntimeWarning: invalid value encountered in multiply\n",
            "/usr/local/lib/python3.6/dist-packages/ipykernel_launcher.py:56: RuntimeWarning: overflow encountered in add\n"
          ],
          "name": "stderr"
        },
        {
          "output_type": "stream",
          "text": [
            "Total Input 17500 / Total predict 1852\n",
            "K 1\n",
            "Total Input 17500 / Total predict 1780\n",
            "K 2\n",
            "Total Input 17500 / Total predict 1543\n",
            "K 3\n",
            "Total Input 17500 / Total predict 0\n"
          ],
          "name": "stdout"
        }
      ]
    },
    {
      "metadata": {
        "id": "GJc8F3SIJxPA",
        "colab_type": "code",
        "outputId": "e3d88439-f6ea-4896-c1e3-b022f6010d5c",
        "colab": {
          "base_uri": "https://localhost:8080/",
          "height": 175
        }
      },
      "cell_type": "code",
      "source": [
        "teste1 = pd.DataFrame({\n",
        "    'K': np.arange(kf.get_n_splits(data)),\n",
        "    'Acertos': list(acertos_dict.values())\n",
        "})\n",
        "\n",
        "teste1"
      ],
      "execution_count": 0,
      "outputs": [
        {
          "output_type": "execute_result",
          "data": {
            "text/html": [
              "<div>\n",
              "<style scoped>\n",
              "    .dataframe tbody tr th:only-of-type {\n",
              "        vertical-align: middle;\n",
              "    }\n",
              "\n",
              "    .dataframe tbody tr th {\n",
              "        vertical-align: top;\n",
              "    }\n",
              "\n",
              "    .dataframe thead th {\n",
              "        text-align: right;\n",
              "    }\n",
              "</style>\n",
              "<table border=\"1\" class=\"dataframe\">\n",
              "  <thead>\n",
              "    <tr style=\"text-align: right;\">\n",
              "      <th></th>\n",
              "      <th>K</th>\n",
              "      <th>Acertos</th>\n",
              "    </tr>\n",
              "  </thead>\n",
              "  <tbody>\n",
              "    <tr>\n",
              "      <th>0</th>\n",
              "      <td>0</td>\n",
              "      <td>1852</td>\n",
              "    </tr>\n",
              "    <tr>\n",
              "      <th>1</th>\n",
              "      <td>1</td>\n",
              "      <td>1780</td>\n",
              "    </tr>\n",
              "    <tr>\n",
              "      <th>2</th>\n",
              "      <td>2</td>\n",
              "      <td>1543</td>\n",
              "    </tr>\n",
              "    <tr>\n",
              "      <th>3</th>\n",
              "      <td>3</td>\n",
              "      <td>0</td>\n",
              "    </tr>\n",
              "  </tbody>\n",
              "</table>\n",
              "</div>"
            ],
            "text/plain": [
              "   K  Acertos\n",
              "0  0     1852\n",
              "1  1     1780\n",
              "2  2     1543\n",
              "3  3        0"
            ]
          },
          "metadata": {
            "tags": []
          },
          "execution_count": 39
        }
      ]
    },
    {
      "metadata": {
        "id": "HgcZPKbJuzi-",
        "colab_type": "code",
        "outputId": "d2c191be-6863-447a-8d0f-1a19c636ff45",
        "colab": {
          "base_uri": "https://localhost:8080/",
          "height": 35
        }
      },
      "cell_type": "code",
      "source": [
        "media = teste1['Acertos'].mean()\n",
        "\n",
        "media"
      ],
      "execution_count": 0,
      "outputs": [
        {
          "output_type": "execute_result",
          "data": {
            "text/plain": [
              "1293.75"
            ]
          },
          "metadata": {
            "tags": []
          },
          "execution_count": 40
        }
      ]
    },
    {
      "metadata": {
        "id": "eLkXILniz3hT",
        "colab_type": "code",
        "colab": {}
      },
      "cell_type": "code",
      "source": [
        "funcao_ativacao_list.append('relu')\n",
        "rede.append('rede 1')\n",
        "taxa_aprendizagem.append(at)\n",
        "medias.append(media)"
      ],
      "execution_count": 0,
      "outputs": []
    },
    {
      "metadata": {
        "colab_type": "text",
        "id": "JtzexNGPtcU6"
      },
      "cell_type": "markdown",
      "source": [
        "#### Taxa de aprendizagem - 0.1"
      ]
    },
    {
      "metadata": {
        "colab_type": "code",
        "outputId": "f931cdc8-3299-45bf-e02b-18ce2391b47c",
        "id": "fA3HY3TytcU7",
        "colab": {
          "base_uri": "https://localhost:8080/",
          "height": 237
        }
      },
      "cell_type": "code",
      "source": [
        "net = Network(tamanho)\n",
        "acertos_dict = {}\n",
        "kf = KFold(n_splits=n_k)\n",
        "at = 0.1\n",
        "\n",
        "for i, index in enumerate(kf.split(data)):\n",
        "  train_index = index[0]\n",
        "  test_index = index[1]\n",
        "  \n",
        "  k = \"K {}\".format(i)\n",
        "  \n",
        "  print(k)\n",
        "  training_data = data[train_index[0]:train_index[-1]+1]\n",
        "  testing_data = data[test_index[0]:test_index[-1]+1]\n",
        "  \n",
        "  result = net.SGD(training_data, epoch, 10, at,test_data=testing_data, tipo_fun='relu')\n",
        "  acertos_dict[k] = result"
      ],
      "execution_count": 0,
      "outputs": [
        {
          "output_type": "stream",
          "text": [
            "K 0\n"
          ],
          "name": "stdout"
        },
        {
          "output_type": "stream",
          "text": [
            "/usr/local/lib/python3.6/dist-packages/ipykernel_launcher.py:87: RuntimeWarning: overflow encountered in multiply\n",
            "/usr/local/lib/python3.6/dist-packages/ipykernel_launcher.py:95: RuntimeWarning: invalid value encountered in multiply\n",
            "/usr/local/lib/python3.6/dist-packages/ipykernel_launcher.py:14: RuntimeWarning: overflow encountered in multiply\n",
            "  \n"
          ],
          "name": "stderr"
        },
        {
          "output_type": "stream",
          "text": [
            "Total Input 17500 / Total predict 1741\n",
            "K 1\n",
            "Total Input 17500 / Total predict 1693\n",
            "K 2\n",
            "Total Input 17500 / Total predict 3998\n",
            "K 3\n",
            "Total Input 17500 / Total predict 17500\n"
          ],
          "name": "stdout"
        }
      ]
    },
    {
      "metadata": {
        "colab_type": "code",
        "id": "DNcW2U3rtcU_",
        "outputId": "4ed5afa8-8284-4ac8-f532-4c97c6ab4273",
        "colab": {
          "base_uri": "https://localhost:8080/",
          "height": 175
        }
      },
      "cell_type": "code",
      "source": [
        "teste2 = pd.DataFrame({\n",
        "    'K': np.arange(kf.get_n_splits(data)),\n",
        "    'Acertos': list(acertos_dict.values())\n",
        "})\n",
        "\n",
        "teste2"
      ],
      "execution_count": 0,
      "outputs": [
        {
          "output_type": "execute_result",
          "data": {
            "text/html": [
              "<div>\n",
              "<style scoped>\n",
              "    .dataframe tbody tr th:only-of-type {\n",
              "        vertical-align: middle;\n",
              "    }\n",
              "\n",
              "    .dataframe tbody tr th {\n",
              "        vertical-align: top;\n",
              "    }\n",
              "\n",
              "    .dataframe thead th {\n",
              "        text-align: right;\n",
              "    }\n",
              "</style>\n",
              "<table border=\"1\" class=\"dataframe\">\n",
              "  <thead>\n",
              "    <tr style=\"text-align: right;\">\n",
              "      <th></th>\n",
              "      <th>K</th>\n",
              "      <th>Acertos</th>\n",
              "    </tr>\n",
              "  </thead>\n",
              "  <tbody>\n",
              "    <tr>\n",
              "      <th>0</th>\n",
              "      <td>0</td>\n",
              "      <td>1741</td>\n",
              "    </tr>\n",
              "    <tr>\n",
              "      <th>1</th>\n",
              "      <td>1</td>\n",
              "      <td>1693</td>\n",
              "    </tr>\n",
              "    <tr>\n",
              "      <th>2</th>\n",
              "      <td>2</td>\n",
              "      <td>3998</td>\n",
              "    </tr>\n",
              "    <tr>\n",
              "      <th>3</th>\n",
              "      <td>3</td>\n",
              "      <td>17500</td>\n",
              "    </tr>\n",
              "  </tbody>\n",
              "</table>\n",
              "</div>"
            ],
            "text/plain": [
              "   K  Acertos\n",
              "0  0     1741\n",
              "1  1     1693\n",
              "2  2     3998\n",
              "3  3    17500"
            ]
          },
          "metadata": {
            "tags": []
          },
          "execution_count": 43
        }
      ]
    },
    {
      "metadata": {
        "colab_type": "code",
        "id": "KifkIaSwtcVC",
        "outputId": "b215334c-5668-4b64-c658-744f7adc80d2",
        "colab": {
          "base_uri": "https://localhost:8080/",
          "height": 35
        }
      },
      "cell_type": "code",
      "source": [
        "media = teste2['Acertos'].mean()\n",
        "\n",
        "media"
      ],
      "execution_count": 0,
      "outputs": [
        {
          "output_type": "execute_result",
          "data": {
            "text/plain": [
              "6233.0"
            ]
          },
          "metadata": {
            "tags": []
          },
          "execution_count": 44
        }
      ]
    },
    {
      "metadata": {
        "colab_type": "code",
        "id": "ldtkqs810XNz",
        "colab": {}
      },
      "cell_type": "code",
      "source": [
        "funcao_ativacao_list.append('relu')\n",
        "rede.append('rede 1')\n",
        "taxa_aprendizagem.append(at)\n",
        "medias.append(media)"
      ],
      "execution_count": 0,
      "outputs": []
    },
    {
      "metadata": {
        "colab_type": "text",
        "id": "GHvWAwhHxlqA"
      },
      "cell_type": "markdown",
      "source": [
        "#### Taxa de aprendizagem - 0.001"
      ]
    },
    {
      "metadata": {
        "colab_type": "code",
        "outputId": "0ee1d5a6-433b-4fa9-b989-9bc6a6d75757",
        "id": "nXSUF_78xlqC",
        "colab": {
          "base_uri": "https://localhost:8080/",
          "height": 237
        }
      },
      "cell_type": "code",
      "source": [
        "net = Network(tamanho)\n",
        "acertos_dict = {}\n",
        "kf = KFold(n_splits=n_k)\n",
        "at = 0.001\n",
        "\n",
        "for i, index in enumerate(kf.split(data)):\n",
        "  train_index = index[0]\n",
        "  test_index = index[1]\n",
        "  \n",
        "  k = \"K {}\".format(i)\n",
        "  \n",
        "  print(k)\n",
        "  training_data = data[train_index[0]:train_index[-1]+1]\n",
        "  testing_data = data[test_index[0]:test_index[-1]+1]\n",
        "  \n",
        "  result = net.SGD(training_data, epoch, 10, at,test_data=testing_data, tipo_fun='relu')\n",
        "  acertos_dict[k] = result"
      ],
      "execution_count": 0,
      "outputs": [
        {
          "output_type": "stream",
          "text": [
            "K 0\n"
          ],
          "name": "stdout"
        },
        {
          "output_type": "stream",
          "text": [
            "/usr/local/lib/python3.6/dist-packages/ipykernel_launcher.py:14: RuntimeWarning: overflow encountered in multiply\n",
            "  \n",
            "/usr/local/lib/python3.6/dist-packages/ipykernel_launcher.py:87: RuntimeWarning: overflow encountered in multiply\n",
            "/usr/local/lib/python3.6/dist-packages/ipykernel_launcher.py:95: RuntimeWarning: invalid value encountered in multiply\n"
          ],
          "name": "stderr"
        },
        {
          "output_type": "stream",
          "text": [
            "Total Input 17500 / Total predict 1741\n",
            "K 1\n",
            "Total Input 17500 / Total predict 1693\n",
            "K 2\n",
            "Total Input 17500 / Total predict 3998\n",
            "K 3\n",
            "Total Input 17500 / Total predict 17500\n"
          ],
          "name": "stdout"
        }
      ]
    },
    {
      "metadata": {
        "colab_type": "code",
        "id": "qHobWMPAxlqO",
        "outputId": "78b1a38f-0d8a-46e0-e609-25a536f9c70c",
        "colab": {
          "base_uri": "https://localhost:8080/",
          "height": 175
        }
      },
      "cell_type": "code",
      "source": [
        "teste3 = pd.DataFrame({\n",
        "    'K': np.arange(kf.get_n_splits(data)),\n",
        "    'Acertos': list(acertos_dict.values())\n",
        "})\n",
        "\n",
        "teste3"
      ],
      "execution_count": 0,
      "outputs": [
        {
          "output_type": "execute_result",
          "data": {
            "text/html": [
              "<div>\n",
              "<style scoped>\n",
              "    .dataframe tbody tr th:only-of-type {\n",
              "        vertical-align: middle;\n",
              "    }\n",
              "\n",
              "    .dataframe tbody tr th {\n",
              "        vertical-align: top;\n",
              "    }\n",
              "\n",
              "    .dataframe thead th {\n",
              "        text-align: right;\n",
              "    }\n",
              "</style>\n",
              "<table border=\"1\" class=\"dataframe\">\n",
              "  <thead>\n",
              "    <tr style=\"text-align: right;\">\n",
              "      <th></th>\n",
              "      <th>K</th>\n",
              "      <th>Acertos</th>\n",
              "    </tr>\n",
              "  </thead>\n",
              "  <tbody>\n",
              "    <tr>\n",
              "      <th>0</th>\n",
              "      <td>0</td>\n",
              "      <td>1741</td>\n",
              "    </tr>\n",
              "    <tr>\n",
              "      <th>1</th>\n",
              "      <td>1</td>\n",
              "      <td>1693</td>\n",
              "    </tr>\n",
              "    <tr>\n",
              "      <th>2</th>\n",
              "      <td>2</td>\n",
              "      <td>3998</td>\n",
              "    </tr>\n",
              "    <tr>\n",
              "      <th>3</th>\n",
              "      <td>3</td>\n",
              "      <td>17500</td>\n",
              "    </tr>\n",
              "  </tbody>\n",
              "</table>\n",
              "</div>"
            ],
            "text/plain": [
              "   K  Acertos\n",
              "0  0     1741\n",
              "1  1     1693\n",
              "2  2     3998\n",
              "3  3    17500"
            ]
          },
          "metadata": {
            "tags": []
          },
          "execution_count": 47
        }
      ]
    },
    {
      "metadata": {
        "colab_type": "code",
        "id": "MLtsWk5hxlqV",
        "outputId": "460bfe03-2574-4e15-f951-d17c8db1d738",
        "colab": {
          "base_uri": "https://localhost:8080/",
          "height": 35
        }
      },
      "cell_type": "code",
      "source": [
        "media = teste3['Acertos'].mean()\n",
        "\n",
        "media"
      ],
      "execution_count": 0,
      "outputs": [
        {
          "output_type": "execute_result",
          "data": {
            "text/plain": [
              "6233.0"
            ]
          },
          "metadata": {
            "tags": []
          },
          "execution_count": 48
        }
      ]
    },
    {
      "metadata": {
        "colab_type": "code",
        "id": "CWgULgB80cdX",
        "colab": {}
      },
      "cell_type": "code",
      "source": [
        "funcao_ativacao_list.append('relu')\n",
        "rede.append('rede 1')\n",
        "taxa_aprendizagem.append(at)\n",
        "medias.append(media)"
      ],
      "execution_count": 0,
      "outputs": []
    },
    {
      "metadata": {
        "colab_type": "text",
        "id": "FxVsUPFgxwbB"
      },
      "cell_type": "markdown",
      "source": [
        "### Função ativação - Sigmoid"
      ]
    },
    {
      "metadata": {
        "colab_type": "text",
        "id": "UUC5754KxwbD"
      },
      "cell_type": "markdown",
      "source": [
        "#### Taxa de aprendizagem - 0.5"
      ]
    },
    {
      "metadata": {
        "colab_type": "code",
        "id": "RoQ38Ck3xwbD",
        "outputId": "1e074aef-9a2d-4530-f791-78ff563d8123",
        "colab": {
          "base_uri": "https://localhost:8080/",
          "height": 164
        }
      },
      "cell_type": "code",
      "source": [
        "net = Network(tamanho)\n",
        "acertos_dict = {}\n",
        "kf = KFold(n_splits=n_k)\n",
        "at = 0.5\n",
        "\n",
        "for i, index in enumerate(kf.split(data)):\n",
        "  train_index = index[0]\n",
        "  test_index = index[1]\n",
        "  \n",
        "  k = \"K {}\".format(i)\n",
        "  \n",
        "  print(k)\n",
        "  training_data = data[train_index[0]:train_index[-1]+1]\n",
        "  testing_data = data[test_index[0]:test_index[-1]+1]\n",
        "  \n",
        "  result = net.SGD(training_data, epoch, 10, at,test_data=testing_data, tipo_fun='sigmoid')\n",
        "  acertos_dict[k] = result"
      ],
      "execution_count": 0,
      "outputs": [
        {
          "output_type": "stream",
          "text": [
            "K 0\n",
            "Total Input 17500 / Total predict 4606\n",
            "K 1\n",
            "Total Input 17500 / Total predict 3471\n",
            "K 2\n",
            "Total Input 17500 / Total predict 3424\n",
            "K 3\n",
            "Total Input 17500 / Total predict 1837\n"
          ],
          "name": "stdout"
        }
      ]
    },
    {
      "metadata": {
        "colab_type": "code",
        "id": "vlrPfdlmxwbG",
        "outputId": "bed7ce3e-ba03-4a28-d7e5-8351dc9bfb7f",
        "colab": {
          "base_uri": "https://localhost:8080/",
          "height": 175
        }
      },
      "cell_type": "code",
      "source": [
        "teste4 = pd.DataFrame({\n",
        "    'K': np.arange(kf.get_n_splits(data)),\n",
        "    'Acertos': list(acertos_dict.values())\n",
        "})\n",
        "\n",
        "teste4"
      ],
      "execution_count": 0,
      "outputs": [
        {
          "output_type": "execute_result",
          "data": {
            "text/html": [
              "<div>\n",
              "<style scoped>\n",
              "    .dataframe tbody tr th:only-of-type {\n",
              "        vertical-align: middle;\n",
              "    }\n",
              "\n",
              "    .dataframe tbody tr th {\n",
              "        vertical-align: top;\n",
              "    }\n",
              "\n",
              "    .dataframe thead th {\n",
              "        text-align: right;\n",
              "    }\n",
              "</style>\n",
              "<table border=\"1\" class=\"dataframe\">\n",
              "  <thead>\n",
              "    <tr style=\"text-align: right;\">\n",
              "      <th></th>\n",
              "      <th>K</th>\n",
              "      <th>Acertos</th>\n",
              "    </tr>\n",
              "  </thead>\n",
              "  <tbody>\n",
              "    <tr>\n",
              "      <th>0</th>\n",
              "      <td>0</td>\n",
              "      <td>4606</td>\n",
              "    </tr>\n",
              "    <tr>\n",
              "      <th>1</th>\n",
              "      <td>1</td>\n",
              "      <td>3471</td>\n",
              "    </tr>\n",
              "    <tr>\n",
              "      <th>2</th>\n",
              "      <td>2</td>\n",
              "      <td>3424</td>\n",
              "    </tr>\n",
              "    <tr>\n",
              "      <th>3</th>\n",
              "      <td>3</td>\n",
              "      <td>1837</td>\n",
              "    </tr>\n",
              "  </tbody>\n",
              "</table>\n",
              "</div>"
            ],
            "text/plain": [
              "   K  Acertos\n",
              "0  0     4606\n",
              "1  1     3471\n",
              "2  2     3424\n",
              "3  3     1837"
            ]
          },
          "metadata": {
            "tags": []
          },
          "execution_count": 51
        }
      ]
    },
    {
      "metadata": {
        "colab_type": "code",
        "id": "OJckpLNLxwbI",
        "outputId": "317a791f-74d5-4e54-ae49-24815f9c2128",
        "colab": {
          "base_uri": "https://localhost:8080/",
          "height": 35
        }
      },
      "cell_type": "code",
      "source": [
        "media = teste4['Acertos'].mean()\n",
        "\n",
        "media"
      ],
      "execution_count": 0,
      "outputs": [
        {
          "output_type": "execute_result",
          "data": {
            "text/plain": [
              "3334.5"
            ]
          },
          "metadata": {
            "tags": []
          },
          "execution_count": 52
        }
      ]
    },
    {
      "metadata": {
        "colab_type": "code",
        "id": "PpzdS4Q70kOo",
        "colab": {}
      },
      "cell_type": "code",
      "source": [
        "funcao_ativacao_list.append('sigmoid')\n",
        "rede.append('rede 1')\n",
        "taxa_aprendizagem.append(at)\n",
        "medias.append(media)"
      ],
      "execution_count": 0,
      "outputs": []
    },
    {
      "metadata": {
        "colab_type": "text",
        "id": "ahu89VjIxwbM"
      },
      "cell_type": "markdown",
      "source": [
        "#### Taxa de aprendizagem - 0.1"
      ]
    },
    {
      "metadata": {
        "colab_type": "code",
        "outputId": "f4b4862c-030e-4786-f9d1-ed7e5a3c6b88",
        "id": "yU4YLTihxwbN",
        "colab": {
          "base_uri": "https://localhost:8080/",
          "height": 164
        }
      },
      "cell_type": "code",
      "source": [
        "net = Network(tamanho)\n",
        "acertos_dict = {}\n",
        "kf = KFold(n_splits=n_k)\n",
        "at = 0.1\n",
        "\n",
        "for i, index in enumerate(kf.split(data)):\n",
        "  train_index = index[0]\n",
        "  test_index = index[1]\n",
        "  \n",
        "  k = \"K {}\".format(i)\n",
        "  \n",
        "  print(k)\n",
        "  training_data = data[train_index[0]:train_index[-1]+1]\n",
        "  testing_data = data[test_index[0]:test_index[-1]+1]\n",
        "  \n",
        "  result = net.SGD(training_data, epoch, 10, at,test_data=testing_data, tipo_fun='sigmoid')\n",
        "  acertos_dict[k] = result"
      ],
      "execution_count": 0,
      "outputs": [
        {
          "output_type": "stream",
          "text": [
            "K 0\n",
            "Total Input 17500 / Total predict 902\n",
            "K 1\n",
            "Total Input 17500 / Total predict 4794\n",
            "K 2\n",
            "Total Input 17500 / Total predict 5085\n",
            "K 3\n",
            "Total Input 17500 / Total predict 1898\n"
          ],
          "name": "stdout"
        }
      ]
    },
    {
      "metadata": {
        "colab_type": "code",
        "id": "_0cdQo57xwbX",
        "outputId": "cd1c6302-1ee1-44bf-da6e-9291a94ae439",
        "colab": {
          "base_uri": "https://localhost:8080/",
          "height": 175
        }
      },
      "cell_type": "code",
      "source": [
        "teste5 = pd.DataFrame({\n",
        "    'K': np.arange(kf.get_n_splits(data)),\n",
        "    'Acertos': list(acertos_dict.values())\n",
        "})\n",
        "\n",
        "teste5"
      ],
      "execution_count": 0,
      "outputs": [
        {
          "output_type": "execute_result",
          "data": {
            "text/html": [
              "<div>\n",
              "<style scoped>\n",
              "    .dataframe tbody tr th:only-of-type {\n",
              "        vertical-align: middle;\n",
              "    }\n",
              "\n",
              "    .dataframe tbody tr th {\n",
              "        vertical-align: top;\n",
              "    }\n",
              "\n",
              "    .dataframe thead th {\n",
              "        text-align: right;\n",
              "    }\n",
              "</style>\n",
              "<table border=\"1\" class=\"dataframe\">\n",
              "  <thead>\n",
              "    <tr style=\"text-align: right;\">\n",
              "      <th></th>\n",
              "      <th>K</th>\n",
              "      <th>Acertos</th>\n",
              "    </tr>\n",
              "  </thead>\n",
              "  <tbody>\n",
              "    <tr>\n",
              "      <th>0</th>\n",
              "      <td>0</td>\n",
              "      <td>902</td>\n",
              "    </tr>\n",
              "    <tr>\n",
              "      <th>1</th>\n",
              "      <td>1</td>\n",
              "      <td>4794</td>\n",
              "    </tr>\n",
              "    <tr>\n",
              "      <th>2</th>\n",
              "      <td>2</td>\n",
              "      <td>5085</td>\n",
              "    </tr>\n",
              "    <tr>\n",
              "      <th>3</th>\n",
              "      <td>3</td>\n",
              "      <td>1898</td>\n",
              "    </tr>\n",
              "  </tbody>\n",
              "</table>\n",
              "</div>"
            ],
            "text/plain": [
              "   K  Acertos\n",
              "0  0      902\n",
              "1  1     4794\n",
              "2  2     5085\n",
              "3  3     1898"
            ]
          },
          "metadata": {
            "tags": []
          },
          "execution_count": 55
        }
      ]
    },
    {
      "metadata": {
        "colab_type": "code",
        "id": "3x5ZCex8xwba",
        "outputId": "1d6d187f-4117-4c58-ff88-1640c333d4a5",
        "colab": {
          "base_uri": "https://localhost:8080/",
          "height": 35
        }
      },
      "cell_type": "code",
      "source": [
        "media = teste5['Acertos'].mean()\n",
        "\n",
        "media"
      ],
      "execution_count": 0,
      "outputs": [
        {
          "output_type": "execute_result",
          "data": {
            "text/plain": [
              "3169.75"
            ]
          },
          "metadata": {
            "tags": []
          },
          "execution_count": 56
        }
      ]
    },
    {
      "metadata": {
        "colab_type": "code",
        "id": "j-FwGHQC0nTm",
        "colab": {}
      },
      "cell_type": "code",
      "source": [
        "funcao_ativacao_list.append('sigmoid')\n",
        "rede.append('rede 1')\n",
        "taxa_aprendizagem.append(at)\n",
        "medias.append(media)"
      ],
      "execution_count": 0,
      "outputs": []
    },
    {
      "metadata": {
        "colab_type": "text",
        "id": "NZ5inJK8xwbd"
      },
      "cell_type": "markdown",
      "source": [
        "#### Taxa de aprendizagem - 0.001"
      ]
    },
    {
      "metadata": {
        "colab_type": "code",
        "outputId": "c16dee8b-bdd4-4e33-c8e9-7bee0e11b573",
        "id": "DRPzL7Yzxwbf",
        "colab": {
          "base_uri": "https://localhost:8080/",
          "height": 164
        }
      },
      "cell_type": "code",
      "source": [
        "net = Network(tamanho)\n",
        "acertos_dict = {}\n",
        "kf = KFold(n_splits=n_k)\n",
        "at = 0.001\n",
        "\n",
        "for i, index in enumerate(kf.split(data)):\n",
        "  train_index = index[0]\n",
        "  test_index = index[1]\n",
        "  \n",
        "  k = \"K {}\".format(i)\n",
        "  \n",
        "  print(k)\n",
        "  training_data = data[train_index[0]:train_index[-1]+1]\n",
        "  testing_data = data[test_index[0]:test_index[-1]+1]\n",
        "  \n",
        "  result = net.SGD(training_data, epoch, 10, at,test_data=testing_data, tipo_fun='sigmoid')\n",
        "  acertos_dict[k] = result"
      ],
      "execution_count": 0,
      "outputs": [
        {
          "output_type": "stream",
          "text": [
            "K 0\n",
            "Total Input 17500 / Total predict 1648\n",
            "K 1\n",
            "Total Input 17500 / Total predict 1727\n",
            "K 2\n",
            "Total Input 17500 / Total predict 1562\n",
            "K 3\n",
            "Total Input 17500 / Total predict 0\n"
          ],
          "name": "stdout"
        }
      ]
    },
    {
      "metadata": {
        "colab_type": "code",
        "id": "Lc-e7Oc5xwbj",
        "outputId": "861d79ea-4943-4dde-cae4-ecae76b95f21",
        "colab": {
          "base_uri": "https://localhost:8080/",
          "height": 175
        }
      },
      "cell_type": "code",
      "source": [
        "teste6 = pd.DataFrame({\n",
        "    'K': np.arange(kf.get_n_splits(data)),\n",
        "    'Acertos': list(acertos_dict.values())\n",
        "})\n",
        "\n",
        "teste6"
      ],
      "execution_count": 0,
      "outputs": [
        {
          "output_type": "execute_result",
          "data": {
            "text/html": [
              "<div>\n",
              "<style scoped>\n",
              "    .dataframe tbody tr th:only-of-type {\n",
              "        vertical-align: middle;\n",
              "    }\n",
              "\n",
              "    .dataframe tbody tr th {\n",
              "        vertical-align: top;\n",
              "    }\n",
              "\n",
              "    .dataframe thead th {\n",
              "        text-align: right;\n",
              "    }\n",
              "</style>\n",
              "<table border=\"1\" class=\"dataframe\">\n",
              "  <thead>\n",
              "    <tr style=\"text-align: right;\">\n",
              "      <th></th>\n",
              "      <th>K</th>\n",
              "      <th>Acertos</th>\n",
              "    </tr>\n",
              "  </thead>\n",
              "  <tbody>\n",
              "    <tr>\n",
              "      <th>0</th>\n",
              "      <td>0</td>\n",
              "      <td>1648</td>\n",
              "    </tr>\n",
              "    <tr>\n",
              "      <th>1</th>\n",
              "      <td>1</td>\n",
              "      <td>1727</td>\n",
              "    </tr>\n",
              "    <tr>\n",
              "      <th>2</th>\n",
              "      <td>2</td>\n",
              "      <td>1562</td>\n",
              "    </tr>\n",
              "    <tr>\n",
              "      <th>3</th>\n",
              "      <td>3</td>\n",
              "      <td>0</td>\n",
              "    </tr>\n",
              "  </tbody>\n",
              "</table>\n",
              "</div>"
            ],
            "text/plain": [
              "   K  Acertos\n",
              "0  0     1648\n",
              "1  1     1727\n",
              "2  2     1562\n",
              "3  3        0"
            ]
          },
          "metadata": {
            "tags": []
          },
          "execution_count": 59
        }
      ]
    },
    {
      "metadata": {
        "colab_type": "code",
        "id": "6IZTeu0Wxwbl",
        "outputId": "6ce9d348-a8ef-4aa0-bf1b-6d27b168f86a",
        "colab": {
          "base_uri": "https://localhost:8080/",
          "height": 35
        }
      },
      "cell_type": "code",
      "source": [
        "media = teste6['Acertos'].mean()\n",
        "\n",
        "media"
      ],
      "execution_count": 0,
      "outputs": [
        {
          "output_type": "execute_result",
          "data": {
            "text/plain": [
              "1234.25"
            ]
          },
          "metadata": {
            "tags": []
          },
          "execution_count": 60
        }
      ]
    },
    {
      "metadata": {
        "colab_type": "code",
        "id": "MMAxrYVy0r7c",
        "colab": {}
      },
      "cell_type": "code",
      "source": [
        "funcao_ativacao_list.append('sigmoid')\n",
        "rede.append('rede 1')\n",
        "taxa_aprendizagem.append(at)\n",
        "medias.append(media)"
      ],
      "execution_count": 0,
      "outputs": []
    },
    {
      "metadata": {
        "colab_type": "text",
        "id": "v5DQ3AOoyT9t"
      },
      "cell_type": "markdown",
      "source": [
        "## Rede 2 -> Configuração 784-50-10"
      ]
    },
    {
      "metadata": {
        "id": "PqoD_GniyZkX",
        "colab_type": "code",
        "colab": {}
      },
      "cell_type": "code",
      "source": [
        "tamanho = [784, 50, 10]"
      ],
      "execution_count": 0,
      "outputs": []
    },
    {
      "metadata": {
        "colab_type": "text",
        "id": "Y4xZ0WH8yT9u"
      },
      "cell_type": "markdown",
      "source": [
        "### Função ativação - Relu"
      ]
    },
    {
      "metadata": {
        "colab_type": "text",
        "id": "l9vY__KayT9u"
      },
      "cell_type": "markdown",
      "source": [
        "#### Taxa de aprendizagem - 0.5"
      ]
    },
    {
      "metadata": {
        "colab_type": "code",
        "id": "31GuRH1TyT9v",
        "outputId": "71949b40-9621-4feb-f498-f63310aac91c",
        "colab": {
          "base_uri": "https://localhost:8080/",
          "height": 237
        }
      },
      "cell_type": "code",
      "source": [
        "net = Network(tamanho)\n",
        "acertos_dict = {}\n",
        "kf = KFold(n_splits=n_k)\n",
        "at = 0.5\n",
        "\n",
        "for i, index in enumerate(kf.split(data)):\n",
        "  train_index = index[0]\n",
        "  test_index = index[1]\n",
        "  \n",
        "  k = \"K {}\".format(i)\n",
        "  \n",
        "  print(k)\n",
        "  training_data = data[train_index[0]:train_index[-1]+1]\n",
        "  testing_data = data[test_index[0]:test_index[-1]+1]\n",
        "  \n",
        "  result = net.SGD(training_data, epoch, 10, at,test_data=testing_data, tipo_fun='relu')\n",
        "  acertos_dict[k] = result"
      ],
      "execution_count": 0,
      "outputs": [
        {
          "output_type": "stream",
          "text": [
            "K 0\n"
          ],
          "name": "stdout"
        },
        {
          "output_type": "stream",
          "text": [
            "/usr/local/lib/python3.6/dist-packages/ipykernel_launcher.py:87: RuntimeWarning: overflow encountered in multiply\n",
            "/usr/local/lib/python3.6/dist-packages/ipykernel_launcher.py:95: RuntimeWarning: invalid value encountered in multiply\n",
            "/usr/local/lib/python3.6/dist-packages/ipykernel_launcher.py:14: RuntimeWarning: overflow encountered in multiply\n",
            "  \n"
          ],
          "name": "stderr"
        },
        {
          "output_type": "stream",
          "text": [
            "Total Input 17500 / Total predict 1829\n",
            "K 1\n",
            "Total Input 17500 / Total predict 1747\n",
            "K 2\n",
            "Total Input 17500 / Total predict 1525\n",
            "K 3\n",
            "Total Input 17500 / Total predict 0\n"
          ],
          "name": "stdout"
        }
      ]
    },
    {
      "metadata": {
        "colab_type": "code",
        "id": "yEnFgKXLyT9x",
        "outputId": "54ed1171-2959-43bc-ddff-ed9c5ae3ee0e",
        "colab": {
          "base_uri": "https://localhost:8080/",
          "height": 175
        }
      },
      "cell_type": "code",
      "source": [
        "teste7 = pd.DataFrame({\n",
        "    'K': np.arange(kf.get_n_splits(data)),\n",
        "    'Acertos': list(acertos_dict.values())\n",
        "})\n",
        "\n",
        "teste7"
      ],
      "execution_count": 0,
      "outputs": [
        {
          "output_type": "execute_result",
          "data": {
            "text/html": [
              "<div>\n",
              "<style scoped>\n",
              "    .dataframe tbody tr th:only-of-type {\n",
              "        vertical-align: middle;\n",
              "    }\n",
              "\n",
              "    .dataframe tbody tr th {\n",
              "        vertical-align: top;\n",
              "    }\n",
              "\n",
              "    .dataframe thead th {\n",
              "        text-align: right;\n",
              "    }\n",
              "</style>\n",
              "<table border=\"1\" class=\"dataframe\">\n",
              "  <thead>\n",
              "    <tr style=\"text-align: right;\">\n",
              "      <th></th>\n",
              "      <th>K</th>\n",
              "      <th>Acertos</th>\n",
              "    </tr>\n",
              "  </thead>\n",
              "  <tbody>\n",
              "    <tr>\n",
              "      <th>0</th>\n",
              "      <td>0</td>\n",
              "      <td>1829</td>\n",
              "    </tr>\n",
              "    <tr>\n",
              "      <th>1</th>\n",
              "      <td>1</td>\n",
              "      <td>1747</td>\n",
              "    </tr>\n",
              "    <tr>\n",
              "      <th>2</th>\n",
              "      <td>2</td>\n",
              "      <td>1525</td>\n",
              "    </tr>\n",
              "    <tr>\n",
              "      <th>3</th>\n",
              "      <td>3</td>\n",
              "      <td>0</td>\n",
              "    </tr>\n",
              "  </tbody>\n",
              "</table>\n",
              "</div>"
            ],
            "text/plain": [
              "   K  Acertos\n",
              "0  0     1829\n",
              "1  1     1747\n",
              "2  2     1525\n",
              "3  3        0"
            ]
          },
          "metadata": {
            "tags": []
          },
          "execution_count": 64
        }
      ]
    },
    {
      "metadata": {
        "colab_type": "code",
        "id": "im_Hxp1RyT9z",
        "outputId": "e99226f5-ec01-4047-c67d-bb62943eaa05",
        "colab": {
          "base_uri": "https://localhost:8080/",
          "height": 35
        }
      },
      "cell_type": "code",
      "source": [
        "media = teste7['Acertos'].mean()\n",
        "\n",
        "media"
      ],
      "execution_count": 0,
      "outputs": [
        {
          "output_type": "execute_result",
          "data": {
            "text/plain": [
              "1275.25"
            ]
          },
          "metadata": {
            "tags": []
          },
          "execution_count": 65
        }
      ]
    },
    {
      "metadata": {
        "colab_type": "code",
        "id": "xJjcjcWJ0yaE",
        "colab": {}
      },
      "cell_type": "code",
      "source": [
        "funcao_ativacao_list.append('relu')\n",
        "rede.append('rede 2')\n",
        "taxa_aprendizagem.append(at)\n",
        "medias.append(media)"
      ],
      "execution_count": 0,
      "outputs": []
    },
    {
      "metadata": {
        "colab_type": "text",
        "id": "wiAuaujHyT95"
      },
      "cell_type": "markdown",
      "source": [
        "#### Taxa de aprendizagem - 0.1"
      ]
    },
    {
      "metadata": {
        "colab_type": "code",
        "outputId": "22642fd1-7102-4abb-dae8-a34761dfaed7",
        "id": "sPFW9RXlyT96",
        "colab": {
          "base_uri": "https://localhost:8080/",
          "height": 256
        }
      },
      "cell_type": "code",
      "source": [
        "net = Network(tamanho)\n",
        "acertos_dict = {}\n",
        "kf = KFold(n_splits=n_k)\n",
        "at = 0.1\n",
        "\n",
        "for i, index in enumerate(kf.split(data)):\n",
        "  train_index = index[0]\n",
        "  test_index = index[1]\n",
        "  \n",
        "  k = \"K {}\".format(i)\n",
        "  \n",
        "  print(k)\n",
        "  training_data = data[train_index[0]:train_index[-1]+1]\n",
        "  testing_data = data[test_index[0]:test_index[-1]+1]\n",
        "  \n",
        "  result = net.SGD(training_data, epoch, 10, at,test_data=testing_data, tipo_fun='relu')\n",
        "  acertos_dict[k] = result"
      ],
      "execution_count": 0,
      "outputs": [
        {
          "output_type": "stream",
          "text": [
            "K 0\n"
          ],
          "name": "stdout"
        },
        {
          "output_type": "stream",
          "text": [
            "/usr/local/lib/python3.6/dist-packages/ipykernel_launcher.py:95: RuntimeWarning: overflow encountered in multiply\n",
            "/usr/local/lib/python3.6/dist-packages/ipykernel_launcher.py:14: RuntimeWarning: overflow encountered in multiply\n",
            "  \n",
            "/usr/local/lib/python3.6/dist-packages/ipykernel_launcher.py:87: RuntimeWarning: overflow encountered in multiply\n",
            "/usr/local/lib/python3.6/dist-packages/ipykernel_launcher.py:95: RuntimeWarning: invalid value encountered in multiply\n"
          ],
          "name": "stderr"
        },
        {
          "output_type": "stream",
          "text": [
            "Total Input 17500 / Total predict 1741\n",
            "K 1\n",
            "Total Input 17500 / Total predict 1693\n",
            "K 2\n",
            "Total Input 17500 / Total predict 3998\n",
            "K 3\n",
            "Total Input 17500 / Total predict 17500\n"
          ],
          "name": "stdout"
        }
      ]
    },
    {
      "metadata": {
        "colab_type": "code",
        "id": "InXPUWvSyT9-",
        "outputId": "18cf3889-d623-4817-b3e4-44f46a3060dc",
        "colab": {
          "base_uri": "https://localhost:8080/",
          "height": 175
        }
      },
      "cell_type": "code",
      "source": [
        "teste8 = pd.DataFrame({\n",
        "    'K': np.arange(kf.get_n_splits(data)),\n",
        "    'Acertos': list(acertos_dict.values())\n",
        "})\n",
        "\n",
        "teste8"
      ],
      "execution_count": 0,
      "outputs": [
        {
          "output_type": "execute_result",
          "data": {
            "text/html": [
              "<div>\n",
              "<style scoped>\n",
              "    .dataframe tbody tr th:only-of-type {\n",
              "        vertical-align: middle;\n",
              "    }\n",
              "\n",
              "    .dataframe tbody tr th {\n",
              "        vertical-align: top;\n",
              "    }\n",
              "\n",
              "    .dataframe thead th {\n",
              "        text-align: right;\n",
              "    }\n",
              "</style>\n",
              "<table border=\"1\" class=\"dataframe\">\n",
              "  <thead>\n",
              "    <tr style=\"text-align: right;\">\n",
              "      <th></th>\n",
              "      <th>K</th>\n",
              "      <th>Acertos</th>\n",
              "    </tr>\n",
              "  </thead>\n",
              "  <tbody>\n",
              "    <tr>\n",
              "      <th>0</th>\n",
              "      <td>0</td>\n",
              "      <td>1741</td>\n",
              "    </tr>\n",
              "    <tr>\n",
              "      <th>1</th>\n",
              "      <td>1</td>\n",
              "      <td>1693</td>\n",
              "    </tr>\n",
              "    <tr>\n",
              "      <th>2</th>\n",
              "      <td>2</td>\n",
              "      <td>3998</td>\n",
              "    </tr>\n",
              "    <tr>\n",
              "      <th>3</th>\n",
              "      <td>3</td>\n",
              "      <td>17500</td>\n",
              "    </tr>\n",
              "  </tbody>\n",
              "</table>\n",
              "</div>"
            ],
            "text/plain": [
              "   K  Acertos\n",
              "0  0     1741\n",
              "1  1     1693\n",
              "2  2     3998\n",
              "3  3    17500"
            ]
          },
          "metadata": {
            "tags": []
          },
          "execution_count": 68
        }
      ]
    },
    {
      "metadata": {
        "colab_type": "code",
        "id": "C-xbNT-wyT-D",
        "outputId": "8193e2c5-413e-4a6e-c357-29535a3e0262",
        "colab": {
          "base_uri": "https://localhost:8080/",
          "height": 35
        }
      },
      "cell_type": "code",
      "source": [
        "media = teste8['Acertos'].mean()\n",
        "\n",
        "media"
      ],
      "execution_count": 0,
      "outputs": [
        {
          "output_type": "execute_result",
          "data": {
            "text/plain": [
              "6233.0"
            ]
          },
          "metadata": {
            "tags": []
          },
          "execution_count": 69
        }
      ]
    },
    {
      "metadata": {
        "colab_type": "code",
        "id": "51ihpE0p03S1",
        "colab": {}
      },
      "cell_type": "code",
      "source": [
        "funcao_ativacao_list.append('relu')\n",
        "rede.append('rede 2')\n",
        "taxa_aprendizagem.append(at)\n",
        "medias.append(media)"
      ],
      "execution_count": 0,
      "outputs": []
    },
    {
      "metadata": {
        "colab_type": "text",
        "id": "c5TDC1NmyT-F"
      },
      "cell_type": "markdown",
      "source": [
        "#### Taxa de aprendizagem - 0.001"
      ]
    },
    {
      "metadata": {
        "colab_type": "code",
        "outputId": "e5d7ae0f-a659-40a3-a761-34a4c4c1950e",
        "id": "QfMfaz60yT-G",
        "colab": {
          "base_uri": "https://localhost:8080/",
          "height": 237
        }
      },
      "cell_type": "code",
      "source": [
        "net = Network(tamanho)\n",
        "acertos_dict = {}\n",
        "kf = KFold(n_splits=n_k)\n",
        "at = 0.001\n",
        "\n",
        "for i, index in enumerate(kf.split(data)):\n",
        "  train_index = index[0]\n",
        "  test_index = index[1]\n",
        "  \n",
        "  k = \"K {}\".format(i)\n",
        "  \n",
        "  print(k)\n",
        "  training_data = data[train_index[0]:train_index[-1]+1]\n",
        "  testing_data = data[test_index[0]:test_index[-1]+1]\n",
        "  \n",
        "  result = net.SGD(training_data, epoch, 10, at,test_data=testing_data, tipo_fun='relu')\n",
        "  acertos_dict[k] = result"
      ],
      "execution_count": 0,
      "outputs": [
        {
          "output_type": "stream",
          "text": [
            "K 0\n"
          ],
          "name": "stdout"
        },
        {
          "output_type": "stream",
          "text": [
            "/usr/local/lib/python3.6/dist-packages/ipykernel_launcher.py:14: RuntimeWarning: overflow encountered in multiply\n",
            "  \n",
            "/usr/local/lib/python3.6/dist-packages/ipykernel_launcher.py:87: RuntimeWarning: overflow encountered in multiply\n",
            "/usr/local/lib/python3.6/dist-packages/ipykernel_launcher.py:95: RuntimeWarning: invalid value encountered in multiply\n"
          ],
          "name": "stderr"
        },
        {
          "output_type": "stream",
          "text": [
            "Total Input 17500 / Total predict 1741\n",
            "K 1\n",
            "Total Input 17500 / Total predict 1693\n",
            "K 2\n",
            "Total Input 17500 / Total predict 3998\n",
            "K 3\n",
            "Total Input 17500 / Total predict 17500\n"
          ],
          "name": "stdout"
        }
      ]
    },
    {
      "metadata": {
        "colab_type": "code",
        "id": "AeYfJe6vyT-I",
        "outputId": "1ad0266b-b22b-4c78-b68c-199f4e233bd7",
        "colab": {
          "base_uri": "https://localhost:8080/",
          "height": 175
        }
      },
      "cell_type": "code",
      "source": [
        "teste9 = pd.DataFrame({\n",
        "    'K': np.arange(kf.get_n_splits(data)),\n",
        "    'Acertos': list(acertos_dict.values())\n",
        "})\n",
        "\n",
        "teste9"
      ],
      "execution_count": 0,
      "outputs": [
        {
          "output_type": "execute_result",
          "data": {
            "text/html": [
              "<div>\n",
              "<style scoped>\n",
              "    .dataframe tbody tr th:only-of-type {\n",
              "        vertical-align: middle;\n",
              "    }\n",
              "\n",
              "    .dataframe tbody tr th {\n",
              "        vertical-align: top;\n",
              "    }\n",
              "\n",
              "    .dataframe thead th {\n",
              "        text-align: right;\n",
              "    }\n",
              "</style>\n",
              "<table border=\"1\" class=\"dataframe\">\n",
              "  <thead>\n",
              "    <tr style=\"text-align: right;\">\n",
              "      <th></th>\n",
              "      <th>K</th>\n",
              "      <th>Acertos</th>\n",
              "    </tr>\n",
              "  </thead>\n",
              "  <tbody>\n",
              "    <tr>\n",
              "      <th>0</th>\n",
              "      <td>0</td>\n",
              "      <td>1741</td>\n",
              "    </tr>\n",
              "    <tr>\n",
              "      <th>1</th>\n",
              "      <td>1</td>\n",
              "      <td>1693</td>\n",
              "    </tr>\n",
              "    <tr>\n",
              "      <th>2</th>\n",
              "      <td>2</td>\n",
              "      <td>3998</td>\n",
              "    </tr>\n",
              "    <tr>\n",
              "      <th>3</th>\n",
              "      <td>3</td>\n",
              "      <td>17500</td>\n",
              "    </tr>\n",
              "  </tbody>\n",
              "</table>\n",
              "</div>"
            ],
            "text/plain": [
              "   K  Acertos\n",
              "0  0     1741\n",
              "1  1     1693\n",
              "2  2     3998\n",
              "3  3    17500"
            ]
          },
          "metadata": {
            "tags": []
          },
          "execution_count": 72
        }
      ]
    },
    {
      "metadata": {
        "colab_type": "code",
        "id": "UxLeSYB3yT-L",
        "outputId": "bff4676a-1d5e-4cb1-ab46-630e3dc29332",
        "colab": {
          "base_uri": "https://localhost:8080/",
          "height": 35
        }
      },
      "cell_type": "code",
      "source": [
        "media = teste9['Acertos'].mean()\n",
        "\n",
        "media"
      ],
      "execution_count": 0,
      "outputs": [
        {
          "output_type": "execute_result",
          "data": {
            "text/plain": [
              "6233.0"
            ]
          },
          "metadata": {
            "tags": []
          },
          "execution_count": 73
        }
      ]
    },
    {
      "metadata": {
        "colab_type": "code",
        "id": "8EHMwW_j08f5",
        "colab": {}
      },
      "cell_type": "code",
      "source": [
        "funcao_ativacao_list.append('relu')\n",
        "rede.append('rede 2')\n",
        "taxa_aprendizagem.append(at)\n",
        "medias.append(media)"
      ],
      "execution_count": 0,
      "outputs": []
    },
    {
      "metadata": {
        "colab_type": "text",
        "id": "G36F1UbFyT-N"
      },
      "cell_type": "markdown",
      "source": [
        "### Função ativação - Sigmoid"
      ]
    },
    {
      "metadata": {
        "colab_type": "text",
        "id": "tNQRqou0yT-O"
      },
      "cell_type": "markdown",
      "source": [
        "#### Taxa de aprendizagem - 0.5"
      ]
    },
    {
      "metadata": {
        "colab_type": "code",
        "id": "RP4yCZmqyT-O",
        "outputId": "c130dc29-357c-408d-ec6a-0f4433bf1d57",
        "colab": {
          "base_uri": "https://localhost:8080/",
          "height": 164
        }
      },
      "cell_type": "code",
      "source": [
        "net = Network(tamanho)\n",
        "acertos_dict = {}\n",
        "kf = KFold(n_splits=n_k)\n",
        "at = 0.5\n",
        "\n",
        "for i, index in enumerate(kf.split(data)):\n",
        "  train_index = index[0]\n",
        "  test_index = index[1]\n",
        "  \n",
        "  k = \"K {}\".format(i)\n",
        "  \n",
        "  print(k)\n",
        "  training_data = data[train_index[0]:train_index[-1]+1]\n",
        "  testing_data = data[test_index[0]:test_index[-1]+1]\n",
        "  \n",
        "  result = net.SGD(training_data, epoch, 10, at,test_data=testing_data, tipo_fun='sigmoid')\n",
        "  acertos_dict[k] = result"
      ],
      "execution_count": 0,
      "outputs": [
        {
          "output_type": "stream",
          "text": [
            "K 0\n",
            "Total Input 17500 / Total predict 2428\n",
            "K 1\n",
            "Total Input 17500 / Total predict 1636\n",
            "K 2\n",
            "Total Input 17500 / Total predict 1561\n",
            "K 3\n",
            "Total Input 17500 / Total predict 2\n"
          ],
          "name": "stdout"
        }
      ]
    },
    {
      "metadata": {
        "colab_type": "code",
        "id": "M6tpUySPyT-R",
        "outputId": "e0526c15-d598-48dc-bde6-4484cad40e7e",
        "colab": {
          "base_uri": "https://localhost:8080/",
          "height": 175
        }
      },
      "cell_type": "code",
      "source": [
        "teste10 = pd.DataFrame({\n",
        "    'K': np.arange(kf.get_n_splits(data)),\n",
        "    'Acertos': list(acertos_dict.values())\n",
        "})\n",
        "\n",
        "teste10"
      ],
      "execution_count": 0,
      "outputs": [
        {
          "output_type": "execute_result",
          "data": {
            "text/html": [
              "<div>\n",
              "<style scoped>\n",
              "    .dataframe tbody tr th:only-of-type {\n",
              "        vertical-align: middle;\n",
              "    }\n",
              "\n",
              "    .dataframe tbody tr th {\n",
              "        vertical-align: top;\n",
              "    }\n",
              "\n",
              "    .dataframe thead th {\n",
              "        text-align: right;\n",
              "    }\n",
              "</style>\n",
              "<table border=\"1\" class=\"dataframe\">\n",
              "  <thead>\n",
              "    <tr style=\"text-align: right;\">\n",
              "      <th></th>\n",
              "      <th>K</th>\n",
              "      <th>Acertos</th>\n",
              "    </tr>\n",
              "  </thead>\n",
              "  <tbody>\n",
              "    <tr>\n",
              "      <th>0</th>\n",
              "      <td>0</td>\n",
              "      <td>2428</td>\n",
              "    </tr>\n",
              "    <tr>\n",
              "      <th>1</th>\n",
              "      <td>1</td>\n",
              "      <td>1636</td>\n",
              "    </tr>\n",
              "    <tr>\n",
              "      <th>2</th>\n",
              "      <td>2</td>\n",
              "      <td>1561</td>\n",
              "    </tr>\n",
              "    <tr>\n",
              "      <th>3</th>\n",
              "      <td>3</td>\n",
              "      <td>2</td>\n",
              "    </tr>\n",
              "  </tbody>\n",
              "</table>\n",
              "</div>"
            ],
            "text/plain": [
              "   K  Acertos\n",
              "0  0     2428\n",
              "1  1     1636\n",
              "2  2     1561\n",
              "3  3        2"
            ]
          },
          "metadata": {
            "tags": []
          },
          "execution_count": 76
        }
      ]
    },
    {
      "metadata": {
        "colab_type": "code",
        "id": "VT6sLQWIyT-S",
        "outputId": "acc68107-397e-4532-dfc1-e78b45bd039d",
        "colab": {
          "base_uri": "https://localhost:8080/",
          "height": 35
        }
      },
      "cell_type": "code",
      "source": [
        "media = teste10['Acertos'].mean()\n",
        "\n",
        "media"
      ],
      "execution_count": 0,
      "outputs": [
        {
          "output_type": "execute_result",
          "data": {
            "text/plain": [
              "1406.75"
            ]
          },
          "metadata": {
            "tags": []
          },
          "execution_count": 77
        }
      ]
    },
    {
      "metadata": {
        "colab_type": "code",
        "id": "dtS9PjiA0_lh",
        "colab": {}
      },
      "cell_type": "code",
      "source": [
        "funcao_ativacao_list.append('sigmoid')\n",
        "rede.append('rede 2')\n",
        "taxa_aprendizagem.append(at)\n",
        "medias.append(media)"
      ],
      "execution_count": 0,
      "outputs": []
    },
    {
      "metadata": {
        "colab_type": "text",
        "id": "9VfRf1KPyT-U"
      },
      "cell_type": "markdown",
      "source": [
        "#### Taxa de aprendizagem - 0.1"
      ]
    },
    {
      "metadata": {
        "colab_type": "code",
        "id": "w0vHk4OlyT-U",
        "outputId": "4ef65234-7b0b-4228-e882-dab551a8e6aa",
        "colab": {
          "base_uri": "https://localhost:8080/",
          "height": 164
        }
      },
      "cell_type": "code",
      "source": [
        "net = Network(tamanho)\n",
        "acertos_dict = {}\n",
        "kf = KFold(n_splits=n_k)\n",
        "at = 0.1\n",
        "\n",
        "for i, index in enumerate(kf.split(data)):\n",
        "  train_index = index[0]\n",
        "  test_index = index[1]\n",
        "  \n",
        "  k = \"K {}\".format(i)\n",
        "  \n",
        "  print(k)\n",
        "  training_data = data[train_index[0]:train_index[-1]+1]\n",
        "  testing_data = data[test_index[0]:test_index[-1]+1]\n",
        "  \n",
        "  result = net.SGD(training_data, epoch, 10, at,test_data=testing_data, tipo_fun='sigmoid')\n",
        "  acertos_dict[k] = result"
      ],
      "execution_count": 0,
      "outputs": [
        {
          "output_type": "stream",
          "text": [
            "K 0\n",
            "Total Input 17500 / Total predict 2225\n",
            "K 1\n",
            "Total Input 17500 / Total predict 1998\n",
            "K 2\n",
            "Total Input 17500 / Total predict 1384\n",
            "K 3\n",
            "Total Input 17500 / Total predict 0\n"
          ],
          "name": "stdout"
        }
      ]
    },
    {
      "metadata": {
        "colab_type": "code",
        "id": "nN-XHAzFyT-W",
        "outputId": "94e68dc0-4257-42af-cc7e-d1e1a713a085",
        "colab": {
          "base_uri": "https://localhost:8080/",
          "height": 175
        }
      },
      "cell_type": "code",
      "source": [
        "teste11 = pd.DataFrame({\n",
        "    'K': np.arange(kf.get_n_splits(data)),\n",
        "    'Acertos': list(acertos_dict.values())\n",
        "})\n",
        "\n",
        "teste11"
      ],
      "execution_count": 0,
      "outputs": [
        {
          "output_type": "execute_result",
          "data": {
            "text/html": [
              "<div>\n",
              "<style scoped>\n",
              "    .dataframe tbody tr th:only-of-type {\n",
              "        vertical-align: middle;\n",
              "    }\n",
              "\n",
              "    .dataframe tbody tr th {\n",
              "        vertical-align: top;\n",
              "    }\n",
              "\n",
              "    .dataframe thead th {\n",
              "        text-align: right;\n",
              "    }\n",
              "</style>\n",
              "<table border=\"1\" class=\"dataframe\">\n",
              "  <thead>\n",
              "    <tr style=\"text-align: right;\">\n",
              "      <th></th>\n",
              "      <th>K</th>\n",
              "      <th>Acertos</th>\n",
              "    </tr>\n",
              "  </thead>\n",
              "  <tbody>\n",
              "    <tr>\n",
              "      <th>0</th>\n",
              "      <td>0</td>\n",
              "      <td>2225</td>\n",
              "    </tr>\n",
              "    <tr>\n",
              "      <th>1</th>\n",
              "      <td>1</td>\n",
              "      <td>1998</td>\n",
              "    </tr>\n",
              "    <tr>\n",
              "      <th>2</th>\n",
              "      <td>2</td>\n",
              "      <td>1384</td>\n",
              "    </tr>\n",
              "    <tr>\n",
              "      <th>3</th>\n",
              "      <td>3</td>\n",
              "      <td>0</td>\n",
              "    </tr>\n",
              "  </tbody>\n",
              "</table>\n",
              "</div>"
            ],
            "text/plain": [
              "   K  Acertos\n",
              "0  0     2225\n",
              "1  1     1998\n",
              "2  2     1384\n",
              "3  3        0"
            ]
          },
          "metadata": {
            "tags": []
          },
          "execution_count": 80
        }
      ]
    },
    {
      "metadata": {
        "colab_type": "code",
        "id": "Yu-NqU1oyT-Y",
        "outputId": "75199551-3b00-4940-e658-8b61a1828733",
        "colab": {
          "base_uri": "https://localhost:8080/",
          "height": 35
        }
      },
      "cell_type": "code",
      "source": [
        "media = teste11['Acertos'].mean()\n",
        "\n",
        "media"
      ],
      "execution_count": 0,
      "outputs": [
        {
          "output_type": "execute_result",
          "data": {
            "text/plain": [
              "1401.75"
            ]
          },
          "metadata": {
            "tags": []
          },
          "execution_count": 81
        }
      ]
    },
    {
      "metadata": {
        "colab_type": "code",
        "id": "Dl9WHODO1Ftr",
        "colab": {}
      },
      "cell_type": "code",
      "source": [
        "funcao_ativacao_list.append('sigmoid')\n",
        "rede.append('rede 2')\n",
        "taxa_aprendizagem.append(at)\n",
        "medias.append(media)"
      ],
      "execution_count": 0,
      "outputs": []
    },
    {
      "metadata": {
        "colab_type": "text",
        "id": "D2fNRSEZyT-b"
      },
      "cell_type": "markdown",
      "source": [
        "#### Taxa de aprendizagem - 0.001"
      ]
    },
    {
      "metadata": {
        "colab_type": "code",
        "id": "6pzdNSgJyT-b",
        "outputId": "6dd85dcf-88a3-4270-a1ec-cb1ffb708b6b",
        "colab": {
          "base_uri": "https://localhost:8080/",
          "height": 164
        }
      },
      "cell_type": "code",
      "source": [
        "net = Network(tamanho)\n",
        "acertos_dict = {}\n",
        "kf = KFold(n_splits=n_k)\n",
        "at = 0.001\n",
        "\n",
        "for i, index in enumerate(kf.split(data)):\n",
        "  train_index = index[0]\n",
        "  test_index = index[1]\n",
        "  \n",
        "  k = \"K {}\".format(i)\n",
        "  \n",
        "  print(k)\n",
        "  training_data = data[train_index[0]:train_index[-1]+1]\n",
        "  testing_data = data[test_index[0]:test_index[-1]+1]\n",
        "  \n",
        "  result = net.SGD(training_data, epoch, 10, at,test_data=testing_data, tipo_fun='sigmoid')\n",
        "  acertos_dict[k] = result"
      ],
      "execution_count": 0,
      "outputs": [
        {
          "output_type": "stream",
          "text": [
            "K 0\n",
            "Total Input 17500 / Total predict 1373\n",
            "K 1\n",
            "Total Input 17500 / Total predict 1473\n",
            "K 2\n",
            "Total Input 17500 / Total predict 1858\n",
            "K 3\n",
            "Total Input 17500 / Total predict 4013\n"
          ],
          "name": "stdout"
        }
      ]
    },
    {
      "metadata": {
        "colab_type": "code",
        "id": "cyWoC-4OyT-d",
        "outputId": "2e9f63eb-74ab-40d4-c614-6fd33a941f75",
        "colab": {
          "base_uri": "https://localhost:8080/",
          "height": 175
        }
      },
      "cell_type": "code",
      "source": [
        "teste12 = pd.DataFrame({\n",
        "    'K': np.arange(kf.get_n_splits(data)),\n",
        "    'Acertos': list(acertos_dict.values())\n",
        "})\n",
        "\n",
        "teste12"
      ],
      "execution_count": 0,
      "outputs": [
        {
          "output_type": "execute_result",
          "data": {
            "text/html": [
              "<div>\n",
              "<style scoped>\n",
              "    .dataframe tbody tr th:only-of-type {\n",
              "        vertical-align: middle;\n",
              "    }\n",
              "\n",
              "    .dataframe tbody tr th {\n",
              "        vertical-align: top;\n",
              "    }\n",
              "\n",
              "    .dataframe thead th {\n",
              "        text-align: right;\n",
              "    }\n",
              "</style>\n",
              "<table border=\"1\" class=\"dataframe\">\n",
              "  <thead>\n",
              "    <tr style=\"text-align: right;\">\n",
              "      <th></th>\n",
              "      <th>K</th>\n",
              "      <th>Acertos</th>\n",
              "    </tr>\n",
              "  </thead>\n",
              "  <tbody>\n",
              "    <tr>\n",
              "      <th>0</th>\n",
              "      <td>0</td>\n",
              "      <td>1373</td>\n",
              "    </tr>\n",
              "    <tr>\n",
              "      <th>1</th>\n",
              "      <td>1</td>\n",
              "      <td>1473</td>\n",
              "    </tr>\n",
              "    <tr>\n",
              "      <th>2</th>\n",
              "      <td>2</td>\n",
              "      <td>1858</td>\n",
              "    </tr>\n",
              "    <tr>\n",
              "      <th>3</th>\n",
              "      <td>3</td>\n",
              "      <td>4013</td>\n",
              "    </tr>\n",
              "  </tbody>\n",
              "</table>\n",
              "</div>"
            ],
            "text/plain": [
              "   K  Acertos\n",
              "0  0     1373\n",
              "1  1     1473\n",
              "2  2     1858\n",
              "3  3     4013"
            ]
          },
          "metadata": {
            "tags": []
          },
          "execution_count": 13
        }
      ]
    },
    {
      "metadata": {
        "colab_type": "code",
        "id": "fvFfFFUxyT-f",
        "outputId": "8c2009d2-572a-4a5b-af94-a46b8d1c5ecf",
        "colab": {
          "base_uri": "https://localhost:8080/",
          "height": 35
        }
      },
      "cell_type": "code",
      "source": [
        "media = teste12['Acertos'].mean()\n",
        "\n",
        "media"
      ],
      "execution_count": 0,
      "outputs": [
        {
          "output_type": "execute_result",
          "data": {
            "text/plain": [
              "2179.25"
            ]
          },
          "metadata": {
            "tags": []
          },
          "execution_count": 14
        }
      ]
    },
    {
      "metadata": {
        "colab_type": "code",
        "id": "saIeydI11IMk",
        "colab": {}
      },
      "cell_type": "code",
      "source": [
        "funcao_ativacao_list.append('sigmoid')\n",
        "rede.append('rede 2')\n",
        "taxa_aprendizagem.append(at)\n",
        "medias.append(media)"
      ],
      "execution_count": 0,
      "outputs": []
    },
    {
      "metadata": {
        "colab_type": "text",
        "id": "y1bgXfBQ2LpX"
      },
      "cell_type": "markdown",
      "source": [
        "## Rede 3 -> Configuração 784-15-10"
      ]
    },
    {
      "metadata": {
        "colab_type": "code",
        "id": "nOGKyb3j2LpZ",
        "colab": {}
      },
      "cell_type": "code",
      "source": [
        "tamanho = [784, 15, 10]"
      ],
      "execution_count": 0,
      "outputs": []
    },
    {
      "metadata": {
        "colab_type": "text",
        "id": "Ug82ZoM12Lpb"
      },
      "cell_type": "markdown",
      "source": [
        "### Função ativação - Relu"
      ]
    },
    {
      "metadata": {
        "colab_type": "text",
        "id": "4Slyqt2f2Lpc"
      },
      "cell_type": "markdown",
      "source": [
        "#### Taxa de aprendizagem - 0.5"
      ]
    },
    {
      "metadata": {
        "colab_type": "code",
        "id": "Y9Cj8B7f2Lpd",
        "outputId": "06ef0a93-1323-448f-f609-f54419c2c5f4",
        "colab": {
          "base_uri": "https://localhost:8080/",
          "height": 201
        }
      },
      "cell_type": "code",
      "source": [
        "net = Network(tamanho)\n",
        "acertos_dict = {}\n",
        "kf = KFold(n_splits=n_k)\n",
        "at = 0.5\n",
        "\n",
        "for i, index in enumerate(kf.split(data)):\n",
        "  train_index = index[0]\n",
        "  test_index = index[1]\n",
        "  \n",
        "  k = \"K {}\".format(i)\n",
        "  \n",
        "  print(k)\n",
        "  training_data = data[train_index[0]:train_index[-1]+1]\n",
        "  testing_data = data[test_index[0]:test_index[-1]+1]\n",
        "  \n",
        "  result = net.SGD(training_data, epoch, 10, at,test_data=testing_data, tipo_fun='relu')\n",
        "  acertos_dict[k] = result"
      ],
      "execution_count": 0,
      "outputs": [
        {
          "output_type": "stream",
          "text": [
            "K 0\n"
          ],
          "name": "stdout"
        },
        {
          "output_type": "stream",
          "text": [
            "/usr/local/lib/python3.6/dist-packages/ipykernel_launcher.py:87: RuntimeWarning: overflow encountered in multiply\n",
            "/usr/local/lib/python3.6/dist-packages/ipykernel_launcher.py:95: RuntimeWarning: invalid value encountered in multiply\n"
          ],
          "name": "stderr"
        },
        {
          "output_type": "stream",
          "text": [
            "Total Input 17500 / Total predict 1741\n",
            "K 1\n",
            "Total Input 17500 / Total predict 1693\n",
            "K 2\n",
            "Total Input 17500 / Total predict 3998\n",
            "K 3\n",
            "Total Input 17500 / Total predict 17500\n"
          ],
          "name": "stdout"
        }
      ]
    },
    {
      "metadata": {
        "colab_type": "code",
        "id": "HIz8KALg2Lpg",
        "outputId": "08e5f40c-4b14-4812-beb6-9c0a6287f841",
        "colab": {
          "base_uri": "https://localhost:8080/",
          "height": 175
        }
      },
      "cell_type": "code",
      "source": [
        "teste7 = pd.DataFrame({\n",
        "    'K': np.arange(kf.get_n_splits(data)),\n",
        "    'Acertos': list(acertos_dict.values())\n",
        "})\n",
        "\n",
        "teste7"
      ],
      "execution_count": 0,
      "outputs": [
        {
          "output_type": "execute_result",
          "data": {
            "text/html": [
              "<div>\n",
              "<style scoped>\n",
              "    .dataframe tbody tr th:only-of-type {\n",
              "        vertical-align: middle;\n",
              "    }\n",
              "\n",
              "    .dataframe tbody tr th {\n",
              "        vertical-align: top;\n",
              "    }\n",
              "\n",
              "    .dataframe thead th {\n",
              "        text-align: right;\n",
              "    }\n",
              "</style>\n",
              "<table border=\"1\" class=\"dataframe\">\n",
              "  <thead>\n",
              "    <tr style=\"text-align: right;\">\n",
              "      <th></th>\n",
              "      <th>K</th>\n",
              "      <th>Acertos</th>\n",
              "    </tr>\n",
              "  </thead>\n",
              "  <tbody>\n",
              "    <tr>\n",
              "      <th>0</th>\n",
              "      <td>0</td>\n",
              "      <td>1741</td>\n",
              "    </tr>\n",
              "    <tr>\n",
              "      <th>1</th>\n",
              "      <td>1</td>\n",
              "      <td>1693</td>\n",
              "    </tr>\n",
              "    <tr>\n",
              "      <th>2</th>\n",
              "      <td>2</td>\n",
              "      <td>3998</td>\n",
              "    </tr>\n",
              "    <tr>\n",
              "      <th>3</th>\n",
              "      <td>3</td>\n",
              "      <td>17500</td>\n",
              "    </tr>\n",
              "  </tbody>\n",
              "</table>\n",
              "</div>"
            ],
            "text/plain": [
              "   K  Acertos\n",
              "0  0     1741\n",
              "1  1     1693\n",
              "2  2     3998\n",
              "3  3    17500"
            ]
          },
          "metadata": {
            "tags": []
          },
          "execution_count": 18
        }
      ]
    },
    {
      "metadata": {
        "colab_type": "code",
        "id": "r1Miun482Lpp",
        "outputId": "8c4ddde5-04d0-410f-e9ad-75add7cfa752",
        "colab": {
          "base_uri": "https://localhost:8080/",
          "height": 35
        }
      },
      "cell_type": "code",
      "source": [
        "media = teste7['Acertos'].mean()\n",
        "\n",
        "media"
      ],
      "execution_count": 0,
      "outputs": [
        {
          "output_type": "execute_result",
          "data": {
            "text/plain": [
              "6233.0"
            ]
          },
          "metadata": {
            "tags": []
          },
          "execution_count": 19
        }
      ]
    },
    {
      "metadata": {
        "colab_type": "code",
        "id": "1f73pNrZ2Lps",
        "colab": {}
      },
      "cell_type": "code",
      "source": [
        "funcao_ativacao_list.append('relu')\n",
        "rede.append('rede 3')\n",
        "taxa_aprendizagem.append(at)\n",
        "medias.append(media)"
      ],
      "execution_count": 0,
      "outputs": []
    },
    {
      "metadata": {
        "colab_type": "text",
        "id": "Ff06cw9e2Lpv"
      },
      "cell_type": "markdown",
      "source": [
        "#### Taxa de aprendizagem - 0.1"
      ]
    },
    {
      "metadata": {
        "colab_type": "code",
        "outputId": "d903956d-7964-4f79-d749-4139e4eb6dff",
        "id": "L2Mj3Hk32Lpx",
        "colab": {
          "base_uri": "https://localhost:8080/",
          "height": 219
        }
      },
      "cell_type": "code",
      "source": [
        "net = Network(tamanho)\n",
        "acertos_dict = {}\n",
        "kf = KFold(n_splits=n_k)\n",
        "at = 0.1\n",
        "\n",
        "for i, index in enumerate(kf.split(data)):\n",
        "  train_index = index[0]\n",
        "  test_index = index[1]\n",
        "  \n",
        "  k = \"K {}\".format(i)\n",
        "  \n",
        "  print(k)\n",
        "  training_data = data[train_index[0]:train_index[-1]+1]\n",
        "  testing_data = data[test_index[0]:test_index[-1]+1]\n",
        "  \n",
        "  result = net.SGD(training_data, epoch, 10, at,test_data=testing_data, tipo_fun='relu')\n",
        "  acertos_dict[k] = result"
      ],
      "execution_count": 0,
      "outputs": [
        {
          "output_type": "stream",
          "text": [
            "K 0\n"
          ],
          "name": "stdout"
        },
        {
          "output_type": "stream",
          "text": [
            "/usr/local/lib/python3.6/dist-packages/ipykernel_launcher.py:103: RuntimeWarning: invalid value encountered in multiply\n",
            "/usr/local/lib/python3.6/dist-packages/ipykernel_launcher.py:14: RuntimeWarning: overflow encountered in multiply\n",
            "  \n"
          ],
          "name": "stderr"
        },
        {
          "output_type": "stream",
          "text": [
            "Total Input 17500 / Total predict 1741\n",
            "K 1\n",
            "Total Input 17500 / Total predict 1693\n",
            "K 2\n",
            "Total Input 17500 / Total predict 3998\n",
            "K 3\n",
            "Total Input 17500 / Total predict 17500\n"
          ],
          "name": "stdout"
        }
      ]
    },
    {
      "metadata": {
        "colab_type": "code",
        "id": "dWBPIofo2Lp5",
        "outputId": "50011af4-5778-443d-e706-a2b17ab075da",
        "colab": {
          "base_uri": "https://localhost:8080/",
          "height": 175
        }
      },
      "cell_type": "code",
      "source": [
        "teste8 = pd.DataFrame({\n",
        "    'K': np.arange(kf.get_n_splits(data)),\n",
        "    'Acertos': list(acertos_dict.values())\n",
        "})\n",
        "\n",
        "teste8"
      ],
      "execution_count": 0,
      "outputs": [
        {
          "output_type": "execute_result",
          "data": {
            "text/html": [
              "<div>\n",
              "<style scoped>\n",
              "    .dataframe tbody tr th:only-of-type {\n",
              "        vertical-align: middle;\n",
              "    }\n",
              "\n",
              "    .dataframe tbody tr th {\n",
              "        vertical-align: top;\n",
              "    }\n",
              "\n",
              "    .dataframe thead th {\n",
              "        text-align: right;\n",
              "    }\n",
              "</style>\n",
              "<table border=\"1\" class=\"dataframe\">\n",
              "  <thead>\n",
              "    <tr style=\"text-align: right;\">\n",
              "      <th></th>\n",
              "      <th>K</th>\n",
              "      <th>Acertos</th>\n",
              "    </tr>\n",
              "  </thead>\n",
              "  <tbody>\n",
              "    <tr>\n",
              "      <th>0</th>\n",
              "      <td>0</td>\n",
              "      <td>1741</td>\n",
              "    </tr>\n",
              "    <tr>\n",
              "      <th>1</th>\n",
              "      <td>1</td>\n",
              "      <td>1693</td>\n",
              "    </tr>\n",
              "    <tr>\n",
              "      <th>2</th>\n",
              "      <td>2</td>\n",
              "      <td>3998</td>\n",
              "    </tr>\n",
              "    <tr>\n",
              "      <th>3</th>\n",
              "      <td>3</td>\n",
              "      <td>17500</td>\n",
              "    </tr>\n",
              "  </tbody>\n",
              "</table>\n",
              "</div>"
            ],
            "text/plain": [
              "   K  Acertos\n",
              "0  0     1741\n",
              "1  1     1693\n",
              "2  2     3998\n",
              "3  3    17500"
            ]
          },
          "metadata": {
            "tags": []
          },
          "execution_count": 12
        }
      ]
    },
    {
      "metadata": {
        "colab_type": "code",
        "id": "Npf2dPqB2Lp9",
        "outputId": "543833e8-e465-438f-b7d2-4a793961f4d6",
        "colab": {
          "base_uri": "https://localhost:8080/",
          "height": 35
        }
      },
      "cell_type": "code",
      "source": [
        "media = teste8['Acertos'].mean()\n",
        "\n",
        "media"
      ],
      "execution_count": 0,
      "outputs": [
        {
          "output_type": "execute_result",
          "data": {
            "text/plain": [
              "6233.0"
            ]
          },
          "metadata": {
            "tags": []
          },
          "execution_count": 13
        }
      ]
    },
    {
      "metadata": {
        "colab_type": "code",
        "id": "cIXb4KAs2Lp-",
        "colab": {}
      },
      "cell_type": "code",
      "source": [
        "funcao_ativacao_list.append('relu')\n",
        "rede.append('rede 3')\n",
        "taxa_aprendizagem.append(at)\n",
        "medias.append(media)"
      ],
      "execution_count": 0,
      "outputs": []
    },
    {
      "metadata": {
        "colab_type": "text",
        "id": "uP4xv9wX2LqA"
      },
      "cell_type": "markdown",
      "source": [
        "#### Taxa de aprendizagem - 0.001"
      ]
    },
    {
      "metadata": {
        "colab_type": "code",
        "id": "FAi1dFMZ2LqA",
        "outputId": "ca92632c-e28c-40f6-a5e4-c951530c638c",
        "colab": {
          "base_uri": "https://localhost:8080/",
          "height": 237
        }
      },
      "cell_type": "code",
      "source": [
        "net = Network(tamanho)\n",
        "acertos_dict = {}\n",
        "kf = KFold(n_splits=n_k)\n",
        "at = 0.001\n",
        "\n",
        "for i, index in enumerate(kf.split(data)):\n",
        "  train_index = index[0]\n",
        "  test_index = index[1]\n",
        "  \n",
        "  k = \"K {}\".format(i)\n",
        "  \n",
        "  print(k)\n",
        "  training_data = data[train_index[0]:train_index[-1]+1]\n",
        "  testing_data = data[test_index[0]:test_index[-1]+1]\n",
        "  \n",
        "  result = net.SGD(training_data, epoch, 10, at,test_data=testing_data, tipo_fun='relu')\n",
        "  acertos_dict[k] = result"
      ],
      "execution_count": 0,
      "outputs": [
        {
          "output_type": "stream",
          "text": [
            "K 0\n"
          ],
          "name": "stdout"
        },
        {
          "output_type": "stream",
          "text": [
            "/usr/local/lib/python3.6/dist-packages/ipykernel_launcher.py:95: RuntimeWarning: overflow encountered in multiply\n",
            "/usr/local/lib/python3.6/dist-packages/ipykernel_launcher.py:103: RuntimeWarning: invalid value encountered in multiply\n",
            "/usr/local/lib/python3.6/dist-packages/ipykernel_launcher.py:14: RuntimeWarning: overflow encountered in multiply\n",
            "  \n"
          ],
          "name": "stderr"
        },
        {
          "output_type": "stream",
          "text": [
            "Total Input 17500 / Total predict 1741\n",
            "K 1\n",
            "Total Input 17500 / Total predict 1693\n",
            "K 2\n",
            "Total Input 17500 / Total predict 3998\n",
            "K 3\n",
            "Total Input 17500 / Total predict 17500\n"
          ],
          "name": "stdout"
        }
      ]
    },
    {
      "metadata": {
        "colab_type": "code",
        "id": "d_nyWcgI2LqE",
        "outputId": "b81a8180-e034-41b5-da9d-c371ad21f6d1",
        "colab": {
          "base_uri": "https://localhost:8080/",
          "height": 175
        }
      },
      "cell_type": "code",
      "source": [
        "teste9 = pd.DataFrame({\n",
        "    'K': np.arange(kf.get_n_splits(data)),\n",
        "    'Acertos': list(acertos_dict.values())\n",
        "})\n",
        "\n",
        "teste9"
      ],
      "execution_count": 0,
      "outputs": [
        {
          "output_type": "execute_result",
          "data": {
            "text/html": [
              "<div>\n",
              "<style scoped>\n",
              "    .dataframe tbody tr th:only-of-type {\n",
              "        vertical-align: middle;\n",
              "    }\n",
              "\n",
              "    .dataframe tbody tr th {\n",
              "        vertical-align: top;\n",
              "    }\n",
              "\n",
              "    .dataframe thead th {\n",
              "        text-align: right;\n",
              "    }\n",
              "</style>\n",
              "<table border=\"1\" class=\"dataframe\">\n",
              "  <thead>\n",
              "    <tr style=\"text-align: right;\">\n",
              "      <th></th>\n",
              "      <th>K</th>\n",
              "      <th>Acertos</th>\n",
              "    </tr>\n",
              "  </thead>\n",
              "  <tbody>\n",
              "    <tr>\n",
              "      <th>0</th>\n",
              "      <td>0</td>\n",
              "      <td>1741</td>\n",
              "    </tr>\n",
              "    <tr>\n",
              "      <th>1</th>\n",
              "      <td>1</td>\n",
              "      <td>1693</td>\n",
              "    </tr>\n",
              "    <tr>\n",
              "      <th>2</th>\n",
              "      <td>2</td>\n",
              "      <td>3998</td>\n",
              "    </tr>\n",
              "    <tr>\n",
              "      <th>3</th>\n",
              "      <td>3</td>\n",
              "      <td>17500</td>\n",
              "    </tr>\n",
              "  </tbody>\n",
              "</table>\n",
              "</div>"
            ],
            "text/plain": [
              "   K  Acertos\n",
              "0  0     1741\n",
              "1  1     1693\n",
              "2  2     3998\n",
              "3  3    17500"
            ]
          },
          "metadata": {
            "tags": []
          },
          "execution_count": 16
        }
      ]
    },
    {
      "metadata": {
        "colab_type": "code",
        "id": "dAqB4OvK2LqG",
        "outputId": "6d744f64-b10a-4669-ebfc-6f3eee273d58",
        "colab": {
          "base_uri": "https://localhost:8080/",
          "height": 35
        }
      },
      "cell_type": "code",
      "source": [
        "media = teste9['Acertos'].mean()\n",
        "\n",
        "media"
      ],
      "execution_count": 0,
      "outputs": [
        {
          "output_type": "execute_result",
          "data": {
            "text/plain": [
              "6233.0"
            ]
          },
          "metadata": {
            "tags": []
          },
          "execution_count": 17
        }
      ]
    },
    {
      "metadata": {
        "colab_type": "code",
        "id": "DzN4BHga2LqI",
        "colab": {}
      },
      "cell_type": "code",
      "source": [
        "funcao_ativacao_list.append('relu')\n",
        "rede.append('rede 3')\n",
        "taxa_aprendizagem.append(at)\n",
        "medias.append(media)"
      ],
      "execution_count": 0,
      "outputs": []
    },
    {
      "metadata": {
        "colab_type": "text",
        "id": "bJGBLNjU2LqJ"
      },
      "cell_type": "markdown",
      "source": [
        "### Função ativação - Sigmoid"
      ]
    },
    {
      "metadata": {
        "colab_type": "text",
        "id": "G9jUFut-2LqK"
      },
      "cell_type": "markdown",
      "source": [
        "#### Taxa de aprendizagem - 0.5"
      ]
    },
    {
      "metadata": {
        "colab_type": "code",
        "id": "Wx7MxCmq2LqL",
        "outputId": "b4fa1eb3-dee7-426a-e705-7982915018ab",
        "colab": {
          "base_uri": "https://localhost:8080/",
          "height": 164
        }
      },
      "cell_type": "code",
      "source": [
        "net = Network(tamanho)\n",
        "acertos_dict = {}\n",
        "kf = KFold(n_splits=n_k)\n",
        "at = 0.5\n",
        "\n",
        "for i, index in enumerate(kf.split(data)):\n",
        "  train_index = index[0]\n",
        "  test_index = index[1]\n",
        "  \n",
        "  k = \"K {}\".format(i)\n",
        "  \n",
        "  print(k)\n",
        "  training_data = data[train_index[0]:train_index[-1]+1]\n",
        "  testing_data = data[test_index[0]:test_index[-1]+1]\n",
        "  \n",
        "  result = net.SGD(training_data, epoch, 10, at,test_data=testing_data, tipo_fun='sigmoid')\n",
        "  acertos_dict[k] = result"
      ],
      "execution_count": 0,
      "outputs": [
        {
          "output_type": "stream",
          "text": [
            "K 0\n",
            "Total Input 17500 / Total predict 3095\n",
            "K 1\n",
            "Total Input 17500 / Total predict 2348\n",
            "K 2\n",
            "Total Input 17500 / Total predict 4575\n",
            "K 3\n",
            "Total Input 17500 / Total predict 1820\n"
          ],
          "name": "stdout"
        }
      ]
    },
    {
      "metadata": {
        "colab_type": "code",
        "id": "19UR8KgS2LqN",
        "outputId": "8b35559b-28af-43e6-fcaf-4f1a361a624a",
        "colab": {
          "base_uri": "https://localhost:8080/",
          "height": 175
        }
      },
      "cell_type": "code",
      "source": [
        "teste10 = pd.DataFrame({\n",
        "    'K': np.arange(kf.get_n_splits(data)),\n",
        "    'Acertos': list(acertos_dict.values())\n",
        "})\n",
        "\n",
        "teste10"
      ],
      "execution_count": 0,
      "outputs": [
        {
          "output_type": "execute_result",
          "data": {
            "text/html": [
              "<div>\n",
              "<style scoped>\n",
              "    .dataframe tbody tr th:only-of-type {\n",
              "        vertical-align: middle;\n",
              "    }\n",
              "\n",
              "    .dataframe tbody tr th {\n",
              "        vertical-align: top;\n",
              "    }\n",
              "\n",
              "    .dataframe thead th {\n",
              "        text-align: right;\n",
              "    }\n",
              "</style>\n",
              "<table border=\"1\" class=\"dataframe\">\n",
              "  <thead>\n",
              "    <tr style=\"text-align: right;\">\n",
              "      <th></th>\n",
              "      <th>K</th>\n",
              "      <th>Acertos</th>\n",
              "    </tr>\n",
              "  </thead>\n",
              "  <tbody>\n",
              "    <tr>\n",
              "      <th>0</th>\n",
              "      <td>0</td>\n",
              "      <td>3095</td>\n",
              "    </tr>\n",
              "    <tr>\n",
              "      <th>1</th>\n",
              "      <td>1</td>\n",
              "      <td>2348</td>\n",
              "    </tr>\n",
              "    <tr>\n",
              "      <th>2</th>\n",
              "      <td>2</td>\n",
              "      <td>4575</td>\n",
              "    </tr>\n",
              "    <tr>\n",
              "      <th>3</th>\n",
              "      <td>3</td>\n",
              "      <td>1820</td>\n",
              "    </tr>\n",
              "  </tbody>\n",
              "</table>\n",
              "</div>"
            ],
            "text/plain": [
              "   K  Acertos\n",
              "0  0     3095\n",
              "1  1     2348\n",
              "2  2     4575\n",
              "3  3     1820"
            ]
          },
          "metadata": {
            "tags": []
          },
          "execution_count": 20
        }
      ]
    },
    {
      "metadata": {
        "colab_type": "code",
        "id": "1hKkbpQI2LqR",
        "outputId": "2bb6be1f-c05c-4748-b765-36726476d2e7",
        "colab": {
          "base_uri": "https://localhost:8080/",
          "height": 35
        }
      },
      "cell_type": "code",
      "source": [
        "media = teste10['Acertos'].mean()\n",
        "\n",
        "media"
      ],
      "execution_count": 0,
      "outputs": [
        {
          "output_type": "execute_result",
          "data": {
            "text/plain": [
              "2959.5"
            ]
          },
          "metadata": {
            "tags": []
          },
          "execution_count": 21
        }
      ]
    },
    {
      "metadata": {
        "colab_type": "code",
        "id": "gJBrvPxx2LqT",
        "colab": {}
      },
      "cell_type": "code",
      "source": [
        "funcao_ativacao_list.append('sigmoid')\n",
        "rede.append('rede 3')\n",
        "taxa_aprendizagem.append(at)\n",
        "medias.append(media)"
      ],
      "execution_count": 0,
      "outputs": []
    },
    {
      "metadata": {
        "colab_type": "text",
        "id": "tHsviTKL2LqW"
      },
      "cell_type": "markdown",
      "source": [
        "#### Taxa de aprendizagem - 0.1"
      ]
    },
    {
      "metadata": {
        "colab_type": "code",
        "id": "bOD0GVS_2LqX",
        "outputId": "62c4cba5-87d5-4653-f02c-3c92064c68fa",
        "colab": {
          "base_uri": "https://localhost:8080/",
          "height": 164
        }
      },
      "cell_type": "code",
      "source": [
        "net = Network(tamanho)\n",
        "acertos_dict = {}\n",
        "kf = KFold(n_splits=n_k)\n",
        "at = 0.1\n",
        "\n",
        "for i, index in enumerate(kf.split(data)):\n",
        "  train_index = index[0]\n",
        "  test_index = index[1]\n",
        "  \n",
        "  k = \"K {}\".format(i)\n",
        "  \n",
        "  print(k)\n",
        "  training_data = data[train_index[0]:train_index[-1]+1]\n",
        "  testing_data = data[test_index[0]:test_index[-1]+1]\n",
        "  \n",
        "  result = net.SGD(training_data, epoch, 10, at,test_data=testing_data, tipo_fun='sigmoid')\n",
        "  acertos_dict[k] = result"
      ],
      "execution_count": 0,
      "outputs": [
        {
          "output_type": "stream",
          "text": [
            "K 0\n",
            "Total Input 17500 / Total predict 2316\n",
            "K 1\n",
            "Total Input 17500 / Total predict 609\n",
            "K 2\n",
            "Total Input 17500 / Total predict 1234\n",
            "K 3\n",
            "Total Input 17500 / Total predict 1780\n"
          ],
          "name": "stdout"
        }
      ]
    },
    {
      "metadata": {
        "colab_type": "code",
        "id": "PSdIiQ2v2LqZ",
        "outputId": "eabf12a8-6b40-4a0b-e14d-0bafc9830e3b",
        "colab": {
          "base_uri": "https://localhost:8080/",
          "height": 175
        }
      },
      "cell_type": "code",
      "source": [
        "teste11 = pd.DataFrame({\n",
        "    'K': np.arange(kf.get_n_splits(data)),\n",
        "    'Acertos': list(acertos_dict.values())\n",
        "})\n",
        "\n",
        "teste11"
      ],
      "execution_count": 0,
      "outputs": [
        {
          "output_type": "execute_result",
          "data": {
            "text/html": [
              "<div>\n",
              "<style scoped>\n",
              "    .dataframe tbody tr th:only-of-type {\n",
              "        vertical-align: middle;\n",
              "    }\n",
              "\n",
              "    .dataframe tbody tr th {\n",
              "        vertical-align: top;\n",
              "    }\n",
              "\n",
              "    .dataframe thead th {\n",
              "        text-align: right;\n",
              "    }\n",
              "</style>\n",
              "<table border=\"1\" class=\"dataframe\">\n",
              "  <thead>\n",
              "    <tr style=\"text-align: right;\">\n",
              "      <th></th>\n",
              "      <th>K</th>\n",
              "      <th>Acertos</th>\n",
              "    </tr>\n",
              "  </thead>\n",
              "  <tbody>\n",
              "    <tr>\n",
              "      <th>0</th>\n",
              "      <td>0</td>\n",
              "      <td>2316</td>\n",
              "    </tr>\n",
              "    <tr>\n",
              "      <th>1</th>\n",
              "      <td>1</td>\n",
              "      <td>609</td>\n",
              "    </tr>\n",
              "    <tr>\n",
              "      <th>2</th>\n",
              "      <td>2</td>\n",
              "      <td>1234</td>\n",
              "    </tr>\n",
              "    <tr>\n",
              "      <th>3</th>\n",
              "      <td>3</td>\n",
              "      <td>1780</td>\n",
              "    </tr>\n",
              "  </tbody>\n",
              "</table>\n",
              "</div>"
            ],
            "text/plain": [
              "   K  Acertos\n",
              "0  0     2316\n",
              "1  1      609\n",
              "2  2     1234\n",
              "3  3     1780"
            ]
          },
          "metadata": {
            "tags": []
          },
          "execution_count": 24
        }
      ]
    },
    {
      "metadata": {
        "colab_type": "code",
        "id": "utMWRuH72Lqc",
        "outputId": "1085150c-26d4-40e2-c556-b2e5cb38a7dc",
        "colab": {
          "base_uri": "https://localhost:8080/",
          "height": 35
        }
      },
      "cell_type": "code",
      "source": [
        "media = teste11['Acertos'].mean()\n",
        "\n",
        "media"
      ],
      "execution_count": 0,
      "outputs": [
        {
          "output_type": "execute_result",
          "data": {
            "text/plain": [
              "1484.75"
            ]
          },
          "metadata": {
            "tags": []
          },
          "execution_count": 25
        }
      ]
    },
    {
      "metadata": {
        "colab_type": "code",
        "id": "yIl4kohX2Lqh",
        "colab": {}
      },
      "cell_type": "code",
      "source": [
        "funcao_ativacao_list.append('sigmoid')\n",
        "rede.append('rede 3')\n",
        "taxa_aprendizagem.append(at)\n",
        "medias.append(media)"
      ],
      "execution_count": 0,
      "outputs": []
    },
    {
      "metadata": {
        "colab_type": "text",
        "id": "E27L-T682Lqn"
      },
      "cell_type": "markdown",
      "source": [
        "#### Taxa de aprendizagem - 0.001"
      ]
    },
    {
      "metadata": {
        "colab_type": "code",
        "id": "5P8yNtKY2Lqo",
        "outputId": "102af000-e0dd-4120-9709-8b8674a2ac32",
        "colab": {
          "base_uri": "https://localhost:8080/",
          "height": 164
        }
      },
      "cell_type": "code",
      "source": [
        "net = Network(tamanho)\n",
        "acertos_dict = {}\n",
        "kf = KFold(n_splits=n_k)\n",
        "at = 0.001\n",
        "\n",
        "for i, index in enumerate(kf.split(data)):\n",
        "  train_index = index[0]\n",
        "  test_index = index[1]\n",
        "  \n",
        "  k = \"K {}\".format(i)\n",
        "  \n",
        "  print(k)\n",
        "  training_data = data[train_index[0]:train_index[-1]+1]\n",
        "  testing_data = data[test_index[0]:test_index[-1]+1]\n",
        "  \n",
        "  result = net.SGD(training_data, epoch, 10, at,test_data=testing_data, tipo_fun='sigmoid')\n",
        "  acertos_dict[k] = result"
      ],
      "execution_count": 0,
      "outputs": [
        {
          "output_type": "stream",
          "text": [
            "K 0\n",
            "Total Input 17500 / Total predict 1254\n",
            "K 1\n",
            "Total Input 17500 / Total predict 1359\n",
            "K 2\n",
            "Total Input 17500 / Total predict 1574\n",
            "K 3\n",
            "Total Input 17500 / Total predict 0\n"
          ],
          "name": "stdout"
        }
      ]
    },
    {
      "metadata": {
        "colab_type": "code",
        "id": "ZkD9GK7W2Lqr",
        "outputId": "95c3abc8-3fc0-4ae3-c05e-bba776ef4216",
        "colab": {
          "base_uri": "https://localhost:8080/",
          "height": 175
        }
      },
      "cell_type": "code",
      "source": [
        "teste12 = pd.DataFrame({\n",
        "    'K': np.arange(kf.get_n_splits(data)),\n",
        "    'Acertos': list(acertos_dict.values())\n",
        "})\n",
        "\n",
        "teste12"
      ],
      "execution_count": 0,
      "outputs": [
        {
          "output_type": "execute_result",
          "data": {
            "text/html": [
              "<div>\n",
              "<style scoped>\n",
              "    .dataframe tbody tr th:only-of-type {\n",
              "        vertical-align: middle;\n",
              "    }\n",
              "\n",
              "    .dataframe tbody tr th {\n",
              "        vertical-align: top;\n",
              "    }\n",
              "\n",
              "    .dataframe thead th {\n",
              "        text-align: right;\n",
              "    }\n",
              "</style>\n",
              "<table border=\"1\" class=\"dataframe\">\n",
              "  <thead>\n",
              "    <tr style=\"text-align: right;\">\n",
              "      <th></th>\n",
              "      <th>K</th>\n",
              "      <th>Acertos</th>\n",
              "    </tr>\n",
              "  </thead>\n",
              "  <tbody>\n",
              "    <tr>\n",
              "      <th>0</th>\n",
              "      <td>0</td>\n",
              "      <td>1254</td>\n",
              "    </tr>\n",
              "    <tr>\n",
              "      <th>1</th>\n",
              "      <td>1</td>\n",
              "      <td>1359</td>\n",
              "    </tr>\n",
              "    <tr>\n",
              "      <th>2</th>\n",
              "      <td>2</td>\n",
              "      <td>1574</td>\n",
              "    </tr>\n",
              "    <tr>\n",
              "      <th>3</th>\n",
              "      <td>3</td>\n",
              "      <td>0</td>\n",
              "    </tr>\n",
              "  </tbody>\n",
              "</table>\n",
              "</div>"
            ],
            "text/plain": [
              "   K  Acertos\n",
              "0  0     1254\n",
              "1  1     1359\n",
              "2  2     1574\n",
              "3  3        0"
            ]
          },
          "metadata": {
            "tags": []
          },
          "execution_count": 28
        }
      ]
    },
    {
      "metadata": {
        "colab_type": "code",
        "id": "xGvr1y3w2Lqw",
        "outputId": "fbe72860-82b9-4f43-9a9b-4ac34498a921",
        "colab": {
          "base_uri": "https://localhost:8080/",
          "height": 35
        }
      },
      "cell_type": "code",
      "source": [
        "media = teste12['Acertos'].mean()\n",
        "\n",
        "media"
      ],
      "execution_count": 0,
      "outputs": [
        {
          "output_type": "execute_result",
          "data": {
            "text/plain": [
              "1046.75"
            ]
          },
          "metadata": {
            "tags": []
          },
          "execution_count": 29
        }
      ]
    },
    {
      "metadata": {
        "colab_type": "code",
        "id": "QKdzAXLv2Lqz",
        "colab": {}
      },
      "cell_type": "code",
      "source": [
        "funcao_ativacao_list.append('sigmoid')\n",
        "rede.append('rede 3')\n",
        "taxa_aprendizagem.append(at)\n",
        "medias.append(media)"
      ],
      "execution_count": 0,
      "outputs": []
    },
    {
      "metadata": {
        "id": "TyQ9ceph1LAf",
        "colab_type": "text"
      },
      "cell_type": "markdown",
      "source": [
        "## Resultados 1 Entrega"
      ]
    },
    {
      "metadata": {
        "id": "atGdSNJt1ULM",
        "colab_type": "code",
        "outputId": "65ee8e7c-dbfa-4009-abc2-70887b50b168",
        "colab": {
          "base_uri": "https://localhost:8080/",
          "height": 614
        }
      },
      "cell_type": "code",
      "source": [
        "resultado_total = pd.DataFrame({\n",
        "    'rede': rede,\n",
        "    'funcao de ativacao': funcao_ativacao_list,\n",
        "    'taxa de aprendizagem': taxa_aprendizagem,\n",
        "    'media k-fold': medias\n",
        "})\n",
        "\n",
        "resultado_total"
      ],
      "execution_count": 0,
      "outputs": [
        {
          "output_type": "execute_result",
          "data": {
            "text/html": [
              "<div>\n",
              "<style scoped>\n",
              "    .dataframe tbody tr th:only-of-type {\n",
              "        vertical-align: middle;\n",
              "    }\n",
              "\n",
              "    .dataframe tbody tr th {\n",
              "        vertical-align: top;\n",
              "    }\n",
              "\n",
              "    .dataframe thead th {\n",
              "        text-align: right;\n",
              "    }\n",
              "</style>\n",
              "<table border=\"1\" class=\"dataframe\">\n",
              "  <thead>\n",
              "    <tr style=\"text-align: right;\">\n",
              "      <th></th>\n",
              "      <th>rede</th>\n",
              "      <th>funcao de ativacao</th>\n",
              "      <th>taxa de aprendizagem</th>\n",
              "      <th>media k-fold</th>\n",
              "    </tr>\n",
              "  </thead>\n",
              "  <tbody>\n",
              "    <tr>\n",
              "      <th>0</th>\n",
              "      <td>rede 1</td>\n",
              "      <td>relu</td>\n",
              "      <td>0.500</td>\n",
              "      <td>1293.75</td>\n",
              "    </tr>\n",
              "    <tr>\n",
              "      <th>1</th>\n",
              "      <td>rede 1</td>\n",
              "      <td>relu</td>\n",
              "      <td>0.010</td>\n",
              "      <td>6233.00</td>\n",
              "    </tr>\n",
              "    <tr>\n",
              "      <th>2</th>\n",
              "      <td>rede 1</td>\n",
              "      <td>relu</td>\n",
              "      <td>0.001</td>\n",
              "      <td>6233.00</td>\n",
              "    </tr>\n",
              "    <tr>\n",
              "      <th>3</th>\n",
              "      <td>rede 1</td>\n",
              "      <td>sigmoid</td>\n",
              "      <td>0.500</td>\n",
              "      <td>3334.50</td>\n",
              "    </tr>\n",
              "    <tr>\n",
              "      <th>4</th>\n",
              "      <td>rede 1</td>\n",
              "      <td>sigmoid</td>\n",
              "      <td>0.100</td>\n",
              "      <td>3169.75</td>\n",
              "    </tr>\n",
              "    <tr>\n",
              "      <th>5</th>\n",
              "      <td>rede 1</td>\n",
              "      <td>sigmoid</td>\n",
              "      <td>0.001</td>\n",
              "      <td>1234.25</td>\n",
              "    </tr>\n",
              "    <tr>\n",
              "      <th>6</th>\n",
              "      <td>rede 2</td>\n",
              "      <td>relu</td>\n",
              "      <td>0.500</td>\n",
              "      <td>1275.25</td>\n",
              "    </tr>\n",
              "    <tr>\n",
              "      <th>7</th>\n",
              "      <td>rede 2</td>\n",
              "      <td>relu</td>\n",
              "      <td>0.100</td>\n",
              "      <td>6233.00</td>\n",
              "    </tr>\n",
              "    <tr>\n",
              "      <th>8</th>\n",
              "      <td>rede 2</td>\n",
              "      <td>relu</td>\n",
              "      <td>0.001</td>\n",
              "      <td>6233.00</td>\n",
              "    </tr>\n",
              "    <tr>\n",
              "      <th>9</th>\n",
              "      <td>rede 2</td>\n",
              "      <td>sigmoid</td>\n",
              "      <td>0.500</td>\n",
              "      <td>1406.75</td>\n",
              "    </tr>\n",
              "    <tr>\n",
              "      <th>10</th>\n",
              "      <td>rede 2</td>\n",
              "      <td>sigmoid</td>\n",
              "      <td>0.100</td>\n",
              "      <td>1401.75</td>\n",
              "    </tr>\n",
              "    <tr>\n",
              "      <th>11</th>\n",
              "      <td>rede 2</td>\n",
              "      <td>sigmoid</td>\n",
              "      <td>0.001</td>\n",
              "      <td>2179.25</td>\n",
              "    </tr>\n",
              "    <tr>\n",
              "      <th>12</th>\n",
              "      <td>rede 3</td>\n",
              "      <td>relu</td>\n",
              "      <td>0.500</td>\n",
              "      <td>6233.00</td>\n",
              "    </tr>\n",
              "    <tr>\n",
              "      <th>13</th>\n",
              "      <td>rede 3</td>\n",
              "      <td>relu</td>\n",
              "      <td>0.100</td>\n",
              "      <td>6233.00</td>\n",
              "    </tr>\n",
              "    <tr>\n",
              "      <th>14</th>\n",
              "      <td>rede 3</td>\n",
              "      <td>relu</td>\n",
              "      <td>0.001</td>\n",
              "      <td>6233.00</td>\n",
              "    </tr>\n",
              "    <tr>\n",
              "      <th>15</th>\n",
              "      <td>rede 3</td>\n",
              "      <td>sigmoid</td>\n",
              "      <td>0.500</td>\n",
              "      <td>2959.50</td>\n",
              "    </tr>\n",
              "    <tr>\n",
              "      <th>16</th>\n",
              "      <td>rede 3</td>\n",
              "      <td>sigmoid</td>\n",
              "      <td>0.100</td>\n",
              "      <td>1484.75</td>\n",
              "    </tr>\n",
              "    <tr>\n",
              "      <th>17</th>\n",
              "      <td>rede 3</td>\n",
              "      <td>sigmoid</td>\n",
              "      <td>0.001</td>\n",
              "      <td>1046.75</td>\n",
              "    </tr>\n",
              "  </tbody>\n",
              "</table>\n",
              "</div>"
            ],
            "text/plain": [
              "      rede funcao de ativacao  taxa de aprendizagem  media k-fold\n",
              "0   rede 1               relu                 0.500       1293.75\n",
              "1   rede 1               relu                 0.010       6233.00\n",
              "2   rede 1               relu                 0.001       6233.00\n",
              "3   rede 1            sigmoid                 0.500       3334.50\n",
              "4   rede 1            sigmoid                 0.100       3169.75\n",
              "5   rede 1            sigmoid                 0.001       1234.25\n",
              "6   rede 2               relu                 0.500       1275.25\n",
              "7   rede 2               relu                 0.100       6233.00\n",
              "8   rede 2               relu                 0.001       6233.00\n",
              "9   rede 2            sigmoid                 0.500       1406.75\n",
              "10  rede 2            sigmoid                 0.100       1401.75\n",
              "11  rede 2            sigmoid                 0.001       2179.25\n",
              "12  rede 3               relu                 0.500       6233.00\n",
              "13  rede 3               relu                 0.100       6233.00\n",
              "14  rede 3               relu                 0.001       6233.00\n",
              "15  rede 3            sigmoid                 0.500       2959.50\n",
              "16  rede 3            sigmoid                 0.100       1484.75\n",
              "17  rede 3            sigmoid                 0.001       1046.75"
            ]
          },
          "metadata": {
            "tags": []
          },
          "execution_count": 54
        }
      ]
    },
    {
      "metadata": {
        "id": "c-feH3oI2Rph",
        "colab_type": "code",
        "outputId": "185612d1-3f88-49d8-f3f0-a8c7784e695d",
        "colab": {
          "base_uri": "https://localhost:8080/",
          "height": 35
        }
      },
      "cell_type": "code",
      "source": [
        "resultado_total['media k-fold'].max()"
      ],
      "execution_count": 0,
      "outputs": [
        {
          "output_type": "execute_result",
          "data": {
            "text/plain": [
              "6233.0"
            ]
          },
          "metadata": {
            "tags": []
          },
          "execution_count": 55
        }
      ]
    },
    {
      "metadata": {
        "id": "8UUx9DOvSnuC",
        "colab_type": "text"
      },
      "cell_type": "markdown",
      "source": [
        "# Mini-Projeto part. 2\n",
        "\n",
        "A partir dos melhores resultados obtidos na etapa anterior, resolver as seguintes questões:\n",
        "\n",
        "4) Implementar as regularizações L1 e L2\n",
        "\n",
        "5) Implementar o Momento\n",
        "\n",
        "6) Comparar os experimentos e explicar o que achou dos resultados.\n",
        "\n",
        "Data de Entrega: 30/04/2019"
      ]
    },
    {
      "metadata": {
        "colab_type": "code",
        "id": "2ZGK8zzM361G",
        "colab": {}
      },
      "cell_type": "code",
      "source": [
        "import pandas as pd\n",
        "from sklearn.model_selection import KFold"
      ],
      "execution_count": 0,
      "outputs": []
    },
    {
      "metadata": {
        "colab_type": "code",
        "id": "nfOyBWNA361d",
        "colab": {}
      },
      "cell_type": "code",
      "source": [
        "data = all_data()"
      ],
      "execution_count": 0,
      "outputs": []
    },
    {
      "metadata": {
        "colab_type": "code",
        "id": "RKqRZU4m361l",
        "colab": {}
      },
      "cell_type": "code",
      "source": [
        "media_modelos = {}\n",
        "funcao_ativacao_list = []\n",
        "rede = []\n",
        "regularizacoes = []\n",
        "taxa_aprendizagem = []\n",
        "medias = []\n",
        "\n",
        "epoch = 10\n",
        "n_k = 4"
      ],
      "execution_count": 0,
      "outputs": []
    },
    {
      "metadata": {
        "colab_type": "text",
        "id": "VUnCNLFK3yiF"
      },
      "cell_type": "markdown",
      "source": [
        "## Rede 1 -> Configuração 784-30-10"
      ]
    },
    {
      "metadata": {
        "colab_type": "code",
        "id": "2XpIslCl3yiQ",
        "colab": {}
      },
      "cell_type": "code",
      "source": [
        "tamanho = [784, 30, 10]"
      ],
      "execution_count": 0,
      "outputs": []
    },
    {
      "metadata": {
        "id": "raqSXDh2EZiC",
        "colab_type": "text"
      },
      "cell_type": "markdown",
      "source": [
        "### Regularização - L1"
      ]
    },
    {
      "metadata": {
        "id": "66Jt2zLw4G7b",
        "colab_type": "code",
        "colab": {}
      },
      "cell_type": "code",
      "source": [
        "regularizacao = 'L1'"
      ],
      "execution_count": 0,
      "outputs": []
    },
    {
      "metadata": {
        "colab_type": "text",
        "id": "RMqDhBlQ3yjJ"
      },
      "cell_type": "markdown",
      "source": [
        "#### Taxa de aprendizagem - 0.1 - RELU"
      ]
    },
    {
      "metadata": {
        "colab_type": "code",
        "outputId": "c661f69c-c485-4a4a-a673-536d98538d7e",
        "id": "rC7huoby3yjK",
        "colab": {
          "base_uri": "https://localhost:8080/",
          "height": 257
        }
      },
      "cell_type": "code",
      "source": [
        "net = Network2(tamanho, regularizacao=regularizacao)\n",
        "acertos_dict = {}\n",
        "kf = KFold(n_splits=n_k)\n",
        "at = 0.1\n",
        "\n",
        "for i, index in enumerate(kf.split(data)):\n",
        "  train_index = index[0]\n",
        "  test_index = index[1]\n",
        "  \n",
        "  k = \"K {}\".format(i)\n",
        "  \n",
        "  print(k)\n",
        "  training_data = data[train_index[0]:train_index[-1]+1]\n",
        "  testing_data = data[test_index[0]:test_index[-1]+1]\n",
        "  \n",
        "  result = net.SGD(training_data, epoch, 10, at,test_data=testing_data, tipo_fun='relu')\n",
        "  acertos_dict[k] = result"
      ],
      "execution_count": 61,
      "outputs": [
        {
          "output_type": "stream",
          "text": [
            "K 0\n"
          ],
          "name": "stdout"
        },
        {
          "output_type": "stream",
          "text": [
            "/usr/local/lib/python3.6/dist-packages/ipykernel_launcher.py:14: RuntimeWarning: overflow encountered in multiply\n",
            "  \n",
            "/usr/local/lib/python3.6/dist-packages/ipykernel_launcher.py:110: RuntimeWarning: overflow encountered in multiply\n",
            "/usr/local/lib/python3.6/dist-packages/ipykernel_launcher.py:118: RuntimeWarning: invalid value encountered in multiply\n"
          ],
          "name": "stderr"
        },
        {
          "output_type": "stream",
          "text": [
            "Total Input 17500 / Total predict 1741\n",
            "K 1\n",
            "Total Input 17500 / Total predict 1693\n",
            "K 2\n",
            "Total Input 17500 / Total predict 3998\n",
            "K 3\n",
            "Total Input 17500 / Total predict 17500\n"
          ],
          "name": "stdout"
        }
      ]
    },
    {
      "metadata": {
        "colab_type": "code",
        "outputId": "7097ba10-4f9b-4c4f-d694-e8ed563a74f4",
        "id": "QP-QeNdX3yjV",
        "colab": {
          "base_uri": "https://localhost:8080/",
          "height": 175
        }
      },
      "cell_type": "code",
      "source": [
        "teste2 = pd.DataFrame({\n",
        "    'K': np.arange(kf.get_n_splits(data)),\n",
        "    'Acertos': list(acertos_dict.values())\n",
        "})\n",
        "\n",
        "teste2"
      ],
      "execution_count": 62,
      "outputs": [
        {
          "output_type": "execute_result",
          "data": {
            "text/html": [
              "<div>\n",
              "<style scoped>\n",
              "    .dataframe tbody tr th:only-of-type {\n",
              "        vertical-align: middle;\n",
              "    }\n",
              "\n",
              "    .dataframe tbody tr th {\n",
              "        vertical-align: top;\n",
              "    }\n",
              "\n",
              "    .dataframe thead th {\n",
              "        text-align: right;\n",
              "    }\n",
              "</style>\n",
              "<table border=\"1\" class=\"dataframe\">\n",
              "  <thead>\n",
              "    <tr style=\"text-align: right;\">\n",
              "      <th></th>\n",
              "      <th>K</th>\n",
              "      <th>Acertos</th>\n",
              "    </tr>\n",
              "  </thead>\n",
              "  <tbody>\n",
              "    <tr>\n",
              "      <th>0</th>\n",
              "      <td>0</td>\n",
              "      <td>1741</td>\n",
              "    </tr>\n",
              "    <tr>\n",
              "      <th>1</th>\n",
              "      <td>1</td>\n",
              "      <td>1693</td>\n",
              "    </tr>\n",
              "    <tr>\n",
              "      <th>2</th>\n",
              "      <td>2</td>\n",
              "      <td>3998</td>\n",
              "    </tr>\n",
              "    <tr>\n",
              "      <th>3</th>\n",
              "      <td>3</td>\n",
              "      <td>17500</td>\n",
              "    </tr>\n",
              "  </tbody>\n",
              "</table>\n",
              "</div>"
            ],
            "text/plain": [
              "   K  Acertos\n",
              "0  0     1741\n",
              "1  1     1693\n",
              "2  2     3998\n",
              "3  3    17500"
            ]
          },
          "metadata": {
            "tags": []
          },
          "execution_count": 62
        }
      ]
    },
    {
      "metadata": {
        "colab_type": "code",
        "outputId": "0734516b-682c-46cc-d9ad-ccccc153ed17",
        "id": "IJQNac4r3yji",
        "colab": {
          "base_uri": "https://localhost:8080/",
          "height": 35
        }
      },
      "cell_type": "code",
      "source": [
        "media = teste2['Acertos'].mean()\n",
        "\n",
        "media"
      ],
      "execution_count": 63,
      "outputs": [
        {
          "output_type": "execute_result",
          "data": {
            "text/plain": [
              "6233.0"
            ]
          },
          "metadata": {
            "tags": []
          },
          "execution_count": 63
        }
      ]
    },
    {
      "metadata": {
        "colab_type": "code",
        "id": "1hp1TJru3yjs",
        "colab": {}
      },
      "cell_type": "code",
      "source": [
        "funcao_ativacao_list.append('relu')\n",
        "rede.append('rede 1')\n",
        "taxa_aprendizagem.append(at)\n",
        "medias.append(media)\n",
        "regularizacoes.append(regularizacao)"
      ],
      "execution_count": 0,
      "outputs": []
    },
    {
      "metadata": {
        "colab_type": "text",
        "id": "OlsRW1mS3yjx"
      },
      "cell_type": "markdown",
      "source": [
        "#### Taxa de aprendizagem - 0.001 - RELU"
      ]
    },
    {
      "metadata": {
        "colab_type": "code",
        "outputId": "09518f70-baa4-48b3-d7e1-46727247c54e",
        "id": "KzXLzQs-3yjy",
        "colab": {
          "base_uri": "https://localhost:8080/",
          "height": 257
        }
      },
      "cell_type": "code",
      "source": [
        "net = Network2(tamanho, regularizacao=regularizacao)\n",
        "acertos_dict = {}\n",
        "kf = KFold(n_splits=n_k)\n",
        "at = 0.001\n",
        "\n",
        "for i, index in enumerate(kf.split(data)):\n",
        "  train_index = index[0]\n",
        "  test_index = index[1]\n",
        "  \n",
        "  k = \"K {}\".format(i)\n",
        "  \n",
        "  print(k)\n",
        "  training_data = data[train_index[0]:train_index[-1]+1]\n",
        "  testing_data = data[test_index[0]:test_index[-1]+1]\n",
        "  \n",
        "  result = net.SGD(training_data, epoch, 10, at,test_data=testing_data, tipo_fun='relu')\n",
        "  acertos_dict[k] = result"
      ],
      "execution_count": 65,
      "outputs": [
        {
          "output_type": "stream",
          "text": [
            "K 0\n"
          ],
          "name": "stdout"
        },
        {
          "output_type": "stream",
          "text": [
            "/usr/local/lib/python3.6/dist-packages/ipykernel_launcher.py:14: RuntimeWarning: overflow encountered in multiply\n",
            "  \n",
            "/usr/local/lib/python3.6/dist-packages/ipykernel_launcher.py:110: RuntimeWarning: overflow encountered in multiply\n",
            "/usr/local/lib/python3.6/dist-packages/ipykernel_launcher.py:118: RuntimeWarning: invalid value encountered in multiply\n"
          ],
          "name": "stderr"
        },
        {
          "output_type": "stream",
          "text": [
            "Total Input 17500 / Total predict 1741\n",
            "K 1\n",
            "Total Input 17500 / Total predict 1693\n",
            "K 2\n",
            "Total Input 17500 / Total predict 3998\n",
            "K 3\n",
            "Total Input 17500 / Total predict 17500\n"
          ],
          "name": "stdout"
        }
      ]
    },
    {
      "metadata": {
        "colab_type": "code",
        "outputId": "b04b9971-7448-4089-9a43-9cab80f657a4",
        "id": "2qnIG0k93yj4",
        "colab": {
          "base_uri": "https://localhost:8080/",
          "height": 175
        }
      },
      "cell_type": "code",
      "source": [
        "teste3 = pd.DataFrame({\n",
        "    'K': np.arange(kf.get_n_splits(data)),\n",
        "    'Acertos': list(acertos_dict.values())\n",
        "})\n",
        "\n",
        "teste3"
      ],
      "execution_count": 66,
      "outputs": [
        {
          "output_type": "execute_result",
          "data": {
            "text/html": [
              "<div>\n",
              "<style scoped>\n",
              "    .dataframe tbody tr th:only-of-type {\n",
              "        vertical-align: middle;\n",
              "    }\n",
              "\n",
              "    .dataframe tbody tr th {\n",
              "        vertical-align: top;\n",
              "    }\n",
              "\n",
              "    .dataframe thead th {\n",
              "        text-align: right;\n",
              "    }\n",
              "</style>\n",
              "<table border=\"1\" class=\"dataframe\">\n",
              "  <thead>\n",
              "    <tr style=\"text-align: right;\">\n",
              "      <th></th>\n",
              "      <th>K</th>\n",
              "      <th>Acertos</th>\n",
              "    </tr>\n",
              "  </thead>\n",
              "  <tbody>\n",
              "    <tr>\n",
              "      <th>0</th>\n",
              "      <td>0</td>\n",
              "      <td>1741</td>\n",
              "    </tr>\n",
              "    <tr>\n",
              "      <th>1</th>\n",
              "      <td>1</td>\n",
              "      <td>1693</td>\n",
              "    </tr>\n",
              "    <tr>\n",
              "      <th>2</th>\n",
              "      <td>2</td>\n",
              "      <td>3998</td>\n",
              "    </tr>\n",
              "    <tr>\n",
              "      <th>3</th>\n",
              "      <td>3</td>\n",
              "      <td>17500</td>\n",
              "    </tr>\n",
              "  </tbody>\n",
              "</table>\n",
              "</div>"
            ],
            "text/plain": [
              "   K  Acertos\n",
              "0  0     1741\n",
              "1  1     1693\n",
              "2  2     3998\n",
              "3  3    17500"
            ]
          },
          "metadata": {
            "tags": []
          },
          "execution_count": 66
        }
      ]
    },
    {
      "metadata": {
        "colab_type": "code",
        "outputId": "9bdeb910-db8a-48d7-ff0e-e8f6bbc44bef",
        "id": "iq-g5a5V3ykA",
        "colab": {
          "base_uri": "https://localhost:8080/",
          "height": 35
        }
      },
      "cell_type": "code",
      "source": [
        "media = teste3['Acertos'].mean()\n",
        "\n",
        "media"
      ],
      "execution_count": 67,
      "outputs": [
        {
          "output_type": "execute_result",
          "data": {
            "text/plain": [
              "6233.0"
            ]
          },
          "metadata": {
            "tags": []
          },
          "execution_count": 67
        }
      ]
    },
    {
      "metadata": {
        "colab_type": "code",
        "id": "LYsUPqqB3ykH",
        "colab": {}
      },
      "cell_type": "code",
      "source": [
        "funcao_ativacao_list.append('relu')\n",
        "rede.append('rede 1')\n",
        "taxa_aprendizagem.append(at)\n",
        "medias.append(media)\n",
        "regularizacoes.append(regularizacao)"
      ],
      "execution_count": 0,
      "outputs": []
    },
    {
      "metadata": {
        "colab_type": "text",
        "id": "QOohdq72FQ5s"
      },
      "cell_type": "markdown",
      "source": [
        "### Regularização - L2"
      ]
    },
    {
      "metadata": {
        "colab_type": "code",
        "id": "d1l6-Dx7FQ50",
        "colab": {}
      },
      "cell_type": "code",
      "source": [
        "regularizacao = 'L2'"
      ],
      "execution_count": 0,
      "outputs": []
    },
    {
      "metadata": {
        "colab_type": "text",
        "id": "41DZEOt1FQ6G"
      },
      "cell_type": "markdown",
      "source": [
        "#### Taxa de aprendizagem - 0.1 - RELU"
      ]
    },
    {
      "metadata": {
        "colab_type": "code",
        "outputId": "6742e158-a0ac-421a-e115-77e2f28e66f0",
        "id": "wEVzCuFtFQ6L",
        "colab": {
          "base_uri": "https://localhost:8080/",
          "height": 257
        }
      },
      "cell_type": "code",
      "source": [
        "net = Network2(tamanho, regularizacao=regularizacao)\n",
        "acertos_dict = {}\n",
        "kf = KFold(n_splits=n_k)\n",
        "at = 0.1\n",
        "\n",
        "for i, index in enumerate(kf.split(data)):\n",
        "  train_index = index[0]\n",
        "  test_index = index[1]\n",
        "  \n",
        "  k = \"K {}\".format(i)\n",
        "  \n",
        "  print(k)\n",
        "  training_data = data[train_index[0]:train_index[-1]+1]\n",
        "  testing_data = data[test_index[0]:test_index[-1]+1]\n",
        "  \n",
        "  result = net.SGD(training_data, epoch, 10, at,test_data=testing_data, tipo_fun='relu')\n",
        "  acertos_dict[k] = result"
      ],
      "execution_count": 70,
      "outputs": [
        {
          "output_type": "stream",
          "text": [
            "K 0\n"
          ],
          "name": "stdout"
        },
        {
          "output_type": "stream",
          "text": [
            "/usr/local/lib/python3.6/dist-packages/ipykernel_launcher.py:118: RuntimeWarning: overflow encountered in multiply\n",
            "/usr/local/lib/python3.6/dist-packages/ipykernel_launcher.py:14: RuntimeWarning: overflow encountered in multiply\n",
            "  \n",
            "/usr/local/lib/python3.6/dist-packages/ipykernel_launcher.py:118: RuntimeWarning: invalid value encountered in multiply\n"
          ],
          "name": "stderr"
        },
        {
          "output_type": "stream",
          "text": [
            "Total Input 17500 / Total predict 1750\n",
            "K 1\n",
            "Total Input 17500 / Total predict 1774\n",
            "K 2\n",
            "Total Input 17500 / Total predict 1464\n",
            "K 3\n",
            "Total Input 17500 / Total predict 0\n"
          ],
          "name": "stdout"
        }
      ]
    },
    {
      "metadata": {
        "colab_type": "code",
        "outputId": "2a3e375e-d4e7-484d-9d86-98b6e51eef90",
        "id": "fT2nt4IPFQ6f",
        "colab": {
          "base_uri": "https://localhost:8080/",
          "height": 175
        }
      },
      "cell_type": "code",
      "source": [
        "teste2 = pd.DataFrame({\n",
        "    'K': np.arange(kf.get_n_splits(data)),\n",
        "    'Acertos': list(acertos_dict.values())\n",
        "})\n",
        "\n",
        "teste2"
      ],
      "execution_count": 71,
      "outputs": [
        {
          "output_type": "execute_result",
          "data": {
            "text/html": [
              "<div>\n",
              "<style scoped>\n",
              "    .dataframe tbody tr th:only-of-type {\n",
              "        vertical-align: middle;\n",
              "    }\n",
              "\n",
              "    .dataframe tbody tr th {\n",
              "        vertical-align: top;\n",
              "    }\n",
              "\n",
              "    .dataframe thead th {\n",
              "        text-align: right;\n",
              "    }\n",
              "</style>\n",
              "<table border=\"1\" class=\"dataframe\">\n",
              "  <thead>\n",
              "    <tr style=\"text-align: right;\">\n",
              "      <th></th>\n",
              "      <th>K</th>\n",
              "      <th>Acertos</th>\n",
              "    </tr>\n",
              "  </thead>\n",
              "  <tbody>\n",
              "    <tr>\n",
              "      <th>0</th>\n",
              "      <td>0</td>\n",
              "      <td>1750</td>\n",
              "    </tr>\n",
              "    <tr>\n",
              "      <th>1</th>\n",
              "      <td>1</td>\n",
              "      <td>1774</td>\n",
              "    </tr>\n",
              "    <tr>\n",
              "      <th>2</th>\n",
              "      <td>2</td>\n",
              "      <td>1464</td>\n",
              "    </tr>\n",
              "    <tr>\n",
              "      <th>3</th>\n",
              "      <td>3</td>\n",
              "      <td>0</td>\n",
              "    </tr>\n",
              "  </tbody>\n",
              "</table>\n",
              "</div>"
            ],
            "text/plain": [
              "   K  Acertos\n",
              "0  0     1750\n",
              "1  1     1774\n",
              "2  2     1464\n",
              "3  3        0"
            ]
          },
          "metadata": {
            "tags": []
          },
          "execution_count": 71
        }
      ]
    },
    {
      "metadata": {
        "colab_type": "code",
        "outputId": "8abc0692-fb6c-4f1e-90ce-c91f6eb39bae",
        "id": "7_v4VjfUFQ6t",
        "colab": {
          "base_uri": "https://localhost:8080/",
          "height": 35
        }
      },
      "cell_type": "code",
      "source": [
        "media = teste2['Acertos'].mean()\n",
        "\n",
        "media"
      ],
      "execution_count": 72,
      "outputs": [
        {
          "output_type": "execute_result",
          "data": {
            "text/plain": [
              "1247.0"
            ]
          },
          "metadata": {
            "tags": []
          },
          "execution_count": 72
        }
      ]
    },
    {
      "metadata": {
        "colab_type": "code",
        "id": "WLCv0d61FQ64",
        "colab": {}
      },
      "cell_type": "code",
      "source": [
        "funcao_ativacao_list.append('relu')\n",
        "rede.append('rede 1')\n",
        "taxa_aprendizagem.append(at)\n",
        "medias.append(media)\n",
        "regularizacoes.append(regularizacao)"
      ],
      "execution_count": 0,
      "outputs": []
    },
    {
      "metadata": {
        "colab_type": "text",
        "id": "t51NLm4yFQ6_"
      },
      "cell_type": "markdown",
      "source": [
        "#### Taxa de aprendizagem - 0.001 - RELU"
      ]
    },
    {
      "metadata": {
        "colab_type": "code",
        "outputId": "4b2e43c1-8121-4ae4-cef3-874972fb7922",
        "id": "VEQ64ketFQ7A",
        "colab": {
          "base_uri": "https://localhost:8080/",
          "height": 257
        }
      },
      "cell_type": "code",
      "source": [
        "net = Network2(tamanho, regularizacao=regularizacao)\n",
        "acertos_dict = {}\n",
        "kf = KFold(n_splits=n_k)\n",
        "at = 0.001\n",
        "\n",
        "for i, index in enumerate(kf.split(data)):\n",
        "  train_index = index[0]\n",
        "  test_index = index[1]\n",
        "  \n",
        "  k = \"K {}\".format(i)\n",
        "  \n",
        "  print(k)\n",
        "  training_data = data[train_index[0]:train_index[-1]+1]\n",
        "  testing_data = data[test_index[0]:test_index[-1]+1]\n",
        "  \n",
        "  result = net.SGD(training_data, epoch, 10, at,test_data=testing_data, tipo_fun='relu')\n",
        "  acertos_dict[k] = result"
      ],
      "execution_count": 74,
      "outputs": [
        {
          "output_type": "stream",
          "text": [
            "K 0\n"
          ],
          "name": "stdout"
        },
        {
          "output_type": "stream",
          "text": [
            "/usr/local/lib/python3.6/dist-packages/ipykernel_launcher.py:110: RuntimeWarning: overflow encountered in multiply\n",
            "/usr/local/lib/python3.6/dist-packages/ipykernel_launcher.py:118: RuntimeWarning: invalid value encountered in multiply\n",
            "/usr/local/lib/python3.6/dist-packages/ipykernel_launcher.py:14: RuntimeWarning: overflow encountered in multiply\n",
            "  \n"
          ],
          "name": "stderr"
        },
        {
          "output_type": "stream",
          "text": [
            "Total Input 17500 / Total predict 1741\n",
            "K 1\n",
            "Total Input 17500 / Total predict 1693\n",
            "K 2\n",
            "Total Input 17500 / Total predict 3998\n",
            "K 3\n",
            "Total Input 17500 / Total predict 17500\n"
          ],
          "name": "stdout"
        }
      ]
    },
    {
      "metadata": {
        "colab_type": "code",
        "outputId": "3049cbcb-2fcb-4092-a44d-37807d904b63",
        "id": "z0J2Yj0iFQ7M",
        "colab": {
          "base_uri": "https://localhost:8080/",
          "height": 175
        }
      },
      "cell_type": "code",
      "source": [
        "teste3 = pd.DataFrame({\n",
        "    'K': np.arange(kf.get_n_splits(data)),\n",
        "    'Acertos': list(acertos_dict.values())\n",
        "})\n",
        "\n",
        "teste3"
      ],
      "execution_count": 75,
      "outputs": [
        {
          "output_type": "execute_result",
          "data": {
            "text/html": [
              "<div>\n",
              "<style scoped>\n",
              "    .dataframe tbody tr th:only-of-type {\n",
              "        vertical-align: middle;\n",
              "    }\n",
              "\n",
              "    .dataframe tbody tr th {\n",
              "        vertical-align: top;\n",
              "    }\n",
              "\n",
              "    .dataframe thead th {\n",
              "        text-align: right;\n",
              "    }\n",
              "</style>\n",
              "<table border=\"1\" class=\"dataframe\">\n",
              "  <thead>\n",
              "    <tr style=\"text-align: right;\">\n",
              "      <th></th>\n",
              "      <th>K</th>\n",
              "      <th>Acertos</th>\n",
              "    </tr>\n",
              "  </thead>\n",
              "  <tbody>\n",
              "    <tr>\n",
              "      <th>0</th>\n",
              "      <td>0</td>\n",
              "      <td>1741</td>\n",
              "    </tr>\n",
              "    <tr>\n",
              "      <th>1</th>\n",
              "      <td>1</td>\n",
              "      <td>1693</td>\n",
              "    </tr>\n",
              "    <tr>\n",
              "      <th>2</th>\n",
              "      <td>2</td>\n",
              "      <td>3998</td>\n",
              "    </tr>\n",
              "    <tr>\n",
              "      <th>3</th>\n",
              "      <td>3</td>\n",
              "      <td>17500</td>\n",
              "    </tr>\n",
              "  </tbody>\n",
              "</table>\n",
              "</div>"
            ],
            "text/plain": [
              "   K  Acertos\n",
              "0  0     1741\n",
              "1  1     1693\n",
              "2  2     3998\n",
              "3  3    17500"
            ]
          },
          "metadata": {
            "tags": []
          },
          "execution_count": 75
        }
      ]
    },
    {
      "metadata": {
        "colab_type": "code",
        "outputId": "a4768043-ed2f-41a9-8492-edd1075e9dc6",
        "id": "DTN44QNKFQ7b",
        "colab": {
          "base_uri": "https://localhost:8080/",
          "height": 35
        }
      },
      "cell_type": "code",
      "source": [
        "media = teste3['Acertos'].mean()\n",
        "\n",
        "media"
      ],
      "execution_count": 76,
      "outputs": [
        {
          "output_type": "execute_result",
          "data": {
            "text/plain": [
              "6233.0"
            ]
          },
          "metadata": {
            "tags": []
          },
          "execution_count": 76
        }
      ]
    },
    {
      "metadata": {
        "colab_type": "code",
        "id": "-I1cvGYmFQ7l",
        "colab": {}
      },
      "cell_type": "code",
      "source": [
        "funcao_ativacao_list.append('relu')\n",
        "rede.append('rede 1')\n",
        "taxa_aprendizagem.append(at)\n",
        "medias.append(media)\n",
        "regularizacoes.append(regularizacao)"
      ],
      "execution_count": 0,
      "outputs": []
    },
    {
      "metadata": {
        "colab_type": "text",
        "id": "HHRMtwm13pbX"
      },
      "cell_type": "markdown",
      "source": [
        "## Rede 2 -> Configuração 784-50-10"
      ]
    },
    {
      "metadata": {
        "colab_type": "code",
        "id": "8GhmoQXi3pbj",
        "colab": {}
      },
      "cell_type": "code",
      "source": [
        "tamanho = [784, 50, 10]"
      ],
      "execution_count": 0,
      "outputs": []
    },
    {
      "metadata": {
        "colab_type": "text",
        "id": "UFlhvyve3pb4"
      },
      "cell_type": "markdown",
      "source": [
        "### Regularização - L1"
      ]
    },
    {
      "metadata": {
        "colab_type": "code",
        "id": "2kFQOgKB4TfE",
        "colab": {}
      },
      "cell_type": "code",
      "source": [
        "regularizacao = 'L1'"
      ],
      "execution_count": 0,
      "outputs": []
    },
    {
      "metadata": {
        "colab_type": "text",
        "id": "77dnugCu3pcr"
      },
      "cell_type": "markdown",
      "source": [
        "#### Taxa de aprendizagem - 0.1 - RELU"
      ]
    },
    {
      "metadata": {
        "colab_type": "code",
        "outputId": "fc1424c8-c47b-46ff-854c-b32526b2a01e",
        "id": "tvkqlSW43pct",
        "colab": {
          "base_uri": "https://localhost:8080/",
          "height": 219
        }
      },
      "cell_type": "code",
      "source": [
        "net = Network2(tamanho, regularizacao=regularizacao)\n",
        "acertos_dict = {}\n",
        "kf = KFold(n_splits=n_k)\n",
        "at = 0.1\n",
        "\n",
        "for i, index in enumerate(kf.split(data)):\n",
        "  train_index = index[0]\n",
        "  test_index = index[1]\n",
        "  \n",
        "  k = \"K {}\".format(i)\n",
        "  \n",
        "  print(k)\n",
        "  training_data = data[train_index[0]:train_index[-1]+1]\n",
        "  testing_data = data[test_index[0]:test_index[-1]+1]\n",
        "  \n",
        "  result = net.SGD(training_data, epoch, 10, at,test_data=testing_data, tipo_fun='relu')\n",
        "  acertos_dict[k] = result"
      ],
      "execution_count": 80,
      "outputs": [
        {
          "output_type": "stream",
          "text": [
            "K 0\n"
          ],
          "name": "stdout"
        },
        {
          "output_type": "stream",
          "text": [
            "/usr/local/lib/python3.6/dist-packages/ipykernel_launcher.py:118: RuntimeWarning: invalid value encountered in multiply\n",
            "/usr/local/lib/python3.6/dist-packages/ipykernel_launcher.py:14: RuntimeWarning: overflow encountered in multiply\n",
            "  \n"
          ],
          "name": "stderr"
        },
        {
          "output_type": "stream",
          "text": [
            "Total Input 17500 / Total predict 1741\n",
            "K 1\n",
            "Total Input 17500 / Total predict 1693\n",
            "K 2\n",
            "Total Input 17500 / Total predict 3998\n",
            "K 3\n",
            "Total Input 17500 / Total predict 17500\n"
          ],
          "name": "stdout"
        }
      ]
    },
    {
      "metadata": {
        "colab_type": "code",
        "outputId": "dada06d6-1e59-409a-9ae2-fadee3eac7bb",
        "id": "R9XX5r7A3pc6",
        "colab": {
          "base_uri": "https://localhost:8080/",
          "height": 175
        }
      },
      "cell_type": "code",
      "source": [
        "teste8 = pd.DataFrame({\n",
        "    'K': np.arange(kf.get_n_splits(data)),\n",
        "    'Acertos': list(acertos_dict.values())\n",
        "})\n",
        "\n",
        "teste8"
      ],
      "execution_count": 81,
      "outputs": [
        {
          "output_type": "execute_result",
          "data": {
            "text/html": [
              "<div>\n",
              "<style scoped>\n",
              "    .dataframe tbody tr th:only-of-type {\n",
              "        vertical-align: middle;\n",
              "    }\n",
              "\n",
              "    .dataframe tbody tr th {\n",
              "        vertical-align: top;\n",
              "    }\n",
              "\n",
              "    .dataframe thead th {\n",
              "        text-align: right;\n",
              "    }\n",
              "</style>\n",
              "<table border=\"1\" class=\"dataframe\">\n",
              "  <thead>\n",
              "    <tr style=\"text-align: right;\">\n",
              "      <th></th>\n",
              "      <th>K</th>\n",
              "      <th>Acertos</th>\n",
              "    </tr>\n",
              "  </thead>\n",
              "  <tbody>\n",
              "    <tr>\n",
              "      <th>0</th>\n",
              "      <td>0</td>\n",
              "      <td>1741</td>\n",
              "    </tr>\n",
              "    <tr>\n",
              "      <th>1</th>\n",
              "      <td>1</td>\n",
              "      <td>1693</td>\n",
              "    </tr>\n",
              "    <tr>\n",
              "      <th>2</th>\n",
              "      <td>2</td>\n",
              "      <td>3998</td>\n",
              "    </tr>\n",
              "    <tr>\n",
              "      <th>3</th>\n",
              "      <td>3</td>\n",
              "      <td>17500</td>\n",
              "    </tr>\n",
              "  </tbody>\n",
              "</table>\n",
              "</div>"
            ],
            "text/plain": [
              "   K  Acertos\n",
              "0  0     1741\n",
              "1  1     1693\n",
              "2  2     3998\n",
              "3  3    17500"
            ]
          },
          "metadata": {
            "tags": []
          },
          "execution_count": 81
        }
      ]
    },
    {
      "metadata": {
        "colab_type": "code",
        "outputId": "f2bb87ee-e375-4392-b51a-1ea83441acdd",
        "id": "k7BSAI7X3pdI",
        "colab": {
          "base_uri": "https://localhost:8080/",
          "height": 35
        }
      },
      "cell_type": "code",
      "source": [
        "media = teste8['Acertos'].mean()\n",
        "\n",
        "media"
      ],
      "execution_count": 82,
      "outputs": [
        {
          "output_type": "execute_result",
          "data": {
            "text/plain": [
              "6233.0"
            ]
          },
          "metadata": {
            "tags": []
          },
          "execution_count": 82
        }
      ]
    },
    {
      "metadata": {
        "colab_type": "code",
        "id": "ApEL7Xck3pdP",
        "colab": {}
      },
      "cell_type": "code",
      "source": [
        "funcao_ativacao_list.append('relu')\n",
        "rede.append('rede 2')\n",
        "taxa_aprendizagem.append(at)\n",
        "medias.append(media)\n",
        "regularizacoes.append(regularizacao)"
      ],
      "execution_count": 0,
      "outputs": []
    },
    {
      "metadata": {
        "colab_type": "text",
        "id": "nGLtZeyz3pdV"
      },
      "cell_type": "markdown",
      "source": [
        "#### Taxa de aprendizagem - 0.001 - RELU"
      ]
    },
    {
      "metadata": {
        "colab_type": "code",
        "outputId": "d128e770-6b8e-4710-89bf-3f718ac3c809",
        "id": "eayKJHxM3pdW",
        "colab": {
          "base_uri": "https://localhost:8080/",
          "height": 237
        }
      },
      "cell_type": "code",
      "source": [
        "net = Network2(tamanho, regularizacao=regularizacao)\n",
        "acertos_dict = {}\n",
        "kf = KFold(n_splits=n_k)\n",
        "at = 0.001\n",
        "\n",
        "for i, index in enumerate(kf.split(data)):\n",
        "  train_index = index[0]\n",
        "  test_index = index[1]\n",
        "  \n",
        "  k = \"K {}\".format(i)\n",
        "  \n",
        "  print(k)\n",
        "  training_data = data[train_index[0]:train_index[-1]+1]\n",
        "  testing_data = data[test_index[0]:test_index[-1]+1]\n",
        "  \n",
        "  result = net.SGD(training_data, epoch, 10, at,test_data=testing_data, tipo_fun='relu')\n",
        "  acertos_dict[k] = result"
      ],
      "execution_count": 84,
      "outputs": [
        {
          "output_type": "stream",
          "text": [
            "K 0\n"
          ],
          "name": "stdout"
        },
        {
          "output_type": "stream",
          "text": [
            "/usr/local/lib/python3.6/dist-packages/ipykernel_launcher.py:14: RuntimeWarning: overflow encountered in multiply\n",
            "  \n",
            "/usr/local/lib/python3.6/dist-packages/ipykernel_launcher.py:110: RuntimeWarning: overflow encountered in multiply\n",
            "/usr/local/lib/python3.6/dist-packages/ipykernel_launcher.py:118: RuntimeWarning: invalid value encountered in multiply\n"
          ],
          "name": "stderr"
        },
        {
          "output_type": "stream",
          "text": [
            "Total Input 17500 / Total predict 1741\n",
            "K 1\n",
            "Total Input 17500 / Total predict 1693\n",
            "K 2\n",
            "Total Input 17500 / Total predict 3998\n",
            "K 3\n",
            "Total Input 17500 / Total predict 17500\n"
          ],
          "name": "stdout"
        }
      ]
    },
    {
      "metadata": {
        "colab_type": "code",
        "outputId": "57c34a4b-75bc-49a2-b4d5-67cafacca083",
        "id": "RTBlk0Y23pdc",
        "colab": {
          "base_uri": "https://localhost:8080/",
          "height": 175
        }
      },
      "cell_type": "code",
      "source": [
        "teste9 = pd.DataFrame({\n",
        "    'K': np.arange(kf.get_n_splits(data)),\n",
        "    'Acertos': list(acertos_dict.values())\n",
        "})\n",
        "\n",
        "teste9"
      ],
      "execution_count": 85,
      "outputs": [
        {
          "output_type": "execute_result",
          "data": {
            "text/html": [
              "<div>\n",
              "<style scoped>\n",
              "    .dataframe tbody tr th:only-of-type {\n",
              "        vertical-align: middle;\n",
              "    }\n",
              "\n",
              "    .dataframe tbody tr th {\n",
              "        vertical-align: top;\n",
              "    }\n",
              "\n",
              "    .dataframe thead th {\n",
              "        text-align: right;\n",
              "    }\n",
              "</style>\n",
              "<table border=\"1\" class=\"dataframe\">\n",
              "  <thead>\n",
              "    <tr style=\"text-align: right;\">\n",
              "      <th></th>\n",
              "      <th>K</th>\n",
              "      <th>Acertos</th>\n",
              "    </tr>\n",
              "  </thead>\n",
              "  <tbody>\n",
              "    <tr>\n",
              "      <th>0</th>\n",
              "      <td>0</td>\n",
              "      <td>1741</td>\n",
              "    </tr>\n",
              "    <tr>\n",
              "      <th>1</th>\n",
              "      <td>1</td>\n",
              "      <td>1693</td>\n",
              "    </tr>\n",
              "    <tr>\n",
              "      <th>2</th>\n",
              "      <td>2</td>\n",
              "      <td>3998</td>\n",
              "    </tr>\n",
              "    <tr>\n",
              "      <th>3</th>\n",
              "      <td>3</td>\n",
              "      <td>17500</td>\n",
              "    </tr>\n",
              "  </tbody>\n",
              "</table>\n",
              "</div>"
            ],
            "text/plain": [
              "   K  Acertos\n",
              "0  0     1741\n",
              "1  1     1693\n",
              "2  2     3998\n",
              "3  3    17500"
            ]
          },
          "metadata": {
            "tags": []
          },
          "execution_count": 85
        }
      ]
    },
    {
      "metadata": {
        "colab_type": "code",
        "outputId": "4a3b119b-d4f5-48f2-990a-247533886517",
        "id": "yfTK0IcE3pdl",
        "colab": {
          "base_uri": "https://localhost:8080/",
          "height": 35
        }
      },
      "cell_type": "code",
      "source": [
        "media = teste9['Acertos'].mean()\n",
        "\n",
        "media"
      ],
      "execution_count": 86,
      "outputs": [
        {
          "output_type": "execute_result",
          "data": {
            "text/plain": [
              "6233.0"
            ]
          },
          "metadata": {
            "tags": []
          },
          "execution_count": 86
        }
      ]
    },
    {
      "metadata": {
        "colab_type": "code",
        "id": "8LK1h1o93pds",
        "colab": {}
      },
      "cell_type": "code",
      "source": [
        "funcao_ativacao_list.append('relu')\n",
        "rede.append('rede 2')\n",
        "taxa_aprendizagem.append(at)\n",
        "medias.append(media)\n",
        "regularizacoes.append(regularizacao)"
      ],
      "execution_count": 0,
      "outputs": []
    },
    {
      "metadata": {
        "colab_type": "text",
        "id": "D6WV5EZuFX_0"
      },
      "cell_type": "markdown",
      "source": [
        "### Regularização - L2"
      ]
    },
    {
      "metadata": {
        "colab_type": "code",
        "id": "vbmAxL3lFYAA",
        "colab": {}
      },
      "cell_type": "code",
      "source": [
        "regularizacao = 'L2'"
      ],
      "execution_count": 0,
      "outputs": []
    },
    {
      "metadata": {
        "colab_type": "text",
        "id": "J0Kx2He4FYAU"
      },
      "cell_type": "markdown",
      "source": [
        "#### Taxa de aprendizagem - 0.1 - RELU"
      ]
    },
    {
      "metadata": {
        "colab_type": "code",
        "outputId": "0f7933b1-ea17-4815-f65d-efeeefa2916d",
        "id": "22G11Q5QFYAY",
        "colab": {
          "base_uri": "https://localhost:8080/",
          "height": 237
        }
      },
      "cell_type": "code",
      "source": [
        "net = Network2(tamanho, regularizacao=regularizacao)\n",
        "acertos_dict = {}\n",
        "kf = KFold(n_splits=n_k)\n",
        "at = 0.1\n",
        "\n",
        "for i, index in enumerate(kf.split(data)):\n",
        "  train_index = index[0]\n",
        "  test_index = index[1]\n",
        "  \n",
        "  k = \"K {}\".format(i)\n",
        "  \n",
        "  print(k)\n",
        "  training_data = data[train_index[0]:train_index[-1]+1]\n",
        "  testing_data = data[test_index[0]:test_index[-1]+1]\n",
        "  \n",
        "  result = net.SGD(training_data, epoch, 10, at,test_data=testing_data, tipo_fun='relu')\n",
        "  acertos_dict[k] = result"
      ],
      "execution_count": 89,
      "outputs": [
        {
          "output_type": "stream",
          "text": [
            "K 0\n"
          ],
          "name": "stdout"
        },
        {
          "output_type": "stream",
          "text": [
            "/usr/local/lib/python3.6/dist-packages/ipykernel_launcher.py:14: RuntimeWarning: overflow encountered in multiply\n",
            "  \n",
            "/usr/local/lib/python3.6/dist-packages/ipykernel_launcher.py:118: RuntimeWarning: invalid value encountered in multiply\n",
            "/usr/local/lib/python3.6/dist-packages/ipykernel_launcher.py:110: RuntimeWarning: overflow encountered in multiply\n"
          ],
          "name": "stderr"
        },
        {
          "output_type": "stream",
          "text": [
            "Total Input 17500 / Total predict 1741\n",
            "K 1\n",
            "Total Input 17500 / Total predict 1693\n",
            "K 2\n",
            "Total Input 17500 / Total predict 3998\n",
            "K 3\n",
            "Total Input 17500 / Total predict 17500\n"
          ],
          "name": "stdout"
        }
      ]
    },
    {
      "metadata": {
        "colab_type": "code",
        "id": "DNGc61LDFYAo",
        "colab": {
          "base_uri": "https://localhost:8080/",
          "height": 175
        },
        "outputId": "ec36e56d-ed41-4f84-cbd3-4b26bd2c3570"
      },
      "cell_type": "code",
      "source": [
        "teste8 = pd.DataFrame({\n",
        "    'K': np.arange(kf.get_n_splits(data)),\n",
        "    'Acertos': list(acertos_dict.values())\n",
        "})\n",
        "\n",
        "teste8"
      ],
      "execution_count": 90,
      "outputs": [
        {
          "output_type": "execute_result",
          "data": {
            "text/html": [
              "<div>\n",
              "<style scoped>\n",
              "    .dataframe tbody tr th:only-of-type {\n",
              "        vertical-align: middle;\n",
              "    }\n",
              "\n",
              "    .dataframe tbody tr th {\n",
              "        vertical-align: top;\n",
              "    }\n",
              "\n",
              "    .dataframe thead th {\n",
              "        text-align: right;\n",
              "    }\n",
              "</style>\n",
              "<table border=\"1\" class=\"dataframe\">\n",
              "  <thead>\n",
              "    <tr style=\"text-align: right;\">\n",
              "      <th></th>\n",
              "      <th>K</th>\n",
              "      <th>Acertos</th>\n",
              "    </tr>\n",
              "  </thead>\n",
              "  <tbody>\n",
              "    <tr>\n",
              "      <th>0</th>\n",
              "      <td>0</td>\n",
              "      <td>1741</td>\n",
              "    </tr>\n",
              "    <tr>\n",
              "      <th>1</th>\n",
              "      <td>1</td>\n",
              "      <td>1693</td>\n",
              "    </tr>\n",
              "    <tr>\n",
              "      <th>2</th>\n",
              "      <td>2</td>\n",
              "      <td>3998</td>\n",
              "    </tr>\n",
              "    <tr>\n",
              "      <th>3</th>\n",
              "      <td>3</td>\n",
              "      <td>17500</td>\n",
              "    </tr>\n",
              "  </tbody>\n",
              "</table>\n",
              "</div>"
            ],
            "text/plain": [
              "   K  Acertos\n",
              "0  0     1741\n",
              "1  1     1693\n",
              "2  2     3998\n",
              "3  3    17500"
            ]
          },
          "metadata": {
            "tags": []
          },
          "execution_count": 90
        }
      ]
    },
    {
      "metadata": {
        "colab_type": "code",
        "id": "Hms2kTl_FYAy",
        "colab": {
          "base_uri": "https://localhost:8080/",
          "height": 35
        },
        "outputId": "1a7ea741-df4d-4922-da6b-7f4ab00f87dd"
      },
      "cell_type": "code",
      "source": [
        "media = teste8['Acertos'].mean()\n",
        "\n",
        "media"
      ],
      "execution_count": 91,
      "outputs": [
        {
          "output_type": "execute_result",
          "data": {
            "text/plain": [
              "6233.0"
            ]
          },
          "metadata": {
            "tags": []
          },
          "execution_count": 91
        }
      ]
    },
    {
      "metadata": {
        "colab_type": "code",
        "id": "sIwp9UOQFYA3",
        "colab": {}
      },
      "cell_type": "code",
      "source": [
        "funcao_ativacao_list.append('relu')\n",
        "rede.append('rede 2')\n",
        "taxa_aprendizagem.append(at)\n",
        "medias.append(media)\n",
        "regularizacoes.append(regularizacao)"
      ],
      "execution_count": 0,
      "outputs": []
    },
    {
      "metadata": {
        "colab_type": "text",
        "id": "iIBF77sHFYA9"
      },
      "cell_type": "markdown",
      "source": [
        "#### Taxa de aprendizagem - 0.001 - RELU"
      ]
    },
    {
      "metadata": {
        "colab_type": "code",
        "id": "fzSC_Pl7FYA9",
        "colab": {
          "base_uri": "https://localhost:8080/",
          "height": 237
        },
        "outputId": "1ad885ff-4bd2-4ba0-f52f-cdfe729dffda"
      },
      "cell_type": "code",
      "source": [
        "net = Network2(tamanho, regularizacao=regularizacao)\n",
        "acertos_dict = {}\n",
        "kf = KFold(n_splits=n_k)\n",
        "at = 0.001\n",
        "\n",
        "for i, index in enumerate(kf.split(data)):\n",
        "  train_index = index[0]\n",
        "  test_index = index[1]\n",
        "  \n",
        "  k = \"K {}\".format(i)\n",
        "  \n",
        "  print(k)\n",
        "  training_data = data[train_index[0]:train_index[-1]+1]\n",
        "  testing_data = data[test_index[0]:test_index[-1]+1]\n",
        "  \n",
        "  result = net.SGD(training_data, epoch, 10, at,test_data=testing_data, tipo_fun='relu')\n",
        "  acertos_dict[k] = result"
      ],
      "execution_count": 93,
      "outputs": [
        {
          "output_type": "stream",
          "text": [
            "K 0\n"
          ],
          "name": "stdout"
        },
        {
          "output_type": "stream",
          "text": [
            "/usr/local/lib/python3.6/dist-packages/ipykernel_launcher.py:14: RuntimeWarning: overflow encountered in multiply\n",
            "  \n",
            "/usr/local/lib/python3.6/dist-packages/ipykernel_launcher.py:110: RuntimeWarning: overflow encountered in multiply\n",
            "/usr/local/lib/python3.6/dist-packages/ipykernel_launcher.py:118: RuntimeWarning: invalid value encountered in multiply\n"
          ],
          "name": "stderr"
        },
        {
          "output_type": "stream",
          "text": [
            "Total Input 17500 / Total predict 1741\n",
            "K 1\n",
            "Total Input 17500 / Total predict 1693\n",
            "K 2\n",
            "Total Input 17500 / Total predict 3998\n",
            "K 3\n",
            "Total Input 17500 / Total predict 17500\n"
          ],
          "name": "stdout"
        }
      ]
    },
    {
      "metadata": {
        "colab_type": "code",
        "id": "yHSJp3bsFYBC",
        "colab": {
          "base_uri": "https://localhost:8080/",
          "height": 175
        },
        "outputId": "ac7a1cba-0b8b-4495-ffb0-6327d553116e"
      },
      "cell_type": "code",
      "source": [
        "teste9 = pd.DataFrame({\n",
        "    'K': np.arange(kf.get_n_splits(data)),\n",
        "    'Acertos': list(acertos_dict.values())\n",
        "})\n",
        "\n",
        "teste9"
      ],
      "execution_count": 94,
      "outputs": [
        {
          "output_type": "execute_result",
          "data": {
            "text/html": [
              "<div>\n",
              "<style scoped>\n",
              "    .dataframe tbody tr th:only-of-type {\n",
              "        vertical-align: middle;\n",
              "    }\n",
              "\n",
              "    .dataframe tbody tr th {\n",
              "        vertical-align: top;\n",
              "    }\n",
              "\n",
              "    .dataframe thead th {\n",
              "        text-align: right;\n",
              "    }\n",
              "</style>\n",
              "<table border=\"1\" class=\"dataframe\">\n",
              "  <thead>\n",
              "    <tr style=\"text-align: right;\">\n",
              "      <th></th>\n",
              "      <th>K</th>\n",
              "      <th>Acertos</th>\n",
              "    </tr>\n",
              "  </thead>\n",
              "  <tbody>\n",
              "    <tr>\n",
              "      <th>0</th>\n",
              "      <td>0</td>\n",
              "      <td>1741</td>\n",
              "    </tr>\n",
              "    <tr>\n",
              "      <th>1</th>\n",
              "      <td>1</td>\n",
              "      <td>1693</td>\n",
              "    </tr>\n",
              "    <tr>\n",
              "      <th>2</th>\n",
              "      <td>2</td>\n",
              "      <td>3998</td>\n",
              "    </tr>\n",
              "    <tr>\n",
              "      <th>3</th>\n",
              "      <td>3</td>\n",
              "      <td>17500</td>\n",
              "    </tr>\n",
              "  </tbody>\n",
              "</table>\n",
              "</div>"
            ],
            "text/plain": [
              "   K  Acertos\n",
              "0  0     1741\n",
              "1  1     1693\n",
              "2  2     3998\n",
              "3  3    17500"
            ]
          },
          "metadata": {
            "tags": []
          },
          "execution_count": 94
        }
      ]
    },
    {
      "metadata": {
        "colab_type": "code",
        "id": "rvOpD-bMFYBI",
        "colab": {
          "base_uri": "https://localhost:8080/",
          "height": 35
        },
        "outputId": "41523ae4-1758-4363-e48b-e765795123f3"
      },
      "cell_type": "code",
      "source": [
        "media = teste9['Acertos'].mean()\n",
        "\n",
        "media"
      ],
      "execution_count": 95,
      "outputs": [
        {
          "output_type": "execute_result",
          "data": {
            "text/plain": [
              "6233.0"
            ]
          },
          "metadata": {
            "tags": []
          },
          "execution_count": 95
        }
      ]
    },
    {
      "metadata": {
        "colab_type": "code",
        "id": "vldLEzjfFYBS",
        "colab": {}
      },
      "cell_type": "code",
      "source": [
        "funcao_ativacao_list.append('relu')\n",
        "rede.append('rede 2')\n",
        "taxa_aprendizagem.append(at)\n",
        "medias.append(media)\n",
        "regularizacoes.append(regularizacao)"
      ],
      "execution_count": 0,
      "outputs": []
    },
    {
      "metadata": {
        "colab_type": "text",
        "id": "IuLyNOWs3dxV"
      },
      "cell_type": "markdown",
      "source": [
        "## Rede 3 -> Configuração 784-15-10"
      ]
    },
    {
      "metadata": {
        "colab_type": "code",
        "id": "46WcaytA3dxj",
        "colab": {}
      },
      "cell_type": "code",
      "source": [
        "tamanho = [784, 15, 10]"
      ],
      "execution_count": 0,
      "outputs": []
    },
    {
      "metadata": {
        "colab_type": "text",
        "id": "Fj-NCmfn3dx1"
      },
      "cell_type": "markdown",
      "source": [
        "### Regularização - L1"
      ]
    },
    {
      "metadata": {
        "colab_type": "code",
        "id": "TIPhKrXZ4T7r",
        "colab": {}
      },
      "cell_type": "code",
      "source": [
        "regularizacao = 'L1'"
      ],
      "execution_count": 0,
      "outputs": []
    },
    {
      "metadata": {
        "colab_type": "text",
        "id": "bMjD-dtF3dx5"
      },
      "cell_type": "markdown",
      "source": [
        "#### Taxa de aprendizagem - 0.5 - RELU"
      ]
    },
    {
      "metadata": {
        "colab_type": "code",
        "outputId": "66393875-9978-474c-b731-8f95d8fee803",
        "id": "M1b6CDOD3dyA",
        "colab": {
          "base_uri": "https://localhost:8080/",
          "height": 237
        }
      },
      "cell_type": "code",
      "source": [
        "net = Network2(tamanho, regularizacao=regularizacao)\n",
        "acertos_dict = {}\n",
        "kf = KFold(n_splits=n_k)\n",
        "at = 0.5\n",
        "\n",
        "for i, index in enumerate(kf.split(data)):\n",
        "  train_index = index[0]\n",
        "  test_index = index[1]\n",
        "  \n",
        "  k = \"K {}\".format(i)\n",
        "  \n",
        "  print(k)\n",
        "  training_data = data[train_index[0]:train_index[-1]+1]\n",
        "  testing_data = data[test_index[0]:test_index[-1]+1]\n",
        "  \n",
        "  result = net.SGD(training_data, epoch, 10, at,test_data=testing_data, tipo_fun='relu')\n",
        "  acertos_dict[k] = result"
      ],
      "execution_count": 99,
      "outputs": [
        {
          "output_type": "stream",
          "text": [
            "K 0\n"
          ],
          "name": "stdout"
        },
        {
          "output_type": "stream",
          "text": [
            "/usr/local/lib/python3.6/dist-packages/ipykernel_launcher.py:110: RuntimeWarning: overflow encountered in multiply\n",
            "/usr/local/lib/python3.6/dist-packages/ipykernel_launcher.py:118: RuntimeWarning: invalid value encountered in multiply\n",
            "/usr/local/lib/python3.6/dist-packages/ipykernel_launcher.py:14: RuntimeWarning: overflow encountered in multiply\n",
            "  \n"
          ],
          "name": "stderr"
        },
        {
          "output_type": "stream",
          "text": [
            "Total Input 17500 / Total predict 1741\n",
            "K 1\n",
            "Total Input 17500 / Total predict 1693\n",
            "K 2\n",
            "Total Input 17500 / Total predict 3998\n",
            "K 3\n",
            "Total Input 17500 / Total predict 17500\n"
          ],
          "name": "stdout"
        }
      ]
    },
    {
      "metadata": {
        "colab_type": "code",
        "outputId": "810624bd-6419-48ee-9ae4-ee47e14a47d0",
        "id": "a-P7XMoM3dyO",
        "colab": {
          "base_uri": "https://localhost:8080/",
          "height": 175
        }
      },
      "cell_type": "code",
      "source": [
        "teste7 = pd.DataFrame({\n",
        "    'K': np.arange(kf.get_n_splits(data)),\n",
        "    'Acertos': list(acertos_dict.values())\n",
        "})\n",
        "\n",
        "teste7"
      ],
      "execution_count": 100,
      "outputs": [
        {
          "output_type": "execute_result",
          "data": {
            "text/html": [
              "<div>\n",
              "<style scoped>\n",
              "    .dataframe tbody tr th:only-of-type {\n",
              "        vertical-align: middle;\n",
              "    }\n",
              "\n",
              "    .dataframe tbody tr th {\n",
              "        vertical-align: top;\n",
              "    }\n",
              "\n",
              "    .dataframe thead th {\n",
              "        text-align: right;\n",
              "    }\n",
              "</style>\n",
              "<table border=\"1\" class=\"dataframe\">\n",
              "  <thead>\n",
              "    <tr style=\"text-align: right;\">\n",
              "      <th></th>\n",
              "      <th>K</th>\n",
              "      <th>Acertos</th>\n",
              "    </tr>\n",
              "  </thead>\n",
              "  <tbody>\n",
              "    <tr>\n",
              "      <th>0</th>\n",
              "      <td>0</td>\n",
              "      <td>1741</td>\n",
              "    </tr>\n",
              "    <tr>\n",
              "      <th>1</th>\n",
              "      <td>1</td>\n",
              "      <td>1693</td>\n",
              "    </tr>\n",
              "    <tr>\n",
              "      <th>2</th>\n",
              "      <td>2</td>\n",
              "      <td>3998</td>\n",
              "    </tr>\n",
              "    <tr>\n",
              "      <th>3</th>\n",
              "      <td>3</td>\n",
              "      <td>17500</td>\n",
              "    </tr>\n",
              "  </tbody>\n",
              "</table>\n",
              "</div>"
            ],
            "text/plain": [
              "   K  Acertos\n",
              "0  0     1741\n",
              "1  1     1693\n",
              "2  2     3998\n",
              "3  3    17500"
            ]
          },
          "metadata": {
            "tags": []
          },
          "execution_count": 100
        }
      ]
    },
    {
      "metadata": {
        "colab_type": "code",
        "outputId": "f74d66c6-2f1e-4269-dc13-6b40a368fefb",
        "id": "RvW3r2Rt3dya",
        "colab": {
          "base_uri": "https://localhost:8080/",
          "height": 35
        }
      },
      "cell_type": "code",
      "source": [
        "media = teste7['Acertos'].mean()\n",
        "\n",
        "media"
      ],
      "execution_count": 101,
      "outputs": [
        {
          "output_type": "execute_result",
          "data": {
            "text/plain": [
              "6233.0"
            ]
          },
          "metadata": {
            "tags": []
          },
          "execution_count": 101
        }
      ]
    },
    {
      "metadata": {
        "colab_type": "code",
        "id": "JpvJE1lh3dyh",
        "colab": {}
      },
      "cell_type": "code",
      "source": [
        "funcao_ativacao_list.append('relu')\n",
        "rede.append('rede 3')\n",
        "taxa_aprendizagem.append(at)\n",
        "medias.append(media)\n",
        "regularizacoes.append(regularizacao)"
      ],
      "execution_count": 0,
      "outputs": []
    },
    {
      "metadata": {
        "colab_type": "text",
        "id": "oYXuj4903dyl"
      },
      "cell_type": "markdown",
      "source": [
        "#### Taxa de aprendizagem - 0.1 - RELU"
      ]
    },
    {
      "metadata": {
        "colab_type": "code",
        "outputId": "9b228fca-7274-4169-b968-a9ed5e58464f",
        "id": "z5Vlw6Bd3dyn",
        "colab": {
          "base_uri": "https://localhost:8080/",
          "height": 0
        }
      },
      "cell_type": "code",
      "source": [
        "net = Network2(tamanho, regularizacao=regularizacao)\n",
        "acertos_dict = {}\n",
        "kf = KFold(n_splits=n_k)\n",
        "at = 0.1\n",
        "\n",
        "for i, index in enumerate(kf.split(data)):\n",
        "  train_index = index[0]\n",
        "  test_index = index[1]\n",
        "  \n",
        "  k = \"K {}\".format(i)\n",
        "  \n",
        "  print(k)\n",
        "  training_data = data[train_index[0]:train_index[-1]+1]\n",
        "  testing_data = data[test_index[0]:test_index[-1]+1]\n",
        "  \n",
        "  result = net.SGD(training_data, epoch, 10, at,test_data=testing_data, tipo_fun='relu')\n",
        "  acertos_dict[k] = result"
      ],
      "execution_count": 103,
      "outputs": [
        {
          "output_type": "stream",
          "text": [
            "K 0\n"
          ],
          "name": "stdout"
        },
        {
          "output_type": "stream",
          "text": [
            "/usr/local/lib/python3.6/dist-packages/ipykernel_launcher.py:110: RuntimeWarning: overflow encountered in multiply\n",
            "/usr/local/lib/python3.6/dist-packages/ipykernel_launcher.py:118: RuntimeWarning: invalid value encountered in multiply\n",
            "/usr/local/lib/python3.6/dist-packages/ipykernel_launcher.py:14: RuntimeWarning: overflow encountered in multiply\n",
            "  \n"
          ],
          "name": "stderr"
        },
        {
          "output_type": "stream",
          "text": [
            "Total Input 17500 / Total predict 1990\n",
            "K 1\n",
            "Total Input 17500 / Total predict 2012\n",
            "K 2\n",
            "Total Input 17500 / Total predict 1676\n",
            "K 3\n",
            "Total Input 17500 / Total predict 0\n"
          ],
          "name": "stdout"
        }
      ]
    },
    {
      "metadata": {
        "colab_type": "code",
        "outputId": "8587b430-d6ce-405b-8fb1-84b516fa7ac5",
        "id": "C19srTW93dyv",
        "colab": {
          "base_uri": "https://localhost:8080/",
          "height": 0
        }
      },
      "cell_type": "code",
      "source": [
        "teste8 = pd.DataFrame({\n",
        "    'K': np.arange(kf.get_n_splits(data)),\n",
        "    'Acertos': list(acertos_dict.values())\n",
        "})\n",
        "\n",
        "teste8"
      ],
      "execution_count": 104,
      "outputs": [
        {
          "output_type": "execute_result",
          "data": {
            "text/html": [
              "<div>\n",
              "<style scoped>\n",
              "    .dataframe tbody tr th:only-of-type {\n",
              "        vertical-align: middle;\n",
              "    }\n",
              "\n",
              "    .dataframe tbody tr th {\n",
              "        vertical-align: top;\n",
              "    }\n",
              "\n",
              "    .dataframe thead th {\n",
              "        text-align: right;\n",
              "    }\n",
              "</style>\n",
              "<table border=\"1\" class=\"dataframe\">\n",
              "  <thead>\n",
              "    <tr style=\"text-align: right;\">\n",
              "      <th></th>\n",
              "      <th>K</th>\n",
              "      <th>Acertos</th>\n",
              "    </tr>\n",
              "  </thead>\n",
              "  <tbody>\n",
              "    <tr>\n",
              "      <th>0</th>\n",
              "      <td>0</td>\n",
              "      <td>1990</td>\n",
              "    </tr>\n",
              "    <tr>\n",
              "      <th>1</th>\n",
              "      <td>1</td>\n",
              "      <td>2012</td>\n",
              "    </tr>\n",
              "    <tr>\n",
              "      <th>2</th>\n",
              "      <td>2</td>\n",
              "      <td>1676</td>\n",
              "    </tr>\n",
              "    <tr>\n",
              "      <th>3</th>\n",
              "      <td>3</td>\n",
              "      <td>0</td>\n",
              "    </tr>\n",
              "  </tbody>\n",
              "</table>\n",
              "</div>"
            ],
            "text/plain": [
              "   K  Acertos\n",
              "0  0     1990\n",
              "1  1     2012\n",
              "2  2     1676\n",
              "3  3        0"
            ]
          },
          "metadata": {
            "tags": []
          },
          "execution_count": 104
        }
      ]
    },
    {
      "metadata": {
        "colab_type": "code",
        "outputId": "d399d15e-2a71-4919-e421-d4476c3ed1e0",
        "id": "mHgoE0N13dzA",
        "colab": {
          "base_uri": "https://localhost:8080/",
          "height": 0
        }
      },
      "cell_type": "code",
      "source": [
        "media = teste8['Acertos'].mean()\n",
        "\n",
        "media"
      ],
      "execution_count": 105,
      "outputs": [
        {
          "output_type": "execute_result",
          "data": {
            "text/plain": [
              "1419.5"
            ]
          },
          "metadata": {
            "tags": []
          },
          "execution_count": 105
        }
      ]
    },
    {
      "metadata": {
        "colab_type": "code",
        "id": "KdEzho9u3dzJ",
        "colab": {}
      },
      "cell_type": "code",
      "source": [
        "funcao_ativacao_list.append('relu')\n",
        "rede.append('rede 3')\n",
        "taxa_aprendizagem.append(at)\n",
        "medias.append(media)\n",
        "regularizacoes.append(regularizacao)"
      ],
      "execution_count": 0,
      "outputs": []
    },
    {
      "metadata": {
        "colab_type": "text",
        "id": "VuvUg_z_3dzO"
      },
      "cell_type": "markdown",
      "source": [
        "#### Taxa de aprendizagem - 0.001 - RELU"
      ]
    },
    {
      "metadata": {
        "colab_type": "code",
        "outputId": "53671266-a83d-4c08-a58f-0756406525eb",
        "id": "QJ7JGSRw3dzQ",
        "colab": {
          "base_uri": "https://localhost:8080/",
          "height": 237
        }
      },
      "cell_type": "code",
      "source": [
        "net = Network2(tamanho, regularizacao=regularizacao)\n",
        "acertos_dict = {}\n",
        "kf = KFold(n_splits=n_k)\n",
        "at = 0.001\n",
        "\n",
        "for i, index in enumerate(kf.split(data)):\n",
        "  train_index = index[0]\n",
        "  test_index = index[1]\n",
        "  \n",
        "  k = \"K {}\".format(i)\n",
        "  \n",
        "  print(k)\n",
        "  training_data = data[train_index[0]:train_index[-1]+1]\n",
        "  testing_data = data[test_index[0]:test_index[-1]+1]\n",
        "  \n",
        "  result = net.SGD(training_data, epoch, 10, at,test_data=testing_data, tipo_fun='relu')\n",
        "  acertos_dict[k] = result"
      ],
      "execution_count": 107,
      "outputs": [
        {
          "output_type": "stream",
          "text": [
            "K 0\n"
          ],
          "name": "stdout"
        },
        {
          "output_type": "stream",
          "text": [
            "/usr/local/lib/python3.6/dist-packages/ipykernel_launcher.py:14: RuntimeWarning: overflow encountered in multiply\n",
            "  \n",
            "/usr/local/lib/python3.6/dist-packages/ipykernel_launcher.py:110: RuntimeWarning: overflow encountered in multiply\n",
            "/usr/local/lib/python3.6/dist-packages/ipykernel_launcher.py:118: RuntimeWarning: invalid value encountered in multiply\n"
          ],
          "name": "stderr"
        },
        {
          "output_type": "stream",
          "text": [
            "Total Input 17500 / Total predict 1829\n",
            "K 1\n",
            "Total Input 17500 / Total predict 1747\n",
            "K 2\n",
            "Total Input 17500 / Total predict 1525\n",
            "K 3\n",
            "Total Input 17500 / Total predict 0\n"
          ],
          "name": "stdout"
        }
      ]
    },
    {
      "metadata": {
        "colab_type": "code",
        "outputId": "378c0b89-9af2-4937-9b6f-3bcfd1a11039",
        "id": "5AAnVGt_3dzW",
        "colab": {
          "base_uri": "https://localhost:8080/",
          "height": 175
        }
      },
      "cell_type": "code",
      "source": [
        "teste9 = pd.DataFrame({\n",
        "    'K': np.arange(kf.get_n_splits(data)),\n",
        "    'Acertos': list(acertos_dict.values())\n",
        "})\n",
        "\n",
        "teste9"
      ],
      "execution_count": 108,
      "outputs": [
        {
          "output_type": "execute_result",
          "data": {
            "text/html": [
              "<div>\n",
              "<style scoped>\n",
              "    .dataframe tbody tr th:only-of-type {\n",
              "        vertical-align: middle;\n",
              "    }\n",
              "\n",
              "    .dataframe tbody tr th {\n",
              "        vertical-align: top;\n",
              "    }\n",
              "\n",
              "    .dataframe thead th {\n",
              "        text-align: right;\n",
              "    }\n",
              "</style>\n",
              "<table border=\"1\" class=\"dataframe\">\n",
              "  <thead>\n",
              "    <tr style=\"text-align: right;\">\n",
              "      <th></th>\n",
              "      <th>K</th>\n",
              "      <th>Acertos</th>\n",
              "    </tr>\n",
              "  </thead>\n",
              "  <tbody>\n",
              "    <tr>\n",
              "      <th>0</th>\n",
              "      <td>0</td>\n",
              "      <td>1829</td>\n",
              "    </tr>\n",
              "    <tr>\n",
              "      <th>1</th>\n",
              "      <td>1</td>\n",
              "      <td>1747</td>\n",
              "    </tr>\n",
              "    <tr>\n",
              "      <th>2</th>\n",
              "      <td>2</td>\n",
              "      <td>1525</td>\n",
              "    </tr>\n",
              "    <tr>\n",
              "      <th>3</th>\n",
              "      <td>3</td>\n",
              "      <td>0</td>\n",
              "    </tr>\n",
              "  </tbody>\n",
              "</table>\n",
              "</div>"
            ],
            "text/plain": [
              "   K  Acertos\n",
              "0  0     1829\n",
              "1  1     1747\n",
              "2  2     1525\n",
              "3  3        0"
            ]
          },
          "metadata": {
            "tags": []
          },
          "execution_count": 108
        }
      ]
    },
    {
      "metadata": {
        "colab_type": "code",
        "outputId": "1dbce6f5-4dc7-44c4-86ed-4151b8e96221",
        "id": "E2jIyamF3dzf",
        "colab": {
          "base_uri": "https://localhost:8080/",
          "height": 35
        }
      },
      "cell_type": "code",
      "source": [
        "media = teste9['Acertos'].mean()\n",
        "\n",
        "media"
      ],
      "execution_count": 109,
      "outputs": [
        {
          "output_type": "execute_result",
          "data": {
            "text/plain": [
              "1275.25"
            ]
          },
          "metadata": {
            "tags": []
          },
          "execution_count": 109
        }
      ]
    },
    {
      "metadata": {
        "colab_type": "code",
        "id": "iKsQWYG43dzk",
        "colab": {}
      },
      "cell_type": "code",
      "source": [
        "funcao_ativacao_list.append('relu')\n",
        "rede.append('rede 3')\n",
        "taxa_aprendizagem.append(at)\n",
        "medias.append(media)\n",
        "regularizacoes.append(regularizacao)"
      ],
      "execution_count": 0,
      "outputs": []
    },
    {
      "metadata": {
        "colab_type": "text",
        "id": "4pNN3-NAFiS6"
      },
      "cell_type": "markdown",
      "source": [
        "### Regularização - L2"
      ]
    },
    {
      "metadata": {
        "colab_type": "code",
        "id": "QA_Xpbg1FiS_",
        "colab": {}
      },
      "cell_type": "code",
      "source": [
        "regularizacao = 'L2'"
      ],
      "execution_count": 0,
      "outputs": []
    },
    {
      "metadata": {
        "colab_type": "text",
        "id": "K8Sk3ts-FiTJ"
      },
      "cell_type": "markdown",
      "source": [
        "#### Taxa de aprendizagem - 0.5 - RELU"
      ]
    },
    {
      "metadata": {
        "colab_type": "code",
        "id": "r-kMT6-DFiTM",
        "colab": {
          "base_uri": "https://localhost:8080/",
          "height": 237
        },
        "outputId": "3ffd144f-60fe-4550-cdf5-3d219a7556ce"
      },
      "cell_type": "code",
      "source": [
        "net = Network2(tamanho, regularizacao=regularizacao)\n",
        "acertos_dict = {}\n",
        "kf = KFold(n_splits=n_k)\n",
        "at = 0.5\n",
        "\n",
        "for i, index in enumerate(kf.split(data)):\n",
        "  train_index = index[0]\n",
        "  test_index = index[1]\n",
        "  \n",
        "  k = \"K {}\".format(i)\n",
        "  \n",
        "  print(k)\n",
        "  training_data = data[train_index[0]:train_index[-1]+1]\n",
        "  testing_data = data[test_index[0]:test_index[-1]+1]\n",
        "  \n",
        "  result = net.SGD(training_data, epoch, 10, at,test_data=testing_data, tipo_fun='relu')\n",
        "  acertos_dict[k] = result"
      ],
      "execution_count": 112,
      "outputs": [
        {
          "output_type": "stream",
          "text": [
            "K 0\n"
          ],
          "name": "stdout"
        },
        {
          "output_type": "stream",
          "text": [
            "/usr/local/lib/python3.6/dist-packages/ipykernel_launcher.py:110: RuntimeWarning: overflow encountered in multiply\n",
            "/usr/local/lib/python3.6/dist-packages/ipykernel_launcher.py:118: RuntimeWarning: invalid value encountered in multiply\n",
            "/usr/local/lib/python3.6/dist-packages/ipykernel_launcher.py:14: RuntimeWarning: overflow encountered in multiply\n",
            "  \n"
          ],
          "name": "stderr"
        },
        {
          "output_type": "stream",
          "text": [
            "Total Input 17500 / Total predict 1829\n",
            "K 1\n",
            "Total Input 17500 / Total predict 1747\n",
            "K 2\n",
            "Total Input 17500 / Total predict 1525\n",
            "K 3\n",
            "Total Input 17500 / Total predict 0\n"
          ],
          "name": "stdout"
        }
      ]
    },
    {
      "metadata": {
        "colab_type": "code",
        "id": "Es-REoQjFiTT",
        "colab": {
          "base_uri": "https://localhost:8080/",
          "height": 175
        },
        "outputId": "44e599da-78f9-4bcf-9c8a-d9c95615814d"
      },
      "cell_type": "code",
      "source": [
        "teste7 = pd.DataFrame({\n",
        "    'K': np.arange(kf.get_n_splits(data)),\n",
        "    'Acertos': list(acertos_dict.values())\n",
        "})\n",
        "\n",
        "teste7"
      ],
      "execution_count": 113,
      "outputs": [
        {
          "output_type": "execute_result",
          "data": {
            "text/html": [
              "<div>\n",
              "<style scoped>\n",
              "    .dataframe tbody tr th:only-of-type {\n",
              "        vertical-align: middle;\n",
              "    }\n",
              "\n",
              "    .dataframe tbody tr th {\n",
              "        vertical-align: top;\n",
              "    }\n",
              "\n",
              "    .dataframe thead th {\n",
              "        text-align: right;\n",
              "    }\n",
              "</style>\n",
              "<table border=\"1\" class=\"dataframe\">\n",
              "  <thead>\n",
              "    <tr style=\"text-align: right;\">\n",
              "      <th></th>\n",
              "      <th>K</th>\n",
              "      <th>Acertos</th>\n",
              "    </tr>\n",
              "  </thead>\n",
              "  <tbody>\n",
              "    <tr>\n",
              "      <th>0</th>\n",
              "      <td>0</td>\n",
              "      <td>1829</td>\n",
              "    </tr>\n",
              "    <tr>\n",
              "      <th>1</th>\n",
              "      <td>1</td>\n",
              "      <td>1747</td>\n",
              "    </tr>\n",
              "    <tr>\n",
              "      <th>2</th>\n",
              "      <td>2</td>\n",
              "      <td>1525</td>\n",
              "    </tr>\n",
              "    <tr>\n",
              "      <th>3</th>\n",
              "      <td>3</td>\n",
              "      <td>0</td>\n",
              "    </tr>\n",
              "  </tbody>\n",
              "</table>\n",
              "</div>"
            ],
            "text/plain": [
              "   K  Acertos\n",
              "0  0     1829\n",
              "1  1     1747\n",
              "2  2     1525\n",
              "3  3        0"
            ]
          },
          "metadata": {
            "tags": []
          },
          "execution_count": 113
        }
      ]
    },
    {
      "metadata": {
        "colab_type": "code",
        "id": "KK0r9-ZwFiTa",
        "colab": {
          "base_uri": "https://localhost:8080/",
          "height": 35
        },
        "outputId": "e50613bc-b83d-4873-eb2b-5662fa113658"
      },
      "cell_type": "code",
      "source": [
        "media = teste7['Acertos'].mean()\n",
        "\n",
        "media"
      ],
      "execution_count": 114,
      "outputs": [
        {
          "output_type": "execute_result",
          "data": {
            "text/plain": [
              "1275.25"
            ]
          },
          "metadata": {
            "tags": []
          },
          "execution_count": 114
        }
      ]
    },
    {
      "metadata": {
        "colab_type": "code",
        "id": "Ikmgm-v_FiTe",
        "colab": {}
      },
      "cell_type": "code",
      "source": [
        "funcao_ativacao_list.append('relu')\n",
        "rede.append('rede 3')\n",
        "taxa_aprendizagem.append(at)\n",
        "medias.append(media)\n",
        "regularizacoes.append(regularizacao)"
      ],
      "execution_count": 0,
      "outputs": []
    },
    {
      "metadata": {
        "colab_type": "text",
        "id": "wY7EFaqBFiTj"
      },
      "cell_type": "markdown",
      "source": [
        "#### Taxa de aprendizagem - 0.1 - RELU"
      ]
    },
    {
      "metadata": {
        "colab_type": "code",
        "id": "91FbirRRFiTl",
        "colab": {
          "base_uri": "https://localhost:8080/",
          "height": 219
        },
        "outputId": "a9556d11-4d46-40cc-af4f-9599da8554a8"
      },
      "cell_type": "code",
      "source": [
        "net = Network2(tamanho, regularizacao=regularizacao)\n",
        "acertos_dict = {}\n",
        "kf = KFold(n_splits=n_k)\n",
        "at = 0.1\n",
        "\n",
        "for i, index in enumerate(kf.split(data)):\n",
        "  train_index = index[0]\n",
        "  test_index = index[1]\n",
        "  \n",
        "  k = \"K {}\".format(i)\n",
        "  \n",
        "  print(k)\n",
        "  training_data = data[train_index[0]:train_index[-1]+1]\n",
        "  testing_data = data[test_index[0]:test_index[-1]+1]\n",
        "  \n",
        "  result = net.SGD(training_data, epoch, 10, at,test_data=testing_data, tipo_fun='relu')\n",
        "  acertos_dict[k] = result"
      ],
      "execution_count": 116,
      "outputs": [
        {
          "output_type": "stream",
          "text": [
            "K 0\n"
          ],
          "name": "stdout"
        },
        {
          "output_type": "stream",
          "text": [
            "/usr/local/lib/python3.6/dist-packages/ipykernel_launcher.py:14: RuntimeWarning: overflow encountered in multiply\n",
            "  \n",
            "/usr/local/lib/python3.6/dist-packages/ipykernel_launcher.py:118: RuntimeWarning: invalid value encountered in multiply\n"
          ],
          "name": "stderr"
        },
        {
          "output_type": "stream",
          "text": [
            "Total Input 17500 / Total predict 1741\n",
            "K 1\n",
            "Total Input 17500 / Total predict 1693\n",
            "K 2\n",
            "Total Input 17500 / Total predict 3998\n",
            "K 3\n",
            "Total Input 17500 / Total predict 17500\n"
          ],
          "name": "stdout"
        }
      ]
    },
    {
      "metadata": {
        "colab_type": "code",
        "id": "kCrzwvhrFiTs",
        "colab": {
          "base_uri": "https://localhost:8080/",
          "height": 175
        },
        "outputId": "043c42cf-dce8-4733-e75d-9f3d72b1f058"
      },
      "cell_type": "code",
      "source": [
        "teste8 = pd.DataFrame({\n",
        "    'K': np.arange(kf.get_n_splits(data)),\n",
        "    'Acertos': list(acertos_dict.values())\n",
        "})\n",
        "\n",
        "teste8"
      ],
      "execution_count": 117,
      "outputs": [
        {
          "output_type": "execute_result",
          "data": {
            "text/html": [
              "<div>\n",
              "<style scoped>\n",
              "    .dataframe tbody tr th:only-of-type {\n",
              "        vertical-align: middle;\n",
              "    }\n",
              "\n",
              "    .dataframe tbody tr th {\n",
              "        vertical-align: top;\n",
              "    }\n",
              "\n",
              "    .dataframe thead th {\n",
              "        text-align: right;\n",
              "    }\n",
              "</style>\n",
              "<table border=\"1\" class=\"dataframe\">\n",
              "  <thead>\n",
              "    <tr style=\"text-align: right;\">\n",
              "      <th></th>\n",
              "      <th>K</th>\n",
              "      <th>Acertos</th>\n",
              "    </tr>\n",
              "  </thead>\n",
              "  <tbody>\n",
              "    <tr>\n",
              "      <th>0</th>\n",
              "      <td>0</td>\n",
              "      <td>1741</td>\n",
              "    </tr>\n",
              "    <tr>\n",
              "      <th>1</th>\n",
              "      <td>1</td>\n",
              "      <td>1693</td>\n",
              "    </tr>\n",
              "    <tr>\n",
              "      <th>2</th>\n",
              "      <td>2</td>\n",
              "      <td>3998</td>\n",
              "    </tr>\n",
              "    <tr>\n",
              "      <th>3</th>\n",
              "      <td>3</td>\n",
              "      <td>17500</td>\n",
              "    </tr>\n",
              "  </tbody>\n",
              "</table>\n",
              "</div>"
            ],
            "text/plain": [
              "   K  Acertos\n",
              "0  0     1741\n",
              "1  1     1693\n",
              "2  2     3998\n",
              "3  3    17500"
            ]
          },
          "metadata": {
            "tags": []
          },
          "execution_count": 117
        }
      ]
    },
    {
      "metadata": {
        "colab_type": "code",
        "id": "2u9tmlHjFiTy",
        "colab": {
          "base_uri": "https://localhost:8080/",
          "height": 35
        },
        "outputId": "6f5b47e0-5844-425a-9c42-4c75d0098891"
      },
      "cell_type": "code",
      "source": [
        "media = teste8['Acertos'].mean()\n",
        "\n",
        "media"
      ],
      "execution_count": 118,
      "outputs": [
        {
          "output_type": "execute_result",
          "data": {
            "text/plain": [
              "6233.0"
            ]
          },
          "metadata": {
            "tags": []
          },
          "execution_count": 118
        }
      ]
    },
    {
      "metadata": {
        "colab_type": "code",
        "id": "ka71IfshFiT4",
        "colab": {}
      },
      "cell_type": "code",
      "source": [
        "funcao_ativacao_list.append('relu')\n",
        "rede.append('rede 3')\n",
        "taxa_aprendizagem.append(at)\n",
        "medias.append(media)\n",
        "regularizacoes.append(regularizacao)"
      ],
      "execution_count": 0,
      "outputs": []
    },
    {
      "metadata": {
        "colab_type": "text",
        "id": "Vxq-EiZIFiUB"
      },
      "cell_type": "markdown",
      "source": [
        "#### Taxa de aprendizagem - 0.001 - RELU"
      ]
    },
    {
      "metadata": {
        "colab_type": "code",
        "id": "dcdOmdDOFiUD",
        "colab": {
          "base_uri": "https://localhost:8080/",
          "height": 237
        },
        "outputId": "7d3ca633-4bc7-4383-f498-472c95bca1a8"
      },
      "cell_type": "code",
      "source": [
        "net = Network2(tamanho, regularizacao=regularizacao)\n",
        "acertos_dict = {}\n",
        "kf = KFold(n_splits=n_k)\n",
        "at = 0.001\n",
        "\n",
        "for i, index in enumerate(kf.split(data)):\n",
        "  train_index = index[0]\n",
        "  test_index = index[1]\n",
        "  \n",
        "  k = \"K {}\".format(i)\n",
        "  \n",
        "  print(k)\n",
        "  training_data = data[train_index[0]:train_index[-1]+1]\n",
        "  testing_data = data[test_index[0]:test_index[-1]+1]\n",
        "  \n",
        "  result = net.SGD(training_data, epoch, 10, at,test_data=testing_data, tipo_fun='relu')\n",
        "  acertos_dict[k] = result"
      ],
      "execution_count": 120,
      "outputs": [
        {
          "output_type": "stream",
          "text": [
            "K 0\n"
          ],
          "name": "stdout"
        },
        {
          "output_type": "stream",
          "text": [
            "/usr/local/lib/python3.6/dist-packages/ipykernel_launcher.py:14: RuntimeWarning: overflow encountered in multiply\n",
            "  \n",
            "/usr/local/lib/python3.6/dist-packages/ipykernel_launcher.py:110: RuntimeWarning: overflow encountered in multiply\n",
            "/usr/local/lib/python3.6/dist-packages/ipykernel_launcher.py:118: RuntimeWarning: invalid value encountered in multiply\n"
          ],
          "name": "stderr"
        },
        {
          "output_type": "stream",
          "text": [
            "Total Input 17500 / Total predict 1852\n",
            "K 1\n",
            "Total Input 17500 / Total predict 1780\n",
            "K 2\n",
            "Total Input 17500 / Total predict 1543\n",
            "K 3\n",
            "Total Input 17500 / Total predict 0\n"
          ],
          "name": "stdout"
        }
      ]
    },
    {
      "metadata": {
        "colab_type": "code",
        "id": "WZT-tkIXFiUG",
        "colab": {
          "base_uri": "https://localhost:8080/",
          "height": 175
        },
        "outputId": "d7c552a4-177c-445a-8f50-f95e93853c63"
      },
      "cell_type": "code",
      "source": [
        "teste9 = pd.DataFrame({\n",
        "    'K': np.arange(kf.get_n_splits(data)),\n",
        "    'Acertos': list(acertos_dict.values())\n",
        "})\n",
        "\n",
        "teste9"
      ],
      "execution_count": 121,
      "outputs": [
        {
          "output_type": "execute_result",
          "data": {
            "text/html": [
              "<div>\n",
              "<style scoped>\n",
              "    .dataframe tbody tr th:only-of-type {\n",
              "        vertical-align: middle;\n",
              "    }\n",
              "\n",
              "    .dataframe tbody tr th {\n",
              "        vertical-align: top;\n",
              "    }\n",
              "\n",
              "    .dataframe thead th {\n",
              "        text-align: right;\n",
              "    }\n",
              "</style>\n",
              "<table border=\"1\" class=\"dataframe\">\n",
              "  <thead>\n",
              "    <tr style=\"text-align: right;\">\n",
              "      <th></th>\n",
              "      <th>K</th>\n",
              "      <th>Acertos</th>\n",
              "    </tr>\n",
              "  </thead>\n",
              "  <tbody>\n",
              "    <tr>\n",
              "      <th>0</th>\n",
              "      <td>0</td>\n",
              "      <td>1852</td>\n",
              "    </tr>\n",
              "    <tr>\n",
              "      <th>1</th>\n",
              "      <td>1</td>\n",
              "      <td>1780</td>\n",
              "    </tr>\n",
              "    <tr>\n",
              "      <th>2</th>\n",
              "      <td>2</td>\n",
              "      <td>1543</td>\n",
              "    </tr>\n",
              "    <tr>\n",
              "      <th>3</th>\n",
              "      <td>3</td>\n",
              "      <td>0</td>\n",
              "    </tr>\n",
              "  </tbody>\n",
              "</table>\n",
              "</div>"
            ],
            "text/plain": [
              "   K  Acertos\n",
              "0  0     1852\n",
              "1  1     1780\n",
              "2  2     1543\n",
              "3  3        0"
            ]
          },
          "metadata": {
            "tags": []
          },
          "execution_count": 121
        }
      ]
    },
    {
      "metadata": {
        "colab_type": "code",
        "id": "u45CyG1DFiUL",
        "colab": {
          "base_uri": "https://localhost:8080/",
          "height": 35
        },
        "outputId": "97112435-fd11-45b2-ec53-8a1587f6ede2"
      },
      "cell_type": "code",
      "source": [
        "media = teste9['Acertos'].mean()\n",
        "\n",
        "media"
      ],
      "execution_count": 122,
      "outputs": [
        {
          "output_type": "execute_result",
          "data": {
            "text/plain": [
              "1293.75"
            ]
          },
          "metadata": {
            "tags": []
          },
          "execution_count": 122
        }
      ]
    },
    {
      "metadata": {
        "colab_type": "code",
        "id": "kIXcrVYSFiUQ",
        "colab": {}
      },
      "cell_type": "code",
      "source": [
        "funcao_ativacao_list.append('relu')\n",
        "rede.append('rede 3')\n",
        "taxa_aprendizagem.append(at)\n",
        "medias.append(media)\n",
        "regularizacoes.append(regularizacao)"
      ],
      "execution_count": 0,
      "outputs": []
    },
    {
      "metadata": {
        "colab_type": "text",
        "id": "na9u1mxi4xyC"
      },
      "cell_type": "markdown",
      "source": [
        "## Resultados 2 Entrega"
      ]
    },
    {
      "metadata": {
        "colab_type": "code",
        "outputId": "9752a2b5-6fc4-4f5c-8bfc-a180657ced4b",
        "id": "LppNKl1Q4xyO",
        "colab": {
          "base_uri": "https://localhost:8080/",
          "height": 489
        }
      },
      "cell_type": "code",
      "source": [
        "resultado_total = pd.DataFrame({\n",
        "    'rede': rede,\n",
        "    'funcao de ativacao': funcao_ativacao_list,\n",
        "    'taxa de aprendizagem': taxa_aprendizagem,\n",
        "    'regularizacao': regularizacoes,\n",
        "    'media k-fold': medias\n",
        "})\n",
        "\n",
        "resultado_total"
      ],
      "execution_count": 124,
      "outputs": [
        {
          "output_type": "execute_result",
          "data": {
            "text/html": [
              "<div>\n",
              "<style scoped>\n",
              "    .dataframe tbody tr th:only-of-type {\n",
              "        vertical-align: middle;\n",
              "    }\n",
              "\n",
              "    .dataframe tbody tr th {\n",
              "        vertical-align: top;\n",
              "    }\n",
              "\n",
              "    .dataframe thead th {\n",
              "        text-align: right;\n",
              "    }\n",
              "</style>\n",
              "<table border=\"1\" class=\"dataframe\">\n",
              "  <thead>\n",
              "    <tr style=\"text-align: right;\">\n",
              "      <th></th>\n",
              "      <th>rede</th>\n",
              "      <th>funcao de ativacao</th>\n",
              "      <th>taxa de aprendizagem</th>\n",
              "      <th>regularizacao</th>\n",
              "      <th>media k-fold</th>\n",
              "    </tr>\n",
              "  </thead>\n",
              "  <tbody>\n",
              "    <tr>\n",
              "      <th>0</th>\n",
              "      <td>rede 1</td>\n",
              "      <td>relu</td>\n",
              "      <td>0.100</td>\n",
              "      <td>L1</td>\n",
              "      <td>6233.00</td>\n",
              "    </tr>\n",
              "    <tr>\n",
              "      <th>1</th>\n",
              "      <td>rede 1</td>\n",
              "      <td>relu</td>\n",
              "      <td>0.001</td>\n",
              "      <td>L1</td>\n",
              "      <td>6233.00</td>\n",
              "    </tr>\n",
              "    <tr>\n",
              "      <th>2</th>\n",
              "      <td>rede 1</td>\n",
              "      <td>relu</td>\n",
              "      <td>0.100</td>\n",
              "      <td>L2</td>\n",
              "      <td>1247.00</td>\n",
              "    </tr>\n",
              "    <tr>\n",
              "      <th>3</th>\n",
              "      <td>rede 1</td>\n",
              "      <td>relu</td>\n",
              "      <td>0.001</td>\n",
              "      <td>L2</td>\n",
              "      <td>6233.00</td>\n",
              "    </tr>\n",
              "    <tr>\n",
              "      <th>4</th>\n",
              "      <td>rede 2</td>\n",
              "      <td>relu</td>\n",
              "      <td>0.100</td>\n",
              "      <td>L1</td>\n",
              "      <td>6233.00</td>\n",
              "    </tr>\n",
              "    <tr>\n",
              "      <th>5</th>\n",
              "      <td>rede 2</td>\n",
              "      <td>relu</td>\n",
              "      <td>0.001</td>\n",
              "      <td>L1</td>\n",
              "      <td>6233.00</td>\n",
              "    </tr>\n",
              "    <tr>\n",
              "      <th>6</th>\n",
              "      <td>rede 2</td>\n",
              "      <td>relu</td>\n",
              "      <td>0.100</td>\n",
              "      <td>L2</td>\n",
              "      <td>6233.00</td>\n",
              "    </tr>\n",
              "    <tr>\n",
              "      <th>7</th>\n",
              "      <td>rede 2</td>\n",
              "      <td>relu</td>\n",
              "      <td>0.001</td>\n",
              "      <td>L2</td>\n",
              "      <td>6233.00</td>\n",
              "    </tr>\n",
              "    <tr>\n",
              "      <th>8</th>\n",
              "      <td>rede 3</td>\n",
              "      <td>relu</td>\n",
              "      <td>0.500</td>\n",
              "      <td>L1</td>\n",
              "      <td>6233.00</td>\n",
              "    </tr>\n",
              "    <tr>\n",
              "      <th>9</th>\n",
              "      <td>rede 3</td>\n",
              "      <td>relu</td>\n",
              "      <td>0.100</td>\n",
              "      <td>L1</td>\n",
              "      <td>1419.50</td>\n",
              "    </tr>\n",
              "    <tr>\n",
              "      <th>10</th>\n",
              "      <td>rede 3</td>\n",
              "      <td>relu</td>\n",
              "      <td>0.001</td>\n",
              "      <td>L1</td>\n",
              "      <td>1275.25</td>\n",
              "    </tr>\n",
              "    <tr>\n",
              "      <th>11</th>\n",
              "      <td>rede 3</td>\n",
              "      <td>relu</td>\n",
              "      <td>0.500</td>\n",
              "      <td>L2</td>\n",
              "      <td>1275.25</td>\n",
              "    </tr>\n",
              "    <tr>\n",
              "      <th>12</th>\n",
              "      <td>rede 3</td>\n",
              "      <td>relu</td>\n",
              "      <td>0.100</td>\n",
              "      <td>L2</td>\n",
              "      <td>6233.00</td>\n",
              "    </tr>\n",
              "    <tr>\n",
              "      <th>13</th>\n",
              "      <td>rede 3</td>\n",
              "      <td>relu</td>\n",
              "      <td>0.001</td>\n",
              "      <td>L2</td>\n",
              "      <td>1293.75</td>\n",
              "    </tr>\n",
              "  </tbody>\n",
              "</table>\n",
              "</div>"
            ],
            "text/plain": [
              "      rede funcao de ativacao  taxa de aprendizagem regularizacao  \\\n",
              "0   rede 1               relu                 0.100            L1   \n",
              "1   rede 1               relu                 0.001            L1   \n",
              "2   rede 1               relu                 0.100            L2   \n",
              "3   rede 1               relu                 0.001            L2   \n",
              "4   rede 2               relu                 0.100            L1   \n",
              "5   rede 2               relu                 0.001            L1   \n",
              "6   rede 2               relu                 0.100            L2   \n",
              "7   rede 2               relu                 0.001            L2   \n",
              "8   rede 3               relu                 0.500            L1   \n",
              "9   rede 3               relu                 0.100            L1   \n",
              "10  rede 3               relu                 0.001            L1   \n",
              "11  rede 3               relu                 0.500            L2   \n",
              "12  rede 3               relu                 0.100            L2   \n",
              "13  rede 3               relu                 0.001            L2   \n",
              "\n",
              "    media k-fold  \n",
              "0        6233.00  \n",
              "1        6233.00  \n",
              "2        1247.00  \n",
              "3        6233.00  \n",
              "4        6233.00  \n",
              "5        6233.00  \n",
              "6        6233.00  \n",
              "7        6233.00  \n",
              "8        6233.00  \n",
              "9        1419.50  \n",
              "10       1275.25  \n",
              "11       1275.25  \n",
              "12       6233.00  \n",
              "13       1293.75  "
            ]
          },
          "metadata": {
            "tags": []
          },
          "execution_count": 124
        }
      ]
    },
    {
      "metadata": {
        "colab_type": "code",
        "outputId": "9ff5edc3-69f0-45cc-eb7a-ca279214cb81",
        "id": "EbWe6V8a4xyh",
        "colab": {
          "base_uri": "https://localhost:8080/",
          "height": 35
        }
      },
      "cell_type": "code",
      "source": [
        "resultado_total['media k-fold'].max()"
      ],
      "execution_count": 125,
      "outputs": [
        {
          "output_type": "execute_result",
          "data": {
            "text/plain": [
              "6233.0"
            ]
          },
          "metadata": {
            "tags": []
          },
          "execution_count": 125
        }
      ]
    }
  ]
}