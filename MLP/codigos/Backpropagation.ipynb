{
  "nbformat": 4,
  "nbformat_minor": 0,
  "metadata": {
    "colab": {
      "name": "Backpropagation",
      "version": "0.3.2",
      "provenance": [],
      "include_colab_link": true
    },
    "kernelspec": {
      "name": "python3",
      "display_name": "Python 3"
    },
    "accelerator": "GPU"
  },
  "cells": [
    {
      "cell_type": "markdown",
      "metadata": {
        "id": "view-in-github",
        "colab_type": "text"
      },
      "source": [
        "<a href=\"https://colab.research.google.com/github/FernandaSzAdr/Redes-Neurais--UFRPE-2019.1/blob/master/MLP/codigos/Backpropagation.ipynb\" target=\"_parent\"><img src=\"https://colab.research.google.com/assets/colab-badge.svg\" alt=\"Open In Colab\"/></a>"
      ]
    },
    {
      "metadata": {
        "id": "gquVOlEzAIeg",
        "colab_type": "code",
        "colab": {}
      },
      "cell_type": "code",
      "source": [
        "!git clone https://github.com/FernandaSzAdr/Redes-Neurais--UFRPE-2019.1"
      ],
      "execution_count": 0,
      "outputs": []
    },
    {
      "metadata": {
        "id": "PJEk_jQrrJXn",
        "colab_type": "text"
      },
      "cell_type": "markdown",
      "source": [
        "##Multipayer Perceptron (MLP)\n",
        "\n",
        "Rede Neural baseado no algoritmo de gradiente descendente.  \n",
        "Os gradientes são calculados usando backpropagation. \n",
        "\n",
        "Para mais detalhes, ver os capitulos 13 a 16 do livro no site:\n",
        "\n",
        "http://deeplearningbook.com.br/"
      ]
    },
    {
      "metadata": {
        "id": "JNeeLtK58tGe",
        "colab_type": "code",
        "colab": {}
      },
      "cell_type": "code",
      "source": [
        "!pip install ipdb\n",
        "import random\n",
        "import numpy as np"
      ],
      "execution_count": 0,
      "outputs": []
    },
    {
      "metadata": {
        "id": "BPjNMuBE8UcP",
        "colab_type": "text"
      },
      "cell_type": "markdown",
      "source": [
        "A entrada é uma lista (`sizes`) contém o número de neurônios nas respectivas camadas da rede. Por exemplo, se a lista for [2, 3, 1] então será uma rede de três camadas, com o primeira camada contendo 2 neurônios, a segunda camada 3 neurônios, e a terceira camada 1 neurônio. Os bias e pesos para a rede são inicializados aleatoriamente, usando uma distribuição Gaussiana com média 0 e variância 1. Note que a primeira camada é assumida como uma camada de entrada, e por convenção não definimos nenhum bias para esses neurônios, pois os bias são usados na computação das saídas das camadas posteriores.\n"
      ]
    },
    {
      "metadata": {
        "id": "aLMguBRLppm7",
        "colab_type": "code",
        "colab": {}
      },
      "cell_type": "code",
      "source": [
        "def funcao_ativacao(tipo, is_prime, z):\n",
        "  # Função de Ativação Sigmóide\n",
        "  def sigmoid(z):\n",
        "      return 1.0/(1.0+np.exp(-z))\n",
        "\n",
        "  def relu(z):\n",
        "      return np.array([[max(0, i[0])] for i in z])\n",
        "\n",
        "  # Função para retornar as derivadas da função Sigmóide\n",
        "  def sigmoid_prime(z):\n",
        "      return sigmoid(z)*(1-sigmoid(z))\n",
        "\n",
        "  def relu_prime(z):\n",
        "      return relu(z)*(1-relu(z))\n",
        "  \n",
        "  switcher = {\n",
        "      'sigmoid': sigmoid,\n",
        "      'relu': relu\n",
        "  }\n",
        "  \n",
        "  switcher_prime = {\n",
        "      'sigmoid': sigmoid_prime,\n",
        "      'relu': relu_prime,\n",
        "  }\n",
        "  \n",
        "  if is_prime:\n",
        "    fun = switcher_prime.get(tipo)\n",
        "  else:\n",
        "    fun = switcher.get(tipo)\n",
        "  return fun(z)\n",
        "\n",
        "\n",
        "def atualiza_taxa_aprend(taxa_inicial, epoch, n_epochs):\n",
        "    return taxa_inicial * np.exp(-epoch / n_epochs)"
      ],
      "execution_count": 0,
      "outputs": []
    },
    {
      "metadata": {
        "id": "tGf77mI_vuzP",
        "colab_type": "code",
        "colab": {}
      },
      "cell_type": "code",
      "source": [
        "# Classe Network\n",
        "class Network(object):\n",
        "\n",
        "    def __init__(self, sizes):\n",
        "        self.num_layers = len(sizes)\n",
        "        self.sizes = sizes\n",
        "        self.biases = [np.random.randn(y, 1) for y in sizes[1:]]\n",
        "        self.weights = [np.random.randn(y, x) for x, y in zip(sizes[:-1], sizes[1:])]\n",
        "        self.true_predic = {}\n",
        "\n",
        "    def feedforward(self, a, tipo_fun):\n",
        "        \"\"\"Retorna a saída da rede se `a` for entrada.\"\"\"\n",
        "        for b, w in zip(self.biases, self.weights):\n",
        "            a = funcao_ativacao(tipo_fun, False, np.dot(w, a)+b)\n",
        "        return a\n",
        "\n",
        "    def SGD(self, training_data, epochs, mini_batch_size, eta, test_data=None, tipo_fun='sigmoid'):\n",
        "        \"\"\"Treinar a rede neural usando o algoritmo mini batch com gradiente descendente. \n",
        "         A entrada é uma lista de tuplas\n",
        "         `(x, y)` representando as entradas de treinamento e as\n",
        "         saídas. Os outros parâmetros não opcionais são\n",
        "         auto-explicativos. Se `test_data` for fornecido, então a\n",
        "         rede será avaliada em relação aos dados do teste após cada\n",
        "         época e progresso parcial impresso. Isso é útil para\n",
        "         acompanhar o progresso, mas retarda as coisas substancialmente.\"\"\"\n",
        "        \n",
        "        eta_inicial = eta\n",
        "        training_data = list(training_data)\n",
        "        n = len(training_data)\n",
        "\n",
        "        if test_data:\n",
        "            n_test = len(test_data)\n",
        "\n",
        "        for j in range(epochs):\n",
        "            random.shuffle(training_data)\n",
        "            mini_batches = [training_data[k:k+mini_batch_size] for k in range(0, n, mini_batch_size)]\n",
        "            \n",
        "            for mini_batch in mini_batches:\n",
        "                self.update_mini_batch(mini_batch, eta, tipo_fun)\n",
        "            \n",
        "            if test_data:\n",
        "                predic = self.evaluate(test_data, tipo_fun)\n",
        "                self.true_predic[j] = predic\n",
        "                print(\"Epoch {} : {} / {}\".format(j,predic,n_test));\n",
        "            else:\n",
        "                print(\"Epoch {} finalizada\".format(j))\n",
        "            \n",
        "            eta = atualiza_taxa_aprend(eta_inicial, j, epochs)\n",
        "        \n",
        "        return self.true_predic\n",
        "    def update_mini_batch(self, mini_batch, eta, tipo_fun):\n",
        "        \"\"\"Atualiza os pesos e bias da rede aplicando\n",
        "         a descida do gradiente usando backpropagation para um único mini lote.\n",
        "         O `mini_batch` é uma lista de tuplas `(x, y)`, e `eta` é a taxa de aprendizado.\"\"\"\n",
        "\n",
        "        nabla_b = [np.zeros(b.shape) for b in self.biases]\n",
        "        nabla_w = [np.zeros(w.shape) for w in self.weights]\n",
        "        \n",
        "        for x, y in mini_batch:\n",
        "            delta_nabla_b, delta_nabla_w = self.backprop(x, y, tipo_fun)\n",
        "            nabla_b = [nb+dnb for nb, dnb in zip(nabla_b, delta_nabla_b)]\n",
        "            nabla_w = [nw+dnw for nw, dnw in zip(nabla_w, delta_nabla_w)]\n",
        "        \n",
        "        self.weights = [w-(eta/len(mini_batch))*nw for w, nw in zip(self.weights, nabla_w)]\n",
        "        self.biases = [b-(eta/len(mini_batch))*nb for b, nb in zip(self.biases, nabla_b)]\n",
        "\n",
        "    def backprop(self, x, y, tipo_fun):\n",
        "        \"\"\"Retorna uma tupla `(nabla_b, nabla_w)` representando o\n",
        "         gradiente para a função de custo C_x. `nabla_b` e\n",
        "         `nabla_w` são listas de camadas de matrizes numpy, semelhantes\n",
        "         a `self.biases` e `self.weights`.\"\"\"\n",
        "\n",
        "        nabla_b = [np.zeros(b.shape) for b in self.biases]\n",
        "        nabla_w = [np.zeros(w.shape) for w in self.weights]\n",
        "        \n",
        "        # Feedforward\n",
        "        activation = x\n",
        "\n",
        "        # Lista para armazenar todas as ativações, camada por camada\n",
        "        activations = [x] \n",
        "\n",
        "        # Lista para armazenar todos os vetores z, camada por camada\n",
        "        zs = [] \n",
        "\n",
        "        for b, w in zip(self.biases, self.weights):\n",
        "            z = np.dot(w, activation)+b\n",
        "            zs.append(z)\n",
        "            activation = funcao_ativacao(tipo_fun, False, z)\n",
        "            activations.append(activation)\n",
        "        \n",
        "        # Backward pass\n",
        "        delta = self.cost_derivative(activations[-1], y) * funcao_ativacao(tipo_fun, True, zs[-1])\n",
        "        nabla_b[-1] = delta\n",
        "        nabla_w[-1] = np.dot(delta, activations[-2].transpose())\n",
        "        \n",
        "        # Aqui, l = 1 significa a última camada de neurônios, l = 2 é a segunda e assim por diante. \n",
        "        for l in range(2, self.num_layers):\n",
        "            z = zs[-l]\n",
        "            sp = funcao_ativacao(tipo_fun, True, z)\n",
        "            delta = np.dot(self.weights[-l+1].transpose(), delta) * sp\n",
        "            nabla_b[-l] = delta\n",
        "            nabla_w[-l] = np.dot(delta, activations[-l-1].transpose())\n",
        "        return (nabla_b, nabla_w)\n",
        "\n",
        "    def evaluate(self, test_data, tipo_fun):\n",
        "        \"\"\"Retorna o número de entradas de teste para as quais a rede neural \n",
        "         produz o resultado correto. Note que a saída da rede neural\n",
        "         é considerada o índice de qualquer que seja\n",
        "         neurônio na camada final que tenha a maior ativação.\"\"\"\n",
        "\n",
        "        test_results = [(np.argmax(self.feedforward(x, tipo_fun)), np.argmax(y)) for (x, y) in test_data]\n",
        "        return sum(int(x == y) for (x, y) in test_results)\n",
        "\n",
        "    def cost_derivative(self, output_activations, y):\n",
        "        \"\"\"Retorna o vetor das derivadas parciais.\"\"\"\n",
        "        return (output_activations-y)\n"
      ],
      "execution_count": 0,
      "outputs": []
    },
    {
      "metadata": {
        "id": "6lndK7bt9F6d",
        "colab_type": "text"
      },
      "cell_type": "markdown",
      "source": [
        "Como exemplo, essa mesma rede será executada na base de dados MNIST. O codigo abaixo carrega a base de dados."
      ]
    },
    {
      "metadata": {
        "id": "KOZwqOkDv3t-",
        "colab_type": "code",
        "colab": {}
      },
      "cell_type": "code",
      "source": [
        "# Carregar o dataset MNIST\n",
        "\n",
        "# Imports\n",
        "import pickle\n",
        "import gzip\n",
        "import numpy as np\n",
        "\n",
        "def load_data():\n",
        "    f = gzip.open('Redes-Neurais--UFRPE-2019.1/MLP/codigos/mnist.pkl.gz', 'rb')\n",
        "    training_data, validation_data, test_data = pickle.load(f, encoding=\"latin1\")\n",
        "    f.close()\n",
        "    return (training_data, validation_data, test_data)\n",
        "\n",
        "def load_data_wrapper():\n",
        "    tr_d, va_d, te_d = load_data()\n",
        "    training_inputs = [np.reshape(x, (784, 1)) for x in tr_d[0]]\n",
        "    training_results = [vectorized_result(y) for y in tr_d[1]]\n",
        "    training_data = zip(training_inputs, training_results)\n",
        "    validation_inputs = [np.reshape(x, (784, 1)) for x in va_d[0]]\n",
        "    validation_data = zip(validation_inputs, va_d[1])\n",
        "    test_inputs = [np.reshape(x, (784, 1)) for x in te_d[0]]\n",
        "    test_data = zip(test_inputs, te_d[1])\n",
        "    return (training_data, validation_data, test_data)\n",
        "\n",
        "def vectorized_result(j):\n",
        "    e = np.zeros((10, 1))\n",
        "    e[j] = 1.0\n",
        "    return e\n",
        "\n",
        "def all_data():\n",
        "  training_data, validation_data, test_data = load_data_wrapper()\n",
        "\n",
        "  training_data = list(training_data)\n",
        "  validation_data = list(validation_data)\n",
        "  test_data = list(test_data)\n",
        "\n",
        "  return training_data + validation_data + test_data"
      ],
      "execution_count": 0,
      "outputs": []
    },
    {
      "metadata": {
        "id": "KBOEXLBnSsm0",
        "colab_type": "text"
      },
      "cell_type": "markdown",
      "source": [
        "# Mini-Projeto part. 1\n",
        "\n",
        "1) Realizar avaliaçao usando validação cruzada\n",
        "\n",
        "2) Modificar a taxa de aprendizagem pra diminuir com o tempo\n",
        "\n",
        "3) Realizar avaliações com a validação cruzada modificando os seguintes parâmetros:\n",
        "     \n",
        "     a) Taxa de aprendizagem: 0.5, 0.1 e 0.001\n",
        "     b) Função de ativação RELU\n",
        "     c) 3 diferentes configurações de neurônios na camada  intermediária\n",
        "\n",
        "\n",
        "Data de Entrega: 23/04/2019"
      ]
    },
    {
      "metadata": {
        "id": "olUh0kwI3cIS",
        "colab_type": "code",
        "colab": {}
      },
      "cell_type": "code",
      "source": [
        "import pandas as pd\n",
        "from sklearn.model_selection import KFold"
      ],
      "execution_count": 0,
      "outputs": []
    },
    {
      "metadata": {
        "id": "Atfzs5x_Qro9",
        "colab_type": "code",
        "colab": {}
      },
      "cell_type": "code",
      "source": [
        "data = all_data()"
      ],
      "execution_count": 0,
      "outputs": []
    },
    {
      "metadata": {
        "id": "g6miZQpWzxWI",
        "colab_type": "code",
        "colab": {}
      },
      "cell_type": "code",
      "source": [
        "media_modelos = {}\n",
        "funcao_ativacao_list = []\n",
        "rede = []\n",
        "taxa_aprendizagem = []\n",
        "medias = []\n",
        "\n",
        "epoch = 15\n",
        "n_k = 4"
      ],
      "execution_count": 0,
      "outputs": []
    },
    {
      "metadata": {
        "id": "sPyVCSgkt2RW",
        "colab_type": "text"
      },
      "cell_type": "markdown",
      "source": [
        "## Rede 1 -> Configuração 784-30-10"
      ]
    },
    {
      "metadata": {
        "id": "F1QcQHEYyrpV",
        "colab_type": "code",
        "colab": {}
      },
      "cell_type": "code",
      "source": [
        "tamanho = [784, 30, 10]"
      ],
      "execution_count": 0,
      "outputs": []
    },
    {
      "metadata": {
        "id": "K4EobHpXxZoM",
        "colab_type": "text"
      },
      "cell_type": "markdown",
      "source": [
        "### Função ativação - Relu"
      ]
    },
    {
      "metadata": {
        "id": "3cG0XX32t67i",
        "colab_type": "text"
      },
      "cell_type": "markdown",
      "source": [
        "#### Taxa de aprendizagem - 0.5"
      ]
    },
    {
      "metadata": {
        "id": "bIyVWUbK37dl",
        "colab_type": "code",
        "outputId": "a6ba2159-4e6f-4370-cf7a-ecbf8b1e6713",
        "colab": {
          "base_uri": "https://localhost:8080/",
          "height": 1173
        }
      },
      "cell_type": "code",
      "source": [
        "net = Network(tamanho)\n",
        "acertos_dict = {}\n",
        "kf = KFold(n_splits=n_k)\n",
        "at = 0.5\n",
        "\n",
        "for i, index in enumerate(kf.split(data)):\n",
        "  train_index = index[0]\n",
        "  test_index = index[1]\n",
        "  \n",
        "  k = \"K {}\".format(i)\n",
        "  \n",
        "  print(k)\n",
        "  training_data = data[train_index[0]:train_index[-1]+1]\n",
        "  testing_data = data[test_index[0]:test_index[-1]+1]\n",
        "  \n",
        "  result = net.SGD(training_data, epoch, 10, at,test_data=testing_data, tipo_fun='relu')\n",
        "  acertos_dict[k] = sum(result.values())/epoch"
      ],
      "execution_count": 21,
      "outputs": [
        {
          "output_type": "stream",
          "text": [
            "K 0\n"
          ],
          "name": "stdout"
        },
        {
          "output_type": "stream",
          "text": [
            "/usr/local/lib/python3.6/dist-packages/ipykernel_launcher.py:91: RuntimeWarning: overflow encountered in multiply\n",
            "/usr/local/lib/python3.6/dist-packages/ipykernel_launcher.py:99: RuntimeWarning: invalid value encountered in multiply\n",
            "/usr/local/lib/python3.6/dist-packages/ipykernel_launcher.py:14: RuntimeWarning: overflow encountered in multiply\n",
            "  \n"
          ],
          "name": "stderr"
        },
        {
          "output_type": "stream",
          "text": [
            "Epoch 0 : 1546 / 17500\n",
            "Epoch 1 : 1546 / 17500\n",
            "Epoch 2 : 1546 / 17500\n",
            "Epoch 3 : 1546 / 17500\n",
            "Epoch 4 : 1546 / 17500\n",
            "Epoch 5 : 1546 / 17500\n",
            "Epoch 6 : 1546 / 17500\n",
            "Epoch 7 : 1546 / 17500\n",
            "Epoch 8 : 1546 / 17500\n",
            "Epoch 9 : 1546 / 17500\n",
            "Epoch 10 : 1546 / 17500\n",
            "Epoch 11 : 1546 / 17500\n",
            "Epoch 12 : 1546 / 17500\n",
            "Epoch 13 : 1546 / 17500\n",
            "Epoch 14 : 1546 / 17500\n",
            "K 1\n",
            "Epoch 0 : 1604 / 17500\n",
            "Epoch 1 : 1604 / 17500\n",
            "Epoch 2 : 1604 / 17500\n",
            "Epoch 3 : 1604 / 17500\n",
            "Epoch 4 : 1604 / 17500\n",
            "Epoch 5 : 1604 / 17500\n",
            "Epoch 6 : 1604 / 17500\n",
            "Epoch 7 : 1604 / 17500\n",
            "Epoch 8 : 1604 / 17500\n",
            "Epoch 9 : 1604 / 17500\n",
            "Epoch 10 : 1604 / 17500\n",
            "Epoch 11 : 1604 / 17500\n",
            "Epoch 12 : 1604 / 17500\n",
            "Epoch 13 : 1604 / 17500\n",
            "Epoch 14 : 1604 / 17500\n",
            "K 2\n",
            "Epoch 0 : 1356 / 17500\n",
            "Epoch 1 : 1356 / 17500\n",
            "Epoch 2 : 1356 / 17500\n",
            "Epoch 3 : 1356 / 17500\n",
            "Epoch 4 : 1356 / 17500\n",
            "Epoch 5 : 1356 / 17500\n",
            "Epoch 6 : 1356 / 17500\n",
            "Epoch 7 : 1356 / 17500\n",
            "Epoch 8 : 1356 / 17500\n",
            "Epoch 9 : 1356 / 17500\n",
            "Epoch 10 : 1356 / 17500\n",
            "Epoch 11 : 1356 / 17500\n",
            "Epoch 12 : 1356 / 17500\n",
            "Epoch 13 : 1356 / 17500\n",
            "Epoch 14 : 1356 / 17500\n",
            "K 3\n",
            "Epoch 0 : 0 / 17500\n",
            "Epoch 1 : 0 / 17500\n",
            "Epoch 2 : 0 / 17500\n",
            "Epoch 3 : 0 / 17500\n",
            "Epoch 4 : 0 / 17500\n",
            "Epoch 5 : 0 / 17500\n",
            "Epoch 6 : 0 / 17500\n",
            "Epoch 7 : 0 / 17500\n",
            "Epoch 8 : 0 / 17500\n",
            "Epoch 9 : 0 / 17500\n",
            "Epoch 10 : 0 / 17500\n",
            "Epoch 11 : 0 / 17500\n",
            "Epoch 12 : 0 / 17500\n",
            "Epoch 13 : 0 / 17500\n",
            "Epoch 14 : 0 / 17500\n"
          ],
          "name": "stdout"
        }
      ]
    },
    {
      "metadata": {
        "id": "GJc8F3SIJxPA",
        "colab_type": "code",
        "colab": {
          "base_uri": "https://localhost:8080/",
          "height": 173
        },
        "outputId": "30148566-9790-422b-e1f6-e7750e8c070f"
      },
      "cell_type": "code",
      "source": [
        "teste1 = pd.DataFrame({\n",
        "    'K': np.arange(kf.get_n_splits(data)),\n",
        "    'Acertos': list(acertos_dict.values())\n",
        "})\n",
        "\n",
        "teste1"
      ],
      "execution_count": 22,
      "outputs": [
        {
          "output_type": "execute_result",
          "data": {
            "text/html": [
              "<div>\n",
              "<style scoped>\n",
              "    .dataframe tbody tr th:only-of-type {\n",
              "        vertical-align: middle;\n",
              "    }\n",
              "\n",
              "    .dataframe tbody tr th {\n",
              "        vertical-align: top;\n",
              "    }\n",
              "\n",
              "    .dataframe thead th {\n",
              "        text-align: right;\n",
              "    }\n",
              "</style>\n",
              "<table border=\"1\" class=\"dataframe\">\n",
              "  <thead>\n",
              "    <tr style=\"text-align: right;\">\n",
              "      <th></th>\n",
              "      <th>K</th>\n",
              "      <th>Acertos</th>\n",
              "    </tr>\n",
              "  </thead>\n",
              "  <tbody>\n",
              "    <tr>\n",
              "      <th>0</th>\n",
              "      <td>0</td>\n",
              "      <td>1546.0</td>\n",
              "    </tr>\n",
              "    <tr>\n",
              "      <th>1</th>\n",
              "      <td>1</td>\n",
              "      <td>1604.0</td>\n",
              "    </tr>\n",
              "    <tr>\n",
              "      <th>2</th>\n",
              "      <td>2</td>\n",
              "      <td>1356.0</td>\n",
              "    </tr>\n",
              "    <tr>\n",
              "      <th>3</th>\n",
              "      <td>3</td>\n",
              "      <td>0.0</td>\n",
              "    </tr>\n",
              "  </tbody>\n",
              "</table>\n",
              "</div>"
            ],
            "text/plain": [
              "   K  Acertos\n",
              "0  0   1546.0\n",
              "1  1   1604.0\n",
              "2  2   1356.0\n",
              "3  3      0.0"
            ]
          },
          "metadata": {
            "tags": []
          },
          "execution_count": 22
        }
      ]
    },
    {
      "metadata": {
        "id": "HgcZPKbJuzi-",
        "colab_type": "code",
        "colab": {
          "base_uri": "https://localhost:8080/",
          "height": 34
        },
        "outputId": "ffb12218-d5cb-4a0a-8eff-b7fc2e47e344"
      },
      "cell_type": "code",
      "source": [
        "media = teste1['Acertos'].mean()\n",
        "\n",
        "media"
      ],
      "execution_count": 23,
      "outputs": [
        {
          "output_type": "execute_result",
          "data": {
            "text/plain": [
              "1126.5"
            ]
          },
          "metadata": {
            "tags": []
          },
          "execution_count": 23
        }
      ]
    },
    {
      "metadata": {
        "id": "eLkXILniz3hT",
        "colab_type": "code",
        "colab": {}
      },
      "cell_type": "code",
      "source": [
        "funcao_ativacao_list.append('relu')\n",
        "rede.append('rede 1')\n",
        "taxa_aprendizagem.append(at)\n",
        "medias.append(media)"
      ],
      "execution_count": 0,
      "outputs": []
    },
    {
      "metadata": {
        "colab_type": "text",
        "id": "JtzexNGPtcU6"
      },
      "cell_type": "markdown",
      "source": [
        "#### Taxa de aprendizagem - 0.1"
      ]
    },
    {
      "metadata": {
        "colab_type": "code",
        "outputId": "3f0da56c-9fb7-4067-c5fd-80c3bacb1267",
        "id": "fA3HY3TytcU7",
        "colab": {
          "base_uri": "https://localhost:8080/",
          "height": 1173
        }
      },
      "cell_type": "code",
      "source": [
        "net = Network(tamanho)\n",
        "acertos_dict = {}\n",
        "kf = KFold(n_splits=n_k)\n",
        "at = 0.1\n",
        "\n",
        "for i, index in enumerate(kf.split(data)):\n",
        "  train_index = index[0]\n",
        "  test_index = index[1]\n",
        "  \n",
        "  k = \"K {}\".format(i)\n",
        "  \n",
        "  print(k)\n",
        "  training_data = data[train_index[0]:train_index[-1]+1]\n",
        "  testing_data = data[test_index[0]:test_index[-1]+1]\n",
        "  \n",
        "  result = net.SGD(training_data, epoch, 10, at,test_data=testing_data, tipo_fun='relu')\n",
        "  acertos_dict[k] = sum(result.values())/epoch"
      ],
      "execution_count": 29,
      "outputs": [
        {
          "output_type": "stream",
          "text": [
            "K 0\n"
          ],
          "name": "stdout"
        },
        {
          "output_type": "stream",
          "text": [
            "/usr/local/lib/python3.6/dist-packages/ipykernel_launcher.py:91: RuntimeWarning: overflow encountered in multiply\n",
            "/usr/local/lib/python3.6/dist-packages/ipykernel_launcher.py:99: RuntimeWarning: invalid value encountered in multiply\n",
            "/usr/local/lib/python3.6/dist-packages/ipykernel_launcher.py:14: RuntimeWarning: overflow encountered in multiply\n",
            "  \n"
          ],
          "name": "stderr"
        },
        {
          "output_type": "stream",
          "text": [
            "Epoch 0 : 1741 / 17500\n",
            "Epoch 1 : 1741 / 17500\n",
            "Epoch 2 : 1741 / 17500\n",
            "Epoch 3 : 1741 / 17500\n",
            "Epoch 4 : 1741 / 17500\n",
            "Epoch 5 : 1741 / 17500\n",
            "Epoch 6 : 1741 / 17500\n",
            "Epoch 7 : 1741 / 17500\n",
            "Epoch 8 : 1741 / 17500\n",
            "Epoch 9 : 1741 / 17500\n",
            "Epoch 10 : 1741 / 17500\n",
            "Epoch 11 : 1741 / 17500\n",
            "Epoch 12 : 1741 / 17500\n",
            "Epoch 13 : 1741 / 17500\n",
            "Epoch 14 : 1741 / 17500\n",
            "K 1\n",
            "Epoch 0 : 1693 / 17500\n",
            "Epoch 1 : 1693 / 17500\n",
            "Epoch 2 : 1693 / 17500\n",
            "Epoch 3 : 1693 / 17500\n",
            "Epoch 4 : 1693 / 17500\n",
            "Epoch 5 : 1693 / 17500\n",
            "Epoch 6 : 1693 / 17500\n",
            "Epoch 7 : 1693 / 17500\n",
            "Epoch 8 : 1693 / 17500\n",
            "Epoch 9 : 1693 / 17500\n",
            "Epoch 10 : 1693 / 17500\n",
            "Epoch 11 : 1693 / 17500\n",
            "Epoch 12 : 1693 / 17500\n",
            "Epoch 13 : 1693 / 17500\n",
            "Epoch 14 : 1693 / 17500\n",
            "K 2\n",
            "Epoch 0 : 3998 / 17500\n",
            "Epoch 1 : 3998 / 17500\n",
            "Epoch 2 : 3998 / 17500\n",
            "Epoch 3 : 3998 / 17500\n",
            "Epoch 4 : 3998 / 17500\n",
            "Epoch 5 : 3998 / 17500\n",
            "Epoch 6 : 3998 / 17500\n",
            "Epoch 7 : 3998 / 17500\n",
            "Epoch 8 : 3998 / 17500\n",
            "Epoch 9 : 3998 / 17500\n",
            "Epoch 10 : 3998 / 17500\n",
            "Epoch 11 : 3998 / 17500\n",
            "Epoch 12 : 3998 / 17500\n",
            "Epoch 13 : 3998 / 17500\n",
            "Epoch 14 : 3998 / 17500\n",
            "K 3\n",
            "Epoch 0 : 17500 / 17500\n",
            "Epoch 1 : 17500 / 17500\n",
            "Epoch 2 : 17500 / 17500\n",
            "Epoch 3 : 17500 / 17500\n",
            "Epoch 4 : 17500 / 17500\n",
            "Epoch 5 : 17500 / 17500\n",
            "Epoch 6 : 17500 / 17500\n",
            "Epoch 7 : 17500 / 17500\n",
            "Epoch 8 : 17500 / 17500\n",
            "Epoch 9 : 17500 / 17500\n",
            "Epoch 10 : 17500 / 17500\n",
            "Epoch 11 : 17500 / 17500\n",
            "Epoch 12 : 17500 / 17500\n",
            "Epoch 13 : 17500 / 17500\n",
            "Epoch 14 : 17500 / 17500\n"
          ],
          "name": "stdout"
        }
      ]
    },
    {
      "metadata": {
        "colab_type": "code",
        "id": "DNcW2U3rtcU_",
        "colab": {
          "base_uri": "https://localhost:8080/",
          "height": 173
        },
        "outputId": "959ee915-fae0-4262-dce7-538320df4662"
      },
      "cell_type": "code",
      "source": [
        "teste2 = pd.DataFrame({\n",
        "    'K': np.arange(kf.get_n_splits(data)),\n",
        "    'Acertos': list(acertos_dict.values())\n",
        "})\n",
        "\n",
        "teste2"
      ],
      "execution_count": 30,
      "outputs": [
        {
          "output_type": "execute_result",
          "data": {
            "text/html": [
              "<div>\n",
              "<style scoped>\n",
              "    .dataframe tbody tr th:only-of-type {\n",
              "        vertical-align: middle;\n",
              "    }\n",
              "\n",
              "    .dataframe tbody tr th {\n",
              "        vertical-align: top;\n",
              "    }\n",
              "\n",
              "    .dataframe thead th {\n",
              "        text-align: right;\n",
              "    }\n",
              "</style>\n",
              "<table border=\"1\" class=\"dataframe\">\n",
              "  <thead>\n",
              "    <tr style=\"text-align: right;\">\n",
              "      <th></th>\n",
              "      <th>K</th>\n",
              "      <th>Acertos</th>\n",
              "    </tr>\n",
              "  </thead>\n",
              "  <tbody>\n",
              "    <tr>\n",
              "      <th>0</th>\n",
              "      <td>0</td>\n",
              "      <td>1741.0</td>\n",
              "    </tr>\n",
              "    <tr>\n",
              "      <th>1</th>\n",
              "      <td>1</td>\n",
              "      <td>1693.0</td>\n",
              "    </tr>\n",
              "    <tr>\n",
              "      <th>2</th>\n",
              "      <td>2</td>\n",
              "      <td>3998.0</td>\n",
              "    </tr>\n",
              "    <tr>\n",
              "      <th>3</th>\n",
              "      <td>3</td>\n",
              "      <td>17500.0</td>\n",
              "    </tr>\n",
              "  </tbody>\n",
              "</table>\n",
              "</div>"
            ],
            "text/plain": [
              "   K  Acertos\n",
              "0  0   1741.0\n",
              "1  1   1693.0\n",
              "2  2   3998.0\n",
              "3  3  17500.0"
            ]
          },
          "metadata": {
            "tags": []
          },
          "execution_count": 30
        }
      ]
    },
    {
      "metadata": {
        "colab_type": "code",
        "id": "KifkIaSwtcVC",
        "colab": {
          "base_uri": "https://localhost:8080/",
          "height": 34
        },
        "outputId": "0ca1d0f4-b13c-483d-de31-bf3ace714a23"
      },
      "cell_type": "code",
      "source": [
        "media = teste2['Acertos'].mean()\n",
        "\n",
        "media"
      ],
      "execution_count": 33,
      "outputs": [
        {
          "output_type": "execute_result",
          "data": {
            "text/plain": [
              "6233.0"
            ]
          },
          "metadata": {
            "tags": []
          },
          "execution_count": 33
        }
      ]
    },
    {
      "metadata": {
        "colab_type": "code",
        "id": "ldtkqs810XNz",
        "colab": {}
      },
      "cell_type": "code",
      "source": [
        "funcao_ativacao_list.append('relu')\n",
        "rede.append('rede 1')\n",
        "taxa_aprendizagem.append(at)\n",
        "medias.append(media)"
      ],
      "execution_count": 0,
      "outputs": []
    },
    {
      "metadata": {
        "colab_type": "text",
        "id": "GHvWAwhHxlqA"
      },
      "cell_type": "markdown",
      "source": [
        "#### Taxa de aprendizagem - 0.001"
      ]
    },
    {
      "metadata": {
        "colab_type": "code",
        "outputId": "99b59fc5-d573-4e97-962b-7bc5d9caae02",
        "id": "nXSUF_78xlqC",
        "colab": {
          "base_uri": "https://localhost:8080/",
          "height": 1156
        }
      },
      "cell_type": "code",
      "source": [
        "net = Network(tamanho)\n",
        "acertos_dict = {}\n",
        "kf = KFold(n_splits=n_k)\n",
        "at = 0.001\n",
        "\n",
        "for i, index in enumerate(kf.split(data)):\n",
        "  train_index = index[0]\n",
        "  test_index = index[1]\n",
        "  \n",
        "  k = \"K {}\".format(i)\n",
        "  \n",
        "  print(k)\n",
        "  training_data = data[train_index[0]:train_index[-1]+1]\n",
        "  testing_data = data[test_index[0]:test_index[-1]+1]\n",
        "  \n",
        "  result = net.SGD(training_data, epoch, 10, at,test_data=testing_data, tipo_fun='relu')\n",
        "  acertos_dict[k] = sum(result.values())/epoch"
      ],
      "execution_count": 35,
      "outputs": [
        {
          "output_type": "stream",
          "text": [
            "K 0\n"
          ],
          "name": "stdout"
        },
        {
          "output_type": "stream",
          "text": [
            "/usr/local/lib/python3.6/dist-packages/ipykernel_launcher.py:14: RuntimeWarning: overflow encountered in multiply\n",
            "  \n",
            "/usr/local/lib/python3.6/dist-packages/ipykernel_launcher.py:99: RuntimeWarning: invalid value encountered in multiply\n"
          ],
          "name": "stderr"
        },
        {
          "output_type": "stream",
          "text": [
            "Epoch 0 : 1741 / 17500\n",
            "Epoch 1 : 1741 / 17500\n",
            "Epoch 2 : 1741 / 17500\n",
            "Epoch 3 : 1741 / 17500\n",
            "Epoch 4 : 1741 / 17500\n",
            "Epoch 5 : 1741 / 17500\n",
            "Epoch 6 : 1741 / 17500\n",
            "Epoch 7 : 1741 / 17500\n",
            "Epoch 8 : 1741 / 17500\n",
            "Epoch 9 : 1741 / 17500\n",
            "Epoch 10 : 1741 / 17500\n",
            "Epoch 11 : 1741 / 17500\n",
            "Epoch 12 : 1741 / 17500\n",
            "Epoch 13 : 1741 / 17500\n",
            "Epoch 14 : 1741 / 17500\n",
            "K 1\n",
            "Epoch 0 : 1693 / 17500\n",
            "Epoch 1 : 1693 / 17500\n",
            "Epoch 2 : 1693 / 17500\n",
            "Epoch 3 : 1693 / 17500\n",
            "Epoch 4 : 1693 / 17500\n",
            "Epoch 5 : 1693 / 17500\n",
            "Epoch 6 : 1693 / 17500\n",
            "Epoch 7 : 1693 / 17500\n",
            "Epoch 8 : 1693 / 17500\n",
            "Epoch 9 : 1693 / 17500\n",
            "Epoch 10 : 1693 / 17500\n",
            "Epoch 11 : 1693 / 17500\n",
            "Epoch 12 : 1693 / 17500\n",
            "Epoch 13 : 1693 / 17500\n",
            "Epoch 14 : 1693 / 17500\n",
            "K 2\n",
            "Epoch 0 : 3998 / 17500\n",
            "Epoch 1 : 3998 / 17500\n",
            "Epoch 2 : 3998 / 17500\n",
            "Epoch 3 : 3998 / 17500\n",
            "Epoch 4 : 3998 / 17500\n",
            "Epoch 5 : 3998 / 17500\n",
            "Epoch 6 : 3998 / 17500\n",
            "Epoch 7 : 3998 / 17500\n",
            "Epoch 8 : 3998 / 17500\n",
            "Epoch 9 : 3998 / 17500\n",
            "Epoch 10 : 3998 / 17500\n",
            "Epoch 11 : 3998 / 17500\n",
            "Epoch 12 : 3998 / 17500\n",
            "Epoch 13 : 3998 / 17500\n",
            "Epoch 14 : 3998 / 17500\n",
            "K 3\n",
            "Epoch 0 : 17500 / 17500\n",
            "Epoch 1 : 17500 / 17500\n",
            "Epoch 2 : 17500 / 17500\n",
            "Epoch 3 : 17500 / 17500\n",
            "Epoch 4 : 17500 / 17500\n",
            "Epoch 5 : 17500 / 17500\n",
            "Epoch 6 : 17500 / 17500\n",
            "Epoch 7 : 17500 / 17500\n",
            "Epoch 8 : 17500 / 17500\n",
            "Epoch 9 : 17500 / 17500\n",
            "Epoch 10 : 17500 / 17500\n",
            "Epoch 11 : 17500 / 17500\n",
            "Epoch 12 : 17500 / 17500\n",
            "Epoch 13 : 17500 / 17500\n",
            "Epoch 14 : 17500 / 17500\n"
          ],
          "name": "stdout"
        }
      ]
    },
    {
      "metadata": {
        "colab_type": "code",
        "id": "qHobWMPAxlqO",
        "colab": {
          "base_uri": "https://localhost:8080/",
          "height": 173
        },
        "outputId": "ef7cd23d-954d-4be0-e85d-2ef3f47caf31"
      },
      "cell_type": "code",
      "source": [
        "teste3 = pd.DataFrame({\n",
        "    'K': np.arange(kf.get_n_splits(data)),\n",
        "    'Acertos': list(acertos_dict.values())\n",
        "})\n",
        "\n",
        "teste3"
      ],
      "execution_count": 36,
      "outputs": [
        {
          "output_type": "execute_result",
          "data": {
            "text/html": [
              "<div>\n",
              "<style scoped>\n",
              "    .dataframe tbody tr th:only-of-type {\n",
              "        vertical-align: middle;\n",
              "    }\n",
              "\n",
              "    .dataframe tbody tr th {\n",
              "        vertical-align: top;\n",
              "    }\n",
              "\n",
              "    .dataframe thead th {\n",
              "        text-align: right;\n",
              "    }\n",
              "</style>\n",
              "<table border=\"1\" class=\"dataframe\">\n",
              "  <thead>\n",
              "    <tr style=\"text-align: right;\">\n",
              "      <th></th>\n",
              "      <th>K</th>\n",
              "      <th>Acertos</th>\n",
              "    </tr>\n",
              "  </thead>\n",
              "  <tbody>\n",
              "    <tr>\n",
              "      <th>0</th>\n",
              "      <td>0</td>\n",
              "      <td>1741.0</td>\n",
              "    </tr>\n",
              "    <tr>\n",
              "      <th>1</th>\n",
              "      <td>1</td>\n",
              "      <td>1693.0</td>\n",
              "    </tr>\n",
              "    <tr>\n",
              "      <th>2</th>\n",
              "      <td>2</td>\n",
              "      <td>3998.0</td>\n",
              "    </tr>\n",
              "    <tr>\n",
              "      <th>3</th>\n",
              "      <td>3</td>\n",
              "      <td>17500.0</td>\n",
              "    </tr>\n",
              "  </tbody>\n",
              "</table>\n",
              "</div>"
            ],
            "text/plain": [
              "   K  Acertos\n",
              "0  0   1741.0\n",
              "1  1   1693.0\n",
              "2  2   3998.0\n",
              "3  3  17500.0"
            ]
          },
          "metadata": {
            "tags": []
          },
          "execution_count": 36
        }
      ]
    },
    {
      "metadata": {
        "colab_type": "code",
        "id": "MLtsWk5hxlqV",
        "colab": {
          "base_uri": "https://localhost:8080/",
          "height": 34
        },
        "outputId": "595bdf5c-91dc-413f-9e24-270f6466c5fe"
      },
      "cell_type": "code",
      "source": [
        "media = teste3['Acertos'].mean()\n",
        "\n",
        "media"
      ],
      "execution_count": 37,
      "outputs": [
        {
          "output_type": "execute_result",
          "data": {
            "text/plain": [
              "6233.0"
            ]
          },
          "metadata": {
            "tags": []
          },
          "execution_count": 37
        }
      ]
    },
    {
      "metadata": {
        "colab_type": "code",
        "id": "CWgULgB80cdX",
        "colab": {}
      },
      "cell_type": "code",
      "source": [
        "funcao_ativacao_list.append('relu')\n",
        "rede.append('rede 1')\n",
        "taxa_aprendizagem.append(at)\n",
        "medias.append(media)"
      ],
      "execution_count": 0,
      "outputs": []
    },
    {
      "metadata": {
        "colab_type": "text",
        "id": "FxVsUPFgxwbB"
      },
      "cell_type": "markdown",
      "source": [
        "### Função ativação - Sigmoid"
      ]
    },
    {
      "metadata": {
        "colab_type": "text",
        "id": "UUC5754KxwbD"
      },
      "cell_type": "markdown",
      "source": [
        "#### Taxa de aprendizagem - 0.5"
      ]
    },
    {
      "metadata": {
        "colab_type": "code",
        "id": "RoQ38Ck3xwbD",
        "colab": {
          "base_uri": "https://localhost:8080/",
          "height": 1105
        },
        "outputId": "6132fa73-7647-4ff8-d590-a0a8fa4209b2"
      },
      "cell_type": "code",
      "source": [
        "net = Network(tamanho)\n",
        "acertos_dict = {}\n",
        "kf = KFold(n_splits=n_k)\n",
        "at = 0.5\n",
        "\n",
        "for i, index in enumerate(kf.split(data)):\n",
        "  train_index = index[0]\n",
        "  test_index = index[1]\n",
        "  \n",
        "  k = \"K {}\".format(i)\n",
        "  \n",
        "  print(k)\n",
        "  training_data = data[train_index[0]:train_index[-1]+1]\n",
        "  testing_data = data[test_index[0]:test_index[-1]+1]\n",
        "  \n",
        "  result = net.SGD(training_data, epoch, 10, at,test_data=testing_data, tipo_fun='sigmoid')\n",
        "  acertos_dict[k] = sum(result.values())/epoch"
      ],
      "execution_count": 39,
      "outputs": [
        {
          "output_type": "stream",
          "text": [
            "K 0\n",
            "Epoch 0 : 1581 / 17500\n",
            "Epoch 1 : 2563 / 17500\n",
            "Epoch 2 : 2444 / 17500\n",
            "Epoch 3 : 3064 / 17500\n",
            "Epoch 4 : 2944 / 17500\n",
            "Epoch 5 : 2775 / 17500\n",
            "Epoch 6 : 2790 / 17500\n",
            "Epoch 7 : 2295 / 17500\n",
            "Epoch 8 : 2371 / 17500\n",
            "Epoch 9 : 2483 / 17500\n",
            "Epoch 10 : 2724 / 17500\n",
            "Epoch 11 : 2731 / 17500\n",
            "Epoch 12 : 2492 / 17500\n",
            "Epoch 13 : 2459 / 17500\n",
            "Epoch 14 : 3056 / 17500\n",
            "K 1\n",
            "Epoch 0 : 2390 / 17500\n",
            "Epoch 1 : 2007 / 17500\n",
            "Epoch 2 : 1895 / 17500\n",
            "Epoch 3 : 1843 / 17500\n",
            "Epoch 4 : 2176 / 17500\n",
            "Epoch 5 : 1811 / 17500\n",
            "Epoch 6 : 1962 / 17500\n",
            "Epoch 7 : 1903 / 17500\n",
            "Epoch 8 : 2049 / 17500\n",
            "Epoch 9 : 2287 / 17500\n",
            "Epoch 10 : 2218 / 17500\n",
            "Epoch 11 : 2169 / 17500\n",
            "Epoch 12 : 2124 / 17500\n",
            "Epoch 13 : 2104 / 17500\n",
            "Epoch 14 : 2378 / 17500\n",
            "K 2\n",
            "Epoch 0 : 3464 / 17500\n",
            "Epoch 1 : 3552 / 17500\n",
            "Epoch 2 : 3362 / 17500\n",
            "Epoch 3 : 3517 / 17500\n",
            "Epoch 4 : 3367 / 17500\n",
            "Epoch 5 : 3610 / 17500\n",
            "Epoch 6 : 3742 / 17500\n",
            "Epoch 7 : 3579 / 17500\n",
            "Epoch 8 : 3685 / 17500\n",
            "Epoch 9 : 3690 / 17500\n",
            "Epoch 10 : 3853 / 17500\n",
            "Epoch 11 : 3683 / 17500\n",
            "Epoch 12 : 3962 / 17500\n",
            "Epoch 13 : 4178 / 17500\n",
            "Epoch 14 : 3970 / 17500\n",
            "K 3\n",
            "Epoch 0 : 17500 / 17500\n",
            "Epoch 1 : 1912 / 17500\n",
            "Epoch 2 : 1811 / 17500\n",
            "Epoch 3 : 1730 / 17500\n",
            "Epoch 4 : 1736 / 17500\n",
            "Epoch 5 : 1799 / 17500\n",
            "Epoch 6 : 1843 / 17500\n",
            "Epoch 7 : 1753 / 17500\n",
            "Epoch 8 : 1812 / 17500\n",
            "Epoch 9 : 1803 / 17500\n",
            "Epoch 10 : 1939 / 17500\n",
            "Epoch 11 : 1892 / 17500\n",
            "Epoch 12 : 1895 / 17500\n",
            "Epoch 13 : 1705 / 17500\n",
            "Epoch 14 : 1831 / 17500\n"
          ],
          "name": "stdout"
        }
      ]
    },
    {
      "metadata": {
        "colab_type": "code",
        "id": "vlrPfdlmxwbG",
        "colab": {
          "base_uri": "https://localhost:8080/",
          "height": 173
        },
        "outputId": "d8d43474-bd09-4d50-d721-930165198460"
      },
      "cell_type": "code",
      "source": [
        "teste4 = pd.DataFrame({\n",
        "    'K': np.arange(kf.get_n_splits(data)),\n",
        "    'Acertos': list(acertos_dict.values())\n",
        "})\n",
        "\n",
        "teste4"
      ],
      "execution_count": 40,
      "outputs": [
        {
          "output_type": "execute_result",
          "data": {
            "text/html": [
              "<div>\n",
              "<style scoped>\n",
              "    .dataframe tbody tr th:only-of-type {\n",
              "        vertical-align: middle;\n",
              "    }\n",
              "\n",
              "    .dataframe tbody tr th {\n",
              "        vertical-align: top;\n",
              "    }\n",
              "\n",
              "    .dataframe thead th {\n",
              "        text-align: right;\n",
              "    }\n",
              "</style>\n",
              "<table border=\"1\" class=\"dataframe\">\n",
              "  <thead>\n",
              "    <tr style=\"text-align: right;\">\n",
              "      <th></th>\n",
              "      <th>K</th>\n",
              "      <th>Acertos</th>\n",
              "    </tr>\n",
              "  </thead>\n",
              "  <tbody>\n",
              "    <tr>\n",
              "      <th>0</th>\n",
              "      <td>0</td>\n",
              "      <td>2584.800000</td>\n",
              "    </tr>\n",
              "    <tr>\n",
              "      <th>1</th>\n",
              "      <td>1</td>\n",
              "      <td>2087.733333</td>\n",
              "    </tr>\n",
              "    <tr>\n",
              "      <th>2</th>\n",
              "      <td>2</td>\n",
              "      <td>3680.933333</td>\n",
              "    </tr>\n",
              "    <tr>\n",
              "      <th>3</th>\n",
              "      <td>3</td>\n",
              "      <td>2864.066667</td>\n",
              "    </tr>\n",
              "  </tbody>\n",
              "</table>\n",
              "</div>"
            ],
            "text/plain": [
              "   K      Acertos\n",
              "0  0  2584.800000\n",
              "1  1  2087.733333\n",
              "2  2  3680.933333\n",
              "3  3  2864.066667"
            ]
          },
          "metadata": {
            "tags": []
          },
          "execution_count": 40
        }
      ]
    },
    {
      "metadata": {
        "colab_type": "code",
        "id": "OJckpLNLxwbI",
        "colab": {
          "base_uri": "https://localhost:8080/",
          "height": 34
        },
        "outputId": "d266860a-bbe4-455a-a36e-33341ff9a08c"
      },
      "cell_type": "code",
      "source": [
        "media = teste4['Acertos'].mean()\n",
        "\n",
        "media"
      ],
      "execution_count": 41,
      "outputs": [
        {
          "output_type": "execute_result",
          "data": {
            "text/plain": [
              "2804.383333333333"
            ]
          },
          "metadata": {
            "tags": []
          },
          "execution_count": 41
        }
      ]
    },
    {
      "metadata": {
        "colab_type": "code",
        "id": "PpzdS4Q70kOo",
        "colab": {}
      },
      "cell_type": "code",
      "source": [
        "funcao_ativacao_list.append('sigmoid')\n",
        "rede.append('rede 1')\n",
        "taxa_aprendizagem.append(at)\n",
        "medias.append(media)"
      ],
      "execution_count": 0,
      "outputs": []
    },
    {
      "metadata": {
        "colab_type": "text",
        "id": "ahu89VjIxwbM"
      },
      "cell_type": "markdown",
      "source": [
        "#### Taxa de aprendizagem - 0.1"
      ]
    },
    {
      "metadata": {
        "colab_type": "code",
        "outputId": "c4227be2-b69b-4caa-a5f7-15f3cc71363c",
        "id": "yU4YLTihxwbN",
        "colab": {
          "base_uri": "https://localhost:8080/",
          "height": 1125
        }
      },
      "cell_type": "code",
      "source": [
        "net = Network(tamanho)\n",
        "acertos_dict = {}\n",
        "kf = KFold(n_splits=n_k)\n",
        "at = 0.1\n",
        "\n",
        "for i, index in enumerate(kf.split(data)):\n",
        "  train_index = index[0]\n",
        "  test_index = index[1]\n",
        "  \n",
        "  k = \"K {}\".format(i)\n",
        "  \n",
        "  print(k)\n",
        "  training_data = data[train_index[0]:train_index[-1]+1]\n",
        "  testing_data = data[test_index[0]:test_index[-1]+1]\n",
        "  \n",
        "  result = net.SGD(training_data, epoch, 10, at,test_data=testing_data, tipo_fun='sigmoid')\n",
        "  acertos_dict[k] = sum(result.values())/epoch"
      ],
      "execution_count": 43,
      "outputs": [
        {
          "output_type": "stream",
          "text": [
            "K 0\n",
            "Epoch 0 : 1709 / 17500\n",
            "Epoch 1 : 2100 / 17500\n",
            "Epoch 2 : 2572 / 17500\n",
            "Epoch 3 : 2745 / 17500\n",
            "Epoch 4 : 2884 / 17500\n",
            "Epoch 5 : 2851 / 17500\n",
            "Epoch 6 : 2942 / 17500\n",
            "Epoch 7 : 2932 / 17500\n",
            "Epoch 8 : 2959 / 17500\n",
            "Epoch 9 : 3056 / 17500\n",
            "Epoch 10 : 2922 / 17500\n",
            "Epoch 11 : 2966 / 17500\n",
            "Epoch 12 : 3040 / 17500\n",
            "Epoch 13 : 3051 / 17500\n",
            "Epoch 14 : 3057 / 17500\n",
            "K 1\n",
            "Epoch 0 : 3215 / 17500\n",
            "Epoch 1 : 3190 / 17500\n",
            "Epoch 2 : 3309 / 17500\n",
            "Epoch 3 : 3245 / 17500\n",
            "Epoch 4 : 3297 / 17500\n",
            "Epoch 5 : 3316 / 17500\n",
            "Epoch 6 : 3125 / 17500\n",
            "Epoch 7 : 3113 / 17500\n",
            "Epoch 8 : 3118 / 17500\n",
            "Epoch 9 : 3016 / 17500\n",
            "Epoch 10 : 3008 / 17500\n",
            "Epoch 11 : 2926 / 17500\n",
            "Epoch 12 : 2753 / 17500\n",
            "Epoch 13 : 2778 / 17500\n",
            "Epoch 14 : 2803 / 17500\n",
            "K 2\n",
            "Epoch 0 : 3410 / 17500\n",
            "Epoch 1 : 3400 / 17500\n",
            "Epoch 2 : 3298 / 17500\n",
            "Epoch 3 : 3427 / 17500\n",
            "Epoch 4 : 3361 / 17500\n",
            "Epoch 5 : 3259 / 17500\n",
            "Epoch 6 : 3167 / 17500\n",
            "Epoch 7 : 3320 / 17500\n",
            "Epoch 8 : 3114 / 17500\n",
            "Epoch 9 : 3267 / 17500\n",
            "Epoch 10 : 3254 / 17500\n",
            "Epoch 11 : 3266 / 17500\n",
            "Epoch 12 : 3199 / 17500\n",
            "Epoch 13 : 3219 / 17500\n",
            "Epoch 14 : 3251 / 17500\n",
            "K 3\n",
            "Epoch 0 : 8646 / 17500\n",
            "Epoch 1 : 9842 / 17500\n",
            "Epoch 2 : 9637 / 17500\n",
            "Epoch 3 : 11031 / 17500\n",
            "Epoch 4 : 11426 / 17500\n",
            "Epoch 5 : 12366 / 17500\n",
            "Epoch 6 : 12287 / 17500\n",
            "Epoch 7 : 12536 / 17500\n",
            "Epoch 8 : 12932 / 17500\n",
            "Epoch 9 : 13279 / 17500\n",
            "Epoch 10 : 14124 / 17500\n",
            "Epoch 11 : 14604 / 17500\n",
            "Epoch 12 : 15263 / 17500\n",
            "Epoch 13 : 15973 / 17500\n",
            "Epoch 14 : 17412 / 17500\n"
          ],
          "name": "stdout"
        }
      ]
    },
    {
      "metadata": {
        "colab_type": "code",
        "id": "_0cdQo57xwbX",
        "colab": {
          "base_uri": "https://localhost:8080/",
          "height": 193
        },
        "outputId": "ce4618f0-62a5-4cfe-f67a-d4443e9250d4"
      },
      "cell_type": "code",
      "source": [
        "teste5 = pd.DataFrame({\n",
        "    'K': np.arange(kf.get_n_splits(data)),\n",
        "    'Acertos': list(acertos_dict.values())\n",
        "})\n",
        "\n",
        "teste5"
      ],
      "execution_count": 44,
      "outputs": [
        {
          "output_type": "execute_result",
          "data": {
            "text/html": [
              "<div>\n",
              "<style scoped>\n",
              "    .dataframe tbody tr th:only-of-type {\n",
              "        vertical-align: middle;\n",
              "    }\n",
              "\n",
              "    .dataframe tbody tr th {\n",
              "        vertical-align: top;\n",
              "    }\n",
              "\n",
              "    .dataframe thead th {\n",
              "        text-align: right;\n",
              "    }\n",
              "</style>\n",
              "<table border=\"1\" class=\"dataframe\">\n",
              "  <thead>\n",
              "    <tr style=\"text-align: right;\">\n",
              "      <th></th>\n",
              "      <th>K</th>\n",
              "      <th>Acertos</th>\n",
              "    </tr>\n",
              "  </thead>\n",
              "  <tbody>\n",
              "    <tr>\n",
              "      <th>0</th>\n",
              "      <td>0</td>\n",
              "      <td>2785.733333</td>\n",
              "    </tr>\n",
              "    <tr>\n",
              "      <th>1</th>\n",
              "      <td>1</td>\n",
              "      <td>3080.800000</td>\n",
              "    </tr>\n",
              "    <tr>\n",
              "      <th>2</th>\n",
              "      <td>2</td>\n",
              "      <td>3280.800000</td>\n",
              "    </tr>\n",
              "    <tr>\n",
              "      <th>3</th>\n",
              "      <td>3</td>\n",
              "      <td>12757.200000</td>\n",
              "    </tr>\n",
              "  </tbody>\n",
              "</table>\n",
              "</div>"
            ],
            "text/plain": [
              "   K       Acertos\n",
              "0  0   2785.733333\n",
              "1  1   3080.800000\n",
              "2  2   3280.800000\n",
              "3  3  12757.200000"
            ]
          },
          "metadata": {
            "tags": []
          },
          "execution_count": 44
        }
      ]
    },
    {
      "metadata": {
        "colab_type": "code",
        "id": "3x5ZCex8xwba",
        "colab": {
          "base_uri": "https://localhost:8080/",
          "height": 54
        },
        "outputId": "47949032-6a5d-404a-9412-4cdaff34a165"
      },
      "cell_type": "code",
      "source": [
        "media = teste5['Acertos'].mean()\n",
        "\n",
        "media"
      ],
      "execution_count": 45,
      "outputs": [
        {
          "output_type": "execute_result",
          "data": {
            "text/plain": [
              "5476.133333333333"
            ]
          },
          "metadata": {
            "tags": []
          },
          "execution_count": 45
        }
      ]
    },
    {
      "metadata": {
        "colab_type": "code",
        "id": "j-FwGHQC0nTm",
        "colab": {}
      },
      "cell_type": "code",
      "source": [
        "funcao_ativacao_list.append('sigmoid')\n",
        "rede.append('rede 1')\n",
        "taxa_aprendizagem.append(at)\n",
        "medias.append(media)"
      ],
      "execution_count": 0,
      "outputs": []
    },
    {
      "metadata": {
        "colab_type": "text",
        "id": "NZ5inJK8xwbd"
      },
      "cell_type": "markdown",
      "source": [
        "#### Taxa de aprendizagem - 0.001"
      ]
    },
    {
      "metadata": {
        "colab_type": "code",
        "outputId": "85999db6-cb4d-45b8-b9bd-33f63fd23daf",
        "id": "DRPzL7Yzxwbf",
        "colab": {
          "base_uri": "https://localhost:8080/",
          "height": 1125
        }
      },
      "cell_type": "code",
      "source": [
        "net = Network(tamanho)\n",
        "acertos_dict = {}\n",
        "kf = KFold(n_splits=n_k)\n",
        "at = 0.001\n",
        "\n",
        "for i, index in enumerate(kf.split(data)):\n",
        "  train_index = index[0]\n",
        "  test_index = index[1]\n",
        "  \n",
        "  k = \"K {}\".format(i)\n",
        "  \n",
        "  print(k)\n",
        "  training_data = data[train_index[0]:train_index[-1]+1]\n",
        "  testing_data = data[test_index[0]:test_index[-1]+1]\n",
        "  \n",
        "  result = net.SGD(training_data, epoch, 10, at,test_data=testing_data, tipo_fun='sigmoid')\n",
        "  acertos_dict[k] = sum(result.values())/epoch"
      ],
      "execution_count": 47,
      "outputs": [
        {
          "output_type": "stream",
          "text": [
            "K 0\n",
            "Epoch 0 : 2535 / 17500\n",
            "Epoch 1 : 2295 / 17500\n",
            "Epoch 2 : 2057 / 17500\n",
            "Epoch 3 : 2035 / 17500\n",
            "Epoch 4 : 2012 / 17500\n",
            "Epoch 5 : 1998 / 17500\n",
            "Epoch 6 : 1987 / 17500\n",
            "Epoch 7 : 1981 / 17500\n",
            "Epoch 8 : 1992 / 17500\n",
            "Epoch 9 : 1992 / 17500\n",
            "Epoch 10 : 1999 / 17500\n",
            "Epoch 11 : 2003 / 17500\n",
            "Epoch 12 : 2001 / 17500\n",
            "Epoch 13 : 2005 / 17500\n",
            "Epoch 14 : 2005 / 17500\n",
            "K 1\n",
            "Epoch 0 : 1885 / 17500\n",
            "Epoch 1 : 1887 / 17500\n",
            "Epoch 2 : 1872 / 17500\n",
            "Epoch 3 : 1870 / 17500\n",
            "Epoch 4 : 1873 / 17500\n",
            "Epoch 5 : 1865 / 17500\n",
            "Epoch 6 : 1848 / 17500\n",
            "Epoch 7 : 1847 / 17500\n",
            "Epoch 8 : 1844 / 17500\n",
            "Epoch 9 : 1832 / 17500\n",
            "Epoch 10 : 1825 / 17500\n",
            "Epoch 11 : 1812 / 17500\n",
            "Epoch 12 : 1799 / 17500\n",
            "Epoch 13 : 1788 / 17500\n",
            "Epoch 14 : 1787 / 17500\n",
            "K 2\n",
            "Epoch 0 : 1817 / 17500\n",
            "Epoch 1 : 1790 / 17500\n",
            "Epoch 2 : 1776 / 17500\n",
            "Epoch 3 : 1745 / 17500\n",
            "Epoch 4 : 1730 / 17500\n",
            "Epoch 5 : 1718 / 17500\n",
            "Epoch 6 : 1703 / 17500\n",
            "Epoch 7 : 1698 / 17500\n",
            "Epoch 8 : 1676 / 17500\n",
            "Epoch 9 : 1666 / 17500\n",
            "Epoch 10 : 1654 / 17500\n",
            "Epoch 11 : 1638 / 17500\n",
            "Epoch 12 : 1630 / 17500\n",
            "Epoch 13 : 1618 / 17500\n",
            "Epoch 14 : 1599 / 17500\n",
            "K 3\n",
            "Epoch 0 : 1429 / 17500\n",
            "Epoch 1 : 1115 / 17500\n",
            "Epoch 2 : 804 / 17500\n",
            "Epoch 3 : 636 / 17500\n",
            "Epoch 4 : 459 / 17500\n",
            "Epoch 5 : 283 / 17500\n",
            "Epoch 6 : 153 / 17500\n",
            "Epoch 7 : 40 / 17500\n",
            "Epoch 8 : 9 / 17500\n",
            "Epoch 9 : 1 / 17500\n",
            "Epoch 10 : 0 / 17500\n",
            "Epoch 11 : 0 / 17500\n",
            "Epoch 12 : 0 / 17500\n",
            "Epoch 13 : 0 / 17500\n",
            "Epoch 14 : 0 / 17500\n"
          ],
          "name": "stdout"
        }
      ]
    },
    {
      "metadata": {
        "colab_type": "code",
        "id": "Lc-e7Oc5xwbj",
        "colab": {
          "base_uri": "https://localhost:8080/",
          "height": 193
        },
        "outputId": "b4b21ecb-ee98-46ad-be3a-c7b2a0fd91bb"
      },
      "cell_type": "code",
      "source": [
        "teste6 = pd.DataFrame({\n",
        "    'K': np.arange(kf.get_n_splits(data)),\n",
        "    'Acertos': list(acertos_dict.values())\n",
        "})\n",
        "\n",
        "teste6"
      ],
      "execution_count": 48,
      "outputs": [
        {
          "output_type": "execute_result",
          "data": {
            "text/html": [
              "<div>\n",
              "<style scoped>\n",
              "    .dataframe tbody tr th:only-of-type {\n",
              "        vertical-align: middle;\n",
              "    }\n",
              "\n",
              "    .dataframe tbody tr th {\n",
              "        vertical-align: top;\n",
              "    }\n",
              "\n",
              "    .dataframe thead th {\n",
              "        text-align: right;\n",
              "    }\n",
              "</style>\n",
              "<table border=\"1\" class=\"dataframe\">\n",
              "  <thead>\n",
              "    <tr style=\"text-align: right;\">\n",
              "      <th></th>\n",
              "      <th>K</th>\n",
              "      <th>Acertos</th>\n",
              "    </tr>\n",
              "  </thead>\n",
              "  <tbody>\n",
              "    <tr>\n",
              "      <th>0</th>\n",
              "      <td>0</td>\n",
              "      <td>2059.800000</td>\n",
              "    </tr>\n",
              "    <tr>\n",
              "      <th>1</th>\n",
              "      <td>1</td>\n",
              "      <td>1842.266667</td>\n",
              "    </tr>\n",
              "    <tr>\n",
              "      <th>2</th>\n",
              "      <td>2</td>\n",
              "      <td>1697.200000</td>\n",
              "    </tr>\n",
              "    <tr>\n",
              "      <th>3</th>\n",
              "      <td>3</td>\n",
              "      <td>328.600000</td>\n",
              "    </tr>\n",
              "  </tbody>\n",
              "</table>\n",
              "</div>"
            ],
            "text/plain": [
              "   K      Acertos\n",
              "0  0  2059.800000\n",
              "1  1  1842.266667\n",
              "2  2  1697.200000\n",
              "3  3   328.600000"
            ]
          },
          "metadata": {
            "tags": []
          },
          "execution_count": 48
        }
      ]
    },
    {
      "metadata": {
        "colab_type": "code",
        "id": "6IZTeu0Wxwbl",
        "colab": {
          "base_uri": "https://localhost:8080/",
          "height": 54
        },
        "outputId": "64ef2007-17ba-4c99-bb94-48ef8214810c"
      },
      "cell_type": "code",
      "source": [
        "media = teste6['Acertos'].mean()\n",
        "\n",
        "media"
      ],
      "execution_count": 49,
      "outputs": [
        {
          "output_type": "execute_result",
          "data": {
            "text/plain": [
              "1481.9666666666667"
            ]
          },
          "metadata": {
            "tags": []
          },
          "execution_count": 49
        }
      ]
    },
    {
      "metadata": {
        "colab_type": "code",
        "id": "MMAxrYVy0r7c",
        "colab": {}
      },
      "cell_type": "code",
      "source": [
        "funcao_ativacao_list.append('sigmoid')\n",
        "rede.append('rede 1')\n",
        "taxa_aprendizagem.append(at)\n",
        "medias.append(media)"
      ],
      "execution_count": 0,
      "outputs": []
    },
    {
      "metadata": {
        "colab_type": "text",
        "id": "v5DQ3AOoyT9t"
      },
      "cell_type": "markdown",
      "source": [
        "## Rede 2 -> Configuração 784-50-10"
      ]
    },
    {
      "metadata": {
        "id": "PqoD_GniyZkX",
        "colab_type": "code",
        "colab": {}
      },
      "cell_type": "code",
      "source": [
        "tamanho = [784, 50, 10]"
      ],
      "execution_count": 0,
      "outputs": []
    },
    {
      "metadata": {
        "colab_type": "text",
        "id": "Y4xZ0WH8yT9u"
      },
      "cell_type": "markdown",
      "source": [
        "### Função ativação - Relu"
      ]
    },
    {
      "metadata": {
        "colab_type": "text",
        "id": "l9vY__KayT9u"
      },
      "cell_type": "markdown",
      "source": [
        "#### Taxa de aprendizagem - 0.5"
      ]
    },
    {
      "metadata": {
        "colab_type": "code",
        "id": "31GuRH1TyT9v",
        "colab": {
          "base_uri": "https://localhost:8080/",
          "height": 1173
        },
        "outputId": "1829b6a5-5185-4a9d-cf0d-374066e7ba01"
      },
      "cell_type": "code",
      "source": [
        "net = Network(tamanho)\n",
        "acertos_dict = {}\n",
        "kf = KFold(n_splits=n_k)\n",
        "at = 0.5\n",
        "\n",
        "for i, index in enumerate(kf.split(data)):\n",
        "  train_index = index[0]\n",
        "  test_index = index[1]\n",
        "  \n",
        "  k = \"K {}\".format(i)\n",
        "  \n",
        "  print(k)\n",
        "  training_data = data[train_index[0]:train_index[-1]+1]\n",
        "  testing_data = data[test_index[0]:test_index[-1]+1]\n",
        "  \n",
        "  result = net.SGD(training_data, epoch, 10, at,test_data=testing_data, tipo_fun='relu')\n",
        "  acertos_dict[k] = sum(result.values())/epoch"
      ],
      "execution_count": 52,
      "outputs": [
        {
          "output_type": "stream",
          "text": [
            "K 0\n"
          ],
          "name": "stdout"
        },
        {
          "output_type": "stream",
          "text": [
            "/usr/local/lib/python3.6/dist-packages/ipykernel_launcher.py:14: RuntimeWarning: overflow encountered in multiply\n",
            "  \n",
            "/usr/local/lib/python3.6/dist-packages/ipykernel_launcher.py:91: RuntimeWarning: overflow encountered in multiply\n",
            "/usr/local/lib/python3.6/dist-packages/ipykernel_launcher.py:99: RuntimeWarning: invalid value encountered in multiply\n"
          ],
          "name": "stderr"
        },
        {
          "output_type": "stream",
          "text": [
            "Epoch 0 : 1741 / 17500\n",
            "Epoch 1 : 1741 / 17500\n",
            "Epoch 2 : 1741 / 17500\n",
            "Epoch 3 : 1741 / 17500\n",
            "Epoch 4 : 1741 / 17500\n",
            "Epoch 5 : 1741 / 17500\n",
            "Epoch 6 : 1741 / 17500\n",
            "Epoch 7 : 1741 / 17500\n",
            "Epoch 8 : 1741 / 17500\n",
            "Epoch 9 : 1741 / 17500\n",
            "Epoch 10 : 1741 / 17500\n",
            "Epoch 11 : 1741 / 17500\n",
            "Epoch 12 : 1741 / 17500\n",
            "Epoch 13 : 1741 / 17500\n",
            "Epoch 14 : 1741 / 17500\n",
            "K 1\n",
            "Epoch 0 : 1693 / 17500\n",
            "Epoch 1 : 1693 / 17500\n",
            "Epoch 2 : 1693 / 17500\n",
            "Epoch 3 : 1693 / 17500\n",
            "Epoch 4 : 1693 / 17500\n",
            "Epoch 5 : 1693 / 17500\n",
            "Epoch 6 : 1693 / 17500\n",
            "Epoch 7 : 1693 / 17500\n",
            "Epoch 8 : 1693 / 17500\n",
            "Epoch 9 : 1693 / 17500\n",
            "Epoch 10 : 1693 / 17500\n",
            "Epoch 11 : 1693 / 17500\n",
            "Epoch 12 : 1693 / 17500\n",
            "Epoch 13 : 1693 / 17500\n",
            "Epoch 14 : 1693 / 17500\n",
            "K 2\n",
            "Epoch 0 : 3998 / 17500\n",
            "Epoch 1 : 3998 / 17500\n",
            "Epoch 2 : 3998 / 17500\n",
            "Epoch 3 : 3998 / 17500\n",
            "Epoch 4 : 3998 / 17500\n",
            "Epoch 5 : 3998 / 17500\n",
            "Epoch 6 : 3998 / 17500\n",
            "Epoch 7 : 3998 / 17500\n",
            "Epoch 8 : 3998 / 17500\n",
            "Epoch 9 : 3998 / 17500\n",
            "Epoch 10 : 3998 / 17500\n",
            "Epoch 11 : 3998 / 17500\n",
            "Epoch 12 : 3998 / 17500\n",
            "Epoch 13 : 3998 / 17500\n",
            "Epoch 14 : 3998 / 17500\n",
            "K 3\n",
            "Epoch 0 : 17500 / 17500\n",
            "Epoch 1 : 17500 / 17500\n",
            "Epoch 2 : 17500 / 17500\n",
            "Epoch 3 : 17500 / 17500\n",
            "Epoch 4 : 17500 / 17500\n",
            "Epoch 5 : 17500 / 17500\n",
            "Epoch 6 : 17500 / 17500\n",
            "Epoch 7 : 17500 / 17500\n",
            "Epoch 8 : 17500 / 17500\n",
            "Epoch 9 : 17500 / 17500\n",
            "Epoch 10 : 17500 / 17500\n",
            "Epoch 11 : 17500 / 17500\n",
            "Epoch 12 : 17500 / 17500\n",
            "Epoch 13 : 17500 / 17500\n",
            "Epoch 14 : 17500 / 17500\n"
          ],
          "name": "stdout"
        }
      ]
    },
    {
      "metadata": {
        "colab_type": "code",
        "id": "yEnFgKXLyT9x",
        "colab": {
          "base_uri": "https://localhost:8080/",
          "height": 173
        },
        "outputId": "be1a8cac-042e-4778-fad7-b0501fc5bf97"
      },
      "cell_type": "code",
      "source": [
        "teste7 = pd.DataFrame({\n",
        "    'K': np.arange(kf.get_n_splits(data)),\n",
        "    'Acertos': list(acertos_dict.values())\n",
        "})\n",
        "\n",
        "teste7"
      ],
      "execution_count": 53,
      "outputs": [
        {
          "output_type": "execute_result",
          "data": {
            "text/html": [
              "<div>\n",
              "<style scoped>\n",
              "    .dataframe tbody tr th:only-of-type {\n",
              "        vertical-align: middle;\n",
              "    }\n",
              "\n",
              "    .dataframe tbody tr th {\n",
              "        vertical-align: top;\n",
              "    }\n",
              "\n",
              "    .dataframe thead th {\n",
              "        text-align: right;\n",
              "    }\n",
              "</style>\n",
              "<table border=\"1\" class=\"dataframe\">\n",
              "  <thead>\n",
              "    <tr style=\"text-align: right;\">\n",
              "      <th></th>\n",
              "      <th>K</th>\n",
              "      <th>Acertos</th>\n",
              "    </tr>\n",
              "  </thead>\n",
              "  <tbody>\n",
              "    <tr>\n",
              "      <th>0</th>\n",
              "      <td>0</td>\n",
              "      <td>1741.0</td>\n",
              "    </tr>\n",
              "    <tr>\n",
              "      <th>1</th>\n",
              "      <td>1</td>\n",
              "      <td>1693.0</td>\n",
              "    </tr>\n",
              "    <tr>\n",
              "      <th>2</th>\n",
              "      <td>2</td>\n",
              "      <td>3998.0</td>\n",
              "    </tr>\n",
              "    <tr>\n",
              "      <th>3</th>\n",
              "      <td>3</td>\n",
              "      <td>17500.0</td>\n",
              "    </tr>\n",
              "  </tbody>\n",
              "</table>\n",
              "</div>"
            ],
            "text/plain": [
              "   K  Acertos\n",
              "0  0   1741.0\n",
              "1  1   1693.0\n",
              "2  2   3998.0\n",
              "3  3  17500.0"
            ]
          },
          "metadata": {
            "tags": []
          },
          "execution_count": 53
        }
      ]
    },
    {
      "metadata": {
        "colab_type": "code",
        "id": "im_Hxp1RyT9z",
        "colab": {
          "base_uri": "https://localhost:8080/",
          "height": 34
        },
        "outputId": "4d4026f9-50c4-43bc-f66a-6406f260493a"
      },
      "cell_type": "code",
      "source": [
        "media = teste7['Acertos'].mean()\n",
        "\n",
        "media"
      ],
      "execution_count": 54,
      "outputs": [
        {
          "output_type": "execute_result",
          "data": {
            "text/plain": [
              "6233.0"
            ]
          },
          "metadata": {
            "tags": []
          },
          "execution_count": 54
        }
      ]
    },
    {
      "metadata": {
        "colab_type": "code",
        "id": "xJjcjcWJ0yaE",
        "colab": {}
      },
      "cell_type": "code",
      "source": [
        "funcao_ativacao_list.append('relu')\n",
        "rede.append('rede 2')\n",
        "taxa_aprendizagem.append(at)\n",
        "medias.append(media)"
      ],
      "execution_count": 0,
      "outputs": []
    },
    {
      "metadata": {
        "colab_type": "text",
        "id": "wiAuaujHyT95"
      },
      "cell_type": "markdown",
      "source": [
        "#### Taxa de aprendizagem - 0.1"
      ]
    },
    {
      "metadata": {
        "colab_type": "code",
        "outputId": "0e0cdd35-e827-490b-99b7-638b30025bb8",
        "id": "sPFW9RXlyT96",
        "colab": {
          "base_uri": "https://localhost:8080/",
          "height": 1173
        }
      },
      "cell_type": "code",
      "source": [
        "net = Network(tamanho)\n",
        "acertos_dict = {}\n",
        "kf = KFold(n_splits=n_k)\n",
        "at = 0.1\n",
        "\n",
        "for i, index in enumerate(kf.split(data)):\n",
        "  train_index = index[0]\n",
        "  test_index = index[1]\n",
        "  \n",
        "  k = \"K {}\".format(i)\n",
        "  \n",
        "  print(k)\n",
        "  training_data = data[train_index[0]:train_index[-1]+1]\n",
        "  testing_data = data[test_index[0]:test_index[-1]+1]\n",
        "  \n",
        "  result = net.SGD(training_data, epoch, 10, at,test_data=testing_data, tipo_fun='relu')\n",
        "  acertos_dict[k] = sum(result.values())/epoch"
      ],
      "execution_count": 56,
      "outputs": [
        {
          "output_type": "stream",
          "text": [
            "K 0\n"
          ],
          "name": "stdout"
        },
        {
          "output_type": "stream",
          "text": [
            "/usr/local/lib/python3.6/dist-packages/ipykernel_launcher.py:99: RuntimeWarning: overflow encountered in multiply\n",
            "/usr/local/lib/python3.6/dist-packages/ipykernel_launcher.py:14: RuntimeWarning: overflow encountered in multiply\n",
            "  \n",
            "/usr/local/lib/python3.6/dist-packages/ipykernel_launcher.py:99: RuntimeWarning: invalid value encountered in multiply\n"
          ],
          "name": "stderr"
        },
        {
          "output_type": "stream",
          "text": [
            "Epoch 0 : 1741 / 17500\n",
            "Epoch 1 : 1741 / 17500\n",
            "Epoch 2 : 1741 / 17500\n",
            "Epoch 3 : 1741 / 17500\n",
            "Epoch 4 : 1741 / 17500\n",
            "Epoch 5 : 1741 / 17500\n",
            "Epoch 6 : 1741 / 17500\n",
            "Epoch 7 : 1741 / 17500\n",
            "Epoch 8 : 1741 / 17500\n",
            "Epoch 9 : 1741 / 17500\n",
            "Epoch 10 : 1741 / 17500\n",
            "Epoch 11 : 1741 / 17500\n",
            "Epoch 12 : 1741 / 17500\n",
            "Epoch 13 : 1741 / 17500\n",
            "Epoch 14 : 1741 / 17500\n",
            "K 1\n",
            "Epoch 0 : 1693 / 17500\n",
            "Epoch 1 : 1693 / 17500\n",
            "Epoch 2 : 1693 / 17500\n",
            "Epoch 3 : 1693 / 17500\n",
            "Epoch 4 : 1693 / 17500\n",
            "Epoch 5 : 1693 / 17500\n",
            "Epoch 6 : 1693 / 17500\n",
            "Epoch 7 : 1693 / 17500\n",
            "Epoch 8 : 1693 / 17500\n",
            "Epoch 9 : 1693 / 17500\n",
            "Epoch 10 : 1693 / 17500\n",
            "Epoch 11 : 1693 / 17500\n",
            "Epoch 12 : 1693 / 17500\n",
            "Epoch 13 : 1693 / 17500\n",
            "Epoch 14 : 1693 / 17500\n",
            "K 2\n",
            "Epoch 0 : 3998 / 17500\n",
            "Epoch 1 : 3998 / 17500\n",
            "Epoch 2 : 3998 / 17500\n",
            "Epoch 3 : 3998 / 17500\n",
            "Epoch 4 : 3998 / 17500\n",
            "Epoch 5 : 3998 / 17500\n",
            "Epoch 6 : 3998 / 17500\n",
            "Epoch 7 : 3998 / 17500\n",
            "Epoch 8 : 3998 / 17500\n",
            "Epoch 9 : 3998 / 17500\n",
            "Epoch 10 : 3998 / 17500\n",
            "Epoch 11 : 3998 / 17500\n",
            "Epoch 12 : 3998 / 17500\n",
            "Epoch 13 : 3998 / 17500\n",
            "Epoch 14 : 3998 / 17500\n",
            "K 3\n",
            "Epoch 0 : 17500 / 17500\n",
            "Epoch 1 : 17500 / 17500\n",
            "Epoch 2 : 17500 / 17500\n",
            "Epoch 3 : 17500 / 17500\n",
            "Epoch 4 : 17500 / 17500\n",
            "Epoch 5 : 17500 / 17500\n",
            "Epoch 6 : 17500 / 17500\n",
            "Epoch 7 : 17500 / 17500\n",
            "Epoch 8 : 17500 / 17500\n",
            "Epoch 9 : 17500 / 17500\n",
            "Epoch 10 : 17500 / 17500\n",
            "Epoch 11 : 17500 / 17500\n",
            "Epoch 12 : 17500 / 17500\n",
            "Epoch 13 : 17500 / 17500\n",
            "Epoch 14 : 17500 / 17500\n"
          ],
          "name": "stdout"
        }
      ]
    },
    {
      "metadata": {
        "colab_type": "code",
        "id": "InXPUWvSyT9-",
        "colab": {
          "base_uri": "https://localhost:8080/",
          "height": 173
        },
        "outputId": "1c456dd9-66e2-4156-ea38-43588e3ba942"
      },
      "cell_type": "code",
      "source": [
        "teste8 = pd.DataFrame({\n",
        "    'K': np.arange(kf.get_n_splits(data)),\n",
        "    'Acertos': list(acertos_dict.values())\n",
        "})\n",
        "\n",
        "teste8"
      ],
      "execution_count": 57,
      "outputs": [
        {
          "output_type": "execute_result",
          "data": {
            "text/html": [
              "<div>\n",
              "<style scoped>\n",
              "    .dataframe tbody tr th:only-of-type {\n",
              "        vertical-align: middle;\n",
              "    }\n",
              "\n",
              "    .dataframe tbody tr th {\n",
              "        vertical-align: top;\n",
              "    }\n",
              "\n",
              "    .dataframe thead th {\n",
              "        text-align: right;\n",
              "    }\n",
              "</style>\n",
              "<table border=\"1\" class=\"dataframe\">\n",
              "  <thead>\n",
              "    <tr style=\"text-align: right;\">\n",
              "      <th></th>\n",
              "      <th>K</th>\n",
              "      <th>Acertos</th>\n",
              "    </tr>\n",
              "  </thead>\n",
              "  <tbody>\n",
              "    <tr>\n",
              "      <th>0</th>\n",
              "      <td>0</td>\n",
              "      <td>1741.0</td>\n",
              "    </tr>\n",
              "    <tr>\n",
              "      <th>1</th>\n",
              "      <td>1</td>\n",
              "      <td>1693.0</td>\n",
              "    </tr>\n",
              "    <tr>\n",
              "      <th>2</th>\n",
              "      <td>2</td>\n",
              "      <td>3998.0</td>\n",
              "    </tr>\n",
              "    <tr>\n",
              "      <th>3</th>\n",
              "      <td>3</td>\n",
              "      <td>17500.0</td>\n",
              "    </tr>\n",
              "  </tbody>\n",
              "</table>\n",
              "</div>"
            ],
            "text/plain": [
              "   K  Acertos\n",
              "0  0   1741.0\n",
              "1  1   1693.0\n",
              "2  2   3998.0\n",
              "3  3  17500.0"
            ]
          },
          "metadata": {
            "tags": []
          },
          "execution_count": 57
        }
      ]
    },
    {
      "metadata": {
        "colab_type": "code",
        "id": "C-xbNT-wyT-D",
        "colab": {
          "base_uri": "https://localhost:8080/",
          "height": 34
        },
        "outputId": "28d2a5af-c22f-4d4f-943f-4facccb779fe"
      },
      "cell_type": "code",
      "source": [
        "media = teste8['Acertos'].mean()\n",
        "\n",
        "media"
      ],
      "execution_count": 58,
      "outputs": [
        {
          "output_type": "execute_result",
          "data": {
            "text/plain": [
              "6233.0"
            ]
          },
          "metadata": {
            "tags": []
          },
          "execution_count": 58
        }
      ]
    },
    {
      "metadata": {
        "colab_type": "code",
        "id": "51ihpE0p03S1",
        "colab": {}
      },
      "cell_type": "code",
      "source": [
        "funcao_ativacao_list.append('relu')\n",
        "rede.append('rede 2')\n",
        "taxa_aprendizagem.append(at)\n",
        "medias.append(media)"
      ],
      "execution_count": 0,
      "outputs": []
    },
    {
      "metadata": {
        "colab_type": "text",
        "id": "c5TDC1NmyT-F"
      },
      "cell_type": "markdown",
      "source": [
        "#### Taxa de aprendizagem - 0.001"
      ]
    },
    {
      "metadata": {
        "colab_type": "code",
        "outputId": "ae188523-4a43-40b9-8b05-cb91f8a09686",
        "id": "QfMfaz60yT-G",
        "colab": {
          "base_uri": "https://localhost:8080/",
          "height": 1173
        }
      },
      "cell_type": "code",
      "source": [
        "net = Network(tamanho)\n",
        "acertos_dict = {}\n",
        "kf = KFold(n_splits=n_k)\n",
        "at = 0.001\n",
        "\n",
        "for i, index in enumerate(kf.split(data)):\n",
        "  train_index = index[0]\n",
        "  test_index = index[1]\n",
        "  \n",
        "  k = \"K {}\".format(i)\n",
        "  \n",
        "  print(k)\n",
        "  training_data = data[train_index[0]:train_index[-1]+1]\n",
        "  testing_data = data[test_index[0]:test_index[-1]+1]\n",
        "  \n",
        "  result = net.SGD(training_data, epoch, 10, at,test_data=testing_data, tipo_fun='relu')\n",
        "  acertos_dict[k] = sum(result.values())/epoch"
      ],
      "execution_count": 60,
      "outputs": [
        {
          "output_type": "stream",
          "text": [
            "K 0\n"
          ],
          "name": "stdout"
        },
        {
          "output_type": "stream",
          "text": [
            "/usr/local/lib/python3.6/dist-packages/ipykernel_launcher.py:14: RuntimeWarning: overflow encountered in multiply\n",
            "  \n",
            "/usr/local/lib/python3.6/dist-packages/ipykernel_launcher.py:91: RuntimeWarning: overflow encountered in multiply\n",
            "/usr/local/lib/python3.6/dist-packages/ipykernel_launcher.py:99: RuntimeWarning: invalid value encountered in multiply\n"
          ],
          "name": "stderr"
        },
        {
          "output_type": "stream",
          "text": [
            "Epoch 0 : 1678 / 17500\n",
            "Epoch 1 : 1678 / 17500\n",
            "Epoch 2 : 1678 / 17500\n",
            "Epoch 3 : 1678 / 17500\n",
            "Epoch 4 : 1678 / 17500\n",
            "Epoch 5 : 1678 / 17500\n",
            "Epoch 6 : 1678 / 17500\n",
            "Epoch 7 : 1678 / 17500\n",
            "Epoch 8 : 1678 / 17500\n",
            "Epoch 9 : 1678 / 17500\n",
            "Epoch 10 : 1678 / 17500\n",
            "Epoch 11 : 1678 / 17500\n",
            "Epoch 12 : 1678 / 17500\n",
            "Epoch 13 : 1678 / 17500\n",
            "Epoch 14 : 1678 / 17500\n",
            "K 1\n",
            "Epoch 0 : 1695 / 17500\n",
            "Epoch 1 : 1695 / 17500\n",
            "Epoch 2 : 1695 / 17500\n",
            "Epoch 3 : 1695 / 17500\n",
            "Epoch 4 : 1695 / 17500\n",
            "Epoch 5 : 1695 / 17500\n",
            "Epoch 6 : 1695 / 17500\n",
            "Epoch 7 : 1695 / 17500\n",
            "Epoch 8 : 1695 / 17500\n",
            "Epoch 9 : 1695 / 17500\n",
            "Epoch 10 : 1695 / 17500\n",
            "Epoch 11 : 1695 / 17500\n",
            "Epoch 12 : 1695 / 17500\n",
            "Epoch 13 : 1695 / 17500\n",
            "Epoch 14 : 1695 / 17500\n",
            "K 2\n",
            "Epoch 0 : 1469 / 17500\n",
            "Epoch 1 : 1469 / 17500\n",
            "Epoch 2 : 1469 / 17500\n",
            "Epoch 3 : 1469 / 17500\n",
            "Epoch 4 : 1469 / 17500\n",
            "Epoch 5 : 1469 / 17500\n",
            "Epoch 6 : 1469 / 17500\n",
            "Epoch 7 : 1469 / 17500\n",
            "Epoch 8 : 1469 / 17500\n",
            "Epoch 9 : 1469 / 17500\n",
            "Epoch 10 : 1469 / 17500\n",
            "Epoch 11 : 1469 / 17500\n",
            "Epoch 12 : 1469 / 17500\n",
            "Epoch 13 : 1469 / 17500\n",
            "Epoch 14 : 1469 / 17500\n",
            "K 3\n",
            "Epoch 0 : 0 / 17500\n",
            "Epoch 1 : 0 / 17500\n",
            "Epoch 2 : 0 / 17500\n",
            "Epoch 3 : 0 / 17500\n",
            "Epoch 4 : 0 / 17500\n",
            "Epoch 5 : 0 / 17500\n",
            "Epoch 6 : 0 / 17500\n",
            "Epoch 7 : 0 / 17500\n",
            "Epoch 8 : 0 / 17500\n",
            "Epoch 9 : 0 / 17500\n",
            "Epoch 10 : 0 / 17500\n",
            "Epoch 11 : 0 / 17500\n",
            "Epoch 12 : 0 / 17500\n",
            "Epoch 13 : 0 / 17500\n",
            "Epoch 14 : 0 / 17500\n"
          ],
          "name": "stdout"
        }
      ]
    },
    {
      "metadata": {
        "colab_type": "code",
        "id": "AeYfJe6vyT-I",
        "colab": {
          "base_uri": "https://localhost:8080/",
          "height": 173
        },
        "outputId": "3e2edb7d-bb8a-4a4b-cf9e-63347709d479"
      },
      "cell_type": "code",
      "source": [
        "teste9 = pd.DataFrame({\n",
        "    'K': np.arange(kf.get_n_splits(data)),\n",
        "    'Acertos': list(acertos_dict.values())\n",
        "})\n",
        "\n",
        "teste9"
      ],
      "execution_count": 61,
      "outputs": [
        {
          "output_type": "execute_result",
          "data": {
            "text/html": [
              "<div>\n",
              "<style scoped>\n",
              "    .dataframe tbody tr th:only-of-type {\n",
              "        vertical-align: middle;\n",
              "    }\n",
              "\n",
              "    .dataframe tbody tr th {\n",
              "        vertical-align: top;\n",
              "    }\n",
              "\n",
              "    .dataframe thead th {\n",
              "        text-align: right;\n",
              "    }\n",
              "</style>\n",
              "<table border=\"1\" class=\"dataframe\">\n",
              "  <thead>\n",
              "    <tr style=\"text-align: right;\">\n",
              "      <th></th>\n",
              "      <th>K</th>\n",
              "      <th>Acertos</th>\n",
              "    </tr>\n",
              "  </thead>\n",
              "  <tbody>\n",
              "    <tr>\n",
              "      <th>0</th>\n",
              "      <td>0</td>\n",
              "      <td>1678.0</td>\n",
              "    </tr>\n",
              "    <tr>\n",
              "      <th>1</th>\n",
              "      <td>1</td>\n",
              "      <td>1695.0</td>\n",
              "    </tr>\n",
              "    <tr>\n",
              "      <th>2</th>\n",
              "      <td>2</td>\n",
              "      <td>1469.0</td>\n",
              "    </tr>\n",
              "    <tr>\n",
              "      <th>3</th>\n",
              "      <td>3</td>\n",
              "      <td>0.0</td>\n",
              "    </tr>\n",
              "  </tbody>\n",
              "</table>\n",
              "</div>"
            ],
            "text/plain": [
              "   K  Acertos\n",
              "0  0   1678.0\n",
              "1  1   1695.0\n",
              "2  2   1469.0\n",
              "3  3      0.0"
            ]
          },
          "metadata": {
            "tags": []
          },
          "execution_count": 61
        }
      ]
    },
    {
      "metadata": {
        "colab_type": "code",
        "id": "UxLeSYB3yT-L",
        "colab": {
          "base_uri": "https://localhost:8080/",
          "height": 34
        },
        "outputId": "def0ecc3-03ff-4118-aa71-935045336473"
      },
      "cell_type": "code",
      "source": [
        "media = teste9['Acertos'].mean()\n",
        "\n",
        "media"
      ],
      "execution_count": 62,
      "outputs": [
        {
          "output_type": "execute_result",
          "data": {
            "text/plain": [
              "1210.5"
            ]
          },
          "metadata": {
            "tags": []
          },
          "execution_count": 62
        }
      ]
    },
    {
      "metadata": {
        "colab_type": "code",
        "id": "8EHMwW_j08f5",
        "colab": {}
      },
      "cell_type": "code",
      "source": [
        "funcao_ativacao_list.append('relu')\n",
        "rede.append('rede 2')\n",
        "taxa_aprendizagem.append(at)\n",
        "medias.append(media)"
      ],
      "execution_count": 0,
      "outputs": []
    },
    {
      "metadata": {
        "colab_type": "text",
        "id": "G36F1UbFyT-N"
      },
      "cell_type": "markdown",
      "source": [
        "### Função ativação - Sigmoid"
      ]
    },
    {
      "metadata": {
        "colab_type": "text",
        "id": "tNQRqou0yT-O"
      },
      "cell_type": "markdown",
      "source": [
        "#### Taxa de aprendizagem - 0.5"
      ]
    },
    {
      "metadata": {
        "colab_type": "code",
        "id": "RP4yCZmqyT-O",
        "colab": {
          "base_uri": "https://localhost:8080/",
          "height": 1105
        },
        "outputId": "ea1df1eb-bfd1-49f1-ead2-91a1b5184866"
      },
      "cell_type": "code",
      "source": [
        "net = Network(tamanho)\n",
        "acertos_dict = {}\n",
        "kf = KFold(n_splits=n_k)\n",
        "at = 0.5\n",
        "\n",
        "for i, index in enumerate(kf.split(data)):\n",
        "  train_index = index[0]\n",
        "  test_index = index[1]\n",
        "  \n",
        "  k = \"K {}\".format(i)\n",
        "  \n",
        "  print(k)\n",
        "  training_data = data[train_index[0]:train_index[-1]+1]\n",
        "  testing_data = data[test_index[0]:test_index[-1]+1]\n",
        "  \n",
        "  result = net.SGD(training_data, epoch, 10, at,test_data=testing_data, tipo_fun='sigmoid')\n",
        "  acertos_dict[k] = sum(result.values())/epoch"
      ],
      "execution_count": 64,
      "outputs": [
        {
          "output_type": "stream",
          "text": [
            "K 0\n",
            "Epoch 0 : 1612 / 17500\n",
            "Epoch 1 : 1710 / 17500\n",
            "Epoch 2 : 1636 / 17500\n",
            "Epoch 3 : 1671 / 17500\n",
            "Epoch 4 : 1686 / 17500\n",
            "Epoch 5 : 1678 / 17500\n",
            "Epoch 6 : 1930 / 17500\n",
            "Epoch 7 : 1615 / 17500\n",
            "Epoch 8 : 1750 / 17500\n",
            "Epoch 9 : 1779 / 17500\n",
            "Epoch 10 : 1992 / 17500\n",
            "Epoch 11 : 1907 / 17500\n",
            "Epoch 12 : 1685 / 17500\n",
            "Epoch 13 : 1580 / 17500\n",
            "Epoch 14 : 1611 / 17500\n",
            "K 1\n",
            "Epoch 0 : 924 / 17500\n",
            "Epoch 1 : 1769 / 17500\n",
            "Epoch 2 : 2242 / 17500\n",
            "Epoch 3 : 2036 / 17500\n",
            "Epoch 4 : 1881 / 17500\n",
            "Epoch 5 : 1416 / 17500\n",
            "Epoch 6 : 1595 / 17500\n",
            "Epoch 7 : 1413 / 17500\n",
            "Epoch 8 : 1447 / 17500\n",
            "Epoch 9 : 1104 / 17500\n",
            "Epoch 10 : 1123 / 17500\n",
            "Epoch 11 : 1169 / 17500\n",
            "Epoch 12 : 1238 / 17500\n",
            "Epoch 13 : 1354 / 17500\n",
            "Epoch 14 : 1302 / 17500\n",
            "K 2\n",
            "Epoch 0 : 2556 / 17500\n",
            "Epoch 1 : 1874 / 17500\n",
            "Epoch 2 : 1914 / 17500\n",
            "Epoch 3 : 2121 / 17500\n",
            "Epoch 4 : 1576 / 17500\n",
            "Epoch 5 : 1202 / 17500\n",
            "Epoch 6 : 1687 / 17500\n",
            "Epoch 7 : 1824 / 17500\n",
            "Epoch 8 : 1689 / 17500\n",
            "Epoch 9 : 1874 / 17500\n",
            "Epoch 10 : 1861 / 17500\n",
            "Epoch 11 : 1716 / 17500\n",
            "Epoch 12 : 1989 / 17500\n",
            "Epoch 13 : 1794 / 17500\n",
            "Epoch 14 : 1688 / 17500\n",
            "K 3\n",
            "Epoch 0 : 88 / 17500\n",
            "Epoch 1 : 0 / 17500\n",
            "Epoch 2 : 0 / 17500\n",
            "Epoch 3 : 0 / 17500\n",
            "Epoch 4 : 0 / 17500\n",
            "Epoch 5 : 0 / 17500\n",
            "Epoch 6 : 0 / 17500\n",
            "Epoch 7 : 0 / 17500\n",
            "Epoch 8 : 0 / 17500\n",
            "Epoch 9 : 0 / 17500\n",
            "Epoch 10 : 0 / 17500\n",
            "Epoch 11 : 0 / 17500\n",
            "Epoch 12 : 0 / 17500\n",
            "Epoch 13 : 0 / 17500\n",
            "Epoch 14 : 0 / 17500\n"
          ],
          "name": "stdout"
        }
      ]
    },
    {
      "metadata": {
        "colab_type": "code",
        "id": "M6tpUySPyT-R",
        "colab": {
          "base_uri": "https://localhost:8080/",
          "height": 173
        },
        "outputId": "d164019e-7a6d-478d-b3f5-1916e0d8c830"
      },
      "cell_type": "code",
      "source": [
        "teste10 = pd.DataFrame({\n",
        "    'K': np.arange(kf.get_n_splits(data)),\n",
        "    'Acertos': list(acertos_dict.values())\n",
        "})\n",
        "\n",
        "teste10"
      ],
      "execution_count": 65,
      "outputs": [
        {
          "output_type": "execute_result",
          "data": {
            "text/html": [
              "<div>\n",
              "<style scoped>\n",
              "    .dataframe tbody tr th:only-of-type {\n",
              "        vertical-align: middle;\n",
              "    }\n",
              "\n",
              "    .dataframe tbody tr th {\n",
              "        vertical-align: top;\n",
              "    }\n",
              "\n",
              "    .dataframe thead th {\n",
              "        text-align: right;\n",
              "    }\n",
              "</style>\n",
              "<table border=\"1\" class=\"dataframe\">\n",
              "  <thead>\n",
              "    <tr style=\"text-align: right;\">\n",
              "      <th></th>\n",
              "      <th>K</th>\n",
              "      <th>Acertos</th>\n",
              "    </tr>\n",
              "  </thead>\n",
              "  <tbody>\n",
              "    <tr>\n",
              "      <th>0</th>\n",
              "      <td>0</td>\n",
              "      <td>1722.800000</td>\n",
              "    </tr>\n",
              "    <tr>\n",
              "      <th>1</th>\n",
              "      <td>1</td>\n",
              "      <td>1467.533333</td>\n",
              "    </tr>\n",
              "    <tr>\n",
              "      <th>2</th>\n",
              "      <td>2</td>\n",
              "      <td>1824.333333</td>\n",
              "    </tr>\n",
              "    <tr>\n",
              "      <th>3</th>\n",
              "      <td>3</td>\n",
              "      <td>5.866667</td>\n",
              "    </tr>\n",
              "  </tbody>\n",
              "</table>\n",
              "</div>"
            ],
            "text/plain": [
              "   K      Acertos\n",
              "0  0  1722.800000\n",
              "1  1  1467.533333\n",
              "2  2  1824.333333\n",
              "3  3     5.866667"
            ]
          },
          "metadata": {
            "tags": []
          },
          "execution_count": 65
        }
      ]
    },
    {
      "metadata": {
        "colab_type": "code",
        "id": "VT6sLQWIyT-S",
        "colab": {
          "base_uri": "https://localhost:8080/",
          "height": 34
        },
        "outputId": "4c63a7e6-0a7b-4ac7-f95a-e9c469179102"
      },
      "cell_type": "code",
      "source": [
        "media = teste10['Acertos'].mean()\n",
        "\n",
        "media"
      ],
      "execution_count": 66,
      "outputs": [
        {
          "output_type": "execute_result",
          "data": {
            "text/plain": [
              "1255.1333333333332"
            ]
          },
          "metadata": {
            "tags": []
          },
          "execution_count": 66
        }
      ]
    },
    {
      "metadata": {
        "colab_type": "code",
        "id": "dtS9PjiA0_lh",
        "colab": {}
      },
      "cell_type": "code",
      "source": [
        "funcao_ativacao_list.append('sigmoid')\n",
        "rede.append('rede 2')\n",
        "taxa_aprendizagem.append(at)\n",
        "medias.append(media)"
      ],
      "execution_count": 0,
      "outputs": []
    },
    {
      "metadata": {
        "colab_type": "text",
        "id": "9VfRf1KPyT-U"
      },
      "cell_type": "markdown",
      "source": [
        "#### Taxa de aprendizagem - 0.1"
      ]
    },
    {
      "metadata": {
        "colab_type": "code",
        "id": "w0vHk4OlyT-U",
        "colab": {
          "base_uri": "https://localhost:8080/",
          "height": 1105
        },
        "outputId": "54124a0f-8ba2-4f65-ee5d-fe4ea65a3d00"
      },
      "cell_type": "code",
      "source": [
        "net = Network(tamanho)\n",
        "acertos_dict = {}\n",
        "kf = KFold(n_splits=n_k)\n",
        "at = 0.1\n",
        "\n",
        "for i, index in enumerate(kf.split(data)):\n",
        "  train_index = index[0]\n",
        "  test_index = index[1]\n",
        "  \n",
        "  k = \"K {}\".format(i)\n",
        "  \n",
        "  print(k)\n",
        "  training_data = data[train_index[0]:train_index[-1]+1]\n",
        "  testing_data = data[test_index[0]:test_index[-1]+1]\n",
        "  \n",
        "  result = net.SGD(training_data, epoch, 10, at,test_data=testing_data, tipo_fun='sigmoid')\n",
        "  acertos_dict[k] = sum(result.values())/epoch"
      ],
      "execution_count": 68,
      "outputs": [
        {
          "output_type": "stream",
          "text": [
            "K 0\n",
            "Epoch 0 : 1419 / 17500\n",
            "Epoch 1 : 1511 / 17500\n",
            "Epoch 2 : 1598 / 17500\n",
            "Epoch 3 : 1561 / 17500\n",
            "Epoch 4 : 1455 / 17500\n",
            "Epoch 5 : 1430 / 17500\n",
            "Epoch 6 : 1446 / 17500\n",
            "Epoch 7 : 1446 / 17500\n",
            "Epoch 8 : 1463 / 17500\n",
            "Epoch 9 : 1477 / 17500\n",
            "Epoch 10 : 1470 / 17500\n",
            "Epoch 11 : 1489 / 17500\n",
            "Epoch 12 : 1524 / 17500\n",
            "Epoch 13 : 1565 / 17500\n",
            "Epoch 14 : 1588 / 17500\n",
            "K 1\n",
            "Epoch 0 : 1408 / 17500\n",
            "Epoch 1 : 1143 / 17500\n",
            "Epoch 2 : 1046 / 17500\n",
            "Epoch 3 : 1099 / 17500\n",
            "Epoch 4 : 1070 / 17500\n",
            "Epoch 5 : 1222 / 17500\n",
            "Epoch 6 : 1133 / 17500\n",
            "Epoch 7 : 1144 / 17500\n",
            "Epoch 8 : 1185 / 17500\n",
            "Epoch 9 : 1181 / 17500\n",
            "Epoch 10 : 1221 / 17500\n",
            "Epoch 11 : 1267 / 17500\n",
            "Epoch 12 : 1282 / 17500\n",
            "Epoch 13 : 1254 / 17500\n",
            "Epoch 14 : 1305 / 17500\n",
            "K 2\n",
            "Epoch 0 : 1035 / 17500\n",
            "Epoch 1 : 884 / 17500\n",
            "Epoch 2 : 1059 / 17500\n",
            "Epoch 3 : 984 / 17500\n",
            "Epoch 4 : 976 / 17500\n",
            "Epoch 5 : 965 / 17500\n",
            "Epoch 6 : 1028 / 17500\n",
            "Epoch 7 : 1050 / 17500\n",
            "Epoch 8 : 1077 / 17500\n",
            "Epoch 9 : 1075 / 17500\n",
            "Epoch 10 : 1089 / 17500\n",
            "Epoch 11 : 1108 / 17500\n",
            "Epoch 12 : 1141 / 17500\n",
            "Epoch 13 : 1082 / 17500\n",
            "Epoch 14 : 1191 / 17500\n",
            "K 3\n",
            "Epoch 0 : 0 / 17500\n",
            "Epoch 1 : 0 / 17500\n",
            "Epoch 2 : 0 / 17500\n",
            "Epoch 3 : 0 / 17500\n",
            "Epoch 4 : 18 / 17500\n",
            "Epoch 5 : 1812 / 17500\n",
            "Epoch 6 : 1952 / 17500\n",
            "Epoch 7 : 1919 / 17500\n",
            "Epoch 8 : 1970 / 17500\n",
            "Epoch 9 : 1980 / 17500\n",
            "Epoch 10 : 2005 / 17500\n",
            "Epoch 11 : 2077 / 17500\n",
            "Epoch 12 : 1964 / 17500\n",
            "Epoch 13 : 2008 / 17500\n",
            "Epoch 14 : 1985 / 17500\n"
          ],
          "name": "stdout"
        }
      ]
    },
    {
      "metadata": {
        "colab_type": "code",
        "id": "nN-XHAzFyT-W",
        "colab": {
          "base_uri": "https://localhost:8080/",
          "height": 173
        },
        "outputId": "3e2152ad-7385-484a-d93e-dd67dfe3688a"
      },
      "cell_type": "code",
      "source": [
        "teste11 = pd.DataFrame({\n",
        "    'K': np.arange(kf.get_n_splits(data)),\n",
        "    'Acertos': list(acertos_dict.values())\n",
        "})\n",
        "\n",
        "teste11"
      ],
      "execution_count": 69,
      "outputs": [
        {
          "output_type": "execute_result",
          "data": {
            "text/html": [
              "<div>\n",
              "<style scoped>\n",
              "    .dataframe tbody tr th:only-of-type {\n",
              "        vertical-align: middle;\n",
              "    }\n",
              "\n",
              "    .dataframe tbody tr th {\n",
              "        vertical-align: top;\n",
              "    }\n",
              "\n",
              "    .dataframe thead th {\n",
              "        text-align: right;\n",
              "    }\n",
              "</style>\n",
              "<table border=\"1\" class=\"dataframe\">\n",
              "  <thead>\n",
              "    <tr style=\"text-align: right;\">\n",
              "      <th></th>\n",
              "      <th>K</th>\n",
              "      <th>Acertos</th>\n",
              "    </tr>\n",
              "  </thead>\n",
              "  <tbody>\n",
              "    <tr>\n",
              "      <th>0</th>\n",
              "      <td>0</td>\n",
              "      <td>1496.133333</td>\n",
              "    </tr>\n",
              "    <tr>\n",
              "      <th>1</th>\n",
              "      <td>1</td>\n",
              "      <td>1197.333333</td>\n",
              "    </tr>\n",
              "    <tr>\n",
              "      <th>2</th>\n",
              "      <td>2</td>\n",
              "      <td>1049.600000</td>\n",
              "    </tr>\n",
              "    <tr>\n",
              "      <th>3</th>\n",
              "      <td>3</td>\n",
              "      <td>1312.666667</td>\n",
              "    </tr>\n",
              "  </tbody>\n",
              "</table>\n",
              "</div>"
            ],
            "text/plain": [
              "   K      Acertos\n",
              "0  0  1496.133333\n",
              "1  1  1197.333333\n",
              "2  2  1049.600000\n",
              "3  3  1312.666667"
            ]
          },
          "metadata": {
            "tags": []
          },
          "execution_count": 69
        }
      ]
    },
    {
      "metadata": {
        "colab_type": "code",
        "id": "Yu-NqU1oyT-Y",
        "colab": {
          "base_uri": "https://localhost:8080/",
          "height": 34
        },
        "outputId": "e6e725ad-8d90-48a1-851d-d0e77d0f1d08"
      },
      "cell_type": "code",
      "source": [
        "media = teste11['Acertos'].mean()\n",
        "\n",
        "media"
      ],
      "execution_count": 70,
      "outputs": [
        {
          "output_type": "execute_result",
          "data": {
            "text/plain": [
              "1263.9333333333334"
            ]
          },
          "metadata": {
            "tags": []
          },
          "execution_count": 70
        }
      ]
    },
    {
      "metadata": {
        "colab_type": "code",
        "id": "Dl9WHODO1Ftr",
        "colab": {}
      },
      "cell_type": "code",
      "source": [
        "funcao_ativacao_list.append('sigmoid')\n",
        "rede.append('rede 2')\n",
        "taxa_aprendizagem.append(at)\n",
        "medias.append(media)"
      ],
      "execution_count": 0,
      "outputs": []
    },
    {
      "metadata": {
        "colab_type": "text",
        "id": "D2fNRSEZyT-b"
      },
      "cell_type": "markdown",
      "source": [
        "#### Taxa de aprendizagem - 0.001"
      ]
    },
    {
      "metadata": {
        "colab_type": "code",
        "id": "6pzdNSgJyT-b",
        "colab": {
          "base_uri": "https://localhost:8080/",
          "height": 1105
        },
        "outputId": "7fc1e115-1231-4e4b-ada4-5154294a9372"
      },
      "cell_type": "code",
      "source": [
        "net = Network(tamanho)\n",
        "acertos_dict = {}\n",
        "kf = KFold(n_splits=n_k)\n",
        "at = 0.001\n",
        "\n",
        "for i, index in enumerate(kf.split(data)):\n",
        "  train_index = index[0]\n",
        "  test_index = index[1]\n",
        "  \n",
        "  k = \"K {}\".format(i)\n",
        "  \n",
        "  print(k)\n",
        "  training_data = data[train_index[0]:train_index[-1]+1]\n",
        "  testing_data = data[test_index[0]:test_index[-1]+1]\n",
        "  \n",
        "  result = net.SGD(training_data, epoch, 10, at,test_data=testing_data, tipo_fun='sigmoid')\n",
        "  acertos_dict[k] = sum(result.values())/epoch"
      ],
      "execution_count": 12,
      "outputs": [
        {
          "output_type": "stream",
          "text": [
            "K 0\n",
            "Epoch 0 : 1725 / 17500\n",
            "Epoch 1 : 1611 / 17500\n",
            "Epoch 2 : 1580 / 17500\n",
            "Epoch 3 : 1575 / 17500\n",
            "Epoch 4 : 1571 / 17500\n",
            "Epoch 5 : 1567 / 17500\n",
            "Epoch 6 : 1554 / 17500\n",
            "Epoch 7 : 1554 / 17500\n",
            "Epoch 8 : 1553 / 17500\n",
            "Epoch 9 : 1549 / 17500\n",
            "Epoch 10 : 1545 / 17500\n",
            "Epoch 11 : 1546 / 17500\n",
            "Epoch 12 : 1541 / 17500\n",
            "Epoch 13 : 1547 / 17500\n",
            "Epoch 14 : 1546 / 17500\n",
            "K 1\n",
            "Epoch 0 : 1518 / 17500\n",
            "Epoch 1 : 1538 / 17500\n",
            "Epoch 2 : 1551 / 17500\n",
            "Epoch 3 : 1562 / 17500\n",
            "Epoch 4 : 1582 / 17500\n",
            "Epoch 5 : 1600 / 17500\n",
            "Epoch 6 : 1618 / 17500\n",
            "Epoch 7 : 1620 / 17500\n",
            "Epoch 8 : 1625 / 17500\n",
            "Epoch 9 : 1636 / 17500\n",
            "Epoch 10 : 1636 / 17500\n",
            "Epoch 11 : 1634 / 17500\n",
            "Epoch 12 : 1645 / 17500\n",
            "Epoch 13 : 1648 / 17500\n",
            "Epoch 14 : 1653 / 17500\n",
            "K 2\n",
            "Epoch 0 : 1673 / 17500\n",
            "Epoch 1 : 1677 / 17500\n",
            "Epoch 2 : 1673 / 17500\n",
            "Epoch 3 : 1684 / 17500\n",
            "Epoch 4 : 1693 / 17500\n",
            "Epoch 5 : 1686 / 17500\n",
            "Epoch 6 : 1692 / 17500\n",
            "Epoch 7 : 1699 / 17500\n",
            "Epoch 8 : 1702 / 17500\n",
            "Epoch 9 : 1708 / 17500\n",
            "Epoch 10 : 1712 / 17500\n",
            "Epoch 11 : 1722 / 17500\n",
            "Epoch 12 : 1727 / 17500\n",
            "Epoch 13 : 1725 / 17500\n",
            "Epoch 14 : 1726 / 17500\n",
            "K 3\n",
            "Epoch 0 : 2245 / 17500\n",
            "Epoch 1 : 2308 / 17500\n",
            "Epoch 2 : 2207 / 17500\n",
            "Epoch 3 : 2113 / 17500\n",
            "Epoch 4 : 2020 / 17500\n",
            "Epoch 5 : 1966 / 17500\n",
            "Epoch 6 : 1899 / 17500\n",
            "Epoch 7 : 1817 / 17500\n",
            "Epoch 8 : 1747 / 17500\n",
            "Epoch 9 : 1679 / 17500\n",
            "Epoch 10 : 1580 / 17500\n",
            "Epoch 11 : 1506 / 17500\n",
            "Epoch 12 : 1438 / 17500\n",
            "Epoch 13 : 1394 / 17500\n",
            "Epoch 14 : 1337 / 17500\n"
          ],
          "name": "stdout"
        }
      ]
    },
    {
      "metadata": {
        "colab_type": "code",
        "id": "cyWoC-4OyT-d",
        "colab": {
          "base_uri": "https://localhost:8080/",
          "height": 173
        },
        "outputId": "2f9026d1-5e21-4a9a-fe93-2a41945380ec"
      },
      "cell_type": "code",
      "source": [
        "teste12 = pd.DataFrame({\n",
        "    'K': np.arange(kf.get_n_splits(data)),\n",
        "    'Acertos': list(acertos_dict.values())\n",
        "})\n",
        "\n",
        "teste12"
      ],
      "execution_count": 13,
      "outputs": [
        {
          "output_type": "execute_result",
          "data": {
            "text/html": [
              "<div>\n",
              "<style scoped>\n",
              "    .dataframe tbody tr th:only-of-type {\n",
              "        vertical-align: middle;\n",
              "    }\n",
              "\n",
              "    .dataframe tbody tr th {\n",
              "        vertical-align: top;\n",
              "    }\n",
              "\n",
              "    .dataframe thead th {\n",
              "        text-align: right;\n",
              "    }\n",
              "</style>\n",
              "<table border=\"1\" class=\"dataframe\">\n",
              "  <thead>\n",
              "    <tr style=\"text-align: right;\">\n",
              "      <th></th>\n",
              "      <th>K</th>\n",
              "      <th>Acertos</th>\n",
              "    </tr>\n",
              "  </thead>\n",
              "  <tbody>\n",
              "    <tr>\n",
              "      <th>0</th>\n",
              "      <td>0</td>\n",
              "      <td>1570.933333</td>\n",
              "    </tr>\n",
              "    <tr>\n",
              "      <th>1</th>\n",
              "      <td>1</td>\n",
              "      <td>1604.400000</td>\n",
              "    </tr>\n",
              "    <tr>\n",
              "      <th>2</th>\n",
              "      <td>2</td>\n",
              "      <td>1699.933333</td>\n",
              "    </tr>\n",
              "    <tr>\n",
              "      <th>3</th>\n",
              "      <td>3</td>\n",
              "      <td>1817.066667</td>\n",
              "    </tr>\n",
              "  </tbody>\n",
              "</table>\n",
              "</div>"
            ],
            "text/plain": [
              "   K      Acertos\n",
              "0  0  1570.933333\n",
              "1  1  1604.400000\n",
              "2  2  1699.933333\n",
              "3  3  1817.066667"
            ]
          },
          "metadata": {
            "tags": []
          },
          "execution_count": 13
        }
      ]
    },
    {
      "metadata": {
        "colab_type": "code",
        "id": "fvFfFFUxyT-f",
        "colab": {
          "base_uri": "https://localhost:8080/",
          "height": 34
        },
        "outputId": "273141ed-5fb2-4c97-87d9-a48e8e246668"
      },
      "cell_type": "code",
      "source": [
        "media = teste12['Acertos'].mean()\n",
        "\n",
        "media"
      ],
      "execution_count": 14,
      "outputs": [
        {
          "output_type": "execute_result",
          "data": {
            "text/plain": [
              "1673.0833333333333"
            ]
          },
          "metadata": {
            "tags": []
          },
          "execution_count": 14
        }
      ]
    },
    {
      "metadata": {
        "colab_type": "code",
        "id": "saIeydI11IMk",
        "colab": {}
      },
      "cell_type": "code",
      "source": [
        "funcao_ativacao_list.append('sigmoid')\n",
        "rede.append('rede 2')\n",
        "taxa_aprendizagem.append(at)\n",
        "medias.append(media)"
      ],
      "execution_count": 0,
      "outputs": []
    },
    {
      "metadata": {
        "colab_type": "text",
        "id": "y1bgXfBQ2LpX"
      },
      "cell_type": "markdown",
      "source": [
        "## Rede 3 -> Configuração 784-15-10"
      ]
    },
    {
      "metadata": {
        "colab_type": "code",
        "id": "nOGKyb3j2LpZ",
        "colab": {}
      },
      "cell_type": "code",
      "source": [
        "tamanho = [784, 15, 10]"
      ],
      "execution_count": 0,
      "outputs": []
    },
    {
      "metadata": {
        "colab_type": "text",
        "id": "Ug82ZoM12Lpb"
      },
      "cell_type": "markdown",
      "source": [
        "### Função ativação - Relu"
      ]
    },
    {
      "metadata": {
        "colab_type": "text",
        "id": "4Slyqt2f2Lpc"
      },
      "cell_type": "markdown",
      "source": [
        "#### Taxa de aprendizagem - 0.5"
      ]
    },
    {
      "metadata": {
        "colab_type": "code",
        "id": "Y9Cj8B7f2Lpd",
        "colab": {
          "base_uri": "https://localhost:8080/",
          "height": 1173
        },
        "outputId": "3280fc96-bbcb-4e43-da3e-a48b536e4d18"
      },
      "cell_type": "code",
      "source": [
        "net = Network(tamanho)\n",
        "acertos_dict = {}\n",
        "kf = KFold(n_splits=n_k)\n",
        "at = 0.5\n",
        "\n",
        "for i, index in enumerate(kf.split(data)):\n",
        "  train_index = index[0]\n",
        "  test_index = index[1]\n",
        "  \n",
        "  k = \"K {}\".format(i)\n",
        "  \n",
        "  print(k)\n",
        "  training_data = data[train_index[0]:train_index[-1]+1]\n",
        "  testing_data = data[test_index[0]:test_index[-1]+1]\n",
        "  \n",
        "  result = net.SGD(training_data, epoch, 10, at,test_data=testing_data, tipo_fun='relu')\n",
        "  acertos_dict[k] = sum(result.values())/epoch"
      ],
      "execution_count": 17,
      "outputs": [
        {
          "output_type": "stream",
          "text": [
            "K 0\n"
          ],
          "name": "stdout"
        },
        {
          "output_type": "stream",
          "text": [
            "/usr/local/lib/python3.6/dist-packages/ipykernel_launcher.py:91: RuntimeWarning: overflow encountered in multiply\n",
            "/usr/local/lib/python3.6/dist-packages/ipykernel_launcher.py:99: RuntimeWarning: invalid value encountered in multiply\n",
            "/usr/local/lib/python3.6/dist-packages/ipykernel_launcher.py:14: RuntimeWarning: overflow encountered in multiply\n",
            "  \n"
          ],
          "name": "stderr"
        },
        {
          "output_type": "stream",
          "text": [
            "Epoch 0 : 1741 / 17500\n",
            "Epoch 1 : 1741 / 17500\n",
            "Epoch 2 : 1741 / 17500\n",
            "Epoch 3 : 1741 / 17500\n",
            "Epoch 4 : 1741 / 17500\n",
            "Epoch 5 : 1741 / 17500\n",
            "Epoch 6 : 1741 / 17500\n",
            "Epoch 7 : 1741 / 17500\n",
            "Epoch 8 : 1741 / 17500\n",
            "Epoch 9 : 1741 / 17500\n",
            "Epoch 10 : 1741 / 17500\n",
            "Epoch 11 : 1741 / 17500\n",
            "Epoch 12 : 1741 / 17500\n",
            "Epoch 13 : 1741 / 17500\n",
            "Epoch 14 : 1741 / 17500\n",
            "K 1\n",
            "Epoch 0 : 1693 / 17500\n",
            "Epoch 1 : 1693 / 17500\n",
            "Epoch 2 : 1693 / 17500\n",
            "Epoch 3 : 1693 / 17500\n",
            "Epoch 4 : 1693 / 17500\n",
            "Epoch 5 : 1693 / 17500\n",
            "Epoch 6 : 1693 / 17500\n",
            "Epoch 7 : 1693 / 17500\n",
            "Epoch 8 : 1693 / 17500\n",
            "Epoch 9 : 1693 / 17500\n",
            "Epoch 10 : 1693 / 17500\n",
            "Epoch 11 : 1693 / 17500\n",
            "Epoch 12 : 1693 / 17500\n",
            "Epoch 13 : 1693 / 17500\n",
            "Epoch 14 : 1693 / 17500\n",
            "K 2\n",
            "Epoch 0 : 3998 / 17500\n",
            "Epoch 1 : 3998 / 17500\n",
            "Epoch 2 : 3998 / 17500\n",
            "Epoch 3 : 3998 / 17500\n",
            "Epoch 4 : 3998 / 17500\n",
            "Epoch 5 : 3998 / 17500\n",
            "Epoch 6 : 3998 / 17500\n",
            "Epoch 7 : 3998 / 17500\n",
            "Epoch 8 : 3998 / 17500\n",
            "Epoch 9 : 3998 / 17500\n",
            "Epoch 10 : 3998 / 17500\n",
            "Epoch 11 : 3998 / 17500\n",
            "Epoch 12 : 3998 / 17500\n",
            "Epoch 13 : 3998 / 17500\n",
            "Epoch 14 : 3998 / 17500\n",
            "K 3\n",
            "Epoch 0 : 17500 / 17500\n",
            "Epoch 1 : 17500 / 17500\n",
            "Epoch 2 : 17500 / 17500\n",
            "Epoch 3 : 17500 / 17500\n",
            "Epoch 4 : 17500 / 17500\n",
            "Epoch 5 : 17500 / 17500\n",
            "Epoch 6 : 17500 / 17500\n",
            "Epoch 7 : 17500 / 17500\n",
            "Epoch 8 : 17500 / 17500\n",
            "Epoch 9 : 17500 / 17500\n",
            "Epoch 10 : 17500 / 17500\n",
            "Epoch 11 : 17500 / 17500\n",
            "Epoch 12 : 17500 / 17500\n",
            "Epoch 13 : 17500 / 17500\n",
            "Epoch 14 : 17500 / 17500\n"
          ],
          "name": "stdout"
        }
      ]
    },
    {
      "metadata": {
        "colab_type": "code",
        "id": "HIz8KALg2Lpg",
        "colab": {
          "base_uri": "https://localhost:8080/",
          "height": 173
        },
        "outputId": "bc7d8c96-8071-49f5-9db8-fc5e7d36073b"
      },
      "cell_type": "code",
      "source": [
        "teste7 = pd.DataFrame({\n",
        "    'K': np.arange(kf.get_n_splits(data)),\n",
        "    'Acertos': list(acertos_dict.values())\n",
        "})\n",
        "\n",
        "teste7"
      ],
      "execution_count": 18,
      "outputs": [
        {
          "output_type": "execute_result",
          "data": {
            "text/html": [
              "<div>\n",
              "<style scoped>\n",
              "    .dataframe tbody tr th:only-of-type {\n",
              "        vertical-align: middle;\n",
              "    }\n",
              "\n",
              "    .dataframe tbody tr th {\n",
              "        vertical-align: top;\n",
              "    }\n",
              "\n",
              "    .dataframe thead th {\n",
              "        text-align: right;\n",
              "    }\n",
              "</style>\n",
              "<table border=\"1\" class=\"dataframe\">\n",
              "  <thead>\n",
              "    <tr style=\"text-align: right;\">\n",
              "      <th></th>\n",
              "      <th>K</th>\n",
              "      <th>Acertos</th>\n",
              "    </tr>\n",
              "  </thead>\n",
              "  <tbody>\n",
              "    <tr>\n",
              "      <th>0</th>\n",
              "      <td>0</td>\n",
              "      <td>1741.0</td>\n",
              "    </tr>\n",
              "    <tr>\n",
              "      <th>1</th>\n",
              "      <td>1</td>\n",
              "      <td>1693.0</td>\n",
              "    </tr>\n",
              "    <tr>\n",
              "      <th>2</th>\n",
              "      <td>2</td>\n",
              "      <td>3998.0</td>\n",
              "    </tr>\n",
              "    <tr>\n",
              "      <th>3</th>\n",
              "      <td>3</td>\n",
              "      <td>17500.0</td>\n",
              "    </tr>\n",
              "  </tbody>\n",
              "</table>\n",
              "</div>"
            ],
            "text/plain": [
              "   K  Acertos\n",
              "0  0   1741.0\n",
              "1  1   1693.0\n",
              "2  2   3998.0\n",
              "3  3  17500.0"
            ]
          },
          "metadata": {
            "tags": []
          },
          "execution_count": 18
        }
      ]
    },
    {
      "metadata": {
        "colab_type": "code",
        "id": "r1Miun482Lpp",
        "colab": {
          "base_uri": "https://localhost:8080/",
          "height": 34
        },
        "outputId": "a170637c-8956-449b-b46e-3ef4a1b3e247"
      },
      "cell_type": "code",
      "source": [
        "media = teste7['Acertos'].mean()\n",
        "\n",
        "media"
      ],
      "execution_count": 19,
      "outputs": [
        {
          "output_type": "execute_result",
          "data": {
            "text/plain": [
              "6233.0"
            ]
          },
          "metadata": {
            "tags": []
          },
          "execution_count": 19
        }
      ]
    },
    {
      "metadata": {
        "colab_type": "code",
        "id": "1f73pNrZ2Lps",
        "colab": {}
      },
      "cell_type": "code",
      "source": [
        "funcao_ativacao_list.append('relu')\n",
        "rede.append('rede 3')\n",
        "taxa_aprendizagem.append(at)\n",
        "medias.append(media)"
      ],
      "execution_count": 0,
      "outputs": []
    },
    {
      "metadata": {
        "colab_type": "text",
        "id": "Ff06cw9e2Lpv"
      },
      "cell_type": "markdown",
      "source": [
        "#### Taxa de aprendizagem - 0.1"
      ]
    },
    {
      "metadata": {
        "colab_type": "code",
        "outputId": "bc26bd96-f304-4b2a-b5e2-3aed06221c83",
        "id": "L2Mj3Hk32Lpx",
        "colab": {
          "base_uri": "https://localhost:8080/",
          "height": 1173
        }
      },
      "cell_type": "code",
      "source": [
        "net = Network(tamanho)\n",
        "acertos_dict = {}\n",
        "kf = KFold(n_splits=n_k)\n",
        "at = 0.1\n",
        "\n",
        "for i, index in enumerate(kf.split(data)):\n",
        "  train_index = index[0]\n",
        "  test_index = index[1]\n",
        "  \n",
        "  k = \"K {}\".format(i)\n",
        "  \n",
        "  print(k)\n",
        "  training_data = data[train_index[0]:train_index[-1]+1]\n",
        "  testing_data = data[test_index[0]:test_index[-1]+1]\n",
        "  \n",
        "  result = net.SGD(training_data, epoch, 10, at,test_data=testing_data, tipo_fun='relu')\n",
        "  acertos_dict[k] = sum(result.values())/epoch"
      ],
      "execution_count": 10,
      "outputs": [
        {
          "output_type": "stream",
          "text": [
            "K 0\n"
          ],
          "name": "stdout"
        },
        {
          "output_type": "stream",
          "text": [
            "/usr/local/lib/python3.6/dist-packages/ipykernel_launcher.py:14: RuntimeWarning: overflow encountered in multiply\n",
            "  \n",
            "/usr/local/lib/python3.6/dist-packages/ipykernel_launcher.py:91: RuntimeWarning: overflow encountered in multiply\n",
            "/usr/local/lib/python3.6/dist-packages/ipykernel_launcher.py:99: RuntimeWarning: invalid value encountered in multiply\n"
          ],
          "name": "stderr"
        },
        {
          "output_type": "stream",
          "text": [
            "Epoch 0 : 1741 / 17500\n",
            "Epoch 1 : 1741 / 17500\n",
            "Epoch 2 : 1741 / 17500\n",
            "Epoch 3 : 1741 / 17500\n",
            "Epoch 4 : 1741 / 17500\n",
            "Epoch 5 : 1741 / 17500\n",
            "Epoch 6 : 1741 / 17500\n",
            "Epoch 7 : 1741 / 17500\n",
            "Epoch 8 : 1741 / 17500\n",
            "Epoch 9 : 1741 / 17500\n",
            "Epoch 10 : 1741 / 17500\n",
            "Epoch 11 : 1741 / 17500\n",
            "Epoch 12 : 1741 / 17500\n",
            "Epoch 13 : 1741 / 17500\n",
            "Epoch 14 : 1741 / 17500\n",
            "K 1\n",
            "Epoch 0 : 1693 / 17500\n",
            "Epoch 1 : 1693 / 17500\n",
            "Epoch 2 : 1693 / 17500\n",
            "Epoch 3 : 1693 / 17500\n",
            "Epoch 4 : 1693 / 17500\n",
            "Epoch 5 : 1693 / 17500\n",
            "Epoch 6 : 1693 / 17500\n",
            "Epoch 7 : 1693 / 17500\n",
            "Epoch 8 : 1693 / 17500\n",
            "Epoch 9 : 1693 / 17500\n",
            "Epoch 10 : 1693 / 17500\n",
            "Epoch 11 : 1693 / 17500\n",
            "Epoch 12 : 1693 / 17500\n",
            "Epoch 13 : 1693 / 17500\n",
            "Epoch 14 : 1693 / 17500\n",
            "K 2\n",
            "Epoch 0 : 3998 / 17500\n",
            "Epoch 1 : 3998 / 17500\n",
            "Epoch 2 : 3998 / 17500\n",
            "Epoch 3 : 3998 / 17500\n",
            "Epoch 4 : 3998 / 17500\n",
            "Epoch 5 : 3998 / 17500\n",
            "Epoch 6 : 3998 / 17500\n",
            "Epoch 7 : 3998 / 17500\n",
            "Epoch 8 : 3998 / 17500\n",
            "Epoch 9 : 3998 / 17500\n",
            "Epoch 10 : 3998 / 17500\n",
            "Epoch 11 : 3998 / 17500\n",
            "Epoch 12 : 3998 / 17500\n",
            "Epoch 13 : 3998 / 17500\n",
            "Epoch 14 : 3998 / 17500\n",
            "K 3\n",
            "Epoch 0 : 17500 / 17500\n",
            "Epoch 1 : 17500 / 17500\n",
            "Epoch 2 : 17500 / 17500\n",
            "Epoch 3 : 17500 / 17500\n",
            "Epoch 4 : 17500 / 17500\n",
            "Epoch 5 : 17500 / 17500\n",
            "Epoch 6 : 17500 / 17500\n",
            "Epoch 7 : 17500 / 17500\n",
            "Epoch 8 : 17500 / 17500\n",
            "Epoch 9 : 17500 / 17500\n",
            "Epoch 10 : 17500 / 17500\n",
            "Epoch 11 : 17500 / 17500\n",
            "Epoch 12 : 17500 / 17500\n",
            "Epoch 13 : 17500 / 17500\n",
            "Epoch 14 : 17500 / 17500\n"
          ],
          "name": "stdout"
        }
      ]
    },
    {
      "metadata": {
        "colab_type": "code",
        "id": "dWBPIofo2Lp5",
        "colab": {
          "base_uri": "https://localhost:8080/",
          "height": 173
        },
        "outputId": "f170bdbf-0535-4565-bfe4-cf09541da88c"
      },
      "cell_type": "code",
      "source": [
        "teste8 = pd.DataFrame({\n",
        "    'K': np.arange(kf.get_n_splits(data)),\n",
        "    'Acertos': list(acertos_dict.values())\n",
        "})\n",
        "\n",
        "teste8"
      ],
      "execution_count": 11,
      "outputs": [
        {
          "output_type": "execute_result",
          "data": {
            "text/html": [
              "<div>\n",
              "<style scoped>\n",
              "    .dataframe tbody tr th:only-of-type {\n",
              "        vertical-align: middle;\n",
              "    }\n",
              "\n",
              "    .dataframe tbody tr th {\n",
              "        vertical-align: top;\n",
              "    }\n",
              "\n",
              "    .dataframe thead th {\n",
              "        text-align: right;\n",
              "    }\n",
              "</style>\n",
              "<table border=\"1\" class=\"dataframe\">\n",
              "  <thead>\n",
              "    <tr style=\"text-align: right;\">\n",
              "      <th></th>\n",
              "      <th>K</th>\n",
              "      <th>Acertos</th>\n",
              "    </tr>\n",
              "  </thead>\n",
              "  <tbody>\n",
              "    <tr>\n",
              "      <th>0</th>\n",
              "      <td>0</td>\n",
              "      <td>1741.0</td>\n",
              "    </tr>\n",
              "    <tr>\n",
              "      <th>1</th>\n",
              "      <td>1</td>\n",
              "      <td>1693.0</td>\n",
              "    </tr>\n",
              "    <tr>\n",
              "      <th>2</th>\n",
              "      <td>2</td>\n",
              "      <td>3998.0</td>\n",
              "    </tr>\n",
              "    <tr>\n",
              "      <th>3</th>\n",
              "      <td>3</td>\n",
              "      <td>17500.0</td>\n",
              "    </tr>\n",
              "  </tbody>\n",
              "</table>\n",
              "</div>"
            ],
            "text/plain": [
              "   K  Acertos\n",
              "0  0   1741.0\n",
              "1  1   1693.0\n",
              "2  2   3998.0\n",
              "3  3  17500.0"
            ]
          },
          "metadata": {
            "tags": []
          },
          "execution_count": 11
        }
      ]
    },
    {
      "metadata": {
        "colab_type": "code",
        "id": "Npf2dPqB2Lp9",
        "colab": {
          "base_uri": "https://localhost:8080/",
          "height": 34
        },
        "outputId": "6438e6e9-68b0-4bd8-9615-0276b364f794"
      },
      "cell_type": "code",
      "source": [
        "media = teste8['Acertos'].mean()\n",
        "\n",
        "media"
      ],
      "execution_count": 12,
      "outputs": [
        {
          "output_type": "execute_result",
          "data": {
            "text/plain": [
              "6233.0"
            ]
          },
          "metadata": {
            "tags": []
          },
          "execution_count": 12
        }
      ]
    },
    {
      "metadata": {
        "colab_type": "code",
        "id": "cIXb4KAs2Lp-",
        "colab": {}
      },
      "cell_type": "code",
      "source": [
        "funcao_ativacao_list.append('relu')\n",
        "rede.append('rede 3')\n",
        "taxa_aprendizagem.append(at)\n",
        "medias.append(media)"
      ],
      "execution_count": 0,
      "outputs": []
    },
    {
      "metadata": {
        "colab_type": "text",
        "id": "uP4xv9wX2LqA"
      },
      "cell_type": "markdown",
      "source": [
        "#### Taxa de aprendizagem - 0.001"
      ]
    },
    {
      "metadata": {
        "colab_type": "code",
        "outputId": "b597562e-b6d2-410d-dedf-397832062122",
        "id": "FAi1dFMZ2LqA",
        "colab": {
          "base_uri": "https://localhost:8080/",
          "height": 1173
        }
      },
      "cell_type": "code",
      "source": [
        "net = Network(tamanho)\n",
        "acertos_dict = {}\n",
        "kf = KFold(n_splits=n_k)\n",
        "at = 0.001\n",
        "\n",
        "for i, index in enumerate(kf.split(data)):\n",
        "  train_index = index[0]\n",
        "  test_index = index[1]\n",
        "  \n",
        "  k = \"K {}\".format(i)\n",
        "  \n",
        "  print(k)\n",
        "  training_data = data[train_index[0]:train_index[-1]+1]\n",
        "  testing_data = data[test_index[0]:test_index[-1]+1]\n",
        "  \n",
        "  result = net.SGD(training_data, epoch, 10, at,test_data=testing_data, tipo_fun='relu')\n",
        "  acertos_dict[k] = sum(result.values())/epoch"
      ],
      "execution_count": 14,
      "outputs": [
        {
          "output_type": "stream",
          "text": [
            "K 0\n"
          ],
          "name": "stdout"
        },
        {
          "output_type": "stream",
          "text": [
            "/usr/local/lib/python3.6/dist-packages/ipykernel_launcher.py:14: RuntimeWarning: overflow encountered in multiply\n",
            "  \n",
            "/usr/local/lib/python3.6/dist-packages/ipykernel_launcher.py:91: RuntimeWarning: overflow encountered in multiply\n",
            "/usr/local/lib/python3.6/dist-packages/ipykernel_launcher.py:99: RuntimeWarning: invalid value encountered in multiply\n"
          ],
          "name": "stderr"
        },
        {
          "output_type": "stream",
          "text": [
            "Epoch 0 : 1546 / 17500\n",
            "Epoch 1 : 1546 / 17500\n",
            "Epoch 2 : 1546 / 17500\n",
            "Epoch 3 : 1546 / 17500\n",
            "Epoch 4 : 1546 / 17500\n",
            "Epoch 5 : 1546 / 17500\n",
            "Epoch 6 : 1546 / 17500\n",
            "Epoch 7 : 1546 / 17500\n",
            "Epoch 8 : 1546 / 17500\n",
            "Epoch 9 : 1546 / 17500\n",
            "Epoch 10 : 1546 / 17500\n",
            "Epoch 11 : 1546 / 17500\n",
            "Epoch 12 : 1546 / 17500\n",
            "Epoch 13 : 1546 / 17500\n",
            "Epoch 14 : 1546 / 17500\n",
            "K 1\n",
            "Epoch 0 : 1604 / 17500\n",
            "Epoch 1 : 1604 / 17500\n",
            "Epoch 2 : 1604 / 17500\n",
            "Epoch 3 : 1604 / 17500\n",
            "Epoch 4 : 1604 / 17500\n",
            "Epoch 5 : 1604 / 17500\n",
            "Epoch 6 : 1604 / 17500\n",
            "Epoch 7 : 1604 / 17500\n",
            "Epoch 8 : 1604 / 17500\n",
            "Epoch 9 : 1604 / 17500\n",
            "Epoch 10 : 1604 / 17500\n",
            "Epoch 11 : 1604 / 17500\n",
            "Epoch 12 : 1604 / 17500\n",
            "Epoch 13 : 1604 / 17500\n",
            "Epoch 14 : 1604 / 17500\n",
            "K 2\n",
            "Epoch 0 : 1356 / 17500\n",
            "Epoch 1 : 1356 / 17500\n",
            "Epoch 2 : 1356 / 17500\n",
            "Epoch 3 : 1356 / 17500\n",
            "Epoch 4 : 1356 / 17500\n",
            "Epoch 5 : 1356 / 17500\n",
            "Epoch 6 : 1356 / 17500\n",
            "Epoch 7 : 1356 / 17500\n",
            "Epoch 8 : 1356 / 17500\n",
            "Epoch 9 : 1356 / 17500\n",
            "Epoch 10 : 1356 / 17500\n",
            "Epoch 11 : 1356 / 17500\n",
            "Epoch 12 : 1356 / 17500\n",
            "Epoch 13 : 1356 / 17500\n",
            "Epoch 14 : 1356 / 17500\n",
            "K 3\n",
            "Epoch 0 : 0 / 17500\n",
            "Epoch 1 : 0 / 17500\n",
            "Epoch 2 : 0 / 17500\n",
            "Epoch 3 : 0 / 17500\n",
            "Epoch 4 : 0 / 17500\n",
            "Epoch 5 : 0 / 17500\n",
            "Epoch 6 : 0 / 17500\n",
            "Epoch 7 : 0 / 17500\n",
            "Epoch 8 : 0 / 17500\n",
            "Epoch 9 : 0 / 17500\n",
            "Epoch 10 : 0 / 17500\n",
            "Epoch 11 : 0 / 17500\n",
            "Epoch 12 : 0 / 17500\n",
            "Epoch 13 : 0 / 17500\n",
            "Epoch 14 : 0 / 17500\n"
          ],
          "name": "stdout"
        }
      ]
    },
    {
      "metadata": {
        "colab_type": "code",
        "id": "d_nyWcgI2LqE",
        "colab": {
          "base_uri": "https://localhost:8080/",
          "height": 173
        },
        "outputId": "c275db7e-1477-4654-fe09-9852f808461d"
      },
      "cell_type": "code",
      "source": [
        "teste9 = pd.DataFrame({\n",
        "    'K': np.arange(kf.get_n_splits(data)),\n",
        "    'Acertos': list(acertos_dict.values())\n",
        "})\n",
        "\n",
        "teste9"
      ],
      "execution_count": 15,
      "outputs": [
        {
          "output_type": "execute_result",
          "data": {
            "text/html": [
              "<div>\n",
              "<style scoped>\n",
              "    .dataframe tbody tr th:only-of-type {\n",
              "        vertical-align: middle;\n",
              "    }\n",
              "\n",
              "    .dataframe tbody tr th {\n",
              "        vertical-align: top;\n",
              "    }\n",
              "\n",
              "    .dataframe thead th {\n",
              "        text-align: right;\n",
              "    }\n",
              "</style>\n",
              "<table border=\"1\" class=\"dataframe\">\n",
              "  <thead>\n",
              "    <tr style=\"text-align: right;\">\n",
              "      <th></th>\n",
              "      <th>K</th>\n",
              "      <th>Acertos</th>\n",
              "    </tr>\n",
              "  </thead>\n",
              "  <tbody>\n",
              "    <tr>\n",
              "      <th>0</th>\n",
              "      <td>0</td>\n",
              "      <td>1546.0</td>\n",
              "    </tr>\n",
              "    <tr>\n",
              "      <th>1</th>\n",
              "      <td>1</td>\n",
              "      <td>1604.0</td>\n",
              "    </tr>\n",
              "    <tr>\n",
              "      <th>2</th>\n",
              "      <td>2</td>\n",
              "      <td>1356.0</td>\n",
              "    </tr>\n",
              "    <tr>\n",
              "      <th>3</th>\n",
              "      <td>3</td>\n",
              "      <td>0.0</td>\n",
              "    </tr>\n",
              "  </tbody>\n",
              "</table>\n",
              "</div>"
            ],
            "text/plain": [
              "   K  Acertos\n",
              "0  0   1546.0\n",
              "1  1   1604.0\n",
              "2  2   1356.0\n",
              "3  3      0.0"
            ]
          },
          "metadata": {
            "tags": []
          },
          "execution_count": 15
        }
      ]
    },
    {
      "metadata": {
        "colab_type": "code",
        "id": "dAqB4OvK2LqG",
        "colab": {
          "base_uri": "https://localhost:8080/",
          "height": 34
        },
        "outputId": "e3b6928d-3e61-4dd2-ad17-f9b38c61eb2c"
      },
      "cell_type": "code",
      "source": [
        "media = teste9['Acertos'].mean()\n",
        "\n",
        "media"
      ],
      "execution_count": 16,
      "outputs": [
        {
          "output_type": "execute_result",
          "data": {
            "text/plain": [
              "1126.5"
            ]
          },
          "metadata": {
            "tags": []
          },
          "execution_count": 16
        }
      ]
    },
    {
      "metadata": {
        "colab_type": "code",
        "id": "DzN4BHga2LqI",
        "colab": {}
      },
      "cell_type": "code",
      "source": [
        "funcao_ativacao_list.append('relu')\n",
        "rede.append('rede 3')\n",
        "taxa_aprendizagem.append(at)\n",
        "medias.append(media)"
      ],
      "execution_count": 0,
      "outputs": []
    },
    {
      "metadata": {
        "colab_type": "text",
        "id": "bJGBLNjU2LqJ"
      },
      "cell_type": "markdown",
      "source": [
        "### Função ativação - Sigmoid"
      ]
    },
    {
      "metadata": {
        "colab_type": "text",
        "id": "G9jUFut-2LqK"
      },
      "cell_type": "markdown",
      "source": [
        "#### Taxa de aprendizagem - 0.5"
      ]
    },
    {
      "metadata": {
        "colab_type": "code",
        "id": "Wx7MxCmq2LqL",
        "colab": {
          "base_uri": "https://localhost:8080/",
          "height": 1105
        },
        "outputId": "344e6371-a4d0-4924-f17f-5d01267efbdb"
      },
      "cell_type": "code",
      "source": [
        "net = Network(tamanho)\n",
        "acertos_dict = {}\n",
        "kf = KFold(n_splits=n_k)\n",
        "at = 0.5\n",
        "\n",
        "for i, index in enumerate(kf.split(data)):\n",
        "  train_index = index[0]\n",
        "  test_index = index[1]\n",
        "  \n",
        "  k = \"K {}\".format(i)\n",
        "  \n",
        "  print(k)\n",
        "  training_data = data[train_index[0]:train_index[-1]+1]\n",
        "  testing_data = data[test_index[0]:test_index[-1]+1]\n",
        "  \n",
        "  result = net.SGD(training_data, epoch, 10, at,test_data=testing_data, tipo_fun='sigmoid')\n",
        "  acertos_dict[k] = sum(result.values())/epoch"
      ],
      "execution_count": 18,
      "outputs": [
        {
          "output_type": "stream",
          "text": [
            "K 0\n",
            "Epoch 0 : 969 / 17500\n",
            "Epoch 1 : 2794 / 17500\n",
            "Epoch 2 : 2059 / 17500\n",
            "Epoch 3 : 2247 / 17500\n",
            "Epoch 4 : 2481 / 17500\n",
            "Epoch 5 : 2204 / 17500\n",
            "Epoch 6 : 2404 / 17500\n",
            "Epoch 7 : 2279 / 17500\n",
            "Epoch 8 : 2541 / 17500\n",
            "Epoch 9 : 2269 / 17500\n",
            "Epoch 10 : 2420 / 17500\n",
            "Epoch 11 : 2319 / 17500\n",
            "Epoch 12 : 2338 / 17500\n",
            "Epoch 13 : 2250 / 17500\n",
            "Epoch 14 : 2312 / 17500\n",
            "K 1\n",
            "Epoch 0 : 2291 / 17500\n",
            "Epoch 1 : 2391 / 17500\n",
            "Epoch 2 : 2116 / 17500\n",
            "Epoch 3 : 1885 / 17500\n",
            "Epoch 4 : 1904 / 17500\n",
            "Epoch 5 : 1896 / 17500\n",
            "Epoch 6 : 1885 / 17500\n",
            "Epoch 7 : 2229 / 17500\n",
            "Epoch 8 : 2027 / 17500\n",
            "Epoch 9 : 1962 / 17500\n",
            "Epoch 10 : 2048 / 17500\n",
            "Epoch 11 : 2251 / 17500\n",
            "Epoch 12 : 2187 / 17500\n",
            "Epoch 13 : 1942 / 17500\n",
            "Epoch 14 : 2522 / 17500\n",
            "K 2\n",
            "Epoch 0 : 3378 / 17500\n",
            "Epoch 1 : 3460 / 17500\n",
            "Epoch 2 : 3907 / 17500\n",
            "Epoch 3 : 3835 / 17500\n",
            "Epoch 4 : 3442 / 17500\n",
            "Epoch 5 : 3639 / 17500\n",
            "Epoch 6 : 3642 / 17500\n",
            "Epoch 7 : 3371 / 17500\n",
            "Epoch 8 : 3646 / 17500\n",
            "Epoch 9 : 3745 / 17500\n",
            "Epoch 10 : 3273 / 17500\n",
            "Epoch 11 : 3667 / 17500\n",
            "Epoch 12 : 3817 / 17500\n",
            "Epoch 13 : 3531 / 17500\n",
            "Epoch 14 : 3657 / 17500\n",
            "K 3\n",
            "Epoch 0 : 17500 / 17500\n",
            "Epoch 1 : 17500 / 17500\n",
            "Epoch 2 : 17500 / 17500\n",
            "Epoch 3 : 17500 / 17500\n",
            "Epoch 4 : 17500 / 17500\n",
            "Epoch 5 : 17500 / 17500\n",
            "Epoch 6 : 17500 / 17500\n",
            "Epoch 7 : 17500 / 17500\n",
            "Epoch 8 : 17500 / 17500\n",
            "Epoch 9 : 17500 / 17500\n",
            "Epoch 10 : 17500 / 17500\n",
            "Epoch 11 : 17500 / 17500\n",
            "Epoch 12 : 17500 / 17500\n",
            "Epoch 13 : 17500 / 17500\n",
            "Epoch 14 : 17500 / 17500\n"
          ],
          "name": "stdout"
        }
      ]
    },
    {
      "metadata": {
        "colab_type": "code",
        "id": "19UR8KgS2LqN",
        "colab": {
          "base_uri": "https://localhost:8080/",
          "height": 173
        },
        "outputId": "492f11a2-a154-4873-8d86-61656745f49b"
      },
      "cell_type": "code",
      "source": [
        "teste10 = pd.DataFrame({\n",
        "    'K': np.arange(kf.get_n_splits(data)),\n",
        "    'Acertos': list(acertos_dict.values())\n",
        "})\n",
        "\n",
        "teste10"
      ],
      "execution_count": 19,
      "outputs": [
        {
          "output_type": "execute_result",
          "data": {
            "text/html": [
              "<div>\n",
              "<style scoped>\n",
              "    .dataframe tbody tr th:only-of-type {\n",
              "        vertical-align: middle;\n",
              "    }\n",
              "\n",
              "    .dataframe tbody tr th {\n",
              "        vertical-align: top;\n",
              "    }\n",
              "\n",
              "    .dataframe thead th {\n",
              "        text-align: right;\n",
              "    }\n",
              "</style>\n",
              "<table border=\"1\" class=\"dataframe\">\n",
              "  <thead>\n",
              "    <tr style=\"text-align: right;\">\n",
              "      <th></th>\n",
              "      <th>K</th>\n",
              "      <th>Acertos</th>\n",
              "    </tr>\n",
              "  </thead>\n",
              "  <tbody>\n",
              "    <tr>\n",
              "      <th>0</th>\n",
              "      <td>0</td>\n",
              "      <td>2259.066667</td>\n",
              "    </tr>\n",
              "    <tr>\n",
              "      <th>1</th>\n",
              "      <td>1</td>\n",
              "      <td>2102.400000</td>\n",
              "    </tr>\n",
              "    <tr>\n",
              "      <th>2</th>\n",
              "      <td>2</td>\n",
              "      <td>3600.666667</td>\n",
              "    </tr>\n",
              "    <tr>\n",
              "      <th>3</th>\n",
              "      <td>3</td>\n",
              "      <td>17500.000000</td>\n",
              "    </tr>\n",
              "  </tbody>\n",
              "</table>\n",
              "</div>"
            ],
            "text/plain": [
              "   K       Acertos\n",
              "0  0   2259.066667\n",
              "1  1   2102.400000\n",
              "2  2   3600.666667\n",
              "3  3  17500.000000"
            ]
          },
          "metadata": {
            "tags": []
          },
          "execution_count": 19
        }
      ]
    },
    {
      "metadata": {
        "colab_type": "code",
        "id": "1hKkbpQI2LqR",
        "colab": {
          "base_uri": "https://localhost:8080/",
          "height": 34
        },
        "outputId": "e077d5c3-040f-4d85-e7b7-c3fc63ef4ab8"
      },
      "cell_type": "code",
      "source": [
        "media = teste10['Acertos'].mean()\n",
        "\n",
        "media"
      ],
      "execution_count": 20,
      "outputs": [
        {
          "output_type": "execute_result",
          "data": {
            "text/plain": [
              "6365.533333333333"
            ]
          },
          "metadata": {
            "tags": []
          },
          "execution_count": 20
        }
      ]
    },
    {
      "metadata": {
        "colab_type": "code",
        "id": "gJBrvPxx2LqT",
        "colab": {}
      },
      "cell_type": "code",
      "source": [
        "funcao_ativacao_list.append('sigmoid')\n",
        "rede.append('rede 3')\n",
        "taxa_aprendizagem.append(at)\n",
        "medias.append(media)"
      ],
      "execution_count": 0,
      "outputs": []
    },
    {
      "metadata": {
        "colab_type": "text",
        "id": "tHsviTKL2LqW"
      },
      "cell_type": "markdown",
      "source": [
        "#### Taxa de aprendizagem - 0.1"
      ]
    },
    {
      "metadata": {
        "colab_type": "code",
        "id": "bOD0GVS_2LqX",
        "colab": {
          "base_uri": "https://localhost:8080/",
          "height": 1105
        },
        "outputId": "68263fd9-2fac-4d16-bee6-f158717bc3c4"
      },
      "cell_type": "code",
      "source": [
        "net = Network(tamanho)\n",
        "acertos_dict = {}\n",
        "kf = KFold(n_splits=n_k)\n",
        "at = 0.1\n",
        "\n",
        "for i, index in enumerate(kf.split(data)):\n",
        "  train_index = index[0]\n",
        "  test_index = index[1]\n",
        "  \n",
        "  k = \"K {}\".format(i)\n",
        "  \n",
        "  print(k)\n",
        "  training_data = data[train_index[0]:train_index[-1]+1]\n",
        "  testing_data = data[test_index[0]:test_index[-1]+1]\n",
        "  \n",
        "  result = net.SGD(training_data, epoch, 10, at,test_data=testing_data, tipo_fun='sigmoid')\n",
        "  acertos_dict[k] = sum(result.values())/epoch"
      ],
      "execution_count": 22,
      "outputs": [
        {
          "output_type": "stream",
          "text": [
            "K 0\n",
            "Epoch 0 : 1968 / 17500\n",
            "Epoch 1 : 2013 / 17500\n",
            "Epoch 2 : 2037 / 17500\n",
            "Epoch 3 : 1990 / 17500\n",
            "Epoch 4 : 1734 / 17500\n",
            "Epoch 5 : 1319 / 17500\n",
            "Epoch 6 : 1006 / 17500\n",
            "Epoch 7 : 1024 / 17500\n",
            "Epoch 8 : 1107 / 17500\n",
            "Epoch 9 : 1052 / 17500\n",
            "Epoch 10 : 1050 / 17500\n",
            "Epoch 11 : 1094 / 17500\n",
            "Epoch 12 : 1298 / 17500\n",
            "Epoch 13 : 2459 / 17500\n",
            "Epoch 14 : 2551 / 17500\n",
            "K 1\n",
            "Epoch 0 : 2772 / 17500\n",
            "Epoch 1 : 2972 / 17500\n",
            "Epoch 2 : 3530 / 17500\n",
            "Epoch 3 : 3799 / 17500\n",
            "Epoch 4 : 3975 / 17500\n",
            "Epoch 5 : 4059 / 17500\n",
            "Epoch 6 : 4042 / 17500\n",
            "Epoch 7 : 4039 / 17500\n",
            "Epoch 8 : 4026 / 17500\n",
            "Epoch 9 : 4006 / 17500\n",
            "Epoch 10 : 3971 / 17500\n",
            "Epoch 11 : 4003 / 17500\n",
            "Epoch 12 : 3954 / 17500\n",
            "Epoch 13 : 3873 / 17500\n",
            "Epoch 14 : 3832 / 17500\n",
            "K 2\n",
            "Epoch 0 : 3279 / 17500\n",
            "Epoch 1 : 3129 / 17500\n",
            "Epoch 2 : 3146 / 17500\n",
            "Epoch 3 : 3335 / 17500\n",
            "Epoch 4 : 3296 / 17500\n",
            "Epoch 5 : 3390 / 17500\n",
            "Epoch 6 : 3526 / 17500\n",
            "Epoch 7 : 3445 / 17500\n",
            "Epoch 8 : 3644 / 17500\n",
            "Epoch 9 : 3599 / 17500\n",
            "Epoch 10 : 3730 / 17500\n",
            "Epoch 11 : 3891 / 17500\n",
            "Epoch 12 : 3912 / 17500\n",
            "Epoch 13 : 3983 / 17500\n",
            "Epoch 14 : 4025 / 17500\n",
            "K 3\n",
            "Epoch 0 : 2401 / 17500\n",
            "Epoch 1 : 2287 / 17500\n",
            "Epoch 2 : 2185 / 17500\n",
            "Epoch 3 : 2193 / 17500\n",
            "Epoch 4 : 1948 / 17500\n",
            "Epoch 5 : 1954 / 17500\n",
            "Epoch 6 : 1900 / 17500\n",
            "Epoch 7 : 1914 / 17500\n",
            "Epoch 8 : 1877 / 17500\n",
            "Epoch 9 : 1883 / 17500\n",
            "Epoch 10 : 1855 / 17500\n",
            "Epoch 11 : 1871 / 17500\n",
            "Epoch 12 : 1840 / 17500\n",
            "Epoch 13 : 1871 / 17500\n",
            "Epoch 14 : 1795 / 17500\n"
          ],
          "name": "stdout"
        }
      ]
    },
    {
      "metadata": {
        "colab_type": "code",
        "id": "PSdIiQ2v2LqZ",
        "colab": {
          "base_uri": "https://localhost:8080/",
          "height": 173
        },
        "outputId": "0e132ff2-940d-4213-d716-bd147cbf3288"
      },
      "cell_type": "code",
      "source": [
        "teste11 = pd.DataFrame({\n",
        "    'K': np.arange(kf.get_n_splits(data)),\n",
        "    'Acertos': list(acertos_dict.values())\n",
        "})\n",
        "\n",
        "teste11"
      ],
      "execution_count": 23,
      "outputs": [
        {
          "output_type": "execute_result",
          "data": {
            "text/html": [
              "<div>\n",
              "<style scoped>\n",
              "    .dataframe tbody tr th:only-of-type {\n",
              "        vertical-align: middle;\n",
              "    }\n",
              "\n",
              "    .dataframe tbody tr th {\n",
              "        vertical-align: top;\n",
              "    }\n",
              "\n",
              "    .dataframe thead th {\n",
              "        text-align: right;\n",
              "    }\n",
              "</style>\n",
              "<table border=\"1\" class=\"dataframe\">\n",
              "  <thead>\n",
              "    <tr style=\"text-align: right;\">\n",
              "      <th></th>\n",
              "      <th>K</th>\n",
              "      <th>Acertos</th>\n",
              "    </tr>\n",
              "  </thead>\n",
              "  <tbody>\n",
              "    <tr>\n",
              "      <th>0</th>\n",
              "      <td>0</td>\n",
              "      <td>1580.133333</td>\n",
              "    </tr>\n",
              "    <tr>\n",
              "      <th>1</th>\n",
              "      <td>1</td>\n",
              "      <td>3790.200000</td>\n",
              "    </tr>\n",
              "    <tr>\n",
              "      <th>2</th>\n",
              "      <td>2</td>\n",
              "      <td>3555.333333</td>\n",
              "    </tr>\n",
              "    <tr>\n",
              "      <th>3</th>\n",
              "      <td>3</td>\n",
              "      <td>1984.933333</td>\n",
              "    </tr>\n",
              "  </tbody>\n",
              "</table>\n",
              "</div>"
            ],
            "text/plain": [
              "   K      Acertos\n",
              "0  0  1580.133333\n",
              "1  1  3790.200000\n",
              "2  2  3555.333333\n",
              "3  3  1984.933333"
            ]
          },
          "metadata": {
            "tags": []
          },
          "execution_count": 23
        }
      ]
    },
    {
      "metadata": {
        "colab_type": "code",
        "id": "utMWRuH72Lqc",
        "colab": {
          "base_uri": "https://localhost:8080/",
          "height": 34
        },
        "outputId": "cec948b7-cab2-4877-b4e0-56bc0ff5bda9"
      },
      "cell_type": "code",
      "source": [
        "media = teste11['Acertos'].mean()\n",
        "\n",
        "media"
      ],
      "execution_count": 24,
      "outputs": [
        {
          "output_type": "execute_result",
          "data": {
            "text/plain": [
              "2727.6499999999996"
            ]
          },
          "metadata": {
            "tags": []
          },
          "execution_count": 24
        }
      ]
    },
    {
      "metadata": {
        "colab_type": "code",
        "id": "yIl4kohX2Lqh",
        "colab": {}
      },
      "cell_type": "code",
      "source": [
        "funcao_ativacao_list.append('sigmoid')\n",
        "rede.append('rede 3')\n",
        "taxa_aprendizagem.append(at)\n",
        "medias.append(media)"
      ],
      "execution_count": 0,
      "outputs": []
    },
    {
      "metadata": {
        "colab_type": "text",
        "id": "E27L-T682Lqn"
      },
      "cell_type": "markdown",
      "source": [
        "#### Taxa de aprendizagem - 0.001"
      ]
    },
    {
      "metadata": {
        "colab_type": "code",
        "id": "5P8yNtKY2Lqo",
        "colab": {
          "base_uri": "https://localhost:8080/",
          "height": 1105
        },
        "outputId": "0a07a358-8b04-4f2d-c018-458839192069"
      },
      "cell_type": "code",
      "source": [
        "net = Network(tamanho)\n",
        "acertos_dict = {}\n",
        "kf = KFold(n_splits=n_k)\n",
        "at = 0.001\n",
        "\n",
        "for i, index in enumerate(kf.split(data)):\n",
        "  train_index = index[0]\n",
        "  test_index = index[1]\n",
        "  \n",
        "  k = \"K {}\".format(i)\n",
        "  \n",
        "  print(k)\n",
        "  training_data = data[train_index[0]:train_index[-1]+1]\n",
        "  testing_data = data[test_index[0]:test_index[-1]+1]\n",
        "  \n",
        "  result = net.SGD(training_data, epoch, 10, at,test_data=testing_data, tipo_fun='sigmoid')\n",
        "  acertos_dict[k] = sum(result.values())/epoch"
      ],
      "execution_count": 26,
      "outputs": [
        {
          "output_type": "stream",
          "text": [
            "K 0\n",
            "Epoch 0 : 1610 / 17500\n",
            "Epoch 1 : 1544 / 17500\n",
            "Epoch 2 : 1511 / 17500\n",
            "Epoch 3 : 1509 / 17500\n",
            "Epoch 4 : 1493 / 17500\n",
            "Epoch 5 : 1487 / 17500\n",
            "Epoch 6 : 1480 / 17500\n",
            "Epoch 7 : 1469 / 17500\n",
            "Epoch 8 : 1450 / 17500\n",
            "Epoch 9 : 1443 / 17500\n",
            "Epoch 10 : 1428 / 17500\n",
            "Epoch 11 : 1426 / 17500\n",
            "Epoch 12 : 1418 / 17500\n",
            "Epoch 13 : 1418 / 17500\n",
            "Epoch 14 : 1412 / 17500\n",
            "K 1\n",
            "Epoch 0 : 1385 / 17500\n",
            "Epoch 1 : 1373 / 17500\n",
            "Epoch 2 : 1358 / 17500\n",
            "Epoch 3 : 1348 / 17500\n",
            "Epoch 4 : 1350 / 17500\n",
            "Epoch 5 : 1333 / 17500\n",
            "Epoch 6 : 1341 / 17500\n",
            "Epoch 7 : 1332 / 17500\n",
            "Epoch 8 : 1327 / 17500\n",
            "Epoch 9 : 1320 / 17500\n",
            "Epoch 10 : 1299 / 17500\n",
            "Epoch 11 : 1291 / 17500\n",
            "Epoch 12 : 1288 / 17500\n",
            "Epoch 13 : 1287 / 17500\n",
            "Epoch 14 : 1276 / 17500\n",
            "K 2\n",
            "Epoch 0 : 1683 / 17500\n",
            "Epoch 1 : 1665 / 17500\n",
            "Epoch 2 : 1665 / 17500\n",
            "Epoch 3 : 1659 / 17500\n",
            "Epoch 4 : 1652 / 17500\n",
            "Epoch 5 : 1642 / 17500\n",
            "Epoch 6 : 1650 / 17500\n",
            "Epoch 7 : 1642 / 17500\n",
            "Epoch 8 : 1631 / 17500\n",
            "Epoch 9 : 1627 / 17500\n",
            "Epoch 10 : 1620 / 17500\n",
            "Epoch 11 : 1630 / 17500\n",
            "Epoch 12 : 1628 / 17500\n",
            "Epoch 13 : 1632 / 17500\n",
            "Epoch 14 : 1620 / 17500\n",
            "K 3\n",
            "Epoch 0 : 5489 / 17500\n",
            "Epoch 1 : 5832 / 17500\n",
            "Epoch 2 : 6168 / 17500\n",
            "Epoch 3 : 6506 / 17500\n",
            "Epoch 4 : 6547 / 17500\n",
            "Epoch 5 : 6375 / 17500\n",
            "Epoch 6 : 6093 / 17500\n",
            "Epoch 7 : 5797 / 17500\n",
            "Epoch 8 : 5477 / 17500\n",
            "Epoch 9 : 5117 / 17500\n",
            "Epoch 10 : 4729 / 17500\n",
            "Epoch 11 : 4347 / 17500\n",
            "Epoch 12 : 3958 / 17500\n",
            "Epoch 13 : 3573 / 17500\n",
            "Epoch 14 : 3099 / 17500\n"
          ],
          "name": "stdout"
        }
      ]
    },
    {
      "metadata": {
        "colab_type": "code",
        "id": "ZkD9GK7W2Lqr",
        "colab": {
          "base_uri": "https://localhost:8080/",
          "height": 173
        },
        "outputId": "508ed57f-0e6f-4677-c127-a206925744b8"
      },
      "cell_type": "code",
      "source": [
        "teste12 = pd.DataFrame({\n",
        "    'K': np.arange(kf.get_n_splits(data)),\n",
        "    'Acertos': list(acertos_dict.values())\n",
        "})\n",
        "\n",
        "teste12"
      ],
      "execution_count": 27,
      "outputs": [
        {
          "output_type": "execute_result",
          "data": {
            "text/html": [
              "<div>\n",
              "<style scoped>\n",
              "    .dataframe tbody tr th:only-of-type {\n",
              "        vertical-align: middle;\n",
              "    }\n",
              "\n",
              "    .dataframe tbody tr th {\n",
              "        vertical-align: top;\n",
              "    }\n",
              "\n",
              "    .dataframe thead th {\n",
              "        text-align: right;\n",
              "    }\n",
              "</style>\n",
              "<table border=\"1\" class=\"dataframe\">\n",
              "  <thead>\n",
              "    <tr style=\"text-align: right;\">\n",
              "      <th></th>\n",
              "      <th>K</th>\n",
              "      <th>Acertos</th>\n",
              "    </tr>\n",
              "  </thead>\n",
              "  <tbody>\n",
              "    <tr>\n",
              "      <th>0</th>\n",
              "      <td>0</td>\n",
              "      <td>1473.200000</td>\n",
              "    </tr>\n",
              "    <tr>\n",
              "      <th>1</th>\n",
              "      <td>1</td>\n",
              "      <td>1327.200000</td>\n",
              "    </tr>\n",
              "    <tr>\n",
              "      <th>2</th>\n",
              "      <td>2</td>\n",
              "      <td>1643.066667</td>\n",
              "    </tr>\n",
              "    <tr>\n",
              "      <th>3</th>\n",
              "      <td>3</td>\n",
              "      <td>5273.800000</td>\n",
              "    </tr>\n",
              "  </tbody>\n",
              "</table>\n",
              "</div>"
            ],
            "text/plain": [
              "   K      Acertos\n",
              "0  0  1473.200000\n",
              "1  1  1327.200000\n",
              "2  2  1643.066667\n",
              "3  3  5273.800000"
            ]
          },
          "metadata": {
            "tags": []
          },
          "execution_count": 27
        }
      ]
    },
    {
      "metadata": {
        "colab_type": "code",
        "id": "xGvr1y3w2Lqw",
        "colab": {
          "base_uri": "https://localhost:8080/",
          "height": 34
        },
        "outputId": "b4d8e0fe-70ff-4658-ec4e-2cb6842dae52"
      },
      "cell_type": "code",
      "source": [
        "media = teste12['Acertos'].mean()\n",
        "\n",
        "media"
      ],
      "execution_count": 28,
      "outputs": [
        {
          "output_type": "execute_result",
          "data": {
            "text/plain": [
              "2429.3166666666666"
            ]
          },
          "metadata": {
            "tags": []
          },
          "execution_count": 28
        }
      ]
    },
    {
      "metadata": {
        "colab_type": "code",
        "id": "QKdzAXLv2Lqz",
        "colab": {}
      },
      "cell_type": "code",
      "source": [
        "funcao_ativacao_list.append('sigmoid')\n",
        "rede.append('rede 3')\n",
        "taxa_aprendizagem.append(at)\n",
        "medias.append(media)"
      ],
      "execution_count": 0,
      "outputs": []
    },
    {
      "metadata": {
        "id": "TyQ9ceph1LAf",
        "colab_type": "text"
      },
      "cell_type": "markdown",
      "source": [
        "## Resultados 1 Entrega"
      ]
    },
    {
      "metadata": {
        "id": "atGdSNJt1ULM",
        "colab_type": "code",
        "colab": {
          "base_uri": "https://localhost:8080/",
          "height": 204
        },
        "outputId": "d0b28c40-9b68-4f05-c602-addbb4d22dd5"
      },
      "cell_type": "code",
      "source": [
        "resultado_total = pd.DataFrame({\n",
        "    'rede': rede,\n",
        "    'funcao de ativacao': funcao_ativacao_list,\n",
        "    'taxa de aprendizagem': taxa_aprendizagem,\n",
        "    'media k-fold': medias\n",
        "})\n",
        "\n",
        "resultado_total"
      ],
      "execution_count": 30,
      "outputs": [
        {
          "output_type": "execute_result",
          "data": {
            "text/html": [
              "<div>\n",
              "<style scoped>\n",
              "    .dataframe tbody tr th:only-of-type {\n",
              "        vertical-align: middle;\n",
              "    }\n",
              "\n",
              "    .dataframe tbody tr th {\n",
              "        vertical-align: top;\n",
              "    }\n",
              "\n",
              "    .dataframe thead th {\n",
              "        text-align: right;\n",
              "    }\n",
              "</style>\n",
              "<table border=\"1\" class=\"dataframe\">\n",
              "  <thead>\n",
              "    <tr style=\"text-align: right;\">\n",
              "      <th></th>\n",
              "      <th>rede</th>\n",
              "      <th>funcao de ativacao</th>\n",
              "      <th>taxa de aprendizagem</th>\n",
              "      <th>media k-fold</th>\n",
              "    </tr>\n",
              "  </thead>\n",
              "  <tbody>\n",
              "    <tr>\n",
              "      <th>0</th>\n",
              "      <td>rede 3</td>\n",
              "      <td>relu</td>\n",
              "      <td>0.100</td>\n",
              "      <td>6233.000000</td>\n",
              "    </tr>\n",
              "    <tr>\n",
              "      <th>1</th>\n",
              "      <td>rede 3</td>\n",
              "      <td>relu</td>\n",
              "      <td>0.001</td>\n",
              "      <td>1126.500000</td>\n",
              "    </tr>\n",
              "    <tr>\n",
              "      <th>2</th>\n",
              "      <td>rede 3</td>\n",
              "      <td>sigmoid</td>\n",
              "      <td>0.500</td>\n",
              "      <td>6365.533333</td>\n",
              "    </tr>\n",
              "    <tr>\n",
              "      <th>3</th>\n",
              "      <td>rede 3</td>\n",
              "      <td>sigmoid</td>\n",
              "      <td>0.100</td>\n",
              "      <td>2727.650000</td>\n",
              "    </tr>\n",
              "    <tr>\n",
              "      <th>4</th>\n",
              "      <td>rede 3</td>\n",
              "      <td>sigmoid</td>\n",
              "      <td>0.001</td>\n",
              "      <td>2429.316667</td>\n",
              "    </tr>\n",
              "  </tbody>\n",
              "</table>\n",
              "</div>"
            ],
            "text/plain": [
              "     rede funcao de ativacao  taxa de aprendizagem  media k-fold\n",
              "0  rede 3               relu                 0.100   6233.000000\n",
              "1  rede 3               relu                 0.001   1126.500000\n",
              "2  rede 3            sigmoid                 0.500   6365.533333\n",
              "3  rede 3            sigmoid                 0.100   2727.650000\n",
              "4  rede 3            sigmoid                 0.001   2429.316667"
            ]
          },
          "metadata": {
            "tags": []
          },
          "execution_count": 30
        }
      ]
    },
    {
      "metadata": {
        "id": "8UUx9DOvSnuC",
        "colab_type": "text"
      },
      "cell_type": "markdown",
      "source": [
        "# Mini-Projeto part. 2\n",
        "\n",
        "A partir dos melhores resultados obtidos na etapa anterior, resolver as seguintes questões:\n",
        "\n",
        "4) Implementar as regularizações L1 e L2\n",
        "\n",
        "5) Implementar o Momento\n",
        "\n",
        "6) Comparar os experimentos e explicar o que achou dos resultados.\n",
        "\n",
        "Data de Entrega: 30/04/2019"
      ]
    }
  ]
}