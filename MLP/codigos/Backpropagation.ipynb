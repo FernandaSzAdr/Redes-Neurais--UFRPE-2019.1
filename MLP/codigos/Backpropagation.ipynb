{
  "nbformat": 4,
  "nbformat_minor": 0,
  "metadata": {
    "colab": {
      "name": "Backpropagation",
      "version": "0.3.2",
      "provenance": [],
      "toc_visible": true,
      "include_colab_link": true
    },
    "kernelspec": {
      "name": "python3",
      "display_name": "Python 3"
    },
    "accelerator": "GPU"
  },
  "cells": [
    {
      "cell_type": "markdown",
      "metadata": {
        "id": "view-in-github",
        "colab_type": "text"
      },
      "source": [
        "<a href=\"https://colab.research.google.com/github/FernandaSzAdr/Redes-Neurais--UFRPE-2019.1/blob/master/MLP/codigos/Backpropagation.ipynb\" target=\"_parent\"><img src=\"https://colab.research.google.com/assets/colab-badge.svg\" alt=\"Open In Colab\"/></a>"
      ]
    },
    {
      "metadata": {
        "id": "gquVOlEzAIeg",
        "colab_type": "code",
        "outputId": "9afa3218-fa6c-4f0c-8482-9658a237c2a0",
        "colab": {
          "base_uri": "https://localhost:8080/",
          "height": 136
        }
      },
      "cell_type": "code",
      "source": [
        "!git clone https://github.com/FernandaSzAdr/Redes-Neurais--UFRPE-2019.1"
      ],
      "execution_count": 0,
      "outputs": [
        {
          "output_type": "stream",
          "text": [
            "Cloning into 'Redes-Neurais--UFRPE-2019.1'...\n",
            "remote: Enumerating objects: 120, done.\u001b[K\n",
            "remote: Counting objects: 100% (120/120), done.\u001b[K\n",
            "remote: Compressing objects: 100% (101/101), done.\u001b[K\n",
            "remote: Total 120 (delta 23), reused 30 (delta 2), pack-reused 0\u001b[K\n",
            "Receiving objects: 100% (120/120), 21.68 MiB | 27.47 MiB/s, done.\n",
            "Resolving deltas: 100% (23/23), done.\n"
          ],
          "name": "stdout"
        }
      ]
    },
    {
      "metadata": {
        "id": "PJEk_jQrrJXn",
        "colab_type": "text"
      },
      "cell_type": "markdown",
      "source": [
        "##Multipayer Perceptron (MLP)\n",
        "\n",
        "Rede Neural baseado no algoritmo de gradiente descendente.  \n",
        "Os gradientes são calculados usando backpropagation. \n",
        "\n",
        "Para mais detalhes, ver os capitulos 13 a 16 do livro no site:\n",
        "\n",
        "http://deeplearningbook.com.br/"
      ]
    },
    {
      "metadata": {
        "id": "JNeeLtK58tGe",
        "colab_type": "code",
        "outputId": "830ff240-4a29-4b99-f98e-ed31347e11f8",
        "colab": {
          "base_uri": "https://localhost:8080/",
          "height": 394
        }
      },
      "cell_type": "code",
      "source": [
        "!pip install ipdb\n",
        "import random\n",
        "import numpy as np"
      ],
      "execution_count": 0,
      "outputs": [
        {
          "output_type": "stream",
          "text": [
            "Collecting ipdb\n",
            "  Downloading https://files.pythonhosted.org/packages/6d/43/c3c2e866a8803e196d6209595020a4a6db1a3c5d07c01455669497ae23d0/ipdb-0.12.tar.gz\n",
            "Requirement already satisfied: setuptools in /usr/local/lib/python3.6/dist-packages (from ipdb) (40.9.0)\n",
            "Requirement already satisfied: ipython>=5.1.0 in /usr/local/lib/python3.6/dist-packages (from ipdb) (5.5.0)\n",
            "Requirement already satisfied: decorator in /usr/local/lib/python3.6/dist-packages (from ipython>=5.1.0->ipdb) (4.4.0)\n",
            "Requirement already satisfied: pygments in /usr/local/lib/python3.6/dist-packages (from ipython>=5.1.0->ipdb) (2.1.3)\n",
            "Requirement already satisfied: simplegeneric>0.8 in /usr/local/lib/python3.6/dist-packages (from ipython>=5.1.0->ipdb) (0.8.1)\n",
            "Requirement already satisfied: pickleshare in /usr/local/lib/python3.6/dist-packages (from ipython>=5.1.0->ipdb) (0.7.5)\n",
            "Requirement already satisfied: traitlets>=4.2 in /usr/local/lib/python3.6/dist-packages (from ipython>=5.1.0->ipdb) (4.3.2)\n",
            "Requirement already satisfied: pexpect; sys_platform != \"win32\" in /usr/local/lib/python3.6/dist-packages (from ipython>=5.1.0->ipdb) (4.7.0)\n",
            "Requirement already satisfied: prompt-toolkit<2.0.0,>=1.0.4 in /usr/local/lib/python3.6/dist-packages (from ipython>=5.1.0->ipdb) (1.0.15)\n",
            "Requirement already satisfied: ipython-genutils in /usr/local/lib/python3.6/dist-packages (from traitlets>=4.2->ipython>=5.1.0->ipdb) (0.2.0)\n",
            "Requirement already satisfied: six in /usr/local/lib/python3.6/dist-packages (from traitlets>=4.2->ipython>=5.1.0->ipdb) (1.11.0)\n",
            "Requirement already satisfied: ptyprocess>=0.5 in /usr/local/lib/python3.6/dist-packages (from pexpect; sys_platform != \"win32\"->ipython>=5.1.0->ipdb) (0.6.0)\n",
            "Requirement already satisfied: wcwidth in /usr/local/lib/python3.6/dist-packages (from prompt-toolkit<2.0.0,>=1.0.4->ipython>=5.1.0->ipdb) (0.1.7)\n",
            "Building wheels for collected packages: ipdb\n",
            "  Building wheel for ipdb (setup.py) ... \u001b[?25ldone\n",
            "\u001b[?25h  Stored in directory: /root/.cache/pip/wheels/59/24/91/695211bd228d40fb22dff0ce3f05ba41ab724ab771736233f3\n",
            "Successfully built ipdb\n",
            "Installing collected packages: ipdb\n",
            "Successfully installed ipdb-0.12\n"
          ],
          "name": "stdout"
        }
      ]
    },
    {
      "metadata": {
        "id": "BPjNMuBE8UcP",
        "colab_type": "text"
      },
      "cell_type": "markdown",
      "source": [
        "A entrada é uma lista (`sizes`) contém o número de neurônios nas respectivas camadas da rede. Por exemplo, se a lista for [2, 3, 1] então será uma rede de três camadas, com o primeira camada contendo 2 neurônios, a segunda camada 3 neurônios, e a terceira camada 1 neurônio. Os bias e pesos para a rede são inicializados aleatoriamente, usando uma distribuição Gaussiana com média 0 e variância 1. Note que a primeira camada é assumida como uma camada de entrada, e por convenção não definimos nenhum bias para esses neurônios, pois os bias são usados na computação das saídas das camadas posteriores.\n"
      ]
    },
    {
      "metadata": {
        "id": "tGf77mI_vuzP",
        "colab_type": "code",
        "colab": {}
      },
      "cell_type": "code",
      "source": [
        "# Classe Network\n",
        "class Network(object):\n",
        "\n",
        "    def __init__(self, sizes):\n",
        "        self.num_layers = len(sizes)\n",
        "        self.sizes = sizes\n",
        "        self.biases = [np.random.randn(y, 1) for y in sizes[1:]]\n",
        "        self.weights = [np.random.randn(y, x) for x, y in zip(sizes[:-1], sizes[1:])]\n",
        "        self.true_predic = {}\n",
        "\n",
        "    def feedforward(self, a, tipo_fun):\n",
        "        \"\"\"Retorna a saída da rede se `a` for entrada.\"\"\"\n",
        "        for b, w in zip(self.biases, self.weights):\n",
        "            a = funcao_ativacao(tipo_fun, False, np.dot(w, a)+b)\n",
        "        return a\n",
        "\n",
        "    def SGD(self, training_data, epochs, mini_batch_size, eta, test_data=None, tipo_fun):\n",
        "        \"\"\"Treinar a rede neural usando o algoritmo mini batch com gradiente descendente. \n",
        "         A entrada é uma lista de tuplas\n",
        "         `(x, y)` representando as entradas de treinamento e as\n",
        "         saídas. Os outros parâmetros não opcionais são\n",
        "         auto-explicativos. Se `test_data` for fornecido, então a\n",
        "         rede será avaliada em relação aos dados do teste após cada\n",
        "         época e progresso parcial impresso. Isso é útil para\n",
        "         acompanhar o progresso, mas retarda as coisas substancialmente.\"\"\"\n",
        "        \n",
        "        eta_inicial = eta\n",
        "        training_data = list(training_data)\n",
        "        n = len(training_data)\n",
        "\n",
        "        if test_data:\n",
        "            n_test = len(test_data)\n",
        "\n",
        "        for j in range(epochs):\n",
        "            random.shuffle(training_data)\n",
        "            mini_batches = [training_data[k:k+mini_batch_size] for k in range(0, n, mini_batch_size)]\n",
        "            \n",
        "            for mini_batch in mini_batches:\n",
        "                self.update_mini_batch(mini_batch, eta, tipo_fun)\n",
        "            \n",
        "            if test_data:\n",
        "                predic = self.evaluate(test_data, tipo_fun)\n",
        "                self.true_predic[j] = predic\n",
        "                print(\"Epoch {} : {} / {}\".format(j,predic,n_test));\n",
        "            else:\n",
        "                print(\"Epoch {} finalizada\".format(j))\n",
        "            \n",
        "            eta = atualiza_taxa_aprend(eta_inicial, j, epochs)\n",
        "        \n",
        "        return self.true_predic\n",
        "    def update_mini_batch(self, mini_batch, eta, tipo_fun):\n",
        "        \"\"\"Atualiza os pesos e bias da rede aplicando\n",
        "         a descida do gradiente usando backpropagation para um único mini lote.\n",
        "         O `mini_batch` é uma lista de tuplas `(x, y)`, e `eta` é a taxa de aprendizado.\"\"\"\n",
        "\n",
        "        nabla_b = [np.zeros(b.shape) for b in self.biases]\n",
        "        nabla_w = [np.zeros(w.shape) for w in self.weights]\n",
        "        \n",
        "        for x, y in mini_batch:\n",
        "            delta_nabla_b, delta_nabla_w = self.backprop(x, y, tipo_fun)\n",
        "            nabla_b = [nb+dnb for nb, dnb in zip(nabla_b, delta_nabla_b)]\n",
        "            nabla_w = [nw+dnw for nw, dnw in zip(nabla_w, delta_nabla_w)]\n",
        "        \n",
        "        self.weights = [w-(eta/len(mini_batch))*nw for w, nw in zip(self.weights, nabla_w)]\n",
        "        self.biases = [b-(eta/len(mini_batch))*nb for b, nb in zip(self.biases, nabla_b)]\n",
        "\n",
        "    def backprop(self, x, y, tipo_fun):\n",
        "        \"\"\"Retorna uma tupla `(nabla_b, nabla_w)` representando o\n",
        "         gradiente para a função de custo C_x. `nabla_b` e\n",
        "         `nabla_w` são listas de camadas de matrizes numpy, semelhantes\n",
        "         a `self.biases` e `self.weights`.\"\"\"\n",
        "\n",
        "        nabla_b = [np.zeros(b.shape) for b in self.biases]\n",
        "        nabla_w = [np.zeros(w.shape) for w in self.weights]\n",
        "        \n",
        "        # Feedforward\n",
        "        activation = x\n",
        "\n",
        "        # Lista para armazenar todas as ativações, camada por camada\n",
        "        activations = [x] \n",
        "\n",
        "        # Lista para armazenar todos os vetores z, camada por camada\n",
        "        zs = [] \n",
        "\n",
        "        for b, w in zip(self.biases, self.weights):\n",
        "            z = np.dot(w, activation)+b\n",
        "            zs.append(z)\n",
        "            activation = funcao_ativacao(tipo_fun, False, z)\n",
        "            activations.append(activation)\n",
        "        \n",
        "        # Backward pass\n",
        "        delta = self.cost_derivative(activations[-1], y) * funcao_ativacao(tipo_fun, True, zs[-1])\n",
        "        nabla_b[-1] = delta\n",
        "        nabla_w[-1] = np.dot(delta, activations[-2].transpose())\n",
        "        \n",
        "        # Aqui, l = 1 significa a última camada de neurônios, l = 2 é a segunda e assim por diante. \n",
        "        for l in range(2, self.num_layers):\n",
        "            z = zs[-l]\n",
        "            sp = funcao_ativacao(tipo_fun, True, z)\n",
        "            delta = np.dot(self.weights[-l+1].transpose(), delta) * sp\n",
        "            nabla_b[-l] = delta\n",
        "            nabla_w[-l] = np.dot(delta, activations[-l-1].transpose())\n",
        "        return (nabla_b, nabla_w)\n",
        "\n",
        "    def evaluate(self, test_data, tipo_fun):\n",
        "        \"\"\"Retorna o número de entradas de teste para as quais a rede neural \n",
        "         produz o resultado correto. Note que a saída da rede neural\n",
        "         é considerada o índice de qualquer que seja\n",
        "         neurônio na camada final que tenha a maior ativação.\"\"\"\n",
        "\n",
        "        test_results = [(np.argmax(self.feedforward(x, tipo_fun)), np.argmax(y)) for (x, y) in test_data]\n",
        "        return sum(int(x == y) for (x, y) in test_results)\n",
        "\n",
        "    def cost_derivative(self, output_activations, y):\n",
        "        \"\"\"Retorna o vetor das derivadas parciais.\"\"\"\n",
        "        return (output_activations-y)\n",
        "\n",
        "      \n",
        "def funcao_ativacao(tipo, is_prime, z):\n",
        "  # Função de Ativação Sigmóide\n",
        "  def sigmoid(z):\n",
        "      return 1.0/(1.0+np.exp(-z))\n",
        "\n",
        "  def relu(z):\n",
        "      return np.array([[max(0, i[0])] for i in z])\n",
        "\n",
        "  # Função para retornar as derivadas da função Sigmóide\n",
        "  def sigmoid_prime(z):\n",
        "      return sigmoid(z)*(1-sigmoid(z))\n",
        "\n",
        "  def relu_prime(z):\n",
        "      return relu(z)*(1-relu(z))\n",
        "  \n",
        "  switcher = {\n",
        "      'sigmoid': sigmoid,\n",
        "      'relu': relu\n",
        "  }\n",
        "  \n",
        "  switcher_prime = {\n",
        "      'sigmoid': sigmoid_prime,\n",
        "      'relu': relu_prime,\n",
        "  }\n",
        "  \n",
        "  if is_prime:\n",
        "    fun = switcher_prime.get(tipo)\n",
        "  else:\n",
        "    fun = switcher.get(tipo)\n",
        "  \n",
        "  return fun(z)\n",
        "\n",
        "\n",
        "def atualiza_taxa_aprend(taxa_inicial, epoch, n_epochs):\n",
        "    return taxa_inicial * np.exp(-epoch / n_epochs)\n"
      ],
      "execution_count": 0,
      "outputs": []
    },
    {
      "metadata": {
        "id": "6lndK7bt9F6d",
        "colab_type": "text"
      },
      "cell_type": "markdown",
      "source": [
        "Como exemplo, essa mesma rede será executada na base de dados MNIST. O codigo abaixo carrega a base de dados."
      ]
    },
    {
      "metadata": {
        "id": "KOZwqOkDv3t-",
        "colab_type": "code",
        "colab": {}
      },
      "cell_type": "code",
      "source": [
        "# Carregar o dataset MNIST\n",
        "\n",
        "# Imports\n",
        "import pickle\n",
        "import gzip\n",
        "import numpy as np\n",
        "\n",
        "def load_data():\n",
        "    f = gzip.open('Redes-Neurais--UFRPE-2019.1/MLP/codigos/mnist.pkl.gz', 'rb')\n",
        "    training_data, validation_data, test_data = pickle.load(f, encoding=\"latin1\")\n",
        "    f.close()\n",
        "    return (training_data, validation_data, test_data)\n",
        "\n",
        "def load_data_wrapper():\n",
        "    tr_d, va_d, te_d = load_data()\n",
        "    training_inputs = [np.reshape(x, (784, 1)) for x in tr_d[0]]\n",
        "    training_results = [vectorized_result(y) for y in tr_d[1]]\n",
        "    training_data = zip(training_inputs, training_results)\n",
        "    validation_inputs = [np.reshape(x, (784, 1)) for x in va_d[0]]\n",
        "    validation_data = zip(validation_inputs, va_d[1])\n",
        "    test_inputs = [np.reshape(x, (784, 1)) for x in te_d[0]]\n",
        "    test_data = zip(test_inputs, te_d[1])\n",
        "    return (training_data, validation_data, test_data)\n",
        "\n",
        "def vectorized_result(j):\n",
        "    e = np.zeros((10, 1))\n",
        "    e[j] = 1.0\n",
        "    return e\n",
        "\n",
        "def all_data():\n",
        "  training_data, validation_data, test_data = load_data_wrapper()\n",
        "\n",
        "  training_data = list(training_data)\n",
        "  validation_data = list(validation_data)\n",
        "  test_data = list(test_data)\n",
        "\n",
        "  return training_data + validation_data + test_data"
      ],
      "execution_count": 0,
      "outputs": []
    },
    {
      "metadata": {
        "id": "a2V5r3YW95A4",
        "colab_type": "text"
      },
      "cell_type": "markdown",
      "source": [
        "#Executa a rede neural\n",
        "\n",
        "Parâmetros de rede:\n",
        "         2º param é contagem de épocas\n",
        "         3º param é tamanho do lote\n",
        "         4º param é a taxa de aprendizado (eta)\n",
        "\n",
        "##Mini-Projeto\n",
        "\n",
        "1) Realizar avaliaçao usando validação cruzada\n",
        "\n",
        "2) Modificar a taxa de aprendizagem pra diminuir com o tempo\n",
        "\n",
        "3) Realizar avaliações com a validação cruzada modificando os seguintes parâmetros:\n",
        "     \n",
        "     a) Taxa de aprendizagem: 0.5, 0.1 e 0.001\n",
        "     b) Função de ativação RELU\n",
        "     c) 3 diferentes configurações de neurônios na camada  intermediária\n",
        "\n",
        "\n",
        "Data de Entrega: 23/04/2019\n",
        "\n",
        "A partir dos melhores resultados obtidos na etapa anterior, resolver as seguintes questões:\n",
        "\n",
        "4) Implementar as regularizações L1 e L2\n",
        "\n",
        "5) Implementar o Momento\n",
        "\n",
        "6) Comparar os experimentos e explicar o que achou dos resultados.\n",
        "\n",
        "Data de Entrega: 30/04/2019\n",
        "\n",
        "\n"
      ]
    },
    {
      "metadata": {
        "id": "olUh0kwI3cIS",
        "colab_type": "code",
        "colab": {}
      },
      "cell_type": "code",
      "source": [
        "import pandas as pd\n",
        "from sklearn.model_selection import KFold"
      ],
      "execution_count": 0,
      "outputs": []
    },
    {
      "metadata": {
        "id": "Atfzs5x_Qro9",
        "colab_type": "code",
        "colab": {}
      },
      "cell_type": "code",
      "source": [
        "data = all_data()"
      ],
      "execution_count": 0,
      "outputs": []
    },
    {
      "metadata": {
        "id": "g6miZQpWzxWI",
        "colab_type": "code",
        "colab": {}
      },
      "cell_type": "code",
      "source": [
        "media_modelos = {}\n",
        "funcao_ativacao = []\n",
        "rede = []\n",
        "taxa_aprendizagem = []\n",
        "medias = []"
      ],
      "execution_count": 0,
      "outputs": []
    },
    {
      "metadata": {
        "id": "sPyVCSgkt2RW",
        "colab_type": "text"
      },
      "cell_type": "markdown",
      "source": [
        "## Rede 1 -> Configuração 784-30-10"
      ]
    },
    {
      "metadata": {
        "id": "F1QcQHEYyrpV",
        "colab_type": "code",
        "colab": {}
      },
      "cell_type": "code",
      "source": [
        "tamanho = [784, 30, 10]"
      ],
      "execution_count": 0,
      "outputs": []
    },
    {
      "metadata": {
        "id": "K4EobHpXxZoM",
        "colab_type": "text"
      },
      "cell_type": "markdown",
      "source": [
        "### Função ativação - Relu"
      ]
    },
    {
      "metadata": {
        "id": "3cG0XX32t67i",
        "colab_type": "text"
      },
      "cell_type": "markdown",
      "source": [
        "#### Taxa de aprendizagem - 0.5"
      ]
    },
    {
      "metadata": {
        "id": "bIyVWUbK37dl",
        "colab_type": "code",
        "colab": {}
      },
      "cell_type": "code",
      "source": [
        "net = Network(tamanho)\n",
        "acertos_dict = {}\n",
        "kf = KFold(n_splits=10)\n",
        "at = 0.5\n",
        "\n",
        "for i, index in enumerate(kf.split(data)):\n",
        "  train_index = index[0]\n",
        "  test_index = index[1]\n",
        "  \n",
        "  k = \"K {}\".format(i)\n",
        "  \n",
        "  print(k)\n",
        "  training_data = data[train_index[0]:train_index[-1]+1]\n",
        "  testing_data = data[test_index[0]:test_index[-1]+1]\n",
        "  \n",
        "  result = net.SGD(training_data, 15, 10, at,test_data=testing_data, tipo_fun='relu')\n",
        "  acertos_dict[k] = sum(result.values())"
      ],
      "execution_count": 0,
      "outputs": []
    },
    {
      "metadata": {
        "id": "GJc8F3SIJxPA",
        "colab_type": "code",
        "colab": {}
      },
      "cell_type": "code",
      "source": [
        "teste1 = pd.DataFrame({\n",
        "    'K': np.arange(kf.get_n_splits(data)),\n",
        "    'Acertos': list(acertos_dict.values())\n",
        "})\n",
        "\n",
        "teste1"
      ],
      "execution_count": 0,
      "outputs": []
    },
    {
      "metadata": {
        "id": "HgcZPKbJuzi-",
        "colab_type": "code",
        "colab": {}
      },
      "cell_type": "code",
      "source": [
        "media = teste1.groupby('Acertos').mean()\n",
        "\n",
        "media"
      ],
      "execution_count": 0,
      "outputs": []
    },
    {
      "metadata": {
        "id": "eLkXILniz3hT",
        "colab_type": "code",
        "colab": {}
      },
      "cell_type": "code",
      "source": [
        "funcao_ativacao.append('relu')\n",
        "rede.append('rede 1')\n",
        "taxa_aprendizagem.append(at)\n",
        "medias.apprend(media)"
      ],
      "execution_count": 0,
      "outputs": []
    },
    {
      "metadata": {
        "colab_type": "text",
        "id": "JtzexNGPtcU6"
      },
      "cell_type": "markdown",
      "source": [
        "#### Taxa de aprendizagem - 0.1"
      ]
    },
    {
      "metadata": {
        "colab_type": "code",
        "outputId": "a1f00fce-f4e0-409e-a822-6e07db733ded",
        "id": "fA3HY3TytcU7",
        "colab": {
          "base_uri": "https://localhost:8080/",
          "height": 105
        }
      },
      "cell_type": "code",
      "source": [
        "net = Network(tamanho)\n",
        "acertos_dict = {}\n",
        "kf = KFold(n_splits=10)\n",
        "at = 0.1\n",
        "\n",
        "for i, index in enumerate(kf.split(data)):\n",
        "  train_index = index[0]\n",
        "  test_index = index[1]\n",
        "  \n",
        "  k = \"K {}\".format(i)\n",
        "  \n",
        "  print(k)\n",
        "  training_data = data[train_index[0]:train_index[-1]+1]\n",
        "  testing_data = data[test_index[0]:test_index[-1]+1]\n",
        "  \n",
        "  result = net.SGD(training_data, 15, 10, at,test_data=testing_data, tipo_fun='relu')\n",
        "  acertos_dict[k] = sum(result.values())"
      ],
      "execution_count": 0,
      "outputs": [
        {
          "output_type": "stream",
          "text": [
            "K 0\n"
          ],
          "name": "stdout"
        },
        {
          "output_type": "stream",
          "text": [
            "/usr/local/lib/python3.6/dist-packages/ipykernel_launcher.py:91: RuntimeWarning: overflow encountered in multiply\n",
            "/usr/local/lib/python3.6/dist-packages/ipykernel_launcher.py:99: RuntimeWarning: invalid value encountered in multiply\n",
            "/usr/local/lib/python3.6/dist-packages/ipykernel_launcher.py:129: RuntimeWarning: overflow encountered in multiply\n"
          ],
          "name": "stderr"
        }
      ]
    },
    {
      "metadata": {
        "colab_type": "code",
        "id": "DNcW2U3rtcU_",
        "colab": {}
      },
      "cell_type": "code",
      "source": [
        "teste2 = pd.DataFrame({\n",
        "    'K': np.arange(kf.get_n_splits(data)),\n",
        "    'Acertos': list(acertos_dict.values())\n",
        "})\n",
        "\n",
        "teste2"
      ],
      "execution_count": 0,
      "outputs": []
    },
    {
      "metadata": {
        "colab_type": "code",
        "id": "KifkIaSwtcVC",
        "colab": {}
      },
      "cell_type": "code",
      "source": [
        "media = teste2.groupby('Acertos').mean()\n",
        "\n",
        "media"
      ],
      "execution_count": 0,
      "outputs": []
    },
    {
      "metadata": {
        "colab_type": "code",
        "id": "ldtkqs810XNz",
        "colab": {}
      },
      "cell_type": "code",
      "source": [
        "funcao_ativacao.append('relu')\n",
        "rede.append('rede 1')\n",
        "taxa_aprendizagem.append(at)\n",
        "medias.apprend(media)"
      ],
      "execution_count": 0,
      "outputs": []
    },
    {
      "metadata": {
        "colab_type": "text",
        "id": "GHvWAwhHxlqA"
      },
      "cell_type": "markdown",
      "source": [
        "#### Taxa de aprendizagem - 0.001"
      ]
    },
    {
      "metadata": {
        "colab_type": "code",
        "outputId": "a1f00fce-f4e0-409e-a822-6e07db733ded",
        "id": "nXSUF_78xlqC",
        "colab": {
          "base_uri": "https://localhost:8080/",
          "height": 105
        }
      },
      "cell_type": "code",
      "source": [
        "net = Network(tamanho)\n",
        "acertos_dict = {}\n",
        "kf = KFold(n_splits=10)\n",
        "at = 0.001\n",
        "\n",
        "for i, index in enumerate(kf.split(data)):\n",
        "  train_index = index[0]\n",
        "  test_index = index[1]\n",
        "  \n",
        "  k = \"K {}\".format(i)\n",
        "  \n",
        "  print(k)\n",
        "  training_data = data[train_index[0]:train_index[-1]+1]\n",
        "  testing_data = data[test_index[0]:test_index[-1]+1]\n",
        "  \n",
        "  result = net.SGD(training_data, 15, 10, at,test_data=testing_data, tipo_fun='relu')\n",
        "  acertos_dict[k] = sum(result.values())"
      ],
      "execution_count": 0,
      "outputs": [
        {
          "output_type": "stream",
          "text": [
            "K 0\n"
          ],
          "name": "stdout"
        },
        {
          "output_type": "stream",
          "text": [
            "/usr/local/lib/python3.6/dist-packages/ipykernel_launcher.py:91: RuntimeWarning: overflow encountered in multiply\n",
            "/usr/local/lib/python3.6/dist-packages/ipykernel_launcher.py:99: RuntimeWarning: invalid value encountered in multiply\n",
            "/usr/local/lib/python3.6/dist-packages/ipykernel_launcher.py:129: RuntimeWarning: overflow encountered in multiply\n"
          ],
          "name": "stderr"
        }
      ]
    },
    {
      "metadata": {
        "colab_type": "code",
        "id": "qHobWMPAxlqO",
        "colab": {}
      },
      "cell_type": "code",
      "source": [
        "teste3 = pd.DataFrame({\n",
        "    'K': np.arange(kf.get_n_splits(data)),\n",
        "    'Acertos': list(acertos_dict.values())\n",
        "})\n",
        "\n",
        "teste3"
      ],
      "execution_count": 0,
      "outputs": []
    },
    {
      "metadata": {
        "colab_type": "code",
        "id": "MLtsWk5hxlqV",
        "colab": {}
      },
      "cell_type": "code",
      "source": [
        "media = teste3.groupby('Acertos').mean()\n",
        "\n",
        "media"
      ],
      "execution_count": 0,
      "outputs": []
    },
    {
      "metadata": {
        "colab_type": "code",
        "id": "CWgULgB80cdX",
        "colab": {}
      },
      "cell_type": "code",
      "source": [
        "funcao_ativacao.append('relu')\n",
        "rede.append('rede 1')\n",
        "taxa_aprendizagem.append(at)\n",
        "medias.apprend(media)"
      ],
      "execution_count": 0,
      "outputs": []
    },
    {
      "metadata": {
        "colab_type": "text",
        "id": "FxVsUPFgxwbB"
      },
      "cell_type": "markdown",
      "source": [
        "### Função ativação - Sigmoid"
      ]
    },
    {
      "metadata": {
        "colab_type": "text",
        "id": "UUC5754KxwbD"
      },
      "cell_type": "markdown",
      "source": [
        "#### Taxa de aprendizagem - 0.5"
      ]
    },
    {
      "metadata": {
        "colab_type": "code",
        "id": "RoQ38Ck3xwbD",
        "colab": {}
      },
      "cell_type": "code",
      "source": [
        "net = Network(tamanho)\n",
        "acertos_dict = {}\n",
        "kf = KFold(n_splits=10)\n",
        "at = 0.5\n",
        "\n",
        "for i, index in enumerate(kf.split(data)):\n",
        "  train_index = index[0]\n",
        "  test_index = index[1]\n",
        "  \n",
        "  k = \"K {}\".format(i)\n",
        "  \n",
        "  print(k)\n",
        "  training_data = data[train_index[0]:train_index[-1]+1]\n",
        "  testing_data = data[test_index[0]:test_index[-1]+1]\n",
        "  \n",
        "  result = net.SGD(training_data, 15, 10, at,test_data=testing_data, tipo_fun='sigmoid')\n",
        "  acertos_dict[k] = sum(result.values())"
      ],
      "execution_count": 0,
      "outputs": []
    },
    {
      "metadata": {
        "colab_type": "code",
        "id": "vlrPfdlmxwbG",
        "colab": {}
      },
      "cell_type": "code",
      "source": [
        "teste4 = pd.DataFrame({\n",
        "    'K': np.arange(kf.get_n_splits(data)),\n",
        "    'Acertos': list(acertos_dict.values())\n",
        "})\n",
        "\n",
        "teste4"
      ],
      "execution_count": 0,
      "outputs": []
    },
    {
      "metadata": {
        "colab_type": "code",
        "id": "OJckpLNLxwbI",
        "colab": {}
      },
      "cell_type": "code",
      "source": [
        "media = teste4.groupby('Acertos').mean()\n",
        "\n",
        "media"
      ],
      "execution_count": 0,
      "outputs": []
    },
    {
      "metadata": {
        "colab_type": "code",
        "id": "PpzdS4Q70kOo",
        "colab": {}
      },
      "cell_type": "code",
      "source": [
        "funcao_ativacao.append('sigmoid')\n",
        "rede.append('rede 1')\n",
        "taxa_aprendizagem.append(at)\n",
        "medias.apprend(media)"
      ],
      "execution_count": 0,
      "outputs": []
    },
    {
      "metadata": {
        "colab_type": "text",
        "id": "ahu89VjIxwbM"
      },
      "cell_type": "markdown",
      "source": [
        "#### Taxa de aprendizagem - 0.1"
      ]
    },
    {
      "metadata": {
        "colab_type": "code",
        "id": "yU4YLTihxwbN",
        "colab": {}
      },
      "cell_type": "code",
      "source": [
        "net = Network(tamanho)\n",
        "acertos_dict = {}\n",
        "kf = KFold(n_splits=10)\n",
        "at = 0.1\n",
        "\n",
        "for i, index in enumerate(kf.split(data)):\n",
        "  train_index = index[0]\n",
        "  test_index = index[1]\n",
        "  \n",
        "  k = \"K {}\".format(i)\n",
        "  \n",
        "  print(k)\n",
        "  training_data = data[train_index[0]:train_index[-1]+1]\n",
        "  testing_data = data[test_index[0]:test_index[-1]+1]\n",
        "  \n",
        "  result = net.SGD(training_data, 15, 10, at,test_data=testing_data, tipo_fun='sigmoid')\n",
        "  acertos_dict[k] = sum(result.values())"
      ],
      "execution_count": 0,
      "outputs": []
    },
    {
      "metadata": {
        "colab_type": "code",
        "id": "_0cdQo57xwbX",
        "colab": {}
      },
      "cell_type": "code",
      "source": [
        "teste5 = pd.DataFrame({\n",
        "    'K': np.arange(kf.get_n_splits(data)),\n",
        "    'Acertos': list(acertos_dict.values())\n",
        "})\n",
        "\n",
        "teste5"
      ],
      "execution_count": 0,
      "outputs": []
    },
    {
      "metadata": {
        "colab_type": "code",
        "id": "3x5ZCex8xwba",
        "colab": {}
      },
      "cell_type": "code",
      "source": [
        "media = teste5.groupby('Acertos').mean()\n",
        "\n",
        "media"
      ],
      "execution_count": 0,
      "outputs": []
    },
    {
      "metadata": {
        "colab_type": "code",
        "id": "j-FwGHQC0nTm",
        "colab": {}
      },
      "cell_type": "code",
      "source": [
        "funcao_ativacao.append('sigmoid')\n",
        "rede.append('rede 1')\n",
        "taxa_aprendizagem.append(at)\n",
        "medias.apprend(media)"
      ],
      "execution_count": 0,
      "outputs": []
    },
    {
      "metadata": {
        "colab_type": "text",
        "id": "NZ5inJK8xwbd"
      },
      "cell_type": "markdown",
      "source": [
        "#### Taxa de aprendizagem - 0.001"
      ]
    },
    {
      "metadata": {
        "colab_type": "code",
        "id": "DRPzL7Yzxwbf",
        "colab": {}
      },
      "cell_type": "code",
      "source": [
        "net = Network(tamanho)\n",
        "acertos_dict = {}\n",
        "kf = KFold(n_splits=10)\n",
        "at = 0.001\n",
        "\n",
        "for i, index in enumerate(kf.split(data)):\n",
        "  train_index = index[0]\n",
        "  test_index = index[1]\n",
        "  \n",
        "  k = \"K {}\".format(i)\n",
        "  \n",
        "  print(k)\n",
        "  training_data = data[train_index[0]:train_index[-1]+1]\n",
        "  testing_data = data[test_index[0]:test_index[-1]+1]\n",
        "  \n",
        "  result = net.SGD(training_data, 15, 10, at,test_data=testing_data, tipo_fun='sigmoid')\n",
        "  acertos_dict[k] = sum(result.values())"
      ],
      "execution_count": 0,
      "outputs": []
    },
    {
      "metadata": {
        "colab_type": "code",
        "id": "Lc-e7Oc5xwbj",
        "colab": {}
      },
      "cell_type": "code",
      "source": [
        "teste6 = pd.DataFrame({\n",
        "    'K': np.arange(kf.get_n_splits(data)),\n",
        "    'Acertos': list(acertos_dict.values())\n",
        "})\n",
        "\n",
        "teste6"
      ],
      "execution_count": 0,
      "outputs": []
    },
    {
      "metadata": {
        "colab_type": "code",
        "id": "6IZTeu0Wxwbl",
        "colab": {}
      },
      "cell_type": "code",
      "source": [
        "media = teste6.groupby('Acertos').mean()\n",
        "\n",
        "media"
      ],
      "execution_count": 0,
      "outputs": []
    },
    {
      "metadata": {
        "colab_type": "code",
        "id": "MMAxrYVy0r7c",
        "colab": {}
      },
      "cell_type": "code",
      "source": [
        "funcao_ativacao.append('sigmoid')\n",
        "rede.append('rede 1')\n",
        "taxa_aprendizagem.append(at)\n",
        "medias.apprend(media)"
      ],
      "execution_count": 0,
      "outputs": []
    },
    {
      "metadata": {
        "colab_type": "text",
        "id": "v5DQ3AOoyT9t"
      },
      "cell_type": "markdown",
      "source": [
        "## Rede 2 -> Configuração 784-50-10"
      ]
    },
    {
      "metadata": {
        "id": "PqoD_GniyZkX",
        "colab_type": "code",
        "colab": {}
      },
      "cell_type": "code",
      "source": [
        "tamanho = [784, 50, 10]"
      ],
      "execution_count": 0,
      "outputs": []
    },
    {
      "metadata": {
        "colab_type": "text",
        "id": "Y4xZ0WH8yT9u"
      },
      "cell_type": "markdown",
      "source": [
        "### Função ativação - Relu"
      ]
    },
    {
      "metadata": {
        "colab_type": "text",
        "id": "l9vY__KayT9u"
      },
      "cell_type": "markdown",
      "source": [
        "#### Taxa de aprendizagem - 0.5"
      ]
    },
    {
      "metadata": {
        "colab_type": "code",
        "id": "31GuRH1TyT9v",
        "colab": {}
      },
      "cell_type": "code",
      "source": [
        "net = Network(tamanho)\n",
        "acertos_dict = {}\n",
        "kf = KFold(n_splits=10)\n",
        "at = 0.5\n",
        "\n",
        "for i, index in enumerate(kf.split(data)):\n",
        "  train_index = index[0]\n",
        "  test_index = index[1]\n",
        "  \n",
        "  k = \"K {}\".format(i)\n",
        "  \n",
        "  print(k)\n",
        "  training_data = data[train_index[0]:train_index[-1]+1]\n",
        "  testing_data = data[test_index[0]:test_index[-1]+1]\n",
        "  \n",
        "  result = net.SGD(training_data, 15, 10, at,test_data=testing_data, tipo_fun='relu')\n",
        "  acertos_dict[k] = sum(result.values())"
      ],
      "execution_count": 0,
      "outputs": []
    },
    {
      "metadata": {
        "colab_type": "code",
        "id": "yEnFgKXLyT9x",
        "colab": {}
      },
      "cell_type": "code",
      "source": [
        "teste7 = pd.DataFrame({\n",
        "    'K': np.arange(kf.get_n_splits(data)),\n",
        "    'Acertos': list(acertos_dict.values())\n",
        "})\n",
        "\n",
        "teste7"
      ],
      "execution_count": 0,
      "outputs": []
    },
    {
      "metadata": {
        "colab_type": "code",
        "id": "im_Hxp1RyT9z",
        "colab": {}
      },
      "cell_type": "code",
      "source": [
        "media = teste7.groupby('Acertos').mean()\n",
        "\n",
        "media"
      ],
      "execution_count": 0,
      "outputs": []
    },
    {
      "metadata": {
        "colab_type": "code",
        "id": "xJjcjcWJ0yaE",
        "colab": {}
      },
      "cell_type": "code",
      "source": [
        "funcao_ativacao.append('relu')\n",
        "rede.append('rede 2')\n",
        "taxa_aprendizagem.append(at)\n",
        "medias.apprend(media)"
      ],
      "execution_count": 0,
      "outputs": []
    },
    {
      "metadata": {
        "colab_type": "text",
        "id": "wiAuaujHyT95"
      },
      "cell_type": "markdown",
      "source": [
        "#### Taxa de aprendizagem - 0.1"
      ]
    },
    {
      "metadata": {
        "colab_type": "code",
        "outputId": "a1f00fce-f4e0-409e-a822-6e07db733ded",
        "id": "sPFW9RXlyT96",
        "colab": {
          "base_uri": "https://localhost:8080/",
          "height": 105
        }
      },
      "cell_type": "code",
      "source": [
        "net = Network(tamanho)\n",
        "acertos_dict = {}\n",
        "kf = KFold(n_splits=10)\n",
        "at = 0.1\n",
        "\n",
        "for i, index in enumerate(kf.split(data)):\n",
        "  train_index = index[0]\n",
        "  test_index = index[1]\n",
        "  \n",
        "  k = \"K {}\".format(i)\n",
        "  \n",
        "  print(k)\n",
        "  training_data = data[train_index[0]:train_index[-1]+1]\n",
        "  testing_data = data[test_index[0]:test_index[-1]+1]\n",
        "  \n",
        "  result = net.SGD(training_data, 15, 10, at,test_data=testing_data, tipo_fun='relu')\n",
        "  acertos_dict[k] = sum(result.values())"
      ],
      "execution_count": 0,
      "outputs": [
        {
          "output_type": "stream",
          "text": [
            "K 0\n"
          ],
          "name": "stdout"
        },
        {
          "output_type": "stream",
          "text": [
            "/usr/local/lib/python3.6/dist-packages/ipykernel_launcher.py:91: RuntimeWarning: overflow encountered in multiply\n",
            "/usr/local/lib/python3.6/dist-packages/ipykernel_launcher.py:99: RuntimeWarning: invalid value encountered in multiply\n",
            "/usr/local/lib/python3.6/dist-packages/ipykernel_launcher.py:129: RuntimeWarning: overflow encountered in multiply\n"
          ],
          "name": "stderr"
        }
      ]
    },
    {
      "metadata": {
        "colab_type": "code",
        "id": "InXPUWvSyT9-",
        "colab": {}
      },
      "cell_type": "code",
      "source": [
        "teste8 = pd.DataFrame({\n",
        "    'K': np.arange(kf.get_n_splits(data)),\n",
        "    'Acertos': list(acertos_dict.values())\n",
        "})\n",
        "\n",
        "teste8"
      ],
      "execution_count": 0,
      "outputs": []
    },
    {
      "metadata": {
        "colab_type": "code",
        "id": "C-xbNT-wyT-D",
        "colab": {}
      },
      "cell_type": "code",
      "source": [
        "media = teste8.groupby('Acertos').mean()\n",
        "\n",
        "media"
      ],
      "execution_count": 0,
      "outputs": []
    },
    {
      "metadata": {
        "colab_type": "code",
        "id": "51ihpE0p03S1",
        "colab": {}
      },
      "cell_type": "code",
      "source": [
        "funcao_ativacao.append('relu')\n",
        "rede.append('rede 2')\n",
        "taxa_aprendizagem.append(at)\n",
        "medias.apprend(media)"
      ],
      "execution_count": 0,
      "outputs": []
    },
    {
      "metadata": {
        "colab_type": "text",
        "id": "c5TDC1NmyT-F"
      },
      "cell_type": "markdown",
      "source": [
        "#### Taxa de aprendizagem - 0.001"
      ]
    },
    {
      "metadata": {
        "colab_type": "code",
        "outputId": "a1f00fce-f4e0-409e-a822-6e07db733ded",
        "id": "QfMfaz60yT-G",
        "colab": {
          "base_uri": "https://localhost:8080/",
          "height": 105
        }
      },
      "cell_type": "code",
      "source": [
        "net = Network(tamanho)\n",
        "acertos_dict = {}\n",
        "kf = KFold(n_splits=10)\n",
        "at = 0.001\n",
        "\n",
        "for i, index in enumerate(kf.split(data)):\n",
        "  train_index = index[0]\n",
        "  test_index = index[1]\n",
        "  \n",
        "  k = \"K {}\".format(i)\n",
        "  \n",
        "  print(k)\n",
        "  training_data = data[train_index[0]:train_index[-1]+1]\n",
        "  testing_data = data[test_index[0]:test_index[-1]+1]\n",
        "  \n",
        "  result = net.SGD(training_data, 15, 10, at,test_data=testing_data, tipo_fun='relu')\n",
        "  acertos_dict[k] = sum(result.values())"
      ],
      "execution_count": 0,
      "outputs": [
        {
          "output_type": "stream",
          "text": [
            "K 0\n"
          ],
          "name": "stdout"
        },
        {
          "output_type": "stream",
          "text": [
            "/usr/local/lib/python3.6/dist-packages/ipykernel_launcher.py:91: RuntimeWarning: overflow encountered in multiply\n",
            "/usr/local/lib/python3.6/dist-packages/ipykernel_launcher.py:99: RuntimeWarning: invalid value encountered in multiply\n",
            "/usr/local/lib/python3.6/dist-packages/ipykernel_launcher.py:129: RuntimeWarning: overflow encountered in multiply\n"
          ],
          "name": "stderr"
        }
      ]
    },
    {
      "metadata": {
        "colab_type": "code",
        "id": "AeYfJe6vyT-I",
        "colab": {}
      },
      "cell_type": "code",
      "source": [
        "teste9 = pd.DataFrame({\n",
        "    'K': np.arange(kf.get_n_splits(data)),\n",
        "    'Acertos': list(acertos_dict.values())\n",
        "})\n",
        "\n",
        "teste9"
      ],
      "execution_count": 0,
      "outputs": []
    },
    {
      "metadata": {
        "colab_type": "code",
        "id": "UxLeSYB3yT-L",
        "colab": {}
      },
      "cell_type": "code",
      "source": [
        "media = teste9.groupby('Acertos').mean()\n",
        "\n",
        "media"
      ],
      "execution_count": 0,
      "outputs": []
    },
    {
      "metadata": {
        "colab_type": "code",
        "id": "8EHMwW_j08f5",
        "colab": {}
      },
      "cell_type": "code",
      "source": [
        "funcao_ativacao.append('relu')\n",
        "rede.append('rede 2')\n",
        "taxa_aprendizagem.append(at)\n",
        "medias.apprend(media)"
      ],
      "execution_count": 0,
      "outputs": []
    },
    {
      "metadata": {
        "colab_type": "text",
        "id": "G36F1UbFyT-N"
      },
      "cell_type": "markdown",
      "source": [
        "### Função ativação - Sigmoid"
      ]
    },
    {
      "metadata": {
        "colab_type": "text",
        "id": "tNQRqou0yT-O"
      },
      "cell_type": "markdown",
      "source": [
        "#### Taxa de aprendizagem - 0.5"
      ]
    },
    {
      "metadata": {
        "colab_type": "code",
        "id": "RP4yCZmqyT-O",
        "colab": {}
      },
      "cell_type": "code",
      "source": [
        "net = Network(tamanho)\n",
        "acertos_dict = {}\n",
        "kf = KFold(n_splits=10)\n",
        "at = 0.5\n",
        "\n",
        "for i, index in enumerate(kf.split(data)):\n",
        "  train_index = index[0]\n",
        "  test_index = index[1]\n",
        "  \n",
        "  k = \"K {}\".format(i)\n",
        "  \n",
        "  print(k)\n",
        "  training_data = data[train_index[0]:train_index[-1]+1]\n",
        "  testing_data = data[test_index[0]:test_index[-1]+1]\n",
        "  \n",
        "  result = net.SGD(training_data, 15, 10, at,test_data=testing_data, tipo_fun='sigmoid')\n",
        "  acertos_dict[k] = sum(result.values())"
      ],
      "execution_count": 0,
      "outputs": []
    },
    {
      "metadata": {
        "colab_type": "code",
        "id": "M6tpUySPyT-R",
        "colab": {}
      },
      "cell_type": "code",
      "source": [
        "teste10 = pd.DataFrame({\n",
        "    'K': np.arange(kf.get_n_splits(data)),\n",
        "    'Acertos': list(acertos_dict.values())\n",
        "})\n",
        "\n",
        "teste10"
      ],
      "execution_count": 0,
      "outputs": []
    },
    {
      "metadata": {
        "colab_type": "code",
        "id": "VT6sLQWIyT-S",
        "colab": {}
      },
      "cell_type": "code",
      "source": [
        "media = teste10.groupby('Acertos').mean()\n",
        "\n",
        "media"
      ],
      "execution_count": 0,
      "outputs": []
    },
    {
      "metadata": {
        "colab_type": "code",
        "id": "dtS9PjiA0_lh",
        "colab": {}
      },
      "cell_type": "code",
      "source": [
        "funcao_ativacao.append('sigmoid')\n",
        "rede.append('rede 2')\n",
        "taxa_aprendizagem.append(at)\n",
        "medias.apprend(media)"
      ],
      "execution_count": 0,
      "outputs": []
    },
    {
      "metadata": {
        "colab_type": "text",
        "id": "9VfRf1KPyT-U"
      },
      "cell_type": "markdown",
      "source": [
        "#### Taxa de aprendizagem - 0.1"
      ]
    },
    {
      "metadata": {
        "colab_type": "code",
        "id": "w0vHk4OlyT-U",
        "colab": {}
      },
      "cell_type": "code",
      "source": [
        "net = Network(tamanho)\n",
        "acertos_dict = {}\n",
        "kf = KFold(n_splits=10)\n",
        "at = 0.1\n",
        "\n",
        "for i, index in enumerate(kf.split(data)):\n",
        "  train_index = index[0]\n",
        "  test_index = index[1]\n",
        "  \n",
        "  k = \"K {}\".format(i)\n",
        "  \n",
        "  print(k)\n",
        "  training_data = data[train_index[0]:train_index[-1]+1]\n",
        "  testing_data = data[test_index[0]:test_index[-1]+1]\n",
        "  \n",
        "  result = net.SGD(training_data, 15, 10, at,test_data=testing_data, tipo_fun='sigmoid')\n",
        "  acertos_dict[k] = sum(result.values())"
      ],
      "execution_count": 0,
      "outputs": []
    },
    {
      "metadata": {
        "colab_type": "code",
        "id": "nN-XHAzFyT-W",
        "colab": {}
      },
      "cell_type": "code",
      "source": [
        "teste11 = pd.DataFrame({\n",
        "    'K': np.arange(kf.get_n_splits(data)),\n",
        "    'Acertos': list(acertos_dict.values())\n",
        "})\n",
        "\n",
        "teste11"
      ],
      "execution_count": 0,
      "outputs": []
    },
    {
      "metadata": {
        "colab_type": "code",
        "id": "Yu-NqU1oyT-Y",
        "colab": {}
      },
      "cell_type": "code",
      "source": [
        "media = teste11.groupby('Acertos').mean()\n",
        "\n",
        "media"
      ],
      "execution_count": 0,
      "outputs": []
    },
    {
      "metadata": {
        "colab_type": "code",
        "id": "Dl9WHODO1Ftr",
        "colab": {}
      },
      "cell_type": "code",
      "source": [
        "funcao_ativacao.append('sigmoid')\n",
        "rede.append('rede 2')\n",
        "taxa_aprendizagem.append(at)\n",
        "medias.apprend(media)"
      ],
      "execution_count": 0,
      "outputs": []
    },
    {
      "metadata": {
        "colab_type": "text",
        "id": "D2fNRSEZyT-b"
      },
      "cell_type": "markdown",
      "source": [
        "#### Taxa de aprendizagem - 0.001"
      ]
    },
    {
      "metadata": {
        "colab_type": "code",
        "id": "6pzdNSgJyT-b",
        "colab": {}
      },
      "cell_type": "code",
      "source": [
        "net = Network(tamanho)\n",
        "acertos_dict = {}\n",
        "kf = KFold(n_splits=10)\n",
        "at = 0.001\n",
        "\n",
        "for i, index in enumerate(kf.split(data)):\n",
        "  train_index = index[0]\n",
        "  test_index = index[1]\n",
        "  \n",
        "  k = \"K {}\".format(i)\n",
        "  \n",
        "  print(k)\n",
        "  training_data = data[train_index[0]:train_index[-1]+1]\n",
        "  testing_data = data[test_index[0]:test_index[-1]+1]\n",
        "  \n",
        "  result = net.SGD(training_data, 15, 10, at,test_data=testing_data, tipo_fun='sigmoid')\n",
        "  acertos_dict[k] = sum(result.values())"
      ],
      "execution_count": 0,
      "outputs": []
    },
    {
      "metadata": {
        "colab_type": "code",
        "id": "cyWoC-4OyT-d",
        "colab": {}
      },
      "cell_type": "code",
      "source": [
        "teste12 = pd.DataFrame({\n",
        "    'K': np.arange(kf.get_n_splits(data)),\n",
        "    'Acertos': list(acertos_dict.values())\n",
        "})\n",
        "\n",
        "teste12"
      ],
      "execution_count": 0,
      "outputs": []
    },
    {
      "metadata": {
        "colab_type": "code",
        "id": "fvFfFFUxyT-f",
        "colab": {}
      },
      "cell_type": "code",
      "source": [
        "media = teste12.groupby('Acertos').mean()\n",
        "\n",
        "media"
      ],
      "execution_count": 0,
      "outputs": []
    },
    {
      "metadata": {
        "colab_type": "code",
        "id": "saIeydI11IMk",
        "colab": {}
      },
      "cell_type": "code",
      "source": [
        "funcao_ativacao.append('sigmoid')\n",
        "rede.append('rede 2')\n",
        "taxa_aprendizagem.append(at)\n",
        "medias.apprend(media)"
      ],
      "execution_count": 0,
      "outputs": []
    },
    {
      "metadata": {
        "id": "TyQ9ceph1LAf",
        "colab_type": "text"
      },
      "cell_type": "markdown",
      "source": [
        "## Resultados 1 Entrega"
      ]
    },
    {
      "metadata": {
        "id": "atGdSNJt1ULM",
        "colab_type": "code",
        "colab": {}
      },
      "cell_type": "code",
      "source": [
        "resultado_total = pd.DataFrame({\n",
        "    'rede': rede,\n",
        "    'funcao de ativacao': funcao_ativacao,\n",
        "    'taxa de aprendizagem': taxa_aprendizagem,\n",
        "    'media k-fold': medias\n",
        "})\n",
        "\n",
        "resultado_total"
      ],
      "execution_count": 0,
      "outputs": []
    }
  ]
}