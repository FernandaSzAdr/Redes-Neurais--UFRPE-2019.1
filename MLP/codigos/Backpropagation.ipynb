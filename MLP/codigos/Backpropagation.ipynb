{
  "nbformat": 4,
  "nbformat_minor": 0,
  "metadata": {
    "colab": {
      "name": "Backpropagation",
      "version": "0.3.2",
      "provenance": [],
      "include_colab_link": true
    },
    "kernelspec": {
      "name": "python3",
      "display_name": "Python 3"
    },
    "accelerator": "GPU"
  },
  "cells": [
    {
      "cell_type": "markdown",
      "metadata": {
        "id": "view-in-github",
        "colab_type": "text"
      },
      "source": [
        "<a href=\"https://colab.research.google.com/github/FernandaSzAdr/Redes-Neurais--UFRPE-2019.1/blob/master/MLP/codigos/Backpropagation.ipynb\" target=\"_parent\"><img src=\"https://colab.research.google.com/assets/colab-badge.svg\" alt=\"Open In Colab\"/></a>"
      ]
    },
    {
      "metadata": {
        "id": "gquVOlEzAIeg",
        "colab_type": "code",
        "colab": {
          "base_uri": "https://localhost:8080/",
          "height": 136
        },
        "outputId": "8de5f8c9-dba4-4409-ae23-a0f7a442c8fd"
      },
      "cell_type": "code",
      "source": [
        "!git clone https://github.com/FernandaSzAdr/Redes-Neurais--UFRPE-2019.1"
      ],
      "execution_count": 1,
      "outputs": [
        {
          "output_type": "stream",
          "text": [
            "Cloning into 'Redes-Neurais--UFRPE-2019.1'...\n",
            "remote: Enumerating objects: 110, done.\u001b[K\n",
            "remote: Counting objects: 100% (110/110), done.\u001b[K\n",
            "remote: Compressing objects: 100% (91/91), done.\u001b[K\n",
            "remote: Total 110 (delta 17), reused 33 (delta 2), pack-reused 0\u001b[K\n",
            "Receiving objects: 100% (110/110), 21.68 MiB | 7.99 MiB/s, done.\n",
            "Resolving deltas: 100% (17/17), done.\n"
          ],
          "name": "stdout"
        }
      ]
    },
    {
      "metadata": {
        "id": "PJEk_jQrrJXn",
        "colab_type": "text"
      },
      "cell_type": "markdown",
      "source": [
        "##Multipayer Perceptron (MLP)\n",
        "\n",
        "Rede Neural baseado no algoritmo de gradiente descendente.  \n",
        "Os gradientes são calculados usando backpropagation. \n",
        "\n",
        "Para mais detalhes, ver os capitulos 13 a 16 do livro no site:\n",
        "\n",
        "http://deeplearningbook.com.br/"
      ]
    },
    {
      "metadata": {
        "id": "JNeeLtK58tGe",
        "colab_type": "code",
        "colab": {
          "base_uri": "https://localhost:8080/",
          "height": 394
        },
        "outputId": "c2ca9a2f-aea9-4c14-975c-79f04e20db3b"
      },
      "cell_type": "code",
      "source": [
        "!pip install ipdb\n",
        "import random\n",
        "import numpy as np"
      ],
      "execution_count": 20,
      "outputs": [
        {
          "output_type": "stream",
          "text": [
            "Collecting ipdb\n",
            "  Downloading https://files.pythonhosted.org/packages/6d/43/c3c2e866a8803e196d6209595020a4a6db1a3c5d07c01455669497ae23d0/ipdb-0.12.tar.gz\n",
            "Requirement already satisfied: setuptools in /usr/local/lib/python3.6/dist-packages (from ipdb) (40.9.0)\n",
            "Requirement already satisfied: ipython>=5.1.0 in /usr/local/lib/python3.6/dist-packages (from ipdb) (5.5.0)\n",
            "Requirement already satisfied: pexpect; sys_platform != \"win32\" in /usr/local/lib/python3.6/dist-packages (from ipython>=5.1.0->ipdb) (4.7.0)\n",
            "Requirement already satisfied: pygments in /usr/local/lib/python3.6/dist-packages (from ipython>=5.1.0->ipdb) (2.1.3)\n",
            "Requirement already satisfied: traitlets>=4.2 in /usr/local/lib/python3.6/dist-packages (from ipython>=5.1.0->ipdb) (4.3.2)\n",
            "Requirement already satisfied: prompt-toolkit<2.0.0,>=1.0.4 in /usr/local/lib/python3.6/dist-packages (from ipython>=5.1.0->ipdb) (1.0.15)\n",
            "Requirement already satisfied: simplegeneric>0.8 in /usr/local/lib/python3.6/dist-packages (from ipython>=5.1.0->ipdb) (0.8.1)\n",
            "Requirement already satisfied: decorator in /usr/local/lib/python3.6/dist-packages (from ipython>=5.1.0->ipdb) (4.4.0)\n",
            "Requirement already satisfied: pickleshare in /usr/local/lib/python3.6/dist-packages (from ipython>=5.1.0->ipdb) (0.7.5)\n",
            "Requirement already satisfied: ptyprocess>=0.5 in /usr/local/lib/python3.6/dist-packages (from pexpect; sys_platform != \"win32\"->ipython>=5.1.0->ipdb) (0.6.0)\n",
            "Requirement already satisfied: ipython-genutils in /usr/local/lib/python3.6/dist-packages (from traitlets>=4.2->ipython>=5.1.0->ipdb) (0.2.0)\n",
            "Requirement already satisfied: six in /usr/local/lib/python3.6/dist-packages (from traitlets>=4.2->ipython>=5.1.0->ipdb) (1.11.0)\n",
            "Requirement already satisfied: wcwidth in /usr/local/lib/python3.6/dist-packages (from prompt-toolkit<2.0.0,>=1.0.4->ipython>=5.1.0->ipdb) (0.1.7)\n",
            "Building wheels for collected packages: ipdb\n",
            "  Building wheel for ipdb (setup.py) ... \u001b[?25ldone\n",
            "\u001b[?25h  Stored in directory: /root/.cache/pip/wheels/59/24/91/695211bd228d40fb22dff0ce3f05ba41ab724ab771736233f3\n",
            "Successfully built ipdb\n",
            "Installing collected packages: ipdb\n",
            "Successfully installed ipdb-0.12\n"
          ],
          "name": "stdout"
        }
      ]
    },
    {
      "metadata": {
        "id": "BPjNMuBE8UcP",
        "colab_type": "text"
      },
      "cell_type": "markdown",
      "source": [
        "A entrada é uma lista (`sizes`) contém o número de neurônios nas respectivas camadas da rede. Por exemplo, se a lista for [2, 3, 1] então será uma rede de três camadas, com o primeira camada contendo 2 neurônios, a segunda camada 3 neurônios, e a terceira camada 1 neurônio. Os bias e pesos para a rede são inicializados aleatoriamente, usando uma distribuição Gaussiana com média 0 e variância 1. Note que a primeira camada é assumida como uma camada de entrada, e por convenção não definimos nenhum bias para esses neurônios, pois os bias são usados na computação das saídas das camadas posteriores.\n"
      ]
    },
    {
      "metadata": {
        "id": "tGf77mI_vuzP",
        "colab_type": "code",
        "colab": {}
      },
      "cell_type": "code",
      "source": [
        "# Classe Network\n",
        "class Network(object):\n",
        "\n",
        "    def __init__(self, sizes):\n",
        "        self.num_layers = len(sizes)\n",
        "        self.sizes = sizes\n",
        "        self.biases = [np.random.randn(y, 1) for y in sizes[1:]]\n",
        "        self.weights = [np.random.randn(y, x) for x, y in zip(sizes[:-1], sizes[1:])]\n",
        "        self.true_predic = {}\n",
        "\n",
        "    def feedforward(self, a):\n",
        "        \"\"\"Retorna a saída da rede se `a` for entrada.\"\"\"\n",
        "        for b, w in zip(self.biases, self.weights):\n",
        "            a = sigmoid(np.dot(w, a)+b)\n",
        "        return a\n",
        "\n",
        "    def SGD(self, training_data, epochs, mini_batch_size, eta, test_data=None):\n",
        "        \"\"\"Treinar a rede neural usando o algoritmo mini batch com gradiente descendente. \n",
        "         A entrada é uma lista de tuplas\n",
        "         `(x, y)` representando as entradas de treinamento e as\n",
        "         saídas. Os outros parâmetros não opcionais são\n",
        "         auto-explicativos. Se `test_data` for fornecido, então a\n",
        "         rede será avaliada em relação aos dados do teste após cada\n",
        "         época e progresso parcial impresso. Isso é útil para\n",
        "         acompanhar o progresso, mas retarda as coisas substancialmente.\"\"\"\n",
        "        \n",
        "        eta_inicial = eta\n",
        "        training_data = list(training_data)\n",
        "        n = len(training_data)\n",
        "\n",
        "        if test_data:\n",
        "            n_test = len(test_data)\n",
        "\n",
        "        for j in range(epochs):\n",
        "            random.shuffle(training_data)\n",
        "            mini_batches = [training_data[k:k+mini_batch_size] for k in range(0, n, mini_batch_size)]\n",
        "            \n",
        "            for mini_batch in mini_batches:\n",
        "                self.update_mini_batch(mini_batch, eta)\n",
        "            \n",
        "            if test_data:\n",
        "                predic = self.evaluate(test_data)\n",
        "                self.true_predic[j] = predic\n",
        "                print(\"Epoch {} : {} / {}\".format(j,predic,n_test));\n",
        "            else:\n",
        "                print(\"Epoch {} finalizada\".format(j))\n",
        "            \n",
        "            eta = atualiza_taxa_aprend(eta_inicial, j, epochs)\n",
        "        \n",
        "        return self.true_predic\n",
        "    def update_mini_batch(self, mini_batch, eta):\n",
        "        \"\"\"Atualiza os pesos e bias da rede aplicando\n",
        "         a descida do gradiente usando backpropagation para um único mini lote.\n",
        "         O `mini_batch` é uma lista de tuplas `(x, y)`, e `eta` é a taxa de aprendizado.\"\"\"\n",
        "\n",
        "        nabla_b = [np.zeros(b.shape) for b in self.biases]\n",
        "        nabla_w = [np.zeros(w.shape) for w in self.weights]\n",
        "        \n",
        "        for x, y in mini_batch:\n",
        "            delta_nabla_b, delta_nabla_w = self.backprop(x, y)\n",
        "            nabla_b = [nb+dnb for nb, dnb in zip(nabla_b, delta_nabla_b)]\n",
        "            nabla_w = [nw+dnw for nw, dnw in zip(nabla_w, delta_nabla_w)]\n",
        "        \n",
        "        self.weights = [w-(eta/len(mini_batch))*nw for w, nw in zip(self.weights, nabla_w)]\n",
        "        self.biases = [b-(eta/len(mini_batch))*nb for b, nb in zip(self.biases, nabla_b)]\n",
        "\n",
        "    def backprop(self, x, y):\n",
        "        \"\"\"Retorna uma tupla `(nabla_b, nabla_w)` representando o\n",
        "         gradiente para a função de custo C_x. `nabla_b` e\n",
        "         `nabla_w` são listas de camadas de matrizes numpy, semelhantes\n",
        "         a `self.biases` e `self.weights`.\"\"\"\n",
        "\n",
        "        nabla_b = [np.zeros(b.shape) for b in self.biases]\n",
        "        nabla_w = [np.zeros(w.shape) for w in self.weights]\n",
        "        \n",
        "        # Feedforward\n",
        "        activation = x\n",
        "\n",
        "        # Lista para armazenar todas as ativações, camada por camada\n",
        "        activations = [x] \n",
        "\n",
        "        # Lista para armazenar todos os vetores z, camada por camada\n",
        "        zs = [] \n",
        "\n",
        "        for b, w in zip(self.biases, self.weights):\n",
        "            z = np.dot(w, activation)+b\n",
        "            zs.append(z)\n",
        "            activation = sigmoid(z)\n",
        "            activations.append(activation)\n",
        "        \n",
        "        # Backward pass\n",
        "        delta = self.cost_derivative(activations[-1], y) * sigmoid_prime(zs[-1])\n",
        "        nabla_b[-1] = delta\n",
        "        nabla_w[-1] = np.dot(delta, activations[-2].transpose())\n",
        "        \n",
        "        # Aqui, l = 1 significa a última camada de neurônios, l = 2 é a segunda e assim por diante. \n",
        "        for l in range(2, self.num_layers):\n",
        "            z = zs[-l]\n",
        "            sp = sigmoid_prime(z)\n",
        "            delta = np.dot(self.weights[-l+1].transpose(), delta) * sp\n",
        "            nabla_b[-l] = delta\n",
        "            nabla_w[-l] = np.dot(delta, activations[-l-1].transpose())\n",
        "        return (nabla_b, nabla_w)\n",
        "\n",
        "    def evaluate(self, test_data):\n",
        "        \"\"\"Retorna o número de entradas de teste para as quais a rede neural \n",
        "         produz o resultado correto. Note que a saída da rede neural\n",
        "         é considerada o índice de qualquer que seja\n",
        "         neurônio na camada final que tenha a maior ativação.\"\"\"\n",
        "\n",
        "        test_results = [(np.argmax(self.feedforward(x)), np.argmax(y)) for (x, y) in test_data]\n",
        "        return sum(int(x == y) for (x, y) in test_results)\n",
        "\n",
        "    def cost_derivative(self, output_activations, y):\n",
        "        \"\"\"Retorna o vetor das derivadas parciais.\"\"\"\n",
        "        return (output_activations-y)\n",
        "\n",
        "# Função de Ativação Sigmóide\n",
        "def sigmoid(z):\n",
        "    return 1.0/(1.0+np.exp(-z))\n",
        "\n",
        "# Função para retornar as derivadas da função Sigmóide\n",
        "def sigmoid_prime(z):\n",
        "    return sigmoid(z)*(1-sigmoid(z))\n",
        "  \n",
        "def atualiza_taxa_aprend(taxa_inicial, epoch, n_epochs):\n",
        "    return taxa_inicial * np.exp(-epoch / n_epochs)\n"
      ],
      "execution_count": 0,
      "outputs": []
    },
    {
      "metadata": {
        "id": "6lndK7bt9F6d",
        "colab_type": "text"
      },
      "cell_type": "markdown",
      "source": [
        "Como exemplo, essa mesma rede será executada na base de dados MNIST. O codigo abaixo carrega a base de dados."
      ]
    },
    {
      "metadata": {
        "id": "KOZwqOkDv3t-",
        "colab_type": "code",
        "colab": {}
      },
      "cell_type": "code",
      "source": [
        "# Carregar o dataset MNIST\n",
        "\n",
        "# Imports\n",
        "import pickle\n",
        "import gzip\n",
        "import numpy as np\n",
        "\n",
        "def load_data():\n",
        "    f = gzip.open('Redes-Neurais--UFRPE-2019.1/MLP/codigos/mnist.pkl.gz', 'rb')\n",
        "    training_data, validation_data, test_data = pickle.load(f, encoding=\"latin1\")\n",
        "    f.close()\n",
        "    return (training_data, validation_data, test_data)\n",
        "\n",
        "def load_data_wrapper():\n",
        "    tr_d, va_d, te_d = load_data()\n",
        "    training_inputs = [np.reshape(x, (784, 1)) for x in tr_d[0]]\n",
        "    training_results = [vectorized_result(y) for y in tr_d[1]]\n",
        "    training_data = zip(training_inputs, training_results)\n",
        "    validation_inputs = [np.reshape(x, (784, 1)) for x in va_d[0]]\n",
        "    validation_data = zip(validation_inputs, va_d[1])\n",
        "    test_inputs = [np.reshape(x, (784, 1)) for x in te_d[0]]\n",
        "    test_data = zip(test_inputs, te_d[1])\n",
        "    return (training_data, validation_data, test_data)\n",
        "\n",
        "def vectorized_result(j):\n",
        "    e = np.zeros((10, 1))\n",
        "    e[j] = 1.0\n",
        "    return e\n",
        "\n",
        "def all_data():\n",
        "  training_data, validation_data, test_data = load_data_wrapper()\n",
        "\n",
        "  training_data = list(training_data)\n",
        "  validation_data = list(validation_data)\n",
        "  test_data = list(test_data)\n",
        "\n",
        "  return training_data + validation_data + test_data"
      ],
      "execution_count": 0,
      "outputs": []
    },
    {
      "metadata": {
        "id": "a2V5r3YW95A4",
        "colab_type": "text"
      },
      "cell_type": "markdown",
      "source": [
        "#Executa a rede neural\n",
        "\n",
        "Parâmetros de rede:\n",
        "         2º param é contagem de épocas\n",
        "         3º param é tamanho do lote\n",
        "         4º param é a taxa de aprendizado (eta)\n",
        "\n",
        "##Mini-Projeto\n",
        "\n",
        "1) Realizar avaliaçao usando validação cruzada\n",
        "\n",
        "2) Modificar a taxa de aprendizagem pra diminuir com o tempo\n",
        "\n",
        "3) Realizar avaliações com a validação cruzada modificando os seguintes parâmetros:\n",
        "     \n",
        "     a) Taxa de aprendizagem: 0.5, 0.1 e 0.001\n",
        "     b) Função de ativação RELU\n",
        "     c) 3 diferentes configurações de neurônios na camada  intermediária\n",
        "\n",
        "\n",
        "Data de Entrega: 23/04/2019\n",
        "\n",
        "A partir dos melhores resultados obtidos na etapa anterior, resolver as seguintes questões:\n",
        "\n",
        "4) Implementar as regularizações L1 e L2\n",
        "\n",
        "5) Implementar o Momento\n",
        "\n",
        "6) Comparar os experimentos e explicar o que achou dos resultados.\n",
        "\n",
        "Data de Entrega: 30/04/2019\n",
        "\n",
        "\n"
      ]
    },
    {
      "metadata": {
        "id": "olUh0kwI3cIS",
        "colab_type": "code",
        "colab": {}
      },
      "cell_type": "code",
      "source": [
        "import pandas as pd\n",
        "from sklearn.model_selection import KFold"
      ],
      "execution_count": 0,
      "outputs": []
    },
    {
      "metadata": {
        "id": "Atfzs5x_Qro9",
        "colab_type": "code",
        "colab": {}
      },
      "cell_type": "code",
      "source": [
        "data = all_data()\n",
        "\n",
        "net = Network([784, 30, 10])"
      ],
      "execution_count": 0,
      "outputs": []
    },
    {
      "metadata": {
        "id": "bIyVWUbK37dl",
        "colab_type": "code",
        "colab": {
          "base_uri": "https://localhost:8080/",
          "height": 221
        },
        "outputId": "5a834f90-ddc6-4fd3-afc4-bb19605d4527"
      },
      "cell_type": "code",
      "source": [
        "acertos_dict = {}\n",
        "kf = KFold(n_splits=2)\n",
        "\n",
        "for i, index in enumerate(kf.split(data)):\n",
        "  train_index = index[0]\n",
        "  test_index = index[1]\n",
        "  \n",
        "  k = \"K {}\".format(i)\n",
        "  \n",
        "  print(k)\n",
        "  training_data = data[train_index[0]:train_index[-1]+1]\n",
        "  testing_data = data[test_index[0]:test_index[-1]+1]\n",
        "  \n",
        "  result = net.SGD(training_data, 5, 10, 3.0,test_data=testing_data)\n",
        "  acertos_dict[k] = sum(result.values())"
      ],
      "execution_count": 149,
      "outputs": [
        {
          "output_type": "stream",
          "text": [
            "K 0\n",
            "Epoch 0 : 3016 / 35000\n",
            "Epoch 1 : 2823 / 35000\n",
            "Epoch 2 : 1742 / 35000\n",
            "Epoch 3 : 2131 / 35000\n",
            "Epoch 4 : 973 / 35000\n",
            "K 1\n",
            "Epoch 0 : 977 / 35000\n",
            "Epoch 1 : 1230 / 35000\n",
            "Epoch 2 : 1525 / 35000\n",
            "Epoch 3 : 1525 / 35000\n",
            "Epoch 4 : 1525 / 35000\n"
          ],
          "name": "stdout"
        }
      ]
    },
    {
      "metadata": {
        "id": "GJc8F3SIJxPA",
        "colab_type": "code",
        "colab": {
          "base_uri": "https://localhost:8080/",
          "height": 111
        },
        "outputId": "369f1168-2805-404c-bcff-595101dc17f9"
      },
      "cell_type": "code",
      "source": [
        "pd.DataFrame({\n",
        "    'K': np.arange(kf.get_n_splits(data)),\n",
        "    'Acertos': list(acertos_dict.values())\n",
        "})\n"
      ],
      "execution_count": 150,
      "outputs": [
        {
          "output_type": "execute_result",
          "data": {
            "text/html": [
              "<div>\n",
              "<style scoped>\n",
              "    .dataframe tbody tr th:only-of-type {\n",
              "        vertical-align: middle;\n",
              "    }\n",
              "\n",
              "    .dataframe tbody tr th {\n",
              "        vertical-align: top;\n",
              "    }\n",
              "\n",
              "    .dataframe thead th {\n",
              "        text-align: right;\n",
              "    }\n",
              "</style>\n",
              "<table border=\"1\" class=\"dataframe\">\n",
              "  <thead>\n",
              "    <tr style=\"text-align: right;\">\n",
              "      <th></th>\n",
              "      <th>Acertos</th>\n",
              "      <th>K</th>\n",
              "    </tr>\n",
              "  </thead>\n",
              "  <tbody>\n",
              "    <tr>\n",
              "      <th>0</th>\n",
              "      <td>10685</td>\n",
              "      <td>0</td>\n",
              "    </tr>\n",
              "    <tr>\n",
              "      <th>1</th>\n",
              "      <td>6782</td>\n",
              "      <td>1</td>\n",
              "    </tr>\n",
              "  </tbody>\n",
              "</table>\n",
              "</div>"
            ],
            "text/plain": [
              "   Acertos  K\n",
              "0    10685  0\n",
              "1     6782  1"
            ]
          },
          "metadata": {
            "tags": []
          },
          "execution_count": 150
        }
      ]
    }
  ]
}