{
  "nbformat": 4,
  "nbformat_minor": 0,
  "metadata": {
    "colab": {
      "name": "Rede Neural Lenet e VGG",
      "version": "0.3.2",
      "provenance": [],
      "collapsed_sections": [],
      "include_colab_link": true
    },
    "kernelspec": {
      "name": "python3",
      "display_name": "Python 3"
    },
    "accelerator": "GPU"
  },
  "cells": [
    {
      "cell_type": "markdown",
      "metadata": {
        "id": "view-in-github",
        "colab_type": "text"
      },
      "source": [
        "<a href=\"https://colab.research.google.com/github/FernandaSzAdr/Redes-Neurais--UFRPE-2019.1/blob/master/CNN%20-%20Convolutional%20Neural%20Network/C%C3%B3digos/Rede_Neural_Lenet_e_VGG.ipynb\" target=\"_parent\"><img src=\"https://colab.research.google.com/assets/colab-badge.svg\" alt=\"Open In Colab\"/></a>"
      ]
    },
    {
      "cell_type": "markdown",
      "metadata": {
        "id": "wziql3WY62o0",
        "colab_type": "text"
      },
      "source": [
        "# Rede Neural Convolucional\n",
        "\n",
        "### Nessa aula, vamos treinar a rede Neural VGG com a base de dados CIFAR-10\n"
      ]
    },
    {
      "cell_type": "code",
      "metadata": {
        "id": "WppfDvBhkFfd",
        "colab_type": "code",
        "colab": {
          "base_uri": "https://localhost:8080/",
          "height": 34
        },
        "outputId": "08ab7865-fab1-4f20-d8c5-e6dd8b0cadae"
      },
      "source": [
        "# import the necessary packages\n",
        "#from pyimagesearch.nn.conv import LeNet\n",
        "from keras.optimizers import SGD\n",
        "from sklearn.preprocessing import LabelBinarizer\n",
        "from sklearn.metrics import classification_report\n",
        "from keras import backend as K\n",
        "import matplotlib.pyplot as plt\n",
        "import numpy as np\n",
        "\n",
        "from keras.models import Sequential\n",
        "from keras.layers.convolutional import Conv2D\n",
        "from keras.layers.convolutional import MaxPooling2D\n",
        "from keras.layers.core import Activation\n",
        "from keras.layers.core import Flatten\n",
        "from keras.layers.core import Dense"
      ],
      "execution_count": 1,
      "outputs": [
        {
          "output_type": "stream",
          "text": [
            "Using TensorFlow backend.\n"
          ],
          "name": "stderr"
        }
      ]
    },
    {
      "cell_type": "markdown",
      "metadata": {
        "id": "9nfbuLYVfAiM",
        "colab_type": "text"
      },
      "source": [
        "### 1. Carrega a Base de dados CIFAR-10"
      ]
    },
    {
      "cell_type": "code",
      "metadata": {
        "id": "Mg9ihtNj8pDo",
        "colab_type": "code",
        "colab": {
          "base_uri": "https://localhost:8080/",
          "height": 0
        },
        "outputId": "21c9ad03-64df-4f0e-ee6e-b582d09da17d"
      },
      "source": [
        "import keras\n",
        "from keras.datasets import cifar10\n",
        "\n",
        "# load the pre-shuffled train and test data\n",
        "(x_train, y_train), (x_test, y_test) = cifar10.load_data()"
      ],
      "execution_count": 2,
      "outputs": [
        {
          "output_type": "stream",
          "text": [
            "Downloading data from https://www.cs.toronto.edu/~kriz/cifar-10-python.tar.gz\n",
            "170500096/170498071 [==============================] - 41s 0us/step\n"
          ],
          "name": "stdout"
        }
      ]
    },
    {
      "cell_type": "markdown",
      "metadata": {
        "id": "G41PbCuK8qQH",
        "colab_type": "text"
      },
      "source": [
        "###2. Reescale as imagens dividindo todos os pixels por 255"
      ]
    },
    {
      "cell_type": "code",
      "metadata": {
        "id": "CeJg_vfa828R",
        "colab_type": "code",
        "colab": {}
      },
      "source": [
        "# rescale [0,255] --> [0,1]\n",
        "x_train = x_train.astype('float32')/255\n",
        "x_test = x_test.astype('float32')/255"
      ],
      "execution_count": 0,
      "outputs": []
    },
    {
      "cell_type": "markdown",
      "metadata": {
        "id": "qYO2Eone87MN",
        "colab_type": "text"
      },
      "source": [
        "### 4.  Dividir base de dados em conjuntos de treinamento, teste e validação."
      ]
    },
    {
      "cell_type": "code",
      "metadata": {
        "id": "WeikbgB68886",
        "colab_type": "code",
        "outputId": "6888ea6d-d471-4327-b78f-d92a8f8f4821",
        "colab": {
          "base_uri": "https://localhost:8080/",
          "height": 0
        }
      },
      "source": [
        "from keras.utils import np_utils\n",
        "\n",
        "# one-hot encode the labels\n",
        "num_classes = len(np.unique(y_train))\n",
        "y_train = keras.utils.to_categorical(y_train, num_classes)\n",
        "y_test = keras.utils.to_categorical(y_test, num_classes)\n",
        "\n",
        "# break training set into training and validation sets\n",
        "(x_train, x_valid) = x_train[5000:], x_train[:5000]\n",
        "(y_train, y_valid) = y_train[5000:], y_train[:5000]\n",
        "\n",
        "# print shape of training set\n",
        "print('x_train shape:', x_train.shape)\n",
        "\n",
        "# print number of training, validation, and test images\n",
        "print(x_train.shape[0], 'train samples')\n",
        "print(x_test.shape[0], 'test samples')\n",
        "print(x_valid.shape[0], 'validation samples')"
      ],
      "execution_count": 4,
      "outputs": [
        {
          "output_type": "stream",
          "text": [
            "x_train shape: (45000, 32, 32, 3)\n",
            "45000 train samples\n",
            "10000 test samples\n",
            "5000 validation samples\n"
          ],
          "name": "stdout"
        }
      ]
    },
    {
      "cell_type": "markdown",
      "metadata": {
        "id": "gfEq5XMP92vb",
        "colab_type": "text"
      },
      "source": [
        "## Modelo Lenet"
      ]
    },
    {
      "cell_type": "code",
      "metadata": {
        "id": "U27CsX1OkewH",
        "colab_type": "code",
        "colab": {}
      },
      "source": [
        "def build_LeNet(width, height, depth, classes):\n",
        "  # initialize the model\n",
        "  model = Sequential()\n",
        "  inputShape = (height, width, depth)\n",
        "\n",
        "  # first set of CONV => RELU => POOL layers\n",
        "  model.add(Conv2D(20, (5, 5), padding=\"same\",\n",
        "    input_shape=inputShape))\n",
        "  model.add(Activation(\"relu\"))\n",
        "  model.add(MaxPooling2D(pool_size=(2, 2), strides=(2, 2)))\n",
        "\n",
        "  # second set of CONV => RELU => POOL layers\n",
        "  model.add(Conv2D(50, (5, 5), padding=\"same\"))\n",
        "  model.add(Activation(\"relu\"))\n",
        "  model.add(MaxPooling2D(pool_size=(2, 2), strides=(2, 2)))\n",
        "\n",
        "  # first (and only) set of FC => RELU layers\n",
        "  model.add(Flatten())\n",
        "  model.add(Dense(500))\n",
        "  model.add(Activation(\"relu\"))\n",
        "\n",
        "  # softmax classifier\n",
        "  model.add(Dense(classes))\n",
        "  model.add(Activation(\"softmax\"))\n",
        "  \n",
        "  model.summary()\n",
        "  \n",
        "  # return the constructed network architecture\n",
        "  return model"
      ],
      "execution_count": 0,
      "outputs": []
    },
    {
      "cell_type": "markdown",
      "metadata": {
        "colab_type": "text",
        "id": "6ThgBUvQrjv0"
      },
      "source": [
        "### 5. Compile o modelo"
      ]
    },
    {
      "cell_type": "code",
      "metadata": {
        "colab_type": "code",
        "outputId": "f6aa4e57-02dc-4f17-ea40-177ee7dbd667",
        "id": "wvIlqZscrjwB",
        "colab": {
          "base_uri": "https://localhost:8080/",
          "height": 550
        }
      },
      "source": [
        "opt = SGD(lr=0.01)\n",
        "model = build_LeNet(width=32, height=32, depth=3, classes=10)\n",
        "model.compile(loss='categorical_crossentropy', optimizer=opt, \n",
        "                  metrics=['accuracy'])"
      ],
      "execution_count": 0,
      "outputs": [
        {
          "output_type": "stream",
          "text": [
            "_________________________________________________________________\n",
            "Layer (type)                 Output Shape              Param #   \n",
            "=================================================================\n",
            "conv2d_3 (Conv2D)            (None, 32, 32, 20)        1520      \n",
            "_________________________________________________________________\n",
            "activation_5 (Activation)    (None, 32, 32, 20)        0         \n",
            "_________________________________________________________________\n",
            "max_pooling2d_3 (MaxPooling2 (None, 16, 16, 20)        0         \n",
            "_________________________________________________________________\n",
            "conv2d_4 (Conv2D)            (None, 16, 16, 50)        25050     \n",
            "_________________________________________________________________\n",
            "activation_6 (Activation)    (None, 16, 16, 50)        0         \n",
            "_________________________________________________________________\n",
            "max_pooling2d_4 (MaxPooling2 (None, 8, 8, 50)          0         \n",
            "_________________________________________________________________\n",
            "flatten_2 (Flatten)          (None, 3200)              0         \n",
            "_________________________________________________________________\n",
            "dense_3 (Dense)              (None, 500)               1600500   \n",
            "_________________________________________________________________\n",
            "activation_7 (Activation)    (None, 500)               0         \n",
            "_________________________________________________________________\n",
            "dense_4 (Dense)              (None, 10)                5010      \n",
            "_________________________________________________________________\n",
            "activation_8 (Activation)    (None, 10)                0         \n",
            "=================================================================\n",
            "Total params: 1,632,080\n",
            "Trainable params: 1,632,080\n",
            "Non-trainable params: 0\n",
            "_________________________________________________________________\n"
          ],
          "name": "stdout"
        }
      ]
    },
    {
      "cell_type": "markdown",
      "metadata": {
        "colab_type": "text",
        "id": "sJmaCtnDrjwc"
      },
      "source": [
        "### 6. Treine o Modelo"
      ]
    },
    {
      "cell_type": "code",
      "metadata": {
        "colab_type": "code",
        "outputId": "cd628ab9-fa10-4f2c-eb15-9cc4bb602cab",
        "id": "7Gt5ZQSarjwe",
        "colab": {
          "base_uri": "https://localhost:8080/"
        }
      },
      "source": [
        "from keras.callbacks import ModelCheckpoint   \n",
        "\n",
        "# train the model\n",
        "checkpointer = ModelCheckpoint(filepath='model.weights.best.lenet.hdf5', verbose=1, \n",
        "                               save_best_only=True)\n",
        "hist = model.fit(x_train, y_train, batch_size=128, epochs=20,\n",
        "          validation_data=(x_valid, y_valid), callbacks=[checkpointer], \n",
        "          verbose=2, shuffle=True)"
      ],
      "execution_count": 0,
      "outputs": [
        {
          "output_type": "stream",
          "text": [
            "Train on 45000 samples, validate on 5000 samples\n",
            "Epoch 1/20\n",
            " - 3s - loss: 2.1311 - acc: 0.2259 - val_loss: 2.0042 - val_acc: 0.2840\n",
            "\n",
            "Epoch 00001: val_loss improved from inf to 2.00420, saving model to model.weights.best.lenet.hdf5\n",
            "Epoch 2/20\n",
            " - 3s - loss: 1.8840 - acc: 0.3331 - val_loss: 1.7875 - val_acc: 0.3584\n",
            "\n",
            "Epoch 00002: val_loss improved from 2.00420 to 1.78751, saving model to model.weights.best.lenet.hdf5\n",
            "Epoch 3/20\n",
            " - 3s - loss: 1.7378 - acc: 0.3854 - val_loss: 1.6967 - val_acc: 0.3940\n",
            "\n",
            "Epoch 00003: val_loss improved from 1.78751 to 1.69669, saving model to model.weights.best.lenet.hdf5\n",
            "Epoch 4/20\n",
            " - 3s - loss: 1.6197 - acc: 0.4284 - val_loss: 1.5684 - val_acc: 0.4366\n",
            "\n",
            "Epoch 00004: val_loss improved from 1.69669 to 1.56835, saving model to model.weights.best.lenet.hdf5\n",
            "Epoch 5/20\n",
            " - 3s - loss: 1.5329 - acc: 0.4580 - val_loss: 1.5495 - val_acc: 0.4554\n",
            "\n",
            "Epoch 00005: val_loss improved from 1.56835 to 1.54952, saving model to model.weights.best.lenet.hdf5\n",
            "Epoch 6/20\n",
            " - 3s - loss: 1.4668 - acc: 0.4805 - val_loss: 1.4427 - val_acc: 0.4810\n",
            "\n",
            "Epoch 00006: val_loss improved from 1.54952 to 1.44274, saving model to model.weights.best.lenet.hdf5\n",
            "Epoch 7/20\n",
            " - 3s - loss: 1.4148 - acc: 0.4995 - val_loss: 1.4126 - val_acc: 0.4884\n",
            "\n",
            "Epoch 00007: val_loss improved from 1.44274 to 1.41257, saving model to model.weights.best.lenet.hdf5\n",
            "Epoch 8/20\n",
            " - 3s - loss: 1.3721 - acc: 0.5150 - val_loss: 1.3595 - val_acc: 0.5098\n",
            "\n",
            "Epoch 00008: val_loss improved from 1.41257 to 1.35948, saving model to model.weights.best.lenet.hdf5\n",
            "Epoch 9/20\n",
            " - 3s - loss: 1.3299 - acc: 0.5312 - val_loss: 1.3665 - val_acc: 0.5188\n",
            "\n",
            "Epoch 00009: val_loss did not improve from 1.35948\n",
            "Epoch 10/20\n",
            " - 3s - loss: 1.2948 - acc: 0.5465 - val_loss: 1.2678 - val_acc: 0.5488\n",
            "\n",
            "Epoch 00010: val_loss improved from 1.35948 to 1.26780, saving model to model.weights.best.lenet.hdf5\n",
            "Epoch 11/20\n",
            " - 3s - loss: 1.2653 - acc: 0.5567 - val_loss: 1.3511 - val_acc: 0.5160\n",
            "\n",
            "Epoch 00011: val_loss did not improve from 1.26780\n",
            "Epoch 12/20\n",
            " - 3s - loss: 1.2337 - acc: 0.5687 - val_loss: 1.2361 - val_acc: 0.5586\n",
            "\n",
            "Epoch 00012: val_loss improved from 1.26780 to 1.23609, saving model to model.weights.best.lenet.hdf5\n",
            "Epoch 13/20\n",
            " - 3s - loss: 1.1987 - acc: 0.5823 - val_loss: 1.2197 - val_acc: 0.5678\n",
            "\n",
            "Epoch 00013: val_loss improved from 1.23609 to 1.21975, saving model to model.weights.best.lenet.hdf5\n",
            "Epoch 14/20\n",
            " - 3s - loss: 1.1666 - acc: 0.5924 - val_loss: 1.1990 - val_acc: 0.5748\n",
            "\n",
            "Epoch 00014: val_loss improved from 1.21975 to 1.19899, saving model to model.weights.best.lenet.hdf5\n",
            "Epoch 15/20\n",
            " - 3s - loss: 1.1390 - acc: 0.6035 - val_loss: 1.1530 - val_acc: 0.5908\n",
            "\n",
            "Epoch 00015: val_loss improved from 1.19899 to 1.15300, saving model to model.weights.best.lenet.hdf5\n",
            "Epoch 16/20\n",
            " - 3s - loss: 1.1079 - acc: 0.6158 - val_loss: 1.3265 - val_acc: 0.5332\n",
            "\n",
            "Epoch 00016: val_loss did not improve from 1.15300\n",
            "Epoch 17/20\n",
            " - 3s - loss: 1.0800 - acc: 0.6252 - val_loss: 1.1106 - val_acc: 0.5998\n",
            "\n",
            "Epoch 00017: val_loss improved from 1.15300 to 1.11059, saving model to model.weights.best.lenet.hdf5\n",
            "Epoch 18/20\n",
            " - 3s - loss: 1.0536 - acc: 0.6344 - val_loss: 1.1339 - val_acc: 0.5946\n",
            "\n",
            "Epoch 00018: val_loss did not improve from 1.11059\n",
            "Epoch 19/20\n",
            " - 3s - loss: 1.0315 - acc: 0.6411 - val_loss: 1.1375 - val_acc: 0.6004\n",
            "\n",
            "Epoch 00019: val_loss did not improve from 1.11059\n",
            "Epoch 20/20\n",
            " - 3s - loss: 1.0073 - acc: 0.6537 - val_loss: 1.0741 - val_acc: 0.6180\n",
            "\n",
            "Epoch 00020: val_loss improved from 1.11059 to 1.07410, saving model to model.weights.best.lenet.hdf5\n"
          ],
          "name": "stdout"
        }
      ]
    },
    {
      "cell_type": "markdown",
      "metadata": {
        "colab_type": "text",
        "id": "t5MoHbd1rjwt"
      },
      "source": [
        "### 7. Carrege o modelo com a melhor acurácia no conjunto de validação"
      ]
    },
    {
      "cell_type": "code",
      "metadata": {
        "colab_type": "code",
        "id": "jXNS8Dv8rjwv",
        "colab": {}
      },
      "source": [
        "# load the weights that yielded the best validation accuracy\n",
        "model.load_weights('model.weights.best.lenet.hdf5')"
      ],
      "execution_count": 0,
      "outputs": []
    },
    {
      "cell_type": "markdown",
      "metadata": {
        "colab_type": "text",
        "id": "dR2X0R8Irjw5"
      },
      "source": [
        "### 8. Calcule a acurácia no conjunto de teste"
      ]
    },
    {
      "cell_type": "code",
      "metadata": {
        "colab_type": "code",
        "outputId": "ab08bad7-96ba-4fe4-a1bf-91f42c98f986",
        "id": "ny3lSbUsrjw6",
        "colab": {
          "base_uri": "https://localhost:8080/",
          "height": 54
        }
      },
      "source": [
        "# evaluate and print test accuracy\n",
        "score = model.evaluate(x_test, y_test, verbose=0)\n",
        "print('\\n', 'Test accuracy:', score[1])"
      ],
      "execution_count": 0,
      "outputs": [
        {
          "output_type": "stream",
          "text": [
            "\n",
            " Test accuracy: 0.6226\n"
          ],
          "name": "stdout"
        }
      ]
    },
    {
      "cell_type": "markdown",
      "metadata": {
        "colab_type": "text",
        "id": "wOP_K2yZrjxB"
      },
      "source": [
        "### 9. Informações sobre acurácia no treinamento"
      ]
    },
    {
      "cell_type": "code",
      "metadata": {
        "colab_type": "code",
        "outputId": "882e63cb-d72c-4eee-a9c1-67656100c834",
        "id": "lSUsJNZ7rjxE",
        "colab": {
          "base_uri": "https://localhost:8080/",
          "height": 630
        }
      },
      "source": [
        "# evaluate the network\n",
        "print(\"[INFO] evaluating network...\")\n",
        "\n",
        "# get predictions on the test set\n",
        "predictions = model.predict(x_test, batch_size=128)\n",
        "\n",
        "# define text labels (source: https://www.cs.toronto.edu/~kriz/cifar.html)\n",
        "cifar10_labels = ['airplane', 'automobile', 'bird', 'cat', 'deer', 'dog', 'frog',\n",
        "                  'horse', 'ship', 'truck']\n",
        "\n",
        "\n",
        "print(classification_report(y_test.argmax(axis=1),\n",
        "predictions.argmax(axis=1),\n",
        "target_names=cifar10_labels))\n",
        "\n",
        "# plot the training loss and accuracy\n",
        "plt.style.use(\"ggplot\")\n",
        "plt.figure()\n",
        "plt.plot(np.arange(0, 20), hist.history[\"loss\"], label=\"train_loss\" )\n",
        "plt.plot(np.arange(0, 20), hist.history[\"val_loss\"], label=\"val_loss\")\n",
        "plt.plot(np.arange(0, 20), hist.history[\"acc\" ], label=\"train_acc\" )\n",
        "plt.plot(np.arange(0, 20), hist.history[\"val_acc\"], label=\"val_acc\")\n",
        "plt.title(\"Training Loss and Accuracy\")\n",
        "plt.xlabel(\"Epoch #\")\n",
        "plt.ylabel(\"Loss/Accuracy\")\n",
        "plt.legend()\n",
        "plt.show()"
      ],
      "execution_count": 0,
      "outputs": [
        {
          "output_type": "stream",
          "text": [
            "[INFO] evaluating network...\n",
            "              precision    recall  f1-score   support\n",
            "\n",
            "    airplane       0.69      0.70      0.70      1000\n",
            "  automobile       0.79      0.64      0.71      1000\n",
            "        bird       0.65      0.31      0.42      1000\n",
            "         cat       0.53      0.32      0.40      1000\n",
            "        deer       0.50      0.65      0.56      1000\n",
            "         dog       0.52      0.61      0.56      1000\n",
            "        frog       0.64      0.77      0.70      1000\n",
            "       horse       0.66      0.73      0.69      1000\n",
            "        ship       0.73      0.76      0.74      1000\n",
            "       truck       0.59      0.74      0.66      1000\n",
            "\n",
            "   micro avg       0.62      0.62      0.62     10000\n",
            "   macro avg       0.63      0.62      0.61     10000\n",
            "weighted avg       0.63      0.62      0.61     10000\n",
            "\n"
          ],
          "name": "stdout"
        },
        {
          "output_type": "display_data",
          "data": {
            "image/png": "[encoded data removed]",
            "text/plain": [
              "<Figure size 432x288 with 1 Axes>"
            ]
          },
          "metadata": {
            "tags": []
          }
        }
      ]
    },
    {
      "cell_type": "markdown",
      "metadata": {
        "id": "rbNA7trm-UFq",
        "colab_type": "text"
      },
      "source": [
        "## Modelo MiniVGG"
      ]
    },
    {
      "cell_type": "code",
      "metadata": {
        "id": "PU54qS0nD7QS",
        "colab_type": "code",
        "colab": {}
      },
      "source": [
        "from keras.layers.normalization import BatchNormalization\n",
        "from keras.layers.core import Dropout\n",
        "\n",
        "def build_MiniVGG(width, height, depth, classes):\n",
        "  # initialize the model\n",
        "  model = Sequential()\n",
        "  inputShape = (height, width, depth)# first CONV => RELU => CONV => RELU => POOL layer set\n",
        "  model.add(Conv2D(32, (3, 3), padding=\"same\",\n",
        "  input_shape=inputShape))\n",
        "  model.add(Activation(\"relu\"))\n",
        "  model.add(BatchNormalization(axis=2))\n",
        "  model.add(Conv2D(32, (3, 3), padding=\"same\"))\n",
        "  model.add(Activation(\"relu\"))\n",
        "  model.add(BatchNormalization(axis=2))\n",
        "  model.add(MaxPooling2D(pool_size=(2, 2)))\n",
        "  model.add(Dropout(0.25))\n",
        "  \n",
        "  # second CONV => RELU => CONV => RELU => POOL layer set\n",
        "  model.add(Conv2D(64, (3, 3), padding=\"same\"))\n",
        "  model.add(Activation(\"relu\"))\n",
        "  model.add(BatchNormalization(axis=2))\n",
        "  model.add(Conv2D(64, (3, 3), padding=\"same\"))\n",
        "  model.add(Activation(\"relu\"))\n",
        "  model.add(BatchNormalization(axis=2))\n",
        "  model.add(MaxPooling2D(pool_size=(2, 2)))\n",
        "  model.add(Dropout(0.25))\n",
        "  \n",
        "  # first (and only) set of FC => RELU layers\n",
        "  model.add(Flatten())\n",
        "  model.add(Dense(512))\n",
        "  model.add(Activation(\"relu\"))\n",
        "  model.add(BatchNormalization())\n",
        "  model.add(Dropout(0.5))\n",
        "  \n",
        "  # softmax classifier\n",
        "  model.add(Dense(classes))\n",
        "  model.add(Activation(\"softmax\"))\n",
        "  \n",
        "  model.summary()\n",
        "  \n",
        "  # return the constructed network architecture\n",
        "  return model\n",
        "  "
      ],
      "execution_count": 0,
      "outputs": []
    },
    {
      "cell_type": "markdown",
      "metadata": {
        "id": "_ako4TaV_LZ9",
        "colab_type": "text"
      },
      "source": [
        "### 5. Compile o modelo "
      ]
    },
    {
      "cell_type": "code",
      "metadata": {
        "id": "UhXIPFVQ_ON-",
        "colab_type": "code",
        "outputId": "9c44fc4f-0559-4b1c-9de8-faa1e03c3790",
        "colab": {
          "base_uri": "https://localhost:8080/",
          "height": 1066
        }
      },
      "source": [
        "opt = SGD(lr=0.01)\n",
        "model = build_MiniVGG(width=32, height=32, depth=3, classes=10)\n",
        "model.compile(loss='categorical_crossentropy', optimizer=opt, \n",
        "                  metrics=['accuracy'])"
      ],
      "execution_count": 0,
      "outputs": [
        {
          "output_type": "stream",
          "text": [
            "WARNING:tensorflow:From /usr/local/lib/python3.6/dist-packages/keras/backend/tensorflow_backend.py:3445: calling dropout (from tensorflow.python.ops.nn_ops) with keep_prob is deprecated and will be removed in a future version.\n",
            "Instructions for updating:\n",
            "Please use `rate` instead of `keep_prob`. Rate should be set to `rate = 1 - keep_prob`.\n",
            "_________________________________________________________________\n",
            "Layer (type)                 Output Shape              Param #   \n",
            "=================================================================\n",
            "conv2d_5 (Conv2D)            (None, 32, 32, 32)        896       \n",
            "_________________________________________________________________\n",
            "activation_9 (Activation)    (None, 32, 32, 32)        0         \n",
            "_________________________________________________________________\n",
            "batch_normalization_1 (Batch (None, 32, 32, 32)        128       \n",
            "_________________________________________________________________\n",
            "conv2d_6 (Conv2D)            (None, 32, 32, 32)        9248      \n",
            "_________________________________________________________________\n",
            "activation_10 (Activation)   (None, 32, 32, 32)        0         \n",
            "_________________________________________________________________\n",
            "batch_normalization_2 (Batch (None, 32, 32, 32)        128       \n",
            "_________________________________________________________________\n",
            "max_pooling2d_5 (MaxPooling2 (None, 16, 16, 32)        0         \n",
            "_________________________________________________________________\n",
            "dropout_1 (Dropout)          (None, 16, 16, 32)        0         \n",
            "_________________________________________________________________\n",
            "conv2d_7 (Conv2D)            (None, 16, 16, 64)        18496     \n",
            "_________________________________________________________________\n",
            "activation_11 (Activation)   (None, 16, 16, 64)        0         \n",
            "_________________________________________________________________\n",
            "batch_normalization_3 (Batch (None, 16, 16, 64)        64        \n",
            "_________________________________________________________________\n",
            "conv2d_8 (Conv2D)            (None, 16, 16, 64)        36928     \n",
            "_________________________________________________________________\n",
            "activation_12 (Activation)   (None, 16, 16, 64)        0         \n",
            "_________________________________________________________________\n",
            "batch_normalization_4 (Batch (None, 16, 16, 64)        64        \n",
            "_________________________________________________________________\n",
            "max_pooling2d_6 (MaxPooling2 (None, 8, 8, 64)          0         \n",
            "_________________________________________________________________\n",
            "dropout_2 (Dropout)          (None, 8, 8, 64)          0         \n",
            "_________________________________________________________________\n",
            "flatten_3 (Flatten)          (None, 4096)              0         \n",
            "_________________________________________________________________\n",
            "dense_5 (Dense)              (None, 512)               2097664   \n",
            "_________________________________________________________________\n",
            "activation_13 (Activation)   (None, 512)               0         \n",
            "_________________________________________________________________\n",
            "batch_normalization_5 (Batch (None, 512)               2048      \n",
            "_________________________________________________________________\n",
            "dropout_3 (Dropout)          (None, 512)               0         \n",
            "_________________________________________________________________\n",
            "dense_6 (Dense)              (None, 10)                5130      \n",
            "_________________________________________________________________\n",
            "activation_14 (Activation)   (None, 10)                0         \n",
            "=================================================================\n",
            "Total params: 2,170,794\n",
            "Trainable params: 2,169,578\n",
            "Non-trainable params: 1,216\n",
            "_________________________________________________________________\n"
          ],
          "name": "stdout"
        }
      ]
    },
    {
      "cell_type": "markdown",
      "metadata": {
        "id": "J9C2tpWs_oF4",
        "colab_type": "text"
      },
      "source": [
        "### 6. Treine o Modelo"
      ]
    },
    {
      "cell_type": "code",
      "metadata": {
        "id": "qMNki4Ou_rFd",
        "colab_type": "code",
        "outputId": "b69fa161-09d0-4255-cd19-981e2c6c50c3",
        "colab": {
          "base_uri": "https://localhost:8080/",
          "height": 1525
        }
      },
      "source": [
        "from keras.callbacks import ModelCheckpoint   \n",
        "\n",
        "# train the model\n",
        "checkpointer = ModelCheckpoint(filepath='model.weights.best.minivgg.hdf5', verbose=1, \n",
        "                               save_best_only=True)\n",
        "hist = model.fit(x_train, y_train, batch_size=128, epochs=20,\n",
        "          validation_data=(x_valid, y_valid), callbacks=[checkpointer], \n",
        "          verbose=2, shuffle=True)"
      ],
      "execution_count": 0,
      "outputs": [
        {
          "output_type": "stream",
          "text": [
            "Train on 45000 samples, validate on 5000 samples\n",
            "Epoch 1/20\n",
            " - 12s - loss: 2.3434 - acc: 0.2682 - val_loss: 1.5887 - val_acc: 0.4338\n",
            "\n",
            "Epoch 00001: val_loss improved from inf to 1.58867, saving model to model.weights.best.minivgg.hdf5\n",
            "Epoch 2/20\n",
            " - 10s - loss: 1.7504 - acc: 0.3927 - val_loss: 1.4603 - val_acc: 0.4828\n",
            "\n",
            "Epoch 00002: val_loss improved from 1.58867 to 1.46035, saving model to model.weights.best.minivgg.hdf5\n",
            "Epoch 3/20\n",
            " - 10s - loss: 1.5336 - acc: 0.4557 - val_loss: 1.3968 - val_acc: 0.4968\n",
            "\n",
            "Epoch 00003: val_loss improved from 1.46035 to 1.39679, saving model to model.weights.best.minivgg.hdf5\n",
            "Epoch 4/20\n",
            " - 10s - loss: 1.4017 - acc: 0.5003 - val_loss: 1.2989 - val_acc: 0.5334\n",
            "\n",
            "Epoch 00004: val_loss improved from 1.39679 to 1.29894, saving model to model.weights.best.minivgg.hdf5\n",
            "Epoch 5/20\n",
            " - 10s - loss: 1.3070 - acc: 0.5325 - val_loss: 1.2286 - val_acc: 0.5582\n",
            "\n",
            "Epoch 00005: val_loss improved from 1.29894 to 1.22856, saving model to model.weights.best.minivgg.hdf5\n",
            "Epoch 6/20\n",
            " - 10s - loss: 1.2280 - acc: 0.5622 - val_loss: 1.1191 - val_acc: 0.5876\n",
            "\n",
            "Epoch 00006: val_loss improved from 1.22856 to 1.11909, saving model to model.weights.best.minivgg.hdf5\n",
            "Epoch 7/20\n",
            " - 10s - loss: 1.1630 - acc: 0.5868 - val_loss: 1.1001 - val_acc: 0.6014\n",
            "\n",
            "Epoch 00007: val_loss improved from 1.11909 to 1.10011, saving model to model.weights.best.minivgg.hdf5\n",
            "Epoch 8/20\n",
            " - 10s - loss: 1.1073 - acc: 0.6055 - val_loss: 1.1062 - val_acc: 0.6038\n",
            "\n",
            "Epoch 00008: val_loss did not improve from 1.10011\n",
            "Epoch 9/20\n",
            " - 10s - loss: 1.0711 - acc: 0.6194 - val_loss: 1.1617 - val_acc: 0.5852\n",
            "\n",
            "Epoch 00009: val_loss did not improve from 1.10011\n",
            "Epoch 10/20\n",
            " - 10s - loss: 1.0398 - acc: 0.6267 - val_loss: 1.0446 - val_acc: 0.6294\n",
            "\n",
            "Epoch 00010: val_loss improved from 1.10011 to 1.04461, saving model to model.weights.best.minivgg.hdf5\n",
            "Epoch 11/20\n",
            " - 10s - loss: 1.0105 - acc: 0.6410 - val_loss: 1.1172 - val_acc: 0.5902\n",
            "\n",
            "Epoch 00011: val_loss did not improve from 1.04461\n",
            "Epoch 12/20\n",
            " - 10s - loss: 0.9854 - acc: 0.6490 - val_loss: 0.8952 - val_acc: 0.6746\n",
            "\n",
            "Epoch 00012: val_loss improved from 1.04461 to 0.89515, saving model to model.weights.best.minivgg.hdf5\n",
            "Epoch 13/20\n",
            " - 10s - loss: 0.9556 - acc: 0.6600 - val_loss: 0.9361 - val_acc: 0.6666\n",
            "\n",
            "Epoch 00013: val_loss did not improve from 0.89515\n",
            "Epoch 14/20\n",
            " - 10s - loss: 0.9270 - acc: 0.6703 - val_loss: 0.8637 - val_acc: 0.6920\n",
            "\n",
            "Epoch 00014: val_loss improved from 0.89515 to 0.86366, saving model to model.weights.best.minivgg.hdf5\n",
            "Epoch 15/20\n",
            " - 10s - loss: 0.9078 - acc: 0.6787 - val_loss: 0.9419 - val_acc: 0.6606\n",
            "\n",
            "Epoch 00015: val_loss did not improve from 0.86366\n",
            "Epoch 16/20\n",
            " - 10s - loss: 0.8900 - acc: 0.6861 - val_loss: 0.8853 - val_acc: 0.6804\n",
            "\n",
            "Epoch 00016: val_loss did not improve from 0.86366\n",
            "Epoch 17/20\n",
            " - 10s - loss: 0.8669 - acc: 0.6927 - val_loss: 0.8091 - val_acc: 0.7094\n",
            "\n",
            "Epoch 00017: val_loss improved from 0.86366 to 0.80913, saving model to model.weights.best.minivgg.hdf5\n",
            "Epoch 18/20\n",
            " - 10s - loss: 0.8517 - acc: 0.6982 - val_loss: 0.9913 - val_acc: 0.6506\n",
            "\n",
            "Epoch 00018: val_loss did not improve from 0.80913\n",
            "Epoch 19/20\n",
            " - 10s - loss: 0.8305 - acc: 0.7073 - val_loss: 0.8023 - val_acc: 0.7190\n",
            "\n",
            "Epoch 00019: val_loss improved from 0.80913 to 0.80226, saving model to model.weights.best.minivgg.hdf5\n",
            "Epoch 20/20\n",
            " - 10s - loss: 0.8174 - acc: 0.7086 - val_loss: 0.8452 - val_acc: 0.7012\n",
            "\n",
            "Epoch 00020: val_loss did not improve from 0.80226\n"
          ],
          "name": "stdout"
        }
      ]
    },
    {
      "cell_type": "markdown",
      "metadata": {
        "id": "kVuD-3YRApuZ",
        "colab_type": "text"
      },
      "source": [
        "### 7. Carrege o modelo com a melhor acurácia no conjunto de validação"
      ]
    },
    {
      "cell_type": "code",
      "metadata": {
        "id": "2hRoZP7lAz4_",
        "colab_type": "code",
        "colab": {}
      },
      "source": [
        "# load the weights that yielded the best validation accuracy\n",
        "model.load_weights('model.weights.best.minivgg.hdf5')"
      ],
      "execution_count": 0,
      "outputs": []
    },
    {
      "cell_type": "markdown",
      "metadata": {
        "id": "oGZZwhU2A08d",
        "colab_type": "text"
      },
      "source": [
        "### 8. Calcule a acurácia no conjunto de teste"
      ]
    },
    {
      "cell_type": "code",
      "metadata": {
        "id": "pOu79m9dA-5D",
        "colab_type": "code",
        "outputId": "6c8c4bc2-28d1-4bf8-d52c-4004ffe810cf",
        "colab": {
          "base_uri": "https://localhost:8080/",
          "height": 54
        }
      },
      "source": [
        "# evaluate and print test accuracy\n",
        "score = model.evaluate(x_test, y_test, verbose=0)\n",
        "print('\\n', 'Test accuracy:', score[1])"
      ],
      "execution_count": 0,
      "outputs": [
        {
          "output_type": "stream",
          "text": [
            "\n",
            " Test accuracy: 0.71\n"
          ],
          "name": "stdout"
        }
      ]
    },
    {
      "cell_type": "markdown",
      "metadata": {
        "id": "yb9V707SDIFc",
        "colab_type": "text"
      },
      "source": [
        "### 9. Informações sobre acurácia no treinamento"
      ]
    },
    {
      "cell_type": "code",
      "metadata": {
        "id": "DkumElTUH622",
        "colab_type": "code",
        "outputId": "a2af8afd-ced7-4ca9-9fd1-76b8e92beb91",
        "colab": {
          "base_uri": "https://localhost:8080/",
          "height": 630
        }
      },
      "source": [
        "# evaluate the network\n",
        "print(\"[INFO] evaluating network...\")\n",
        "\n",
        "# get predictions on the test set\n",
        "predictions = model.predict(x_test, batch_size=128)\n",
        "\n",
        "# define text labels (source: https://www.cs.toronto.edu/~kriz/cifar.html)\n",
        "cifar10_labels = ['airplane', 'automobile', 'bird', 'cat', 'deer', 'dog', 'frog',\n",
        "                  'horse', 'ship', 'truck']\n",
        "\n",
        "\n",
        "print(classification_report(y_test.argmax(axis=1),\n",
        "predictions.argmax(axis=1),\n",
        "target_names=cifar10_labels))\n",
        "\n",
        "# plot the training loss and accuracy\n",
        "plt.style.use(\"ggplot\")\n",
        "plt.figure()\n",
        "plt.plot(np.arange(0, 20), hist.history[\"loss\"], label=\"train_loss\" )\n",
        "plt.plot(np.arange(0, 20), hist.history[\"val_loss\"], label=\"val_loss\")\n",
        "plt.plot(np.arange(0, 20), hist.history[\"acc\" ], label=\"train_acc\" )\n",
        "plt.plot(np.arange(0, 20), hist.history[\"val_acc\"], label=\"val_acc\")\n",
        "plt.title(\"Training Loss and Accuracy\")\n",
        "plt.xlabel(\"Epoch #\")\n",
        "plt.ylabel(\"Loss/Accuracy\")\n",
        "plt.legend()\n",
        "plt.show()"
      ],
      "execution_count": 0,
      "outputs": [
        {
          "output_type": "stream",
          "text": [
            "[INFO] evaluating network...\n",
            "              precision    recall  f1-score   support\n",
            "\n",
            "    airplane       0.80      0.68      0.74      1000\n",
            "  automobile       0.89      0.80      0.84      1000\n",
            "        bird       0.70      0.47      0.57      1000\n",
            "         cat       0.61      0.40      0.48      1000\n",
            "        deer       0.53      0.80      0.64      1000\n",
            "         dog       0.67      0.57      0.62      1000\n",
            "        frog       0.66      0.87      0.75      1000\n",
            "       horse       0.77      0.77      0.77      1000\n",
            "        ship       0.78      0.88      0.83      1000\n",
            "       truck       0.78      0.84      0.81      1000\n",
            "\n",
            "   micro avg       0.71      0.71      0.71     10000\n",
            "   macro avg       0.72      0.71      0.70     10000\n",
            "weighted avg       0.72      0.71      0.70     10000\n",
            "\n"
          ],
          "name": "stdout"
        },
        {
          "output_type": "display_data",
          "data": {
            "image/png": "[encoded data removed]",
            "text/plain": [
              "<Figure size 432x288 with 1 Axes>"
            ]
          },
          "metadata": {
            "tags": []
          }
        }
      ]
    },
    {
      "cell_type": "markdown",
      "metadata": {
        "id": "KtsNOi--O0dT",
        "colab_type": "text"
      },
      "source": [
        "##Exercício\n",
        "\n",
        "1. Compare a arquitetura criada MiniVGG com a VGG16. Quais são as principais diferenças? Formule uma nova arquitetura VGG16.\n",
        "\n",
        "2. Compare a arquitetura criada LENET com a AlexNet. Quais são as principais diferenças? Formule uma nova arquitetura da AlexNet.\n",
        "\n"
      ]
    },
    {
      "cell_type": "markdown",
      "metadata": {
        "id": "j1Wzp_upj__b",
        "colab_type": "text"
      },
      "source": [
        "\n",
        "\n",
        "---\n",
        "\n",
        "Resposta:\n",
        "\n",
        "1.   A **MiniVGG** implementada possui duas camadas convolutivas com 32 filtros, antes da verdadeira camada inicial proposta pela **VGG16**, que seria com 64 filtros. A segunda diferença que pode ser observada, é a ausência das camadas convolutivas maiores de 128, 256, 512 filtros e das camadas totalmente conectadas antes da camada de output. Além disso, no **MiniVGG** foi utilizado camadas de bachnormalization após as camadas de convolução. Tirando esses fatores, a **MiniVGG** possui o mesmo tipo de distribuição das camadas da **VGG16**, que são CONV > CONV > POLL > CONV > CONV > POLL > FC > FC\n",
        "\n",
        "\n",
        "2.   Na arquitetura **LENET** as camadas estão distribuidas da seguinte forma: CONV > POLL > CONV > POLL > FC > FC, possuindo assim no total 8 camadas (contando com o input e o output). Enquanto que na arquitetura **AlexNet** a distribuição ocorre: CONV > POLL > NORM > CONV > POLL > NORM > CONV > CONV > CONV > POLL > FC > FC > FC, no total 15 camadas (contando com o input e o output).\n",
        " Além de uma distribuição diferente de camadas, é observado que na **LENET** o número de filtros convolutivos vão aumentando aos poucos, saindo de 20 filtros de tamanho 5x5, para 50 filtros de tamanho 5x5. Diferente do **AlexNet** que inicia sua arquitetura com 96 filtros de tamanho 55x55 e após isso, ocorreu um aumento na quantidade de filtros mas uma redução no tamanho dos filtros.\n",
        " Por fim, dado esses fatores e sabendo-se que também é utilizado data augmentation e dropout, pode-se afirmar que a arquitetura **AlexNet** alcançará provavelmente melhores resultados que a **LENET**, além de possuir menos overfitting.\n"
      ]
    },
    {
      "cell_type": "markdown",
      "metadata": {
        "id": "nQuYMuODupsi",
        "colab_type": "text"
      },
      "source": [
        "### NewMiniVGG"
      ]
    },
    {
      "cell_type": "code",
      "metadata": {
        "id": "yLjGMeC3moUC",
        "colab_type": "code",
        "colab": {}
      },
      "source": [
        "from keras.layers.normalization import BatchNormalization\n",
        "from keras.layers.core import Dropout\n",
        "\n",
        "def build_NewMiniVGG(width, height, depth, classes):\n",
        "  # initialize the model\n",
        "  model = Sequential()\n",
        "  inputShape = (height, width, depth)# first CONV => RELU => CONV => RELU => POOL layer set\n",
        "  model.add(Conv2D(64, (3, 3), padding=\"same\",\n",
        "  input_shape=inputShape))\n",
        "  model.add(Activation(\"relu\"))\n",
        "  model.add(BatchNormalization(axis=2))\n",
        "  model.add(Conv2D(64, (3, 3), padding=\"same\"))\n",
        "  model.add(Activation(\"relu\"))\n",
        "  model.add(BatchNormalization(axis=2))\n",
        "  model.add(MaxPooling2D(pool_size=(2, 2)))\n",
        "  model.add(Dropout(0.25))\n",
        "  \n",
        "  # second CONV => RELU => CONV => RELU => POOL layer set\n",
        "  model.add(Conv2D(128, (3, 3), padding=\"same\"))\n",
        "  model.add(Activation(\"relu\"))\n",
        "  model.add(BatchNormalization(axis=2))\n",
        "  model.add(Conv2D(128, (3, 3), padding=\"same\"))\n",
        "  model.add(Activation(\"relu\"))\n",
        "  model.add(BatchNormalization(axis=2))\n",
        "  model.add(MaxPooling2D(pool_size=(2, 2)))\n",
        "  model.add(Dropout(0.25))\n",
        "  \n",
        "  # third CONV => RELU => CONV => RELU => CONV => RELU => POOL layer set\n",
        "  model.add(Conv2D(512, (3, 3), padding=\"same\"))\n",
        "  model.add(Activation(\"relu\"))\n",
        "  model.add(BatchNormalization(axis=2))\n",
        "  model.add(Conv2D(512, (3, 3), padding=\"same\"))\n",
        "  model.add(Activation(\"relu\"))\n",
        "  model.add(BatchNormalization(axis=2))\n",
        "  model.add(Conv2D(512, (3, 3), padding=\"same\"))\n",
        "  model.add(Activation(\"relu\"))\n",
        "  model.add(BatchNormalization(axis=2))\n",
        "  model.add(MaxPooling2D(pool_size=(2, 2)))\n",
        "  model.add(Dropout(0.25))\n",
        "  \n",
        "  # first (and only) set of FC => RELU layers\n",
        "  model.add(Flatten())\n",
        "  model.add(Dense(512))\n",
        "  model.add(Activation(\"relu\"))\n",
        "  model.add(BatchNormalization())\n",
        "  model.add(Dropout(0.5))\n",
        "  \n",
        "  # softmax classifier\n",
        "  model.add(Dense(classes))\n",
        "  model.add(Activation(\"softmax\"))\n",
        "  \n",
        "  model.summary()\n",
        "  \n",
        "  # return the constructed network architecture\n",
        "  return model"
      ],
      "execution_count": 0,
      "outputs": []
    },
    {
      "cell_type": "markdown",
      "metadata": {
        "colab_type": "text",
        "id": "bChWKUxMuwgC"
      },
      "source": [
        "#### 5. Compile o modelo"
      ]
    },
    {
      "cell_type": "code",
      "metadata": {
        "colab_type": "code",
        "outputId": "8043d1f5-327d-446a-9a23-12c6f3da5105",
        "id": "AAAOtx97uwgQ",
        "colab": {
          "base_uri": "https://localhost:8080/",
          "height": 1395
        }
      },
      "source": [
        "opt = SGD(lr=0.01)\n",
        "model = build_NewMiniVGG(width=32, height=32, depth=3, classes=10)\n",
        "model.compile(loss='categorical_crossentropy', optimizer=opt, \n",
        "                  metrics=['accuracy'])"
      ],
      "execution_count": 0,
      "outputs": [
        {
          "output_type": "stream",
          "text": [
            "_________________________________________________________________\n",
            "Layer (type)                 Output Shape              Param #   \n",
            "=================================================================\n",
            "conv2d_9 (Conv2D)            (None, 32, 32, 64)        1792      \n",
            "_________________________________________________________________\n",
            "activation_15 (Activation)   (None, 32, 32, 64)        0         \n",
            "_________________________________________________________________\n",
            "batch_normalization_6 (Batch (None, 32, 32, 64)        128       \n",
            "_________________________________________________________________\n",
            "conv2d_10 (Conv2D)           (None, 32, 32, 64)        36928     \n",
            "_________________________________________________________________\n",
            "activation_16 (Activation)   (None, 32, 32, 64)        0         \n",
            "_________________________________________________________________\n",
            "batch_normalization_7 (Batch (None, 32, 32, 64)        128       \n",
            "_________________________________________________________________\n",
            "max_pooling2d_7 (MaxPooling2 (None, 16, 16, 64)        0         \n",
            "_________________________________________________________________\n",
            "dropout_4 (Dropout)          (None, 16, 16, 64)        0         \n",
            "_________________________________________________________________\n",
            "conv2d_11 (Conv2D)           (None, 16, 16, 128)       73856     \n",
            "_________________________________________________________________\n",
            "activation_17 (Activation)   (None, 16, 16, 128)       0         \n",
            "_________________________________________________________________\n",
            "batch_normalization_8 (Batch (None, 16, 16, 128)       64        \n",
            "_________________________________________________________________\n",
            "conv2d_12 (Conv2D)           (None, 16, 16, 128)       147584    \n",
            "_________________________________________________________________\n",
            "activation_18 (Activation)   (None, 16, 16, 128)       0         \n",
            "_________________________________________________________________\n",
            "batch_normalization_9 (Batch (None, 16, 16, 128)       64        \n",
            "_________________________________________________________________\n",
            "max_pooling2d_8 (MaxPooling2 (None, 8, 8, 128)         0         \n",
            "_________________________________________________________________\n",
            "dropout_5 (Dropout)          (None, 8, 8, 128)         0         \n",
            "_________________________________________________________________\n",
            "conv2d_13 (Conv2D)           (None, 8, 8, 512)         590336    \n",
            "_________________________________________________________________\n",
            "activation_19 (Activation)   (None, 8, 8, 512)         0         \n",
            "_________________________________________________________________\n",
            "batch_normalization_10 (Batc (None, 8, 8, 512)         32        \n",
            "_________________________________________________________________\n",
            "conv2d_14 (Conv2D)           (None, 8, 8, 512)         2359808   \n",
            "_________________________________________________________________\n",
            "activation_20 (Activation)   (None, 8, 8, 512)         0         \n",
            "_________________________________________________________________\n",
            "batch_normalization_11 (Batc (None, 8, 8, 512)         32        \n",
            "_________________________________________________________________\n",
            "conv2d_15 (Conv2D)           (None, 8, 8, 512)         2359808   \n",
            "_________________________________________________________________\n",
            "activation_21 (Activation)   (None, 8, 8, 512)         0         \n",
            "_________________________________________________________________\n",
            "batch_normalization_12 (Batc (None, 8, 8, 512)         32        \n",
            "_________________________________________________________________\n",
            "max_pooling2d_9 (MaxPooling2 (None, 4, 4, 512)         0         \n",
            "_________________________________________________________________\n",
            "dropout_6 (Dropout)          (None, 4, 4, 512)         0         \n",
            "_________________________________________________________________\n",
            "flatten_4 (Flatten)          (None, 8192)              0         \n",
            "_________________________________________________________________\n",
            "dense_7 (Dense)              (None, 512)               4194816   \n",
            "_________________________________________________________________\n",
            "activation_22 (Activation)   (None, 512)               0         \n",
            "_________________________________________________________________\n",
            "batch_normalization_13 (Batc (None, 512)               2048      \n",
            "_________________________________________________________________\n",
            "dropout_7 (Dropout)          (None, 512)               0         \n",
            "_________________________________________________________________\n",
            "dense_8 (Dense)              (None, 10)                5130      \n",
            "_________________________________________________________________\n",
            "activation_23 (Activation)   (None, 10)                0         \n",
            "=================================================================\n",
            "Total params: 9,772,586\n",
            "Trainable params: 9,771,322\n",
            "Non-trainable params: 1,264\n",
            "_________________________________________________________________\n"
          ],
          "name": "stdout"
        }
      ]
    },
    {
      "cell_type": "markdown",
      "metadata": {
        "colab_type": "text",
        "id": "eG6GlDhyuwgk"
      },
      "source": [
        "#### 6. Treine o Modelo"
      ]
    },
    {
      "cell_type": "code",
      "metadata": {
        "colab_type": "code",
        "outputId": "5dafe463-b4be-4490-da62-77c52f3157d0",
        "id": "4sasVdFvuwgo",
        "colab": {
          "base_uri": "https://localhost:8080/"
        }
      },
      "source": [
        "from keras.callbacks import ModelCheckpoint   \n",
        "\n",
        "# train the model\n",
        "checkpointer = ModelCheckpoint(filepath='model.weights.best.newvgg.hdf5', verbose=1, \n",
        "                               save_best_only=True)\n",
        "hist = model.fit(x_train, y_train, batch_size=128, epochs=20,\n",
        "          validation_data=(x_valid, y_valid), callbacks=[checkpointer], \n",
        "          verbose=2, shuffle=True)"
      ],
      "execution_count": 0,
      "outputs": [
        {
          "output_type": "stream",
          "text": [
            "Train on 45000 samples, validate on 5000 samples\n",
            "Epoch 1/20\n",
            " - 39s - loss: 2.2782 - acc: 0.2660 - val_loss: 1.9529 - val_acc: 0.2932\n",
            "\n",
            "Epoch 00001: val_loss improved from inf to 1.95293, saving model to model.weights.best.newvgg.hdf5\n",
            "Epoch 2/20\n",
            " - 35s - loss: 1.6813 - acc: 0.4142 - val_loss: 1.4688 - val_acc: 0.4912\n",
            "\n",
            "Epoch 00002: val_loss improved from 1.95293 to 1.46878, saving model to model.weights.best.newvgg.hdf5\n",
            "Epoch 3/20\n",
            " - 35s - loss: 1.4226 - acc: 0.4978 - val_loss: 1.2882 - val_acc: 0.5460\n",
            "\n",
            "Epoch 00003: val_loss improved from 1.46878 to 1.28823, saving model to model.weights.best.newvgg.hdf5\n",
            "Epoch 4/20\n",
            " - 35s - loss: 1.2433 - acc: 0.5580 - val_loss: 1.0813 - val_acc: 0.6186\n",
            "\n",
            "Epoch 00004: val_loss improved from 1.28823 to 1.08130, saving model to model.weights.best.newvgg.hdf5\n",
            "Epoch 5/20\n",
            " - 35s - loss: 1.1045 - acc: 0.6091 - val_loss: 1.1097 - val_acc: 0.6130\n",
            "\n",
            "Epoch 00005: val_loss did not improve from 1.08130\n",
            "Epoch 6/20\n",
            " - 35s - loss: 1.0055 - acc: 0.6423 - val_loss: 0.9478 - val_acc: 0.6700\n",
            "\n",
            "Epoch 00006: val_loss improved from 1.08130 to 0.94776, saving model to model.weights.best.newvgg.hdf5\n",
            "Epoch 7/20\n",
            " - 35s - loss: 0.9267 - acc: 0.6729 - val_loss: 0.9957 - val_acc: 0.6562\n",
            "\n",
            "Epoch 00007: val_loss did not improve from 0.94776\n",
            "Epoch 8/20\n",
            " - 35s - loss: 0.8670 - acc: 0.6936 - val_loss: 0.8193 - val_acc: 0.7146\n",
            "\n",
            "Epoch 00008: val_loss improved from 0.94776 to 0.81931, saving model to model.weights.best.newvgg.hdf5\n",
            "Epoch 9/20\n",
            " - 35s - loss: 0.8054 - acc: 0.7160 - val_loss: 0.8160 - val_acc: 0.7144\n",
            "\n",
            "Epoch 00009: val_loss improved from 0.81931 to 0.81597, saving model to model.weights.best.newvgg.hdf5\n",
            "Epoch 10/20\n",
            " - 35s - loss: 0.7692 - acc: 0.7280 - val_loss: 0.7443 - val_acc: 0.7436\n",
            "\n",
            "Epoch 00010: val_loss improved from 0.81597 to 0.74433, saving model to model.weights.best.newvgg.hdf5\n",
            "Epoch 11/20\n",
            " - 35s - loss: 0.7232 - acc: 0.7434 - val_loss: 0.6851 - val_acc: 0.7636\n",
            "\n",
            "Epoch 00011: val_loss improved from 0.74433 to 0.68513, saving model to model.weights.best.newvgg.hdf5\n",
            "Epoch 12/20\n",
            " - 35s - loss: 0.6837 - acc: 0.7587 - val_loss: 0.6636 - val_acc: 0.7728\n",
            "\n",
            "Epoch 00012: val_loss improved from 0.68513 to 0.66362, saving model to model.weights.best.newvgg.hdf5\n",
            "Epoch 13/20\n",
            " - 35s - loss: 0.6520 - acc: 0.7716 - val_loss: 0.6824 - val_acc: 0.7614\n",
            "\n",
            "Epoch 00013: val_loss did not improve from 0.66362\n",
            "Epoch 14/20\n",
            " - 35s - loss: 0.6215 - acc: 0.7822 - val_loss: 0.6777 - val_acc: 0.7690\n",
            "\n",
            "Epoch 00014: val_loss did not improve from 0.66362\n",
            "Epoch 15/20\n",
            " - 35s - loss: 0.5951 - acc: 0.7924 - val_loss: 0.6569 - val_acc: 0.7804\n",
            "\n",
            "Epoch 00015: val_loss improved from 0.66362 to 0.65686, saving model to model.weights.best.newvgg.hdf5\n",
            "Epoch 16/20\n",
            " - 35s - loss: 0.5601 - acc: 0.8032 - val_loss: 0.7873 - val_acc: 0.7380\n",
            "\n",
            "Epoch 00016: val_loss did not improve from 0.65686\n",
            "Epoch 17/20\n",
            " - 35s - loss: 0.5398 - acc: 0.8122 - val_loss: 0.5997 - val_acc: 0.8006\n",
            "\n",
            "Epoch 00017: val_loss improved from 0.65686 to 0.59973, saving model to model.weights.best.newvgg.hdf5\n",
            "Epoch 18/20\n",
            " - 35s - loss: 0.5114 - acc: 0.8200 - val_loss: 0.6666 - val_acc: 0.7736\n",
            "\n",
            "Epoch 00018: val_loss did not improve from 0.59973\n",
            "Epoch 19/20\n",
            " - 35s - loss: 0.4962 - acc: 0.8259 - val_loss: 0.6595 - val_acc: 0.7800\n",
            "\n",
            "Epoch 00019: val_loss did not improve from 0.59973\n",
            "Epoch 20/20\n",
            " - 35s - loss: 0.4649 - acc: 0.8383 - val_loss: 0.5753 - val_acc: 0.8068\n",
            "\n",
            "Epoch 00020: val_loss improved from 0.59973 to 0.57526, saving model to model.weights.best.newvgg.hdf5\n"
          ],
          "name": "stdout"
        }
      ]
    },
    {
      "cell_type": "markdown",
      "metadata": {
        "colab_type": "text",
        "id": "vwTgPo3uuwgx"
      },
      "source": [
        "#### 7. Carrege o modelo com a melhor acurácia no conjunto de validação"
      ]
    },
    {
      "cell_type": "code",
      "metadata": {
        "colab_type": "code",
        "id": "_qSIgxDIuwgz",
        "colab": {}
      },
      "source": [
        "# load the weights that yielded the best validation accuracy\n",
        "model.load_weights('model.weights.best.newvgg.hdf5')"
      ],
      "execution_count": 0,
      "outputs": []
    },
    {
      "cell_type": "markdown",
      "metadata": {
        "colab_type": "text",
        "id": "WrvO2jcVuwg7"
      },
      "source": [
        "#### 8. Calcule a acurácia no conjunto de teste"
      ]
    },
    {
      "cell_type": "code",
      "metadata": {
        "colab_type": "code",
        "outputId": "b965c1aa-b6e6-4e8e-bb7c-a7a799b1c929",
        "id": "AMvtrf20uwg9",
        "colab": {
          "base_uri": "https://localhost:8080/"
        }
      },
      "source": [
        "# evaluate and print test accuracy\n",
        "score = model.evaluate(x_test, y_test, verbose=0)\n",
        "print('\\n', 'Test accuracy:', score[1])"
      ],
      "execution_count": 0,
      "outputs": [
        {
          "output_type": "stream",
          "text": [
            "\n",
            " Test accuracy: 0.7953\n"
          ],
          "name": "stdout"
        }
      ]
    },
    {
      "cell_type": "markdown",
      "metadata": {
        "colab_type": "text",
        "id": "dh_v1Dg7uwhE"
      },
      "source": [
        "#### 9. Informações sobre acurácia no treinamento"
      ]
    },
    {
      "cell_type": "code",
      "metadata": {
        "colab_type": "code",
        "outputId": "f2fd1f75-cdf8-401d-e927-b51f431c2a50",
        "id": "d_Shg2YOuwhG",
        "colab": {
          "base_uri": "https://localhost:8080/",
          "height": 630
        }
      },
      "source": [
        "# evaluate the network\n",
        "print(\"[INFO] evaluating network...\")\n",
        "\n",
        "# get predictions on the test set\n",
        "predictions = model.predict(x_test, batch_size=128)\n",
        "\n",
        "# define text labels (source: https://www.cs.toronto.edu/~kriz/cifar.html)\n",
        "cifar10_labels = ['airplane', 'automobile', 'bird', 'cat', 'deer', 'dog', 'frog',\n",
        "                  'horse', 'ship', 'truck']\n",
        "\n",
        "\n",
        "print(classification_report(y_test.argmax(axis=1),\n",
        "predictions.argmax(axis=1),\n",
        "target_names=cifar10_labels))\n",
        "\n",
        "# plot the training loss and accuracy\n",
        "plt.style.use(\"ggplot\")\n",
        "plt.figure()\n",
        "plt.plot(np.arange(0, 20), hist.history[\"loss\"], label=\"train_loss\" )\n",
        "plt.plot(np.arange(0, 20), hist.history[\"val_loss\"], label=\"val_loss\")\n",
        "plt.plot(np.arange(0, 20), hist.history[\"acc\" ], label=\"train_acc\" )\n",
        "plt.plot(np.arange(0, 20), hist.history[\"val_acc\"], label=\"val_acc\")\n",
        "plt.title(\"Training Loss and Accuracy\")\n",
        "plt.xlabel(\"Epoch #\")\n",
        "plt.ylabel(\"Loss/Accuracy\")\n",
        "plt.legend()\n",
        "plt.show()"
      ],
      "execution_count": 0,
      "outputs": [
        {
          "output_type": "stream",
          "text": [
            "[INFO] evaluating network...\n",
            "              precision    recall  f1-score   support\n",
            "\n",
            "    airplane       0.80      0.84      0.82      1000\n",
            "  automobile       0.92      0.88      0.90      1000\n",
            "        bird       0.79      0.66      0.72      1000\n",
            "         cat       0.56      0.71      0.63      1000\n",
            "        deer       0.79      0.78      0.79      1000\n",
            "         dog       0.66      0.76      0.71      1000\n",
            "        frog       0.84      0.83      0.83      1000\n",
            "       horse       0.89      0.80      0.84      1000\n",
            "        ship       0.87      0.89      0.88      1000\n",
            "       truck       0.93      0.82      0.87      1000\n",
            "\n",
            "   micro avg       0.80      0.80      0.80     10000\n",
            "   macro avg       0.81      0.80      0.80     10000\n",
            "weighted avg       0.81      0.80      0.80     10000\n",
            "\n"
          ],
          "name": "stdout"
        },
        {
          "output_type": "display_data",
          "data": {
            "image/png": "[encoded data removed]",
            "text/plain": [
              "<Figure size 432x288 with 1 Axes>"
            ]
          },
          "metadata": {
            "tags": []
          }
        }
      ]
    },
    {
      "cell_type": "markdown",
      "metadata": {
        "colab_type": "text",
        "id": "2U7Dxek8vhFv"
      },
      "source": [
        "### NewAlexNet"
      ]
    },
    {
      "cell_type": "code",
      "metadata": {
        "colab_type": "code",
        "id": "e12e7fcMvhF8",
        "colab": {}
      },
      "source": [
        "from keras.layers.normalization import BatchNormalization\n",
        "from keras.layers.core import Dropout\n",
        "\n",
        "def build_NewAlexNet(width, height, depth, classes):\n",
        "  # initialize the model\n",
        "  model = Sequential()\n",
        "  inputShape = (height, width, depth)\n",
        "  model.add(Conv2D(32, (5, 5), input_shape=inputShape))\n",
        "  model.add(Activation(\"relu\"))\n",
        "  model.add(MaxPooling2D(pool_size=(2, 2)))\n",
        "  model.add(Conv2D(64, (3, 3)))\n",
        "  model.add(Activation(\"relu\"))\n",
        "  model.add(BatchNormalization(axis=2))\n",
        "  model.add(Dropout(0.25))\n",
        "  \n",
        "  \n",
        "  model.add(Conv2D(32, (5, 5)))\n",
        "  model.add(Activation(\"relu\"))\n",
        "  model.add(MaxPooling2D(pool_size=(2, 2)))\n",
        "  model.add(Conv2D(64, (3, 3)))\n",
        "  model.add(Activation(\"relu\"))\n",
        "  model.add(BatchNormalization(axis=2))\n",
        "  model.add(Dropout(0.25))\n",
        "  \n",
        "  model.add(Flatten())\n",
        "  model.add(Dense(1024))\n",
        "  model.add(Activation(\"relu\"))\n",
        "  model.add(BatchNormalization())\n",
        "  model.add(Dense(512))\n",
        "  model.add(Activation(\"relu\"))\n",
        "  model.add(BatchNormalization())\n",
        "  model.add(Dropout(0.5))\n",
        "  \n",
        "  # softmax classifier\n",
        "  model.add(Dense(classes))\n",
        "  model.add(Activation(\"softmax\"))\n",
        "  \n",
        "  model.summary()\n",
        "  \n",
        "  # return the constructed network architecture\n",
        "  return model"
      ],
      "execution_count": 0,
      "outputs": []
    },
    {
      "cell_type": "markdown",
      "metadata": {
        "colab_type": "text",
        "id": "jxjcUMmV0IhI"
      },
      "source": [
        "#### 5. Compile o modelo"
      ]
    },
    {
      "cell_type": "code",
      "metadata": {
        "colab_type": "code",
        "outputId": "ec747a41-c7f7-49f5-8762-b8690a0cd1cf",
        "id": "YiXfYbBC0IhW",
        "colab": {
          "base_uri": "https://localhost:8080/",
          "height": 952
        }
      },
      "source": [
        "opt = SGD(lr=0.01)\n",
        "model = build_NewAlexNet(width=32, height=32, depth=3, classes=10)\n",
        "model.compile(loss='categorical_crossentropy', optimizer=opt, \n",
        "                  metrics=['accuracy'])"
      ],
      "execution_count": 32,
      "outputs": [
        {
          "output_type": "stream",
          "text": [
            "_________________________________________________________________\n",
            "Layer (type)                 Output Shape              Param #   \n",
            "=================================================================\n",
            "conv2d_46 (Conv2D)           (None, 28, 28, 32)        2432      \n",
            "_________________________________________________________________\n",
            "activation_41 (Activation)   (None, 28, 28, 32)        0         \n",
            "_________________________________________________________________\n",
            "max_pooling2d_27 (MaxPooling (None, 14, 14, 32)        0         \n",
            "_________________________________________________________________\n",
            "conv2d_47 (Conv2D)           (None, 12, 12, 64)        18496     \n",
            "_________________________________________________________________\n",
            "activation_42 (Activation)   (None, 12, 12, 64)        0         \n",
            "_________________________________________________________________\n",
            "batch_normalization_23 (Batc (None, 12, 12, 64)        48        \n",
            "_________________________________________________________________\n",
            "dropout_17 (Dropout)         (None, 12, 12, 64)        0         \n",
            "_________________________________________________________________\n",
            "conv2d_48 (Conv2D)           (None, 8, 8, 32)          51232     \n",
            "_________________________________________________________________\n",
            "activation_43 (Activation)   (None, 8, 8, 32)          0         \n",
            "_________________________________________________________________\n",
            "max_pooling2d_28 (MaxPooling (None, 4, 4, 32)          0         \n",
            "_________________________________________________________________\n",
            "conv2d_49 (Conv2D)           (None, 2, 2, 64)          18496     \n",
            "_________________________________________________________________\n",
            "activation_44 (Activation)   (None, 2, 2, 64)          0         \n",
            "_________________________________________________________________\n",
            "batch_normalization_24 (Batc (None, 2, 2, 64)          8         \n",
            "_________________________________________________________________\n",
            "dropout_18 (Dropout)         (None, 2, 2, 64)          0         \n",
            "_________________________________________________________________\n",
            "flatten_2 (Flatten)          (None, 256)               0         \n",
            "_________________________________________________________________\n",
            "dense_4 (Dense)              (None, 1024)              263168    \n",
            "_________________________________________________________________\n",
            "activation_45 (Activation)   (None, 1024)              0         \n",
            "_________________________________________________________________\n",
            "batch_normalization_25 (Batc (None, 1024)              4096      \n",
            "_________________________________________________________________\n",
            "dense_5 (Dense)              (None, 512)               524800    \n",
            "_________________________________________________________________\n",
            "activation_46 (Activation)   (None, 512)               0         \n",
            "_________________________________________________________________\n",
            "batch_normalization_26 (Batc (None, 512)               2048      \n",
            "_________________________________________________________________\n",
            "dropout_19 (Dropout)         (None, 512)               0         \n",
            "_________________________________________________________________\n",
            "dense_6 (Dense)              (None, 10)                5130      \n",
            "_________________________________________________________________\n",
            "activation_47 (Activation)   (None, 10)                0         \n",
            "=================================================================\n",
            "Total params: 889,954\n",
            "Trainable params: 886,854\n",
            "Non-trainable params: 3,100\n",
            "_________________________________________________________________\n"
          ],
          "name": "stdout"
        }
      ]
    },
    {
      "cell_type": "markdown",
      "metadata": {
        "colab_type": "text",
        "id": "MZC3hhlH0Ihr"
      },
      "source": [
        "#### 6. Treine o Modelo"
      ]
    },
    {
      "cell_type": "code",
      "metadata": {
        "colab_type": "code",
        "id": "WC_YxVw_0Ihu",
        "colab": {
          "base_uri": "https://localhost:8080/",
          "height": 1445
        },
        "outputId": "7eb20ac4-4141-408a-f1b9-88bea9f8b923"
      },
      "source": [
        "from keras.callbacks import ModelCheckpoint   \n",
        "\n",
        "# train the model\n",
        "checkpointer = ModelCheckpoint(filepath='model.weights.best.newalexnet.hdf5', verbose=1, \n",
        "                               save_best_only=True)\n",
        "hist = model.fit(x_train, y_train, batch_size=128, epochs=20,\n",
        "          validation_data=(x_valid, y_valid), callbacks=[checkpointer], \n",
        "          verbose=2, shuffle=True)"
      ],
      "execution_count": 23,
      "outputs": [
        {
          "output_type": "stream",
          "text": [
            "WARNING:tensorflow:From /usr/local/lib/python3.6/dist-packages/tensorflow/python/ops/math_ops.py:3066: to_int32 (from tensorflow.python.ops.math_ops) is deprecated and will be removed in a future version.\n",
            "Instructions for updating:\n",
            "Use tf.cast instead.\n",
            "Train on 45000 samples, validate on 5000 samples\n",
            "Epoch 1/20\n",
            " - 12s - loss: 2.6101 - acc: 0.1998 - val_loss: 1.9916 - val_acc: 0.2866\n",
            "\n",
            "Epoch 00001: val_loss improved from inf to 1.99164, saving model to model.weights.best.newalexnet.hdf5\n",
            "Epoch 2/20\n",
            " - 5s - loss: 1.9702 - acc: 0.3082 - val_loss: 1.6441 - val_acc: 0.3762\n",
            "\n",
            "Epoch 00002: val_loss improved from 1.99164 to 1.64405, saving model to model.weights.best.newalexnet.hdf5\n",
            "Epoch 3/20\n",
            " - 5s - loss: 1.7154 - acc: 0.3786 - val_loss: 1.5239 - val_acc: 0.4366\n",
            "\n",
            "Epoch 00003: val_loss improved from 1.64405 to 1.52393, saving model to model.weights.best.newalexnet.hdf5\n",
            "Epoch 4/20\n",
            " - 5s - loss: 1.5750 - acc: 0.4270 - val_loss: 1.9352 - val_acc: 0.3714\n",
            "\n",
            "Epoch 00004: val_loss did not improve from 1.52393\n",
            "Epoch 5/20\n",
            " - 5s - loss: 1.4783 - acc: 0.4598 - val_loss: 1.3706 - val_acc: 0.5060\n",
            "\n",
            "Epoch 00005: val_loss improved from 1.52393 to 1.37065, saving model to model.weights.best.newalexnet.hdf5\n",
            "Epoch 6/20\n",
            " - 5s - loss: 1.4048 - acc: 0.4880 - val_loss: 1.4030 - val_acc: 0.5038\n",
            "\n",
            "Epoch 00006: val_loss did not improve from 1.37065\n",
            "Epoch 7/20\n",
            " - 5s - loss: 1.3414 - acc: 0.5153 - val_loss: 1.4784 - val_acc: 0.4926\n",
            "\n",
            "Epoch 00007: val_loss did not improve from 1.37065\n",
            "Epoch 8/20\n",
            " - 5s - loss: 1.2851 - acc: 0.5364 - val_loss: 1.3218 - val_acc: 0.5268\n",
            "\n",
            "Epoch 00008: val_loss improved from 1.37065 to 1.32178, saving model to model.weights.best.newalexnet.hdf5\n",
            "Epoch 9/20\n",
            " - 5s - loss: 1.2458 - acc: 0.5522 - val_loss: 1.3791 - val_acc: 0.5240\n",
            "\n",
            "Epoch 00009: val_loss did not improve from 1.32178\n",
            "Epoch 10/20\n",
            " - 5s - loss: 1.1995 - acc: 0.5663 - val_loss: 1.2661 - val_acc: 0.5572\n",
            "\n",
            "Epoch 00010: val_loss improved from 1.32178 to 1.26610, saving model to model.weights.best.newalexnet.hdf5\n",
            "Epoch 11/20\n",
            " - 5s - loss: 1.1634 - acc: 0.5820 - val_loss: 1.1186 - val_acc: 0.5972\n",
            "\n",
            "Epoch 00011: val_loss improved from 1.26610 to 1.11863, saving model to model.weights.best.newalexnet.hdf5\n",
            "Epoch 12/20\n",
            " - 5s - loss: 1.1332 - acc: 0.5966 - val_loss: 1.2951 - val_acc: 0.5400\n",
            "\n",
            "Epoch 00012: val_loss did not improve from 1.11863\n",
            "Epoch 13/20\n",
            " - 5s - loss: 1.1076 - acc: 0.6022 - val_loss: 1.0985 - val_acc: 0.6098\n",
            "\n",
            "Epoch 00013: val_loss improved from 1.11863 to 1.09849, saving model to model.weights.best.newalexnet.hdf5\n",
            "Epoch 14/20\n",
            " - 5s - loss: 1.0766 - acc: 0.6155 - val_loss: 1.0034 - val_acc: 0.6402\n",
            "\n",
            "Epoch 00014: val_loss improved from 1.09849 to 1.00337, saving model to model.weights.best.newalexnet.hdf5\n",
            "Epoch 15/20\n",
            " - 5s - loss: 1.0539 - acc: 0.6262 - val_loss: 1.0627 - val_acc: 0.6196\n",
            "\n",
            "Epoch 00015: val_loss did not improve from 1.00337\n",
            "Epoch 16/20\n",
            " - 5s - loss: 1.0331 - acc: 0.6304 - val_loss: 1.1513 - val_acc: 0.5894\n",
            "\n",
            "Epoch 00016: val_loss did not improve from 1.00337\n",
            "Epoch 17/20\n",
            " - 5s - loss: 1.0066 - acc: 0.6432 - val_loss: 0.9944 - val_acc: 0.6450\n",
            "\n",
            "Epoch 00017: val_loss improved from 1.00337 to 0.99440, saving model to model.weights.best.newalexnet.hdf5\n",
            "Epoch 18/20\n",
            " - 5s - loss: 0.9907 - acc: 0.6488 - val_loss: 1.5055 - val_acc: 0.4934\n",
            "\n",
            "Epoch 00018: val_loss did not improve from 0.99440\n",
            "Epoch 19/20\n",
            " - 5s - loss: 0.9642 - acc: 0.6565 - val_loss: 1.1658 - val_acc: 0.6054\n",
            "\n",
            "Epoch 00019: val_loss did not improve from 0.99440\n",
            "Epoch 20/20\n",
            " - 5s - loss: 0.9485 - acc: 0.6617 - val_loss: 1.2424 - val_acc: 0.5782\n",
            "\n",
            "Epoch 00020: val_loss did not improve from 0.99440\n"
          ],
          "name": "stdout"
        }
      ]
    },
    {
      "cell_type": "markdown",
      "metadata": {
        "colab_type": "text",
        "id": "ISr_WYuE0Ih3"
      },
      "source": [
        "#### 7. Carrege o modelo com a melhor acurácia no conjunto de validação"
      ]
    },
    {
      "cell_type": "code",
      "metadata": {
        "colab_type": "code",
        "id": "F_8vc4GL0Ih4",
        "colab": {}
      },
      "source": [
        "# load the weights that yielded the best validation accuracy\n",
        "model.load_weights('model.weights.best.newalexnet.hdf5')"
      ],
      "execution_count": 0,
      "outputs": []
    },
    {
      "cell_type": "markdown",
      "metadata": {
        "colab_type": "text",
        "id": "L7m4QbM50Ih_"
      },
      "source": [
        "#### 8. Calcule a acurácia no conjunto de teste"
      ]
    },
    {
      "cell_type": "code",
      "metadata": {
        "colab_type": "code",
        "id": "M7EmJv510IiA",
        "colab": {
          "base_uri": "https://localhost:8080/",
          "height": 51
        },
        "outputId": "ad4eb129-5776-4efc-b15a-fcbb4f887a5e"
      },
      "source": [
        "# evaluate and print test accuracy\n",
        "score = model.evaluate(x_test, y_test, verbose=0)\n",
        "print('\\n', 'Test accuracy:', score[1])"
      ],
      "execution_count": 25,
      "outputs": [
        {
          "output_type": "stream",
          "text": [
            "\n",
            " Test accuracy: 0.6342\n"
          ],
          "name": "stdout"
        }
      ]
    },
    {
      "cell_type": "markdown",
      "metadata": {
        "colab_type": "text",
        "id": "PuTFU0Uk0IiJ"
      },
      "source": [
        "#### 9. Informações sobre acurácia no treinamento"
      ]
    },
    {
      "cell_type": "code",
      "metadata": {
        "colab_type": "code",
        "id": "2fNH36de0IiK",
        "colab": {
          "base_uri": "https://localhost:8080/",
          "height": 605
        },
        "outputId": "decb4889-fa57-410a-dc67-c897737c8d7a"
      },
      "source": [
        "# evaluate the network\n",
        "print(\"[INFO] evaluating network...\")\n",
        "\n",
        "# get predictions on the test set\n",
        "predictions = model.predict(x_test, batch_size=128)\n",
        "\n",
        "# define text labels (source: https://www.cs.toronto.edu/~kriz/cifar.html)\n",
        "cifar10_labels = ['airplane', 'automobile', 'bird', 'cat', 'deer', 'dog', 'frog',\n",
        "                  'horse', 'ship', 'truck']\n",
        "\n",
        "\n",
        "print(classification_report(y_test.argmax(axis=1),\n",
        "predictions.argmax(axis=1),\n",
        "target_names=cifar10_labels))\n",
        "\n",
        "# plot the training loss and accuracy\n",
        "plt.style.use(\"ggplot\")\n",
        "plt.figure()\n",
        "plt.plot(np.arange(0, 20), hist.history[\"loss\"], label=\"train_loss\" )\n",
        "plt.plot(np.arange(0, 20), hist.history[\"val_loss\"], label=\"val_loss\")\n",
        "plt.plot(np.arange(0, 20), hist.history[\"acc\" ], label=\"train_acc\" )\n",
        "plt.plot(np.arange(0, 20), hist.history[\"val_acc\"], label=\"val_acc\")\n",
        "plt.title(\"Training Loss and Accuracy\")\n",
        "plt.xlabel(\"Epoch #\")\n",
        "plt.ylabel(\"Loss/Accuracy\")\n",
        "plt.legend()\n",
        "plt.show()"
      ],
      "execution_count": 26,
      "outputs": [
        {
          "output_type": "stream",
          "text": [
            "[INFO] evaluating network...\n",
            "              precision    recall  f1-score   support\n",
            "\n",
            "    airplane       0.68      0.68      0.68      1000\n",
            "  automobile       0.81      0.78      0.79      1000\n",
            "        bird       0.71      0.32      0.44      1000\n",
            "         cat       0.40      0.42      0.41      1000\n",
            "        deer       0.54      0.61      0.57      1000\n",
            "         dog       0.44      0.67      0.53      1000\n",
            "        frog       0.85      0.54      0.66      1000\n",
            "       horse       0.68      0.71      0.70      1000\n",
            "        ship       0.72      0.84      0.78      1000\n",
            "       truck       0.75      0.76      0.76      1000\n",
            "\n",
            "   micro avg       0.63      0.63      0.63     10000\n",
            "   macro avg       0.66      0.63      0.63     10000\n",
            "weighted avg       0.66      0.63      0.63     10000\n",
            "\n"
          ],
          "name": "stdout"
        },
        {
          "output_type": "display_data",
          "data": {
            "image/png": "[encoded data removed]",
            "text/plain": [
              "<Figure size 432x288 with 1 Axes>"
            ]
          },
          "metadata": {
            "tags": []
          }
        }
      ]
    }
  ]
}